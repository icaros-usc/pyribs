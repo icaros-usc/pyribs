{
 "cells": [
  {
   "cell_type": "markdown",
   "id": "eace5ee0-82ec-459a-80e8-faa2c7030f73",
   "metadata": {
    "tags": []
   },
   "source": [
    "# Scaling CMA-MAE on the Sphere Benchmark\n",
    "\n",
    "_This tutorial is part of the series of pyribs tutorials! See [here](https://docs.pyribs.org/en/latest/tutorials.html) for the list of all tutorials and the order in which they should be read._\n",
    "\n",
    "One challenge in applying CMA-MAE is its quadratic time complexity. Internally, CMA-MAE relies on CMA-ES, which has $\\Theta(n^2)$ time and space complexity due to operations on an $n \\times n$ covariance matrix. Thus, CMA-ES and hence CMA-MAE can be computationally intractable when a problem involves millions or even just thousands of parameters. To address this issue, [Tjanaka 2022](https://scalingcmamae.github.io) proposes to replace CMA-ES with more efficient evolution strategies (ESs), resulting in several variants of CMA-MAE. The CMA-MAE variants proposed in the paper and supported in pyribs are as follows:\n",
    "\n",
    "- LM-MA-MAE: Replaces CMA-ES with [Limited Memory Matrix Adaptation ES (LM-MA-ES)](https://ieeexplore.ieee.org/document/8410043), which has $\\Theta(kn)$ runtime.\n",
    "- sep-CMA-MAE: Replaces CMA-ES with [separable CMA-ES (sep-CMA-ES)](https://inria.hal.science/inria-00270901v1/document), which constrains the covariance matrix to be diagonal and has $\\Theta(n)$ runtime.\n",
    "- OpenAI-MAE: Replaces CMA-ES with [OpenAI-ES](https://arxiv.org/abs/1703.03864), which performs search by sampling from an isotropic Gaussian and has $\\Theta(n)$ runtime.\n",
    "\n",
    "This tutorial shows how these different variants of CMA-MAE can be accessed by changing the `es` parameter in the [`EvolutionStrategyEmitter`](https://docs.pyribs.org/en/latest/api/ribs.emitters.EvolutionStrategyEmitter.html).\n",
    "\n",
    "_Note: This tutorial is based on the [CMA-MAE tutorial](https://docs.pyribs.org/en/latest/tutorials/cma_mae.html). As such, we skim over details like how to set up the archives. For more details on these steps, please refer to that tutorial._"
   ]
  },
  {
   "cell_type": "markdown",
   "id": "4e35386c",
   "metadata": {
    "id": "4e35386c",
    "tags": []
   },
   "source": [
    "## Setup"
   ]
  },
  {
   "cell_type": "code",
   "execution_count": null,
   "id": "9562ca7d-0e1a-4916-86b0-67b8254a79c7",
   "metadata": {},
   "outputs": [],
   "source": [
    "%pip install ribs[visualize] tqdm"
   ]
  },
  {
   "cell_type": "code",
   "execution_count": 2,
   "id": "fa90af0b-d7bb-477e-84a6-f384327e9d34",
   "metadata": {},
   "outputs": [],
   "source": [
    "import sys\n",
    "\n",
    "import numpy as np\n",
    "import matplotlib.pyplot as plt\n",
    "from tqdm import tqdm, trange"
   ]
  },
  {
   "cell_type": "markdown",
   "id": "e1900b33",
   "metadata": {
    "id": "e1900b33"
   },
   "source": [
    "## The Sphere Linear Projection Benchmark\n",
    "\n",
    "In this tutorial, we use a 1000-dimensional version of the sphere benchmark. At this dimensionality, CMA-MAE becomes extremely slow due to its quadratic complexity."
   ]
  },
  {
   "cell_type": "code",
   "execution_count": 3,
   "id": "8cb2801c",
   "metadata": {
    "id": "8cb2801c"
   },
   "outputs": [],
   "source": [
    "def sphere(solution_batch):\n",
    "    \"\"\"Sphere function evaluation and measures for a batch of solutions.\n",
    "\n",
    "    Args:\n",
    "        solution_batch (np.ndarray): (batch_size, dim) batch of solutions.\n",
    "    Returns:\n",
    "        objective_batch (np.ndarray): (batch_size,) batch of objectives.\n",
    "        measures_batch (np.ndarray): (batch_size, 2) batch of measures.\n",
    "    \"\"\"\n",
    "    dim = solution_batch.shape[1]\n",
    "\n",
    "    # Shift the Sphere function so that the optimal value is at x_i = 2.048.\n",
    "    sphere_shift = 5.12 * 0.4\n",
    "\n",
    "    # Normalize the objective to the range [0, 100] where 100 is optimal.\n",
    "    best_obj = 0.0\n",
    "    worst_obj = (-5.12 - sphere_shift)**2 * dim\n",
    "    raw_obj = np.sum(np.square(solution_batch - sphere_shift), axis=1)\n",
    "    objective_batch = (raw_obj - worst_obj) / (best_obj - worst_obj) * 100\n",
    "\n",
    "    # Calculate measures.\n",
    "    clipped = solution_batch.copy()\n",
    "    clip_mask = (clipped < -5.12) | (clipped > 5.12)\n",
    "    clipped[clip_mask] = 5.12 / clipped[clip_mask]\n",
    "    measures_batch = np.concatenate(\n",
    "        (\n",
    "            np.sum(clipped[:, :dim // 2], axis=1, keepdims=True),\n",
    "            np.sum(clipped[:, dim // 2:], axis=1, keepdims=True),\n",
    "        ),\n",
    "        axis=1,\n",
    "    )\n",
    "\n",
    "    return objective_batch, measures_batch"
   ]
  },
  {
   "cell_type": "markdown",
   "id": "256a9c7a-a20a-4ab2-8376-65ccd640fc83",
   "metadata": {},
   "source": [
    "## Archive Setup\n",
    "\n",
    "Note this archive has higher resolution (250x250) than the one in the CMA-MAE tutorial (100x100). As described in Appendix K of the [CMA-MAE paper](https://arxiv.org/abs/2205.10752), this is necessary due to the high dimensionality of the domain."
   ]
  },
  {
   "cell_type": "code",
   "execution_count": 4,
   "id": "aa4e5b4d",
   "metadata": {
    "id": "aa4e5b4d"
   },
   "outputs": [],
   "source": [
    "from ribs.archives import GridArchive\n",
    "\n",
    "max_bound = 1000 / 2 * 5.12\n",
    "\n",
    "archive = GridArchive(solution_dim=1000,\n",
    "                      dims=(250, 250),\n",
    "                      ranges=[(-max_bound, max_bound), (-max_bound, max_bound)],\n",
    "                      learning_rate=0.01,\n",
    "                      threshold_min=0.0)\n",
    "\n",
    "result_archive = GridArchive(solution_dim=1000,\n",
    "                             dims=(250, 250),\n",
    "                             ranges=[(-max_bound, max_bound), (-max_bound, max_bound)])"
   ]
  },
  {
   "cell_type": "markdown",
   "id": "1e4d7086-15c2-4c1c-a313-a2b36929ee8e",
   "metadata": {},
   "source": [
    "## Emitter Setup with the `es` Parameter\n",
    "\n",
    "Exactly like in the regular CMA-MAE, scalable variants of CMA-MAE are built with the [`EvolutionStrategyEmitter`](https://docs.pyribs.org/en/latest/api/ribs.emitters.EvolutionStrategyEmitter.html). The key difference is the choice of ES, which is indicated with the `es` parameter. `es` has the following options:\n",
    "\n",
    "- `lm_ma_es`: Indicates LM-MA-ES\n",
    "- `sep_cma_es`: Indicates sep-CMA-ES\n",
    "- `openai_es`: Indicates OpenAI-ES\n",
    "\n",
    "Below, we first show how to use `sep_cma_es` by passing `es=\"sep_cma_es\"`."
   ]
  },
  {
   "cell_type": "code",
   "execution_count": 5,
   "id": "beb8f299",
   "metadata": {
    "id": "beb8f299"
   },
   "outputs": [],
   "source": [
    "from ribs.emitters import EvolutionStrategyEmitter\n",
    "\n",
    "emitters = [\n",
    "    EvolutionStrategyEmitter(\n",
    "        archive,\n",
    "        x0=np.zeros(1000),\n",
    "        sigma0=0.5,\n",
    "        ranker=\"imp\",\n",
    "        es=\"sep_cma_es\",\n",
    "        selection_rule=\"mu\",\n",
    "        restart_rule=\"basic\",\n",
    "        batch_size=36\n",
    "    ) for _ in range(15)\n",
    "]"
   ]
  },
  {
   "cell_type": "markdown",
   "id": "9df5e6fc-1840-4365-8f71-9b22f54731b0",
   "metadata": {},
   "source": [
    "It is also possible to pass in `es` as a class, as the string options to `es` are simply translated to a corresponding ES class (the documentation for all ES classes is [here](https://docs.pyribs.org/en/latest/api/ribs.emitters.opt.html)). All ES classes are subclasses of [`EvolutionStrategyBase`](https://docs.pyribs.org/en/latest/api/ribs.emitters.opt.EvolutionStrategyBase.html)."
   ]
  },
  {
   "cell_type": "code",
   "execution_count": 6,
   "id": "5714de30-8e36-4752-83d8-1a567776ff98",
   "metadata": {},
   "outputs": [],
   "source": [
    "from ribs.emitters.opt import SeparableCMAEvolutionStrategy\n",
    "\n",
    "emitters_v2 = [\n",
    "    EvolutionStrategyEmitter(\n",
    "        archive,\n",
    "        x0=np.zeros(1000),\n",
    "        sigma0=0.5,\n",
    "        ranker=\"imp\",\n",
    "        es=SeparableCMAEvolutionStrategy,\n",
    "        selection_rule=\"mu\",\n",
    "        restart_rule=\"basic\",\n",
    "        batch_size=36\n",
    "    ) for _ in range(15)\n",
    "]"
   ]
  },
  {
   "cell_type": "markdown",
   "id": "80c2f899-2d38-468b-a42d-c3a162855a67",
   "metadata": {},
   "source": [
    "Some ESs also accept kwargs. For instance, in [LMMAEvolutionStrategy](https://docs.pyribs.org/en/latest/api/ribs.emitters.opt.LMMAEvolutionStrategy.html), the size of the approximation can be adjusted with the `n_vectors` parameter. kwargs can be passed to the ESs with the `es_kwargs` parameter in `EvolutionStrategyEmitter`, as shown below."
   ]
  },
  {
   "cell_type": "code",
   "execution_count": 7,
   "id": "a34a3026-2beb-43f2-8858-22ae06f70a5d",
   "metadata": {},
   "outputs": [],
   "source": [
    "# Regular instantiation of EvolutionStrategyEmitter with `lm_ma_es`.\n",
    "lm_ma_emitters = [\n",
    "    EvolutionStrategyEmitter(\n",
    "        archive,\n",
    "        x0=np.zeros(1000),\n",
    "        sigma0=0.5,\n",
    "        ranker=\"imp\",\n",
    "        es=\"lm_ma_es\",\n",
    "        selection_rule=\"mu\",\n",
    "        restart_rule=\"basic\",\n",
    "        batch_size=36\n",
    "    ) for _ in range(15)\n",
    "]\n",
    "\n",
    "# Instantiation of EvolutionStrategyEmitter with `lm_ma_es` and kwargs.\n",
    "lm_ma_emitters_v2 = [\n",
    "    EvolutionStrategyEmitter(\n",
    "        archive,\n",
    "        x0=np.zeros(1000),\n",
    "        sigma0=0.5,\n",
    "        ranker=\"imp\",\n",
    "        es=\"lm_ma_es\",\n",
    "        es_kwargs={\"n_vectors\": 20},\n",
    "        selection_rule=\"mu\",\n",
    "        restart_rule=\"basic\",\n",
    "        batch_size=36\n",
    "    ) for _ in range(15)\n",
    "]"
   ]
  },
  {
   "cell_type": "markdown",
   "id": "cb8ef8be-945e-475e-a7c0-7ea2c0039e51",
   "metadata": {},
   "source": [
    "Finally, [`GradientArborescenceEmitter`](https://docs.pyribs.org/en/latest/api/ribs.emitters.GradientArborescenceEmitter.html) also has as `es` parameter. However, it is less common to use a scalable ES in `GradientArborescenceEmitter` since the ES only operates in objective-measure coefficient space, and that space usually has only a few dimensions."
   ]
  },
  {
   "cell_type": "markdown",
   "id": "1a1b940d",
   "metadata": {
    "id": "1a1b940d"
   },
   "source": [
    "## Scheduler Setup\n",
    "\n",
    "Note that we only use the `emitters` created above with `es=\"sep_cma_es\"`."
   ]
  },
  {
   "cell_type": "code",
   "execution_count": 8,
   "id": "e5c4f108",
   "metadata": {
    "id": "e5c4f108"
   },
   "outputs": [],
   "source": [
    "from ribs.schedulers import Scheduler\n",
    "\n",
    "scheduler = Scheduler(archive, emitters, result_archive=result_archive)"
   ]
  },
  {
   "cell_type": "markdown",
   "id": "391d7c7a-c9b5-4e46-910a-3ef66940f50d",
   "metadata": {},
   "source": [
    "## Running Scalable CMA-MAE\n",
    "\n",
    "Finally, we run the scalable CMA-MAE variant created above on a 1000-dimensional sphere function."
   ]
  },
  {
   "cell_type": "code",
   "execution_count": 9,
   "id": "9bf03e8d",
   "metadata": {
    "colab": {
     "base_uri": "https://localhost:8080/"
    },
    "id": "9bf03e8d",
    "outputId": "c89a1865-76df-4b27-8225-2afefffa151d"
   },
   "outputs": [
    {
     "name": "stdout",
     "output_type": "stream",
     "text": [
      "Iteration   500 | Archive Coverage:  7.370%  Normalized QD Score:  6.729                      \n",
      "Iteration  1000 | Archive Coverage: 12.394%  Normalized QD Score: 10.728                      \n",
      "Iteration  1500 | Archive Coverage: 15.531%  Normalized QD Score: 13.100                      \n",
      "Iteration  2000 | Archive Coverage: 17.366%  Normalized QD Score: 14.356                      \n",
      "Iteration  2500 | Archive Coverage: 19.149%  Normalized QD Score: 15.670                      \n",
      "Iteration  3000 | Archive Coverage: 19.944%  Normalized QD Score: 16.195                      \n",
      "Iteration  3500 | Archive Coverage: 21.136%  Normalized QD Score: 17.101                      \n",
      "Iteration  4000 | Archive Coverage: 22.966%  Normalized QD Score: 18.396                      \n",
      "Iteration  4500 | Archive Coverage: 24.563%  Normalized QD Score: 19.464                      \n",
      "Iteration  5000 | Archive Coverage: 25.526%  Normalized QD Score: 20.108                      \n",
      "Iteration  5500 | Archive Coverage: 26.158%  Normalized QD Score: 20.590                      \n",
      "Iteration  6000 | Archive Coverage: 26.355%  Normalized QD Score: 20.834                      \n",
      "Iteration  6500 | Archive Coverage: 26.579%  Normalized QD Score: 21.059                      \n",
      "Iteration  7000 | Archive Coverage: 26.579%  Normalized QD Score: 21.132                      \n",
      "Iteration  7500 | Archive Coverage: 26.667%  Normalized QD Score: 21.257                      \n",
      "Iteration  8000 | Archive Coverage: 26.667%  Normalized QD Score: 21.340                      \n",
      "Iteration  8500 | Archive Coverage: 26.667%  Normalized QD Score: 21.377                      \n",
      "Iteration  9000 | Archive Coverage: 26.667%  Normalized QD Score: 21.441                      \n",
      "Iteration  9500 | Archive Coverage: 26.667%  Normalized QD Score: 21.455                      \n",
      "Iteration 10000 | Archive Coverage: 26.667%  Normalized QD Score: 21.479                      \n",
      "Iterations: 100%|███████████████████████████████████████| 10000/10000 [03:30<00:00, 47.41it/s]\n"
     ]
    }
   ],
   "source": [
    "total_itrs = 10_000\n",
    "\n",
    "for itr in trange(1, total_itrs + 1, file=sys.stdout, desc='Iterations'):\n",
    "    solution_batch = scheduler.ask()\n",
    "    objective_batch, measure_batch = sphere(solution_batch)\n",
    "    scheduler.tell(objective_batch, measure_batch)\n",
    "\n",
    "    # Output progress every 500 iterations or on the final iteration.\n",
    "    if itr % 500 == 0 or itr == total_itrs:\n",
    "        tqdm.write(f\"Iteration {itr:5d} | \"\n",
    "                   f\"Archive Coverage: {result_archive.stats.coverage * 100:6.3f}%  \"\n",
    "                   f\"Normalized QD Score: {result_archive.stats.norm_qd_score:6.3f}\")"
   ]
  },
  {
   "cell_type": "markdown",
   "id": "17207b65",
   "metadata": {
    "id": "17207b65"
   },
   "source": [
    "## Visualization"
   ]
  },
  {
   "cell_type": "code",
   "execution_count": 10,
   "id": "3d03f124-0073-4f6c-9401-454b0b00afdf",
   "metadata": {},
   "outputs": [
    {
     "data": {
      "image/png": "[encoded data removed]",
      "text/plain": [
       "<Figure size 800x600 with 2 Axes>"
      ]
     },
     "metadata": {},
     "output_type": "display_data"
    }
   ],
   "source": [
    "from ribs.visualize import grid_archive_heatmap\n",
    "\n",
    "plt.figure(figsize=(8, 6))\n",
    "grid_archive_heatmap(result_archive, vmin=0, vmax=100)"
   ]
  },
  {
   "cell_type": "markdown",
   "id": "b31610ae-18aa-430b-bc9d-ca9d75f216b0",
   "metadata": {},
   "source": [
    "## Citation\n",
    "\n",
    "If you find this tutorial useful, please cite it as:\n",
    "\n",
    "```text\n",
    "@article{pyribs_scalable_cma_mae,\n",
    "  title   = {Scaling CMA-MAE on the Sphere Benchmark},\n",
    "  author  = {Henry Chen and Bryon Tjanaka and Stefanos Nikolaidis},\n",
    "  journal = {pyribs.org},\n",
    "  year    = {2023},\n",
    "  url     = {https://docs.pyribs.org/en/stable/tutorials/cma_mae.html}\n",
    "}\n",
    "```"
   ]
  }
 ],
 "metadata": {
  "colab": {
   "provenance": []
  },
  "kernelspec": {
   "display_name": "Python 3 (ipykernel)",
   "language": "python",
   "name": "python3"
  },
  "language_info": {
   "codemirror_mode": {
    "name": "ipython",
    "version": 3
   },
   "file_extension": ".py",
   "mimetype": "text/x-python",
   "name": "python",
   "nbconvert_exporter": "python",
   "pygments_lexer": "ipython3",
   "version": "3.8.17"
  }
 },
 "nbformat": 4,
 "nbformat_minor": 5
}
