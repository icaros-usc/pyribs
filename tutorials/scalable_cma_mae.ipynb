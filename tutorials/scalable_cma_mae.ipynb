{
 "cells": [
  {
   "cell_type": "markdown",
   "id": "eace5ee0-82ec-459a-80e8-faa2c7030f73",
   "metadata": {
    "tags": []
   },
   "source": [
    "# Scalable CMA-MAE Tutorial using Sphere Benchmark"
   ]
  },
  {
   "cell_type": "markdown",
   "id": "4cdfbeeb-cd4d-42fa-81b1-d27785b31ae6",
   "metadata": {},
   "source": [
    "### Brief Explanation of Scalable CMA-MAE\n",
    "\n",
    "A challenge with CMA-MAE is the quadratic time complexity associated with the computations required over an nxn matrix containing $n^2$ standard deviations.\n",
    "\n",
    "To combat this problem, Scalable CMA-MAE utilizes different evolution strategies to decrease the number of computations required. Below are 3 evolution strategies described in [Tjanaka 2022](https://arxiv.org/abs/2210.02622).\n",
    "\n",
    "<ul>\n",
    "   <li> Limited Memory Matrix Adaptation ES (LM-MA-ES):\n",
    "        <ul>\n",
    "            <li>Approximates transformation matrix with $k$ $n$-dimensional vectors where $k << n$.</li>\n",
    "            <li>Approximately $\\theta(kn)$ runtime.</li>\n",
    "        </ul>\n",
    "   </li>\n",
    "   <li> Seperable CMA-ES (sep-CMA-MAE):\n",
    "        <ul>\n",
    "            <li>Constrains covariance matrix to just a diaganol matrix of standard deviations.</li>\n",
    "            <li>Approximately $\\theta(n)$ runtime.</li>\n",
    "        </ul>\n",
    "   </li>\n",
    "   <li> OpenAI ES (OpenAI-MAE):\n",
    "        <ul>\n",
    "            <li>Differs from CMA-ES but still represents search space with a gaussian.</li>\n",
    "            <li>Approximately $\\theta(n)$ runtime.</li>\n",
    "        </ul>       \n",
    "   </li>\n",
    "</ul>"
   ]
  },
  {
   "cell_type": "markdown",
   "id": "4e35386c",
   "metadata": {
    "id": "4e35386c",
    "tags": []
   },
   "source": [
    "## Setup"
   ]
  },
  {
   "cell_type": "code",
   "execution_count": 1,
   "id": "9562ca7d-0e1a-4916-86b0-67b8254a79c7",
   "metadata": {},
   "outputs": [
    {
     "name": "stdout",
     "output_type": "stream",
     "text": [
      "Requirement already satisfied: ribs[visualize] in /Users/benryben/Desktop/ICAROS_lab/pyribs (0.6.3)\n",
      "Requirement already satisfied: tqdm in /usr/local/lib/python3.11/site-packages (4.66.1)\n",
      "Requirement already satisfied: numpy>=1.17.3 in /usr/local/lib/python3.11/site-packages (from ribs[visualize]) (1.23.5)\n",
      "Requirement already satisfied: numpy_groupies>=0.9.16 in /usr/local/lib/python3.11/site-packages (from ribs[visualize]) (0.10.2)\n",
      "Requirement already satisfied: numba>=0.51.0 in /usr/local/lib/python3.11/site-packages (from ribs[visualize]) (0.58.1)\n",
      "Requirement already satisfied: pandas>=1.0.0 in /usr/local/lib/python3.11/site-packages (from ribs[visualize]) (2.1.1)\n",
      "Requirement already satisfied: sortedcontainers>=2.0.0 in /usr/local/lib/python3.11/site-packages (from ribs[visualize]) (2.4.0)\n",
      "Requirement already satisfied: scikit-learn>=1.1.0 in /usr/local/lib/python3.11/site-packages (from ribs[visualize]) (1.3.2)\n",
      "Requirement already satisfied: scipy>=1.4.0 in /usr/local/lib/python3.11/site-packages (from ribs[visualize]) (1.10.1)\n",
      "Requirement already satisfied: threadpoolctl>=3.0.0 in /usr/local/lib/python3.11/site-packages (from ribs[visualize]) (3.2.0)\n",
      "Requirement already satisfied: matplotlib>=3.0.0 in /usr/local/lib/python3.11/site-packages (from ribs[visualize]) (3.7.2)\n",
      "Requirement already satisfied: shapely>=2.0.0 in /usr/local/lib/python3.11/site-packages (from ribs[visualize]) (2.0.2)\n",
      "Requirement already satisfied: contourpy>=1.0.1 in /usr/local/lib/python3.11/site-packages (from matplotlib>=3.0.0->ribs[visualize]) (1.1.0)\n",
      "Requirement already satisfied: cycler>=0.10 in /usr/local/lib/python3.11/site-packages (from matplotlib>=3.0.0->ribs[visualize]) (0.11.0)\n",
      "Requirement already satisfied: fonttools>=4.22.0 in /usr/local/lib/python3.11/site-packages (from matplotlib>=3.0.0->ribs[visualize]) (4.42.1)\n",
      "Requirement already satisfied: kiwisolver>=1.0.1 in /usr/local/lib/python3.11/site-packages (from matplotlib>=3.0.0->ribs[visualize]) (1.4.5)\n",
      "Requirement already satisfied: packaging>=20.0 in /usr/local/lib/python3.11/site-packages (from matplotlib>=3.0.0->ribs[visualize]) (23.1)\n",
      "Requirement already satisfied: pillow>=6.2.0 in /usr/local/lib/python3.11/site-packages (from matplotlib>=3.0.0->ribs[visualize]) (10.0.0)\n",
      "Requirement already satisfied: pyparsing<3.1,>=2.3.1 in /usr/local/lib/python3.11/site-packages (from matplotlib>=3.0.0->ribs[visualize]) (3.0.9)\n",
      "Requirement already satisfied: python-dateutil>=2.7 in /usr/local/lib/python3.11/site-packages (from matplotlib>=3.0.0->ribs[visualize]) (2.8.2)\n",
      "Requirement already satisfied: llvmlite<0.42,>=0.41.0dev0 in /usr/local/lib/python3.11/site-packages (from numba>=0.51.0->ribs[visualize]) (0.41.1)\n",
      "Requirement already satisfied: pytz>=2020.1 in /usr/local/lib/python3.11/site-packages (from pandas>=1.0.0->ribs[visualize]) (2023.3.post1)\n",
      "Requirement already satisfied: tzdata>=2022.1 in /usr/local/lib/python3.11/site-packages (from pandas>=1.0.0->ribs[visualize]) (2023.3)\n",
      "Requirement already satisfied: joblib>=1.1.1 in /usr/local/lib/python3.11/site-packages (from scikit-learn>=1.1.0->ribs[visualize]) (1.3.2)\n",
      "Requirement already satisfied: six>=1.5 in /usr/local/lib/python3.11/site-packages (from python-dateutil>=2.7->matplotlib>=3.0.0->ribs[visualize]) (1.16.0)\n",
      "\n",
      "\u001b[1m[\u001b[0m\u001b[34;49mnotice\u001b[0m\u001b[1;39;49m]\u001b[0m\u001b[39;49m A new release of pip is available: \u001b[0m\u001b[31;49m23.2.1\u001b[0m\u001b[39;49m -> \u001b[0m\u001b[32;49m23.3.1\u001b[0m\n",
      "\u001b[1m[\u001b[0m\u001b[34;49mnotice\u001b[0m\u001b[1;39;49m]\u001b[0m\u001b[39;49m To update, run: \u001b[0m\u001b[32;49mpython3.11 -m pip install --upgrade pip\u001b[0m\n",
      "Note: you may need to restart the kernel to use updated packages.\n"
     ]
    }
   ],
   "source": [
    "%pip install ribs[visualize] tqdm"
   ]
  },
  {
   "cell_type": "code",
   "execution_count": 2,
   "id": "fa90af0b-d7bb-477e-84a6-f384327e9d34",
   "metadata": {},
   "outputs": [],
   "source": [
    "import sys\n",
    "\n",
    "import numpy as np\n",
    "import matplotlib.pyplot as plt\n",
    "from tqdm import tqdm, trange"
   ]
  },
  {
   "cell_type": "markdown",
   "id": "e1900b33",
   "metadata": {
    "id": "e1900b33"
   },
   "source": [
    "## The Sphere Linear Projection Benchmark"
   ]
  },
  {
   "cell_type": "code",
   "execution_count": 3,
   "id": "8cb2801c",
   "metadata": {
    "id": "8cb2801c"
   },
   "outputs": [],
   "source": [
    "def sphere(solution_batch):\n",
    "    \"\"\"Sphere function evaluation and measures for a batch of solutions.\n",
    "\n",
    "    Args:\n",
    "        solution_batch (np.ndarray): (batch_size, dim) batch of solutions.\n",
    "    Returns:\n",
    "        objective_batch (np.ndarray): (batch_size,) batch of objectives.\n",
    "        measures_batch (np.ndarray): (batch_size, 2) batch of measures.\n",
    "    \"\"\"\n",
    "    dim = solution_batch.shape[1]\n",
    "\n",
    "    # Shift the Sphere function so that the optimal value is at x_i = 2.048.\n",
    "    sphere_shift = 5.12 * 0.4\n",
    "\n",
    "    # Normalize the objective to the range [0, 100] where 100 is optimal.\n",
    "    best_obj = 0.0\n",
    "    worst_obj = (-5.12 - sphere_shift)**2 * dim\n",
    "    raw_obj = np.sum(np.square(solution_batch - sphere_shift), axis=1)\n",
    "    objective_batch = (raw_obj - worst_obj) / (best_obj - worst_obj) * 100\n",
    "\n",
    "    # Calculate measures.\n",
    "    clipped = solution_batch.copy()\n",
    "    clip_mask = (clipped < -5.12) | (clipped > 5.12)\n",
    "    clipped[clip_mask] = 5.12 / clipped[clip_mask]\n",
    "    measures_batch = np.concatenate(\n",
    "        (\n",
    "            np.sum(clipped[:, :dim // 2], axis=1, keepdims=True),\n",
    "            np.sum(clipped[:, dim // 2:], axis=1, keepdims=True),\n",
    "        ),\n",
    "        axis=1,\n",
    "    )\n",
    "\n",
    "    return objective_batch, measures_batch"
   ]
  },
  {
   "cell_type": "markdown",
   "id": "256a9c7a-a20a-4ab2-8376-65ccd640fc83",
   "metadata": {},
   "source": [
    "## Creating an Archive"
   ]
  },
  {
   "cell_type": "code",
   "execution_count": 4,
   "id": "aa4e5b4d",
   "metadata": {
    "id": "aa4e5b4d"
   },
   "outputs": [],
   "source": [
    "from ribs.archives import GridArchive\n",
    "\n",
    "max_bound = 100 / 2 * 5.12\n",
    "\n",
    "archive = GridArchive(solution_dim=100,\n",
    "                      dims=(100, 100),\n",
    "                      ranges=[(-max_bound, max_bound), (-max_bound, max_bound)],\n",
    "                      learning_rate=0.01,\n",
    "                      threshold_min=0.0)"
   ]
  },
  {
   "cell_type": "code",
   "execution_count": 5,
   "id": "b1e4948b",
   "metadata": {
    "id": "b1e4948b"
   },
   "outputs": [],
   "source": [
    "result_archive = GridArchive(solution_dim=100,\n",
    "                             dims=(100, 100),\n",
    "                             ranges=[(-max_bound, max_bound), (-max_bound, max_bound)])"
   ]
  },
  {
   "cell_type": "markdown",
   "id": "1e4d7086-15c2-4c1c-a313-a2b36929ee8e",
   "metadata": {},
   "source": [
    "## Create Evolution Strategy Emitters\n",
    "\n",
    "Note the use of the evolution strategy (es) parameter. Here, you can input 2 scalable variants of CMA-ES and the OpenAI evolution strategy.\n",
    "<ul>\n",
    "    <li>Separable CMA-ES: \"sep_cma_es\"</li>\n",
    "    <li>Limited Memory Matrix Adaptation ES: \"lm_ma_es\"</li>\n",
    "    <li>OpenAI Evolution Strategy: \"openai_es\"</li>\n",
    "</ul>\n",
    "Here we use the seperable CMA-ES, \"sep_cma_es\"."
   ]
  },
  {
   "cell_type": "code",
   "execution_count": 6,
   "id": "beb8f299",
   "metadata": {
    "id": "beb8f299"
   },
   "outputs": [],
   "source": [
    "from ribs.emitters import EvolutionStrategyEmitter\n",
    "\n",
    "emitters = [\n",
    "    EvolutionStrategyEmitter(\n",
    "        archive,\n",
    "        x0=np.zeros(100),\n",
    "        sigma0=0.5,\n",
    "        ranker=\"imp\",\n",
    "        es=\"sep_cma_es\",\n",
    "        selection_rule=\"mu\",\n",
    "        restart_rule=\"basic\",\n",
    "        batch_size=36\n",
    "    ) for _ in range(15)\n",
    "]"
   ]
  },
  {
   "cell_type": "markdown",
   "id": "1a1b940d",
   "metadata": {
    "id": "1a1b940d"
   },
   "source": [
    "## Create a Scheduler"
   ]
  },
  {
   "cell_type": "code",
   "execution_count": 7,
   "id": "e5c4f108",
   "metadata": {
    "id": "e5c4f108"
   },
   "outputs": [],
   "source": [
    "from ribs.schedulers import Scheduler\n",
    "\n",
    "scheduler = Scheduler(archive, emitters, result_archive=result_archive)"
   ]
  },
  {
   "cell_type": "markdown",
   "id": "391d7c7a-c9b5-4e46-910a-3ef66940f50d",
   "metadata": {},
   "source": [
    "## Running Scalable CMA-MAE\n",
    "\n",
    "Scalable CMA-MAE algorithm as described in [Tjanaka 2022](https://arxiv.org/abs/2210.02622)."
   ]
  },
  {
   "cell_type": "code",
   "execution_count": 8,
   "id": "9bf03e8d",
   "metadata": {
    "colab": {
     "base_uri": "https://localhost:8080/"
    },
    "id": "9bf03e8d",
    "outputId": "c89a1865-76df-4b27-8225-2afefffa151d"
   },
   "outputs": [
    {
     "name": "stdout",
     "output_type": "stream",
     "text": [
      "Iteration   500 | Archive Coverage: 59.900%  Normalized QD Score: 47.782                                                                                                               \n",
      "Iteration  1000 | Archive Coverage: 68.770%  Normalized QD Score: 53.368                                                                                                               \n",
      "Iteration  1500 | Archive Coverage: 74.860%  Normalized QD Score: 57.141                                                                                                               \n",
      "Iteration  2000 | Archive Coverage: 77.170%  Normalized QD Score: 58.646                                                                                                               \n",
      "Iteration  2500 | Archive Coverage: 80.610%  Normalized QD Score: 60.532                                                                                                               \n",
      "Iteration  3000 | Archive Coverage: 81.500%  Normalized QD Score: 61.395                                                                                                               \n",
      "Iteration  3500 | Archive Coverage: 81.690%  Normalized QD Score: 62.022                                                                                                               \n",
      "Iteration  4000 | Archive Coverage: 82.050%  Normalized QD Score: 62.617                                                                                                               \n",
      "Iteration  4500 | Archive Coverage: 82.130%  Normalized QD Score: 63.000                                                                                                               \n",
      "Iteration  5000 | Archive Coverage: 82.390%  Normalized QD Score: 63.376                                                                                                               \n",
      "Iteration  5500 | Archive Coverage: 82.750%  Normalized QD Score: 63.653                                                                                                               \n",
      "Iteration  6000 | Archive Coverage: 82.980%  Normalized QD Score: 63.915                                                                                                               \n",
      "Iteration  6500 | Archive Coverage: 84.030%  Normalized QD Score: 64.512                                                                                                               \n",
      "Iteration  7000 | Archive Coverage: 84.450%  Normalized QD Score: 64.880                                                                                                               \n",
      "Iteration  7500 | Archive Coverage: 84.470%  Normalized QD Score: 64.971                                                                                                               \n",
      "Iteration  8000 | Archive Coverage: 84.470%  Normalized QD Score: 65.037                                                                                                               \n",
      "Iteration  8500 | Archive Coverage: 84.470%  Normalized QD Score: 65.091                                                                                                               \n",
      "Iteration  9000 | Archive Coverage: 84.470%  Normalized QD Score: 65.142                                                                                                               \n",
      "Iteration  9500 | Archive Coverage: 84.470%  Normalized QD Score: 65.185                                                                                                               \n",
      "Iteration 10000 | Archive Coverage: 84.470%  Normalized QD Score: 65.223                                                                                                               \n",
      "Iterations: 100%|████████████████████████████████████████████████████████████████████████████████████████████████████████████████████████████████| 10000/10000 [02:07<00:00, 78.65it/s]\n"
     ]
    }
   ],
   "source": [
    "total_itrs = 10_000\n",
    "\n",
    "for itr in trange(1, total_itrs + 1, file=sys.stdout, desc='Iterations'):\n",
    "    solution_batch = scheduler.ask()\n",
    "    objective_batch, measure_batch = sphere(solution_batch)\n",
    "    scheduler.tell(objective_batch, measure_batch)\n",
    "\n",
    "    # Output progress every 500 iterations or on the final iteration.\n",
    "    if itr % 500 == 0 or itr == total_itrs:\n",
    "        tqdm.write(f\"Iteration {itr:5d} | \"\n",
    "                   f\"Archive Coverage: {result_archive.stats.coverage * 100:6.3f}%  \"\n",
    "                   f\"Normalized QD Score: {result_archive.stats.norm_qd_score:6.3f}\")"
   ]
  },
  {
   "cell_type": "markdown",
   "id": "17207b65",
   "metadata": {
    "id": "17207b65"
   },
   "source": [
    "## Visualization"
   ]
  },
  {
   "cell_type": "code",
   "execution_count": 9,
   "id": "3d03f124-0073-4f6c-9401-454b0b00afdf",
   "metadata": {},
   "outputs": [
    {
     "data": {
      "image/png": "[encoded data removed]",
      "text/plain": [
       "<Figure size 800x600 with 2 Axes>"
      ]
     },
     "metadata": {},
     "output_type": "display_data"
    }
   ],
   "source": [
    "from ribs.visualize import grid_archive_heatmap\n",
    "\n",
    "plt.figure(figsize=(8, 6))\n",
    "grid_archive_heatmap(result_archive, vmin=0, vmax=100)"
   ]
  },
  {
   "cell_type": "markdown",
   "id": "b31610ae-18aa-430b-bc9d-ca9d75f216b0",
   "metadata": {},
   "source": [
    "## Citation\n",
    "\n",
    "If you find this tutorial useful, please cite it as:\n",
    "\n",
    "```text\n",
    "@article{pyribs_scalable_cma_mae,\n",
    "  title   = {Upgrading CMA-ME to CMA-MAE on the Sphere Benchmark},\n",
    "  author  = {David H. Lee and Bryon Tjanaka and Nivedit Reddy Balam and\n",
    "             Matthew C. Fontaine and Stefanos Nikolaidis},\n",
    "  journal = {pyribs.org},\n",
    "  year    = {2023},\n",
    "  url     = {https://docs.pyribs.org/en/stable/tutorials/cma_mae.html}\n",
    "}\n",
    "```"
   ]
  }
 ],
 "metadata": {
  "colab": {
   "provenance": []
  },
  "kernelspec": {
   "display_name": "Python 3 (ipykernel)",
   "language": "python",
   "name": "python3"
  },
  "language_info": {
   "codemirror_mode": {
    "name": "ipython",
    "version": 3
   },
   "file_extension": ".py",
   "mimetype": "text/x-python",
   "name": "python",
   "nbconvert_exporter": "python",
   "pygments_lexer": "ipython3",
   "version": "3.11.3"
  }
 },
 "nbformat": 4,
 "nbformat_minor": 5
}
