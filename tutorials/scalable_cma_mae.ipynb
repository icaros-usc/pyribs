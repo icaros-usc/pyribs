{
 "cells": [
  {
   "cell_type": "markdown",
   "id": "eace5ee0-82ec-459a-80e8-faa2c7030f73",
   "metadata": {
    "tags": []
   },
   "source": [
    "# Scalable CMA-MAE Tutorial using Sphere Benchmark"
   ]
  },
  {
   "cell_type": "markdown",
   "id": "4e35386c",
   "metadata": {
    "id": "4e35386c",
    "tags": []
   },
   "source": [
    "## Setup"
   ]
  },
  {
   "cell_type": "code",
   "execution_count": null,
   "id": "9562ca7d-0e1a-4916-86b0-67b8254a79c7",
   "metadata": {},
   "outputs": [],
   "source": [
    "%pip install ribs[visualize] tqdm"
   ]
  },
  {
   "cell_type": "code",
   "execution_count": 5,
   "id": "fa90af0b-d7bb-477e-84a6-f384327e9d34",
   "metadata": {},
   "outputs": [],
   "source": [
    "import sys\n",
    "\n",
    "import numpy as np\n",
    "import matplotlib.pyplot as plt\n",
    "from tqdm import tqdm, trange"
   ]
  },
  {
   "cell_type": "markdown",
   "id": "e1900b33",
   "metadata": {
    "id": "e1900b33"
   },
   "source": [
    "## The Sphere Linear Projection Benchmark"
   ]
  },
  {
   "cell_type": "code",
   "execution_count": 1,
   "id": "8cb2801c",
   "metadata": {
    "id": "8cb2801c"
   },
   "outputs": [],
   "source": [
    "def sphere(solution_batch):\n",
    "    \"\"\"Sphere function evaluation and measures for a batch of solutions.\n",
    "\n",
    "    Args:\n",
    "        solution_batch (np.ndarray): (batch_size, dim) batch of solutions.\n",
    "    Returns:\n",
    "        objective_batch (np.ndarray): (batch_size,) batch of objectives.\n",
    "        measures_batch (np.ndarray): (batch_size, 2) batch of measures.\n",
    "    \"\"\"\n",
    "    dim = solution_batch.shape[1]\n",
    "\n",
    "    # Shift the Sphere function so that the optimal value is at x_i = 2.048.\n",
    "    sphere_shift = 5.12 * 0.4\n",
    "\n",
    "    # Normalize the objective to the range [0, 100] where 100 is optimal.\n",
    "    best_obj = 0.0\n",
    "    worst_obj = (-5.12 - sphere_shift)**2 * dim\n",
    "    raw_obj = np.sum(np.square(solution_batch - sphere_shift), axis=1)\n",
    "    objective_batch = (raw_obj - worst_obj) / (best_obj - worst_obj) * 100\n",
    "\n",
    "    # Calculate measures.\n",
    "    clipped = solution_batch.copy()\n",
    "    clip_mask = (clipped < -5.12) | (clipped > 5.12)\n",
    "    clipped[clip_mask] = 5.12 / clipped[clip_mask]\n",
    "    measures_batch = np.concatenate(\n",
    "        (\n",
    "            np.sum(clipped[:, :dim // 2], axis=1, keepdims=True),\n",
    "            np.sum(clipped[:, dim // 2:], axis=1, keepdims=True),\n",
    "        ),\n",
    "        axis=1,\n",
    "    )\n",
    "\n",
    "    return objective_batch, measures_batch"
   ]
  },
  {
   "cell_type": "markdown",
   "id": "4cdfbeeb-cd4d-42fa-81b1-d27785b31ae6",
   "metadata": {},
   "source": [
    "### Brief Explanation of Scalable CMA-MAE\n",
    "\n",
    "A challenge with CMA-MAE is the quadratic time complexity associated with the computations required over an nxn matrix containing (n*n) standard deviations.\n",
    "\n",
    "To combat this problem, Scalable CMA-MAE utilizes different evolution strategies to decrease the number of computations required. Below are 3 evolution strategies listed in [Tjanaka 2022](https://arxiv.org/abs/2210.02622).\n",
    "\n",
    "<ul>\n",
    "   <li> Limited Memory Matrix Adaptation ES:\n",
    "        Approximates transformation matrix with k n-dimensional vectors where k << n. Approximately O(kn) runtime.\n",
    "   </li>\n",
    "   <li> Seperable CMA-ES:\n",
    "        Constrains covariance matrix to just a diaganol matrix of standard deviations. Approximately O(n) runtime.    \n",
    "   </li>\n",
    "   <li> OpenAI ES:\n",
    "        Differs from CMA-ES but still represents search space with a gaussian. Approximately O(n) runtime.       \n",
    "   </li>\n",
    "</ul>"
   ]
  },
  {
   "cell_type": "markdown",
   "id": "256a9c7a-a20a-4ab2-8376-65ccd640fc83",
   "metadata": {},
   "source": [
    "## Creating an Archive"
   ]
  },
  {
   "cell_type": "code",
   "execution_count": 7,
   "id": "aa4e5b4d",
   "metadata": {
    "id": "aa4e5b4d"
   },
   "outputs": [],
   "source": [
    "from ribs.archives import GridArchive\n",
    "\n",
    "max_bound = 100 / 2 * 5.12\n",
    "\n",
    "archive = GridArchive(solution_dim=100,\n",
    "                      dims=(100, 100),\n",
    "                      ranges=[(-max_bound, max_bound), (-max_bound, max_bound)],\n",
    "                      learning_rate=0.01,\n",
    "                      threshold_min=0.0)"
   ]
  },
  {
   "cell_type": "code",
   "execution_count": 8,
   "id": "b1e4948b",
   "metadata": {
    "id": "b1e4948b"
   },
   "outputs": [],
   "source": [
    "result_archive = GridArchive(solution_dim=100,\n",
    "                             dims=(100, 100),\n",
    "                             ranges=[(-max_bound, max_bound), (-max_bound, max_bound)])"
   ]
  },
  {
   "cell_type": "markdown",
   "id": "1e4d7086-15c2-4c1c-a313-a2b36929ee8e",
   "metadata": {},
   "source": [
    "## Create Evolution Strategy Emitters\n",
    "\n",
    "Note the use of the evolution strategy (es) parameter. Here, you can input 2 scalable variants of CMA-ES and the OpenAI evolution strategy.\n",
    "<ul>\n",
    "    <li>Separable CMA-ES: \"sep_cma_es\"</li>\n",
    "    <li>Limited Memory Matrix Adaptation ES: \"lm_ma_es\"</li>\n",
    "    <li>OpenAI Evolution Strategy: \"openai_es\"</li>\n",
    "</ul>\n",
    "Here we use the seperable CMA-ES, \"sep_cma_es\"."
   ]
  },
  {
   "cell_type": "code",
   "execution_count": 20,
   "id": "beb8f299",
   "metadata": {
    "id": "beb8f299"
   },
   "outputs": [],
   "source": [
    "from ribs.emitters import EvolutionStrategyEmitter\n",
    "\n",
    "emitters = [\n",
    "    EvolutionStrategyEmitter(\n",
    "        archive,\n",
    "        x0=np.zeros(100),\n",
    "        sigma0=0.5,\n",
    "        ranker=\"imp\",\n",
    "        es=\"sep_cma_es\",\n",
    "        selection_rule=\"mu\",\n",
    "        restart_rule=\"basic\",\n",
    "        batch_size=36\n",
    "    ) for _ in range(15)\n",
    "]"
   ]
  },
  {
   "cell_type": "markdown",
   "id": "1a1b940d",
   "metadata": {
    "id": "1a1b940d"
   },
   "source": [
    "## Create a Scheduler"
   ]
  },
  {
   "cell_type": "code",
   "execution_count": 21,
   "id": "e5c4f108",
   "metadata": {
    "id": "e5c4f108"
   },
   "outputs": [],
   "source": [
    "from ribs.schedulers import Scheduler\n",
    "\n",
    "scheduler = Scheduler(archive, emitters, result_archive=result_archive)"
   ]
  },
  {
   "cell_type": "markdown",
   "id": "391d7c7a-c9b5-4e46-910a-3ef66940f50d",
   "metadata": {},
   "source": [
    "## Running Scalable CMA-MAE\n",
    "\n",
    "Scalable CMA-MAE algorithm as described in [Tjanaka 2022](https://arxiv.org/abs/2210.02622)."
   ]
  },
  {
   "cell_type": "code",
   "execution_count": 22,
   "id": "9bf03e8d",
   "metadata": {
    "colab": {
     "base_uri": "https://localhost:8080/"
    },
    "id": "9bf03e8d",
    "outputId": "c89a1865-76df-4b27-8225-2afefffa151d"
   },
   "outputs": [
    {
     "name": "stdout",
     "output_type": "stream",
     "text": [
      "Iteration   500 | Archive Coverage: 80.920%  Normalized QD Score: 63.245\n",
      "Iteration  1000 | Archive Coverage: 80.920%  Normalized QD Score: 63.267\n",
      "Iteration  1500 | Archive Coverage: 80.920%  Normalized QD Score: 63.284\n",
      "Iteration  2000 | Archive Coverage: 80.920%  Normalized QD Score: 63.290\n",
      "Iteration  2500 | Archive Coverage: 80.920%  Normalized QD Score: 63.291\n",
      "Iteration  3000 | Archive Coverage: 80.920%  Normalized QD Score: 63.291\n",
      "Iteration  3500 | Archive Coverage: 80.920%  Normalized QD Score: 63.291\n",
      "Iteration  4000 | Archive Coverage: 80.920%  Normalized QD Score: 63.291\n",
      "Iteration  4500 | Archive Coverage: 80.920%  Normalized QD Score: 63.291\n",
      "Iteration  5000 | Archive Coverage: 80.920%  Normalized QD Score: 63.291\n",
      "Iteration  5500 | Archive Coverage: 80.920%  Normalized QD Score: 63.291\n",
      "Iteration  6000 | Archive Coverage: 80.920%  Normalized QD Score: 63.291\n",
      "Iteration  6500 | Archive Coverage: 80.920%  Normalized QD Score: 63.291\n",
      "Iteration  7000 | Archive Coverage: 80.920%  Normalized QD Score: 63.291\n",
      "Iteration  7500 | Archive Coverage: 80.920%  Normalized QD Score: 63.291\n",
      "Iteration  8000 | Archive Coverage: 80.920%  Normalized QD Score: 63.291\n",
      "Iteration  8500 | Archive Coverage: 80.920%  Normalized QD Score: 63.291\n",
      "Iteration  9000 | Archive Coverage: 80.920%  Normalized QD Score: 63.291\n",
      "Iteration  9500 | Archive Coverage: 80.920%  Normalized QD Score: 63.291\n",
      "Iteration 10000 | Archive Coverage: 80.920%  Normalized QD Score: 63.291\n",
      "Iterations: 100%|███████████| 10000/10000 [03:05<00:00, 53.91it/s]\n"
     ]
    }
   ],
   "source": [
    "total_itrs = 10_000\n",
    "\n",
    "for itr in trange(1, total_itrs + 1, file=sys.stdout, desc='Iterations'):\n",
    "    solution_batch = scheduler.ask()\n",
    "    objective_batch, measure_batch = sphere(solution_batch)\n",
    "    scheduler.tell(objective_batch, measure_batch)\n",
    "\n",
    "    # Output progress every 500 iterations or on the final iteration.\n",
    "    if itr % 500 == 0 or itr == total_itrs:\n",
    "        tqdm.write(f\"Iteration {itr:5d} | \"\n",
    "                   f\"Archive Coverage: {result_archive.stats.coverage * 100:6.3f}%  \"\n",
    "                   f\"Normalized QD Score: {result_archive.stats.norm_qd_score:6.3f}\")"
   ]
  },
  {
   "cell_type": "markdown",
   "id": "17207b65",
   "metadata": {
    "id": "17207b65"
   },
   "source": [
    "## Visualization"
   ]
  },
  {
   "cell_type": "code",
   "execution_count": 15,
   "id": "3d03f124-0073-4f6c-9401-454b0b00afdf",
   "metadata": {},
   "outputs": [
    {
     "data": {
      "image/png": "[encoded data removed]",
      "text/plain": [
       "<Figure size 800x600 with 2 Axes>"
      ]
     },
     "metadata": {},
     "output_type": "display_data"
    }
   ],
   "source": [
    "from ribs.visualize import grid_archive_heatmap\n",
    "\n",
    "plt.figure(figsize=(8, 6))\n",
    "grid_archive_heatmap(result_archive, vmin=0, vmax=100)"
   ]
  },
  {
   "cell_type": "markdown",
   "id": "b31610ae-18aa-430b-bc9d-ca9d75f216b0",
   "metadata": {},
   "source": [
    "## Citation\n",
    "\n",
    "If you find this tutorial useful, please cite it as:\n",
    "\n",
    "```text\n",
    "@article{pyribs_scalable_cma_mae,\n",
    "  title   = {Upgrading CMA-ME to CMA-MAE on the Sphere Benchmark},\n",
    "  author  = {David H. Lee and Bryon Tjanaka and Nivedit Reddy Balam and\n",
    "             Matthew C. Fontaine and Stefanos Nikolaidis},\n",
    "  journal = {pyribs.org},\n",
    "  year    = {2023},\n",
    "  url     = {https://docs.pyribs.org/en/stable/tutorials/cma_mae.html}\n",
    "}\n",
    "```"
   ]
  }
 ],
 "metadata": {
  "colab": {
   "provenance": []
  },
  "kernelspec": {
   "display_name": "Python 3 (ipykernel)",
   "language": "python",
   "name": "python3"
  },
  "language_info": {
   "codemirror_mode": {
    "name": "ipython",
    "version": 3
   },
   "file_extension": ".py",
   "mimetype": "text/x-python",
   "name": "python",
   "nbconvert_exporter": "python",
   "pygments_lexer": "ipython3",
   "version": "3.11.3"
  }
 },
 "nbformat": 4,
 "nbformat_minor": 5
}
