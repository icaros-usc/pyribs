{
 "cells": [
  {
   "cell_type": "markdown",
   "id": "eace5ee0-82ec-459a-80e8-faa2c7030f73",
   "metadata": {
    "tags": []
   },
   "source": [
    "# Exploring Mazes with Novelty Search\n",
    "\n",
    "_This tutorial is part of the series of pyribs tutorials! See [here](https://docs.pyribs.org/en/latest/tutorials.html) for the list of all tutorials and the order in which they should be read._\n",
    "\n",
    "TODO: background on mazes"
   ]
  },
  {
   "cell_type": "markdown",
   "id": "4e35386c",
   "metadata": {
    "id": "4e35386c",
    "tags": []
   },
   "source": [
    "## Setup"
   ]
  },
  {
   "cell_type": "code",
   "execution_count": 1,
   "id": "9562ca7d-0e1a-4916-86b0-67b8254a79c7",
   "metadata": {},
   "outputs": [
    {
     "name": "stdout",
     "output_type": "stream",
     "text": [
      "Requirement already satisfied: kheperax in /home/btjanaka/Resistance/usc/icaros/projects/pyribs/code/env/lib/python3.10/site-packages (0.2.0)\n",
      "Requirement already satisfied: tqdm in /home/btjanaka/Resistance/usc/icaros/projects/pyribs/code/env/lib/python3.10/site-packages (4.67.1)\n",
      "Requirement already satisfied: ribs[visualize] in /home/btjanaka/Resistance/usc/icaros/projects/pyribs/code/env/lib/python3.10/site-packages (0.7.1)\n",
      "Requirement already satisfied: numpy>=1.17.3 in /home/btjanaka/Resistance/usc/icaros/projects/pyribs/code/env/lib/python3.10/site-packages (from ribs[visualize]) (1.26.4)\n",
      "Requirement already satisfied: numpy_groupies>=0.9.16 in /home/btjanaka/Resistance/usc/icaros/projects/pyribs/code/env/lib/python3.10/site-packages (from ribs[visualize]) (0.11.2)\n",
      "Requirement already satisfied: numba>=0.51.0 in /home/btjanaka/Resistance/usc/icaros/projects/pyribs/code/env/lib/python3.10/site-packages (from ribs[visualize]) (0.61.0)\n",
      "Requirement already satisfied: pandas>=1.0.0 in /home/btjanaka/Resistance/usc/icaros/projects/pyribs/code/env/lib/python3.10/site-packages (from ribs[visualize]) (2.2.3)\n",
      "Requirement already satisfied: sortedcontainers>=2.0.0 in /home/btjanaka/Resistance/usc/icaros/projects/pyribs/code/env/lib/python3.10/site-packages (from ribs[visualize]) (2.4.0)\n",
      "Requirement already satisfied: scikit-learn>=1.1.0 in /home/btjanaka/Resistance/usc/icaros/projects/pyribs/code/env/lib/python3.10/site-packages (from ribs[visualize]) (1.6.1)\n",
      "Requirement already satisfied: scipy>=1.7.0 in /home/btjanaka/Resistance/usc/icaros/projects/pyribs/code/env/lib/python3.10/site-packages (from ribs[visualize]) (1.15.2)\n",
      "Requirement already satisfied: threadpoolctl>=3.0.0 in /home/btjanaka/Resistance/usc/icaros/projects/pyribs/code/env/lib/python3.10/site-packages (from ribs[visualize]) (3.6.0)\n",
      "Requirement already satisfied: matplotlib>=3.0.0 in /home/btjanaka/Resistance/usc/icaros/projects/pyribs/code/env/lib/python3.10/site-packages (from ribs[visualize]) (3.10.0)\n",
      "Requirement already satisfied: shapely>=2.0.0 in /home/btjanaka/Resistance/usc/icaros/projects/pyribs/code/env/lib/python3.10/site-packages (from ribs[visualize]) (2.0.7)\n",
      "Requirement already satisfied: jax>=0.4.28 in /home/btjanaka/Resistance/usc/icaros/projects/pyribs/code/env/lib/python3.10/site-packages (from kheperax) (0.5.3)\n",
      "Requirement already satisfied: jaxlib>=0.4.28 in /home/btjanaka/Resistance/usc/icaros/projects/pyribs/code/env/lib/python3.10/site-packages (from kheperax) (0.5.3)\n",
      "Requirement already satisfied: flax>=0.8.5 in /home/btjanaka/Resistance/usc/icaros/projects/pyribs/code/env/lib/python3.10/site-packages (from kheperax) (0.10.4)\n",
      "Requirement already satisfied: qdax>=0.4.0 in /home/btjanaka/Resistance/usc/icaros/projects/pyribs/code/env/lib/python3.10/site-packages (from kheperax) (0.5.0)\n",
      "Requirement already satisfied: imageio>=2.35.1 in /home/btjanaka/Resistance/usc/icaros/projects/pyribs/code/env/lib/python3.10/site-packages (from kheperax) (2.37.0)\n",
      "Requirement already satisfied: msgpack in /home/btjanaka/Resistance/usc/icaros/projects/pyribs/code/env/lib/python3.10/site-packages (from flax>=0.8.5->kheperax) (1.1.0)\n",
      "Requirement already satisfied: optax in /home/btjanaka/Resistance/usc/icaros/projects/pyribs/code/env/lib/python3.10/site-packages (from flax>=0.8.5->kheperax) (0.2.4)\n",
      "Requirement already satisfied: orbax-checkpoint in /home/btjanaka/Resistance/usc/icaros/projects/pyribs/code/env/lib/python3.10/site-packages (from flax>=0.8.5->kheperax) (0.11.10)\n",
      "Requirement already satisfied: tensorstore in /home/btjanaka/Resistance/usc/icaros/projects/pyribs/code/env/lib/python3.10/site-packages (from flax>=0.8.5->kheperax) (0.1.72)\n",
      "Requirement already satisfied: rich>=11.1 in /home/btjanaka/Resistance/usc/icaros/projects/pyribs/code/env/lib/python3.10/site-packages (from flax>=0.8.5->kheperax) (13.9.4)\n",
      "Requirement already satisfied: typing_extensions>=4.2 in /home/btjanaka/Resistance/usc/icaros/projects/pyribs/code/env/lib/python3.10/site-packages (from flax>=0.8.5->kheperax) (4.12.2)\n",
      "Requirement already satisfied: PyYAML>=5.4.1 in /home/btjanaka/Resistance/usc/icaros/projects/pyribs/code/env/lib/python3.10/site-packages (from flax>=0.8.5->kheperax) (6.0.2)\n",
      "Requirement already satisfied: treescope>=0.1.7 in /home/btjanaka/Resistance/usc/icaros/projects/pyribs/code/env/lib/python3.10/site-packages (from flax>=0.8.5->kheperax) (0.1.9)\n",
      "Requirement already satisfied: pillow>=8.3.2 in /home/btjanaka/Resistance/usc/icaros/projects/pyribs/code/env/lib/python3.10/site-packages (from imageio>=2.35.1->kheperax) (10.4.0)\n",
      "Requirement already satisfied: ml_dtypes>=0.4.0 in /home/btjanaka/Resistance/usc/icaros/projects/pyribs/code/env/lib/python3.10/site-packages (from jax>=0.4.28->kheperax) (0.5.1)\n",
      "Requirement already satisfied: opt_einsum in /home/btjanaka/Resistance/usc/icaros/projects/pyribs/code/env/lib/python3.10/site-packages (from jax>=0.4.28->kheperax) (3.4.0)\n",
      "Requirement already satisfied: contourpy>=1.0.1 in /home/btjanaka/Resistance/usc/icaros/projects/pyribs/code/env/lib/python3.10/site-packages (from matplotlib>=3.0.0->ribs[visualize]) (1.3.1)\n",
      "Requirement already satisfied: cycler>=0.10 in /home/btjanaka/Resistance/usc/icaros/projects/pyribs/code/env/lib/python3.10/site-packages (from matplotlib>=3.0.0->ribs[visualize]) (0.12.1)\n",
      "Requirement already satisfied: fonttools>=4.22.0 in /home/btjanaka/Resistance/usc/icaros/projects/pyribs/code/env/lib/python3.10/site-packages (from matplotlib>=3.0.0->ribs[visualize]) (4.56.0)\n",
      "Requirement already satisfied: kiwisolver>=1.3.1 in /home/btjanaka/Resistance/usc/icaros/projects/pyribs/code/env/lib/python3.10/site-packages (from matplotlib>=3.0.0->ribs[visualize]) (1.4.8)\n",
      "Requirement already satisfied: packaging>=20.0 in /home/btjanaka/Resistance/usc/icaros/projects/pyribs/code/env/lib/python3.10/site-packages (from matplotlib>=3.0.0->ribs[visualize]) (24.2)\n",
      "Requirement already satisfied: pyparsing>=2.3.1 in /home/btjanaka/Resistance/usc/icaros/projects/pyribs/code/env/lib/python3.10/site-packages (from matplotlib>=3.0.0->ribs[visualize]) (3.2.3)\n",
      "Requirement already satisfied: python-dateutil>=2.7 in /home/btjanaka/Resistance/usc/icaros/projects/pyribs/code/env/lib/python3.10/site-packages (from matplotlib>=3.0.0->ribs[visualize]) (2.9.0.post0)\n",
      "Requirement already satisfied: llvmlite<0.45,>=0.44.0dev0 in /home/btjanaka/Resistance/usc/icaros/projects/pyribs/code/env/lib/python3.10/site-packages (from numba>=0.51.0->ribs[visualize]) (0.44.0)\n",
      "Requirement already satisfied: pytz>=2020.1 in /home/btjanaka/Resistance/usc/icaros/projects/pyribs/code/env/lib/python3.10/site-packages (from pandas>=1.0.0->ribs[visualize]) (2025.2)\n",
      "Requirement already satisfied: tzdata>=2022.7 in /home/btjanaka/Resistance/usc/icaros/projects/pyribs/code/env/lib/python3.10/site-packages (from pandas>=1.0.0->ribs[visualize]) (2025.2)\n",
      "Requirement already satisfied: absl-py>=1.0.0 in /home/btjanaka/Resistance/usc/icaros/projects/pyribs/code/env/lib/python3.10/site-packages (from qdax>=0.4.0->kheperax) (2.2.1)\n",
      "Requirement already satisfied: brax>=0.10.4 in /home/btjanaka/Resistance/usc/icaros/projects/pyribs/code/env/lib/python3.10/site-packages (from qdax>=0.4.0->kheperax) (0.12.1)\n",
      "Requirement already satisfied: chex>=0.1.86 in /home/btjanaka/Resistance/usc/icaros/projects/pyribs/code/env/lib/python3.10/site-packages (from qdax>=0.4.0->kheperax) (0.1.89)\n",
      "Requirement already satisfied: jinja2>=3.1.4 in /home/btjanaka/Resistance/usc/icaros/projects/pyribs/code/env/lib/python3.10/site-packages (from qdax>=0.4.0->kheperax) (3.1.6)\n",
      "Requirement already satisfied: jumanji>=0.3.1 in /home/btjanaka/Resistance/usc/icaros/projects/pyribs/code/env/lib/python3.10/site-packages (from qdax>=0.4.0->kheperax) (0.3.1)\n",
      "Requirement already satisfied: tensorflow-probability>=0.24.0 in /home/btjanaka/Resistance/usc/icaros/projects/pyribs/code/env/lib/python3.10/site-packages (from qdax>=0.4.0->kheperax) (0.25.0)\n",
      "Requirement already satisfied: joblib>=1.2.0 in /home/btjanaka/Resistance/usc/icaros/projects/pyribs/code/env/lib/python3.10/site-packages (from scikit-learn>=1.1.0->ribs[visualize]) (1.4.2)\n",
      "Requirement already satisfied: dm_env in /home/btjanaka/Resistance/usc/icaros/projects/pyribs/code/env/lib/python3.10/site-packages (from brax>=0.10.4->qdax>=0.4.0->kheperax) (1.6)\n",
      "Requirement already satisfied: etils in /home/btjanaka/Resistance/usc/icaros/projects/pyribs/code/env/lib/python3.10/site-packages (from brax>=0.10.4->qdax>=0.4.0->kheperax) (1.12.2)\n",
      "Requirement already satisfied: flask in /home/btjanaka/Resistance/usc/icaros/projects/pyribs/code/env/lib/python3.10/site-packages (from brax>=0.10.4->qdax>=0.4.0->kheperax) (3.1.0)\n",
      "Requirement already satisfied: flask_cors in /home/btjanaka/Resistance/usc/icaros/projects/pyribs/code/env/lib/python3.10/site-packages (from brax>=0.10.4->qdax>=0.4.0->kheperax) (5.0.1)\n",
      "Requirement already satisfied: grpcio in /home/btjanaka/Resistance/usc/icaros/projects/pyribs/code/env/lib/python3.10/site-packages (from brax>=0.10.4->qdax>=0.4.0->kheperax) (1.71.0)\n",
      "Requirement already satisfied: gym in /home/btjanaka/Resistance/usc/icaros/projects/pyribs/code/env/lib/python3.10/site-packages (from brax>=0.10.4->qdax>=0.4.0->kheperax) (0.26.2)\n",
      "Requirement already satisfied: jaxopt in /home/btjanaka/Resistance/usc/icaros/projects/pyribs/code/env/lib/python3.10/site-packages (from brax>=0.10.4->qdax>=0.4.0->kheperax) (0.8.3)\n",
      "Requirement already satisfied: ml_collections in /home/btjanaka/Resistance/usc/icaros/projects/pyribs/code/env/lib/python3.10/site-packages (from brax>=0.10.4->qdax>=0.4.0->kheperax) (1.0.0)\n",
      "Requirement already satisfied: mujoco in /home/btjanaka/Resistance/usc/icaros/projects/pyribs/code/env/lib/python3.10/site-packages (from brax>=0.10.4->qdax>=0.4.0->kheperax) (3.3.0)\n",
      "Requirement already satisfied: mujoco-mjx in /home/btjanaka/Resistance/usc/icaros/projects/pyribs/code/env/lib/python3.10/site-packages (from brax>=0.10.4->qdax>=0.4.0->kheperax) (3.3.0)\n",
      "Requirement already satisfied: pytinyrenderer in /home/btjanaka/Resistance/usc/icaros/projects/pyribs/code/env/lib/python3.10/site-packages (from brax>=0.10.4->qdax>=0.4.0->kheperax) (0.0.14)\n",
      "Requirement already satisfied: tensorboardX in /home/btjanaka/Resistance/usc/icaros/projects/pyribs/code/env/lib/python3.10/site-packages (from brax>=0.10.4->qdax>=0.4.0->kheperax) (2.6.2.2)\n",
      "Requirement already satisfied: trimesh in /home/btjanaka/Resistance/usc/icaros/projects/pyribs/code/env/lib/python3.10/site-packages (from brax>=0.10.4->qdax>=0.4.0->kheperax) (4.6.5)\n",
      "Requirement already satisfied: toolz>=0.9.0 in /home/btjanaka/Resistance/usc/icaros/projects/pyribs/code/env/lib/python3.10/site-packages (from chex>=0.1.86->qdax>=0.4.0->kheperax) (1.0.0)\n",
      "Requirement already satisfied: MarkupSafe>=2.0 in /home/btjanaka/Resistance/usc/icaros/projects/pyribs/code/env/lib/python3.10/site-packages (from jinja2>=3.1.4->qdax>=0.4.0->kheperax) (3.0.2)\n",
      "Requirement already satisfied: six>=1.5 in /home/btjanaka/Resistance/usc/icaros/projects/pyribs/code/env/lib/python3.10/site-packages (from python-dateutil>=2.7->matplotlib>=3.0.0->ribs[visualize]) (1.17.0)\n",
      "Requirement already satisfied: markdown-it-py>=2.2.0 in /home/btjanaka/Resistance/usc/icaros/projects/pyribs/code/env/lib/python3.10/site-packages (from rich>=11.1->flax>=0.8.5->kheperax) (2.2.0)\n",
      "Requirement already satisfied: pygments<3.0.0,>=2.13.0 in /home/btjanaka/Resistance/usc/icaros/projects/pyribs/code/env/lib/python3.10/site-packages (from rich>=11.1->flax>=0.8.5->kheperax) (2.19.1)\n",
      "Requirement already satisfied: decorator in /home/btjanaka/Resistance/usc/icaros/projects/pyribs/code/env/lib/python3.10/site-packages (from tensorflow-probability>=0.24.0->qdax>=0.4.0->kheperax) (5.2.1)\n",
      "Requirement already satisfied: cloudpickle>=1.3 in /home/btjanaka/Resistance/usc/icaros/projects/pyribs/code/env/lib/python3.10/site-packages (from tensorflow-probability>=0.24.0->qdax>=0.4.0->kheperax) (3.1.1)\n",
      "Requirement already satisfied: gast>=0.3.2 in /home/btjanaka/Resistance/usc/icaros/projects/pyribs/code/env/lib/python3.10/site-packages (from tensorflow-probability>=0.24.0->qdax>=0.4.0->kheperax) (0.6.0)\n",
      "Requirement already satisfied: dm-tree in /home/btjanaka/Resistance/usc/icaros/projects/pyribs/code/env/lib/python3.10/site-packages (from tensorflow-probability>=0.24.0->qdax>=0.4.0->kheperax) (0.1.9)\n",
      "Requirement already satisfied: nest_asyncio in /home/btjanaka/Resistance/usc/icaros/projects/pyribs/code/env/lib/python3.10/site-packages (from orbax-checkpoint->flax>=0.8.5->kheperax) (1.6.0)\n",
      "Requirement already satisfied: protobuf in /home/btjanaka/Resistance/usc/icaros/projects/pyribs/code/env/lib/python3.10/site-packages (from orbax-checkpoint->flax>=0.8.5->kheperax) (6.30.2)\n",
      "Requirement already satisfied: humanize in /home/btjanaka/Resistance/usc/icaros/projects/pyribs/code/env/lib/python3.10/site-packages (from orbax-checkpoint->flax>=0.8.5->kheperax) (4.12.2)\n",
      "Requirement already satisfied: simplejson>=3.16.0 in /home/btjanaka/Resistance/usc/icaros/projects/pyribs/code/env/lib/python3.10/site-packages (from orbax-checkpoint->flax>=0.8.5->kheperax) (3.20.1)\n",
      "Requirement already satisfied: gym_notices>=0.0.4 in /home/btjanaka/Resistance/usc/icaros/projects/pyribs/code/env/lib/python3.10/site-packages (from gym->brax>=0.10.4->qdax>=0.4.0->kheperax) (0.0.8)\n",
      "Requirement already satisfied: mdurl~=0.1 in /home/btjanaka/Resistance/usc/icaros/projects/pyribs/code/env/lib/python3.10/site-packages (from markdown-it-py>=2.2.0->rich>=11.1->flax>=0.8.5->kheperax) (0.1.2)\n",
      "Requirement already satisfied: attrs>=18.2.0 in /home/btjanaka/Resistance/usc/icaros/projects/pyribs/code/env/lib/python3.10/site-packages (from dm-tree->tensorflow-probability>=0.24.0->qdax>=0.4.0->kheperax) (25.3.0)\n",
      "Requirement already satisfied: wrapt>=1.11.2 in /home/btjanaka/Resistance/usc/icaros/projects/pyribs/code/env/lib/python3.10/site-packages (from dm-tree->tensorflow-probability>=0.24.0->qdax>=0.4.0->kheperax) (1.17.2)\n",
      "Requirement already satisfied: fsspec in /home/btjanaka/Resistance/usc/icaros/projects/pyribs/code/env/lib/python3.10/site-packages (from etils[epath,epy]->orbax-checkpoint->flax>=0.8.5->kheperax) (2025.3.0)\n",
      "Requirement already satisfied: importlib_resources in /home/btjanaka/Resistance/usc/icaros/projects/pyribs/code/env/lib/python3.10/site-packages (from etils[epath,epy]->orbax-checkpoint->flax>=0.8.5->kheperax) (6.5.2)\n",
      "Requirement already satisfied: zipp in /home/btjanaka/Resistance/usc/icaros/projects/pyribs/code/env/lib/python3.10/site-packages (from etils[epath,epy]->orbax-checkpoint->flax>=0.8.5->kheperax) (3.21.0)\n",
      "Requirement already satisfied: Werkzeug>=3.1 in /home/btjanaka/Resistance/usc/icaros/projects/pyribs/code/env/lib/python3.10/site-packages (from flask->brax>=0.10.4->qdax>=0.4.0->kheperax) (3.1.3)\n",
      "Requirement already satisfied: itsdangerous>=2.2 in /home/btjanaka/Resistance/usc/icaros/projects/pyribs/code/env/lib/python3.10/site-packages (from flask->brax>=0.10.4->qdax>=0.4.0->kheperax) (2.2.0)\n",
      "Requirement already satisfied: click>=8.1.3 in /home/btjanaka/Resistance/usc/icaros/projects/pyribs/code/env/lib/python3.10/site-packages (from flask->brax>=0.10.4->qdax>=0.4.0->kheperax) (8.1.8)\n",
      "Requirement already satisfied: blinker>=1.9 in /home/btjanaka/Resistance/usc/icaros/projects/pyribs/code/env/lib/python3.10/site-packages (from flask->brax>=0.10.4->qdax>=0.4.0->kheperax) (1.9.0)\n",
      "Requirement already satisfied: glfw in /home/btjanaka/Resistance/usc/icaros/projects/pyribs/code/env/lib/python3.10/site-packages (from mujoco->brax>=0.10.4->qdax>=0.4.0->kheperax) (2.8.0)\n",
      "Requirement already satisfied: pyopengl in /home/btjanaka/Resistance/usc/icaros/projects/pyribs/code/env/lib/python3.10/site-packages (from mujoco->brax>=0.10.4->qdax>=0.4.0->kheperax) (3.1.9)\n",
      "Note: you may need to restart the kernel to use updated packages.\n"
     ]
    }
   ],
   "source": [
    "%pip install ribs[visualize] kheperax tqdm"
   ]
  },
  {
   "cell_type": "code",
   "execution_count": 2,
   "id": "fa90af0b-d7bb-477e-84a6-f384327e9d34",
   "metadata": {},
   "outputs": [],
   "source": [
    "import sys\n",
    "\n",
    "import jax\n",
    "import jax.numpy as jnp\n",
    "import matplotlib.pyplot as plt\n",
    "import numpy as np\n",
    "from jax.flatten_util import ravel_pytree\n",
    "from kheperax.tasks.config import KheperaxConfig\n",
    "from kheperax.tasks.main import KheperaxTask\n",
    "from tqdm import tqdm, trange"
   ]
  },
  {
   "cell_type": "markdown",
   "id": "57368af3-63f3-4872-bde6-c998e5960e9e",
   "metadata": {},
   "source": [
    "## Maze Environments with Kheperax\n",
    "\n",
    "Kheperax is...\n",
    "\n",
    "Accelerated in JAX...\n",
    "\n",
    "For more info on Kheperax..."
   ]
  },
  {
   "cell_type": "markdown",
   "id": "ecf08071-c5eb-4a3f-845c-23c3c6cc23b9",
   "metadata": {},
   "source": [
    "First, we set up JAX's random keys."
   ]
  },
  {
   "cell_type": "code",
   "execution_count": 3,
   "id": "9b8b354c-fd88-410c-8927-d328ad26166c",
   "metadata": {},
   "outputs": [],
   "source": [
    "seed = 42\n",
    "random_key = jax.random.PRNGKey(seed)\n",
    "random_key, subkey = jax.random.split(random_key)"
   ]
  },
  {
   "cell_type": "markdown",
   "id": "60c7ad1c-a8a0-437c-9e09-33b97898f063",
   "metadata": {},
   "source": [
    "Next, we set up the Kheperax task."
   ]
  },
  {
   "cell_type": "code",
   "execution_count": 4,
   "id": "0356cbf4-dc38-431a-8ad0-6021ef69b0ca",
   "metadata": {},
   "outputs": [],
   "source": [
    "# Define Task configuration\n",
    "config_kheperax = KheperaxConfig.get_default()\n",
    "config_kheperax.mlp_policy_hidden_layer_sizes = (8, 8)\n",
    "\n",
    "# Create Kheperax Task.\n",
    "(\n",
    "    env,\n",
    "    policy_network,\n",
    "    scoring_fn,\n",
    ") = KheperaxTask.create_default_task(\n",
    "    config_kheperax,\n",
    "    random_key=subkey,\n",
    ")\n",
    "\n",
    "scoring_fn = jax.jit(scoring_fn)"
   ]
  },
  {
   "cell_type": "markdown",
   "id": "9d2040ba-78d1-43c0-8903-21dafffa9036",
   "metadata": {},
   "source": [
    "The networks in Kheperax are represented as pytrees, while pyribs typically expects 1D parameters. To be compatible with pyribs, we flatten the pytrees into vectors. Here, we pass a single batch of observations through the network in order to set up the `_array_to_pytree_fn` for un-flattening solution parameters, and also to retrieve the `solution_dim`.\n",
    "\n",
    "TODO: edit"
   ]
  },
  {
   "cell_type": "code",
   "execution_count": 5,
   "id": "cd3947e0-230f-44b5-925d-22b1d0440f01",
   "metadata": {},
   "outputs": [
    {
     "name": "stdout",
     "output_type": "stream",
     "text": [
      "solution_dim: 138\n"
     ]
    }
   ],
   "source": [
    "fake_batch = jnp.zeros(shape=(1, env.observation_size))\n",
    "random_key, subkey = jax.random.split(random_key)\n",
    "example_init_parameters = policy_network.init(subkey, fake_batch)\n",
    "flattened_parameters, _array_to_pytree_fn = ravel_pytree(example_init_parameters)\n",
    "solution_dim = len(flattened_parameters)\n",
    "print(\"solution_dim:\", solution_dim)"
   ]
  },
  {
   "cell_type": "markdown",
   "id": "594d50ce-2a12-4ce9-9920-7203848b2b22",
   "metadata": {},
   "source": [
    "We can also retrieve the bounds of the measure space (measures are referred to as behavior\n",
    "descriptors in Kheperax)."
   ]
  },
  {
   "cell_type": "code",
   "execution_count": 6,
   "id": "97a13e58-46e3-4365-a696-d4e248dc15ce",
   "metadata": {},
   "outputs": [
    {
     "name": "stdout",
     "output_type": "stream",
     "text": [
      "bounds: [(0.0, 1.0), (0.0, 1.0)]\n"
     ]
    }
   ],
   "source": [
    "min_bd, max_bd = env.behavior_descriptor_limits\n",
    "bounds = [(min_bd[0], max_bd[0]), (min_bd[1], max_bd[1])]\n",
    "print(\"bounds:\", bounds)"
   ]
  },
  {
   "cell_type": "markdown",
   "id": "47365da7-7364-4e80-9059-9fdd07dfe767",
   "metadata": {},
   "source": [
    "Finally, we define an evaluation function that... TODO"
   ]
  },
  {
   "cell_type": "code",
   "execution_count": 7,
   "id": "e460fa0f-72ba-4a1c-b40c-affd5c6212c5",
   "metadata": {},
   "outputs": [],
   "source": [
    "def evaluate(params, random_key):\n",
    "    params = jnp.asarray(params)\n",
    "    params_pytree = jax.vmap(_array_to_pytree_fn)(params)\n",
    "\n",
    "    random_key, subkey = jax.random.split(random_key)\n",
    "    objectives, measures, info, _ = scoring_fn(params_pytree, subkey)\n",
    "\n",
    "    best_obj = 0.0\n",
    "    worst_obj = -0.5\n",
    "    objectives = (objectives - worst_obj) / (best_obj - worst_obj) * 100\n",
    "\n",
    "    return np.asarray(objectives), np.asarray(measures), info"
   ]
  },
  {
   "cell_type": "markdown",
   "id": "256a9c7a-a20a-4ab2-8376-65ccd640fc83",
   "metadata": {},
   "source": [
    "## Novelty Search in pyribs"
   ]
  },
  {
   "cell_type": "markdown",
   "id": "3d9dfc89-672d-49f8-ac2d-4126451c26df",
   "metadata": {},
   "source": [
    "### ProximityArchive\n",
    "\n",
    "TODO\n",
    "\n",
    "Note proximityarchive does not take in bounds"
   ]
  },
  {
   "cell_type": "code",
   "execution_count": 8,
   "id": "aa4e5b4d",
   "metadata": {
    "id": "aa4e5b4d"
   },
   "outputs": [],
   "source": [
    "from ribs.archives import GridArchive, ProximityArchive\n",
    "\n",
    "archive = ProximityArchive(solution_dim=solution_dim,\n",
    "                           measure_dim=2,\n",
    "                           k_neighbors=15,\n",
    "                           novelty_threshold=0.01)\n",
    "                           # k_neighbors=100,\n",
    "                           # novelty_threshold=0.042)\n",
    "\n",
    "result_archive = GridArchive(solution_dim=solution_dim,\n",
    "                             dims=(100, 100),\n",
    "                             ranges=bounds)"
   ]
  },
  {
   "cell_type": "markdown",
   "id": "1e4d7086-15c2-4c1c-a313-a2b36929ee8e",
   "metadata": {},
   "source": [
    "### Emitters\n",
    "\n",
    "TODO"
   ]
  },
  {
   "cell_type": "code",
   "execution_count": 9,
   "id": "beb8f299",
   "metadata": {
    "id": "beb8f299"
   },
   "outputs": [],
   "source": [
    "from ribs.emitters import EvolutionStrategyEmitter\n",
    "\n",
    "emitters = [\n",
    "    EvolutionStrategyEmitter(\n",
    "        archive,\n",
    "        # Created earlier when we initialized the `_array_to_pytree_fn`.\n",
    "        x0=np.asarray(flattened_parameters),\n",
    "        sigma0=0.5,\n",
    "        ranker=\"nov\",\n",
    "        selection_rule=\"mu\",\n",
    "        restart_rule=\"basic\",\n",
    "        batch_size=30\n",
    "    ) for _ in range(5)\n",
    "]"
   ]
  },
  {
   "cell_type": "markdown",
   "id": "1a1b940d",
   "metadata": {
    "id": "1a1b940d"
   },
   "source": [
    "### Scheduler"
   ]
  },
  {
   "cell_type": "code",
   "execution_count": 10,
   "id": "e5c4f108",
   "metadata": {
    "id": "e5c4f108"
   },
   "outputs": [],
   "source": [
    "from ribs.schedulers import Scheduler\n",
    "\n",
    "scheduler = Scheduler(archive, emitters, result_archive=result_archive)"
   ]
  },
  {
   "cell_type": "markdown",
   "id": "391d7c7a-c9b5-4e46-910a-3ef66940f50d",
   "metadata": {},
   "source": [
    "## Running Novelty Search\n",
    "\n",
    "TODO: Talk about objective -- we need it for GridArchive?"
   ]
  },
  {
   "cell_type": "code",
   "execution_count": 11,
   "id": "9bf03e8d",
   "metadata": {
    "colab": {
     "base_uri": "https://localhost:8080/"
    },
    "id": "9bf03e8d",
    "outputId": "c89a1865-76df-4b27-8225-2afefffa151d"
   },
   "outputs": [
    {
     "name": "stdout",
     "output_type": "stream",
     "text": [
      "Iteration    50 | Archive Size: 2402 Coverage: 10.340%                             \n",
      "Iteration   100 | Archive Size: 3217 Coverage: 13.770%                             \n",
      "Iteration   150 | Archive Size: 3881 Coverage: 16.620%                             \n",
      "Iteration   200 | Archive Size: 4476 Coverage: 18.830%                             \n",
      "Iteration   250 | Archive Size: 5001 Coverage: 20.870%                             \n",
      "Iteration   300 | Archive Size: 5345 Coverage: 22.250%                             \n",
      "Iteration   350 | Archive Size: 5628 Coverage: 23.190%                             \n",
      "Iteration   400 | Archive Size: 5925 Coverage: 24.080%                             \n",
      "Iteration   450 | Archive Size: 6231 Coverage: 25.130%                             \n",
      "Iteration   500 | Archive Size: 6475 Coverage: 25.960%                             \n",
      "Iteration   550 | Archive Size: 6652 Coverage: 26.630%                             \n",
      "Iteration   600 | Archive Size: 6814 Coverage: 27.240%                             \n",
      "Iteration   650 | Archive Size: 6995 Coverage: 28.220%                             \n",
      "Iteration   700 | Archive Size: 7191 Coverage: 28.980%                             \n",
      "Iteration   750 | Archive Size: 7417 Coverage: 29.910%                             \n",
      "Iteration   800 | Archive Size: 7712 Coverage: 31.240%                             \n",
      "Iteration   850 | Archive Size: 8075 Coverage: 32.750%                             \n",
      "Iteration   900 | Archive Size: 8422 Coverage: 34.090%                             \n",
      "Iteration   950 | Archive Size: 8714 Coverage: 35.080%                             \n",
      "Iteration  1000 | Archive Size: 8933 Coverage: 35.930%                             \n",
      "Iteration  1050 | Archive Size: 9361 Coverage: 37.270%                             \n",
      "Iteration  1100 | Archive Size: 9644 Coverage: 38.210%                             \n",
      "Iteration  1150 | Archive Size: 9853 Coverage: 38.810%                             \n",
      "Iteration  1200 | Archive Size: 10069 Coverage: 39.520%                            \n",
      "Iteration  1250 | Archive Size: 10233 Coverage: 40.160%                            \n",
      "Iteration  1300 | Archive Size: 10482 Coverage: 41.570%                            \n",
      "Iteration  1350 | Archive Size: 10652 Coverage: 42.470%                            \n",
      "Iteration  1400 | Archive Size: 10812 Coverage: 43.220%                            \n",
      "Iteration  1450 | Archive Size: 10961 Coverage: 43.740%                            \n",
      "Iteration  1500 | Archive Size: 11115 Coverage: 44.190%                            \n",
      "Iteration  1550 | Archive Size: 11324 Coverage: 45.080%                            \n",
      "Iteration  1600 | Archive Size: 11594 Coverage: 46.190%                            \n",
      "Iteration  1650 | Archive Size: 12132 Coverage: 49.610%                            \n",
      "Iteration  1700 | Archive Size: 12908 Coverage: 54.310%                            \n",
      "Iteration  1750 | Archive Size: 13721 Coverage: 58.300%                            \n",
      "Iteration  1800 | Archive Size: 14452 Coverage: 61.480%                            \n",
      "Iteration  1850 | Archive Size: 15267 Coverage: 64.430%                            \n",
      "Iteration  1900 | Archive Size: 16032 Coverage: 67.120%                            \n",
      "Iteration  1950 | Archive Size: 16600 Coverage: 69.250%                            \n",
      "Iteration  2000 | Archive Size: 17105 Coverage: 70.910%                            \n",
      "Iteration  2050 | Archive Size: 17597 Coverage: 72.380%                            \n",
      "Iteration  2100 | Archive Size: 18097 Coverage: 73.920%                            \n",
      "Iteration  2150 | Archive Size: 18709 Coverage: 76.070%                            \n",
      "Iteration  2200 | Archive Size: 19292 Coverage: 77.750%                            \n",
      "Iteration  2250 | Archive Size: 19785 Coverage: 79.110%                            \n",
      "Iteration  2300 | Archive Size: 20258 Coverage: 80.280%                            \n",
      "Iteration  2350 | Archive Size: 20698 Coverage: 81.300%                            \n",
      "Iteration  2400 | Archive Size: 21025 Coverage: 82.190%                            \n",
      "Iteration  2450 | Archive Size: 21293 Coverage: 82.800%                            \n",
      "Iteration  2500 | Archive Size: 21587 Coverage: 83.430%                            \n",
      "Iterations: 100%|██████████████████████████████| 2500/2500 [16:18<00:00,  2.56it/s]\n"
     ]
    }
   ],
   "source": [
    "total_itrs = 2500\n",
    "\n",
    "for itr in trange(1, total_itrs + 1, file=sys.stdout, desc='Iterations'):\n",
    "    solutions = scheduler.ask()\n",
    "\n",
    "    random_key, subkey = jax.random.split(random_key)\n",
    "    objectives, measures, info = evaluate(solutions, subkey)\n",
    "    \n",
    "    scheduler.tell(objectives, measures)\n",
    "\n",
    "    # Logging.\n",
    "    if itr % 50 == 0 or itr == total_itrs:\n",
    "        tqdm.write(f\"Iteration {itr:5d} | \"\n",
    "                   f\"Archive Size: {archive.stats.num_elites} \"\n",
    "                   f\"Coverage: {result_archive.stats.coverage * 100:6.3f}%\")"
   ]
  },
  {
   "cell_type": "markdown",
   "id": "17207b65",
   "metadata": {
    "id": "17207b65"
   },
   "source": [
    "## Visualization"
   ]
  },
  {
   "cell_type": "code",
   "execution_count": 12,
   "id": "3d03f124-0073-4f6c-9401-454b0b00afdf",
   "metadata": {},
   "outputs": [
    {
     "data": {
      "image/png": "[encoded data removed]",
      "text/plain": [
       "<Figure size 800x600 with 2 Axes>"
      ]
     },
     "metadata": {},
     "output_type": "display_data"
    }
   ],
   "source": [
    "from ribs.visualize import grid_archive_heatmap\n",
    "\n",
    "plt.figure(figsize=(8, 6))\n",
    "grid_archive_heatmap(result_archive, vmin=0, vmax=100)"
   ]
  },
  {
   "cell_type": "markdown",
   "id": "b31610ae-18aa-430b-bc9d-ca9d75f216b0",
   "metadata": {},
   "source": [
    "## Citation\n",
    "\n",
    "If you find this tutorial useful, please cite it as:\n",
    "\n",
    "```text\n",
    "@article{pyribs_dds,\n",
    "  title   = {Scaling CMA-MAE on the Sphere Benchmark},\n",
    "  author  = {Bryon Tjanaka},\n",
    "  journal = {pyribs.org},\n",
    "  year    = {2023},\n",
    "  url     = {https://docs.pyribs.org/en/stable/tutorials/cma_mae.html}\n",
    "}\n",
    "```"
   ]
  }
 ],
 "metadata": {
  "colab": {
   "provenance": []
  },
  "kernelspec": {
   "display_name": "Python 3 (ipykernel)",
   "language": "python",
   "name": "python3"
  },
  "language_info": {
   "codemirror_mode": {
    "name": "ipython",
    "version": 3
   },
   "file_extension": ".py",
   "mimetype": "text/x-python",
   "name": "python",
   "nbconvert_exporter": "python",
   "pygments_lexer": "ipython3",
   "version": "3.10.16"
  }
 },
 "nbformat": 4,
 "nbformat_minor": 5
}
