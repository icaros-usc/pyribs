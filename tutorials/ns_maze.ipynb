{
 "cells": [
  {
   "cell_type": "markdown",
   "id": "eace5ee0-82ec-459a-80e8-faa2c7030f73",
   "metadata": {
    "tags": []
   },
   "source": [
    "# Exploring Deceptive Mazes with Novelty Search\n",
    "\n",
    "_This tutorial is part of the series of pyribs tutorials! See [here](https://docs.pyribs.org/en/latest/tutorials.html) for the list of all tutorials and the order in which they should be read._\n",
    "\n",
    "Consider a robot that needs to solve the maze below. To solve this problem, we need to train a robot _policy_ that enables the robot to move from the starting position (red dot) to the goal position (green star).\n",
    "\n",
    "![Maze](_static/maze.svg)\n",
    "\n",
    "At first glance, a reasonable approach seems to be to _optimize an objective_, i.e., to minimize the Euclidean distance between the robot's current position and the goal position. However, this maze is _deceptive_, in that minimizing the Euclidean distance will cause the robot to get stuck behind a wall that is close to the goal, as shown below.\n",
    "\n",
    "![The maze with a robot stuck due to following Euclidean distance.](_static/maze-stuck.svg)\n",
    "\n",
    "In fact, in order to solve the maze, the robot actually has to defy the objective! Namely, it has to _increase_ its Euclidean distance from the goal position by going around the walls, as shown below.\n",
    "\n",
    "![The maze with a robot properly solving it.](_static/maze-solved.svg)\n",
    "\n",
    "This insight forms the basis for Novelty Search (NS), introduced in [Lehman 2011](https://web.archive.org/web/20220707041732/https://eplex.cs.ucf.edu/papers/lehman_ecj11.pdf). In short, NS ignores the objective completely and instead seeks to discover a diverse set of solutions. For example, in the maze below, NS could search for individual robot policies that reach every possible $(x, y)$ position in the maze:\n",
    "\n",
    "![The maze with many robot policies scattered throughout it.](_static/maze-all.svg)\n",
    "\n",
    "Ultimately, the result is two-fold: First, without considering the objective, NS solves the maze! Second, by seeking diversity, a single run of NS has created policies that go to every position in the maze, rather than just one position. In this tutorial, we will show how to achieve these results by providing an overview of NS and implementing it in pyribs."
   ]
  },
  {
   "cell_type": "markdown",
   "id": "4e35386c",
   "metadata": {
    "id": "4e35386c",
    "tags": []
   },
   "source": [
    "## Setup"
   ]
  },
  {
   "cell_type": "code",
   "execution_count": null,
   "id": "9562ca7d-0e1a-4916-86b0-67b8254a79c7",
   "metadata": {},
   "outputs": [],
   "source": [
    "# `jax<0.6.0` since Kheperax depends on a jax function that is deprecated in 0.6.0.\n",
    "%pip install ribs[visualize] kheperax \"jax[cuda12]<0.6.0\" tqdm"
   ]
  },
  {
   "cell_type": "code",
   "execution_count": 2,
   "id": "fa90af0b-d7bb-477e-84a6-f384327e9d34",
   "metadata": {},
   "outputs": [],
   "source": [
    "import sys\n",
    "\n",
    "import jax\n",
    "import jax.numpy as jnp\n",
    "import matplotlib.pyplot as plt\n",
    "import numpy as np\n",
    "from jax.flatten_util import ravel_pytree\n",
    "from kheperax.tasks.config import KheperaxConfig\n",
    "from kheperax.tasks.main import KheperaxTask\n",
    "from tqdm import tqdm, trange"
   ]
  },
  {
   "cell_type": "markdown",
   "id": "57368af3-63f3-4872-bde6-c998e5960e9e",
   "metadata": {},
   "source": [
    "## Maze Environment with Kheperax\n",
    "\n",
    "We begin by setting up the maze environment in [Kheperax](https://github.com/adaptive-intelligent-robotics/Kheperax/tree/main). Kheperax is a\n",
    "\n",
    "TODO: Elaborate on the robot in the maze.\n",
    "\n",
    "<img alt=\"Kheperax robot with sensors\" width=\"40%\" src=\"https://raw.githubusercontent.com/adaptive-intelligent-robotics/Kheperax/main/img/gif/target_policy_standard.gif\" />\n",
    "\n",
    "Kheperax is...\n",
    "\n",
    "Accelerated in JAX...\n",
    "\n",
    "For more info on Kheperax..."
   ]
  },
  {
   "cell_type": "markdown",
   "id": "ecf08071-c5eb-4a3f-845c-23c3c6cc23b9",
   "metadata": {},
   "source": [
    "First, we set up JAX's random keys."
   ]
  },
  {
   "cell_type": "code",
   "execution_count": 3,
   "id": "9b8b354c-fd88-410c-8927-d328ad26166c",
   "metadata": {},
   "outputs": [],
   "source": [
    "seed = 42\n",
    "random_key = jax.random.PRNGKey(seed)\n",
    "random_key, subkey = jax.random.split(random_key)"
   ]
  },
  {
   "cell_type": "markdown",
   "id": "60c7ad1c-a8a0-437c-9e09-33b97898f063",
   "metadata": {},
   "source": [
    "Next, we set up the Kheperax task."
   ]
  },
  {
   "cell_type": "code",
   "execution_count": 4,
   "id": "0356cbf4-dc38-431a-8ad0-6021ef69b0ca",
   "metadata": {},
   "outputs": [],
   "source": [
    "# Define Task configuration\n",
    "config_kheperax = KheperaxConfig.get_default()\n",
    "config_kheperax.mlp_policy_hidden_layer_sizes = (8, 8)\n",
    "\n",
    "# Create Kheperax Task.\n",
    "(\n",
    "    env,\n",
    "    policy_network,\n",
    "    scoring_fn,\n",
    ") = KheperaxTask.create_default_task(\n",
    "    config_kheperax,\n",
    "    random_key=subkey,\n",
    ")\n",
    "\n",
    "scoring_fn = jax.jit(scoring_fn)"
   ]
  },
  {
   "cell_type": "markdown",
   "id": "9d2040ba-78d1-43c0-8903-21dafffa9036",
   "metadata": {},
   "source": [
    "The networks in Kheperax are represented as pytrees, while pyribs typically expects 1D parameters. To be compatible with pyribs, we flatten the pytrees into vectors. Here, we pass a single batch of observations through the network in order to set up the `_array_to_pytree_fn` for un-flattening solution parameters, and also to retrieve the `solution_dim`.\n",
    "\n",
    "TODO: edit"
   ]
  },
  {
   "cell_type": "code",
   "execution_count": 5,
   "id": "cd3947e0-230f-44b5-925d-22b1d0440f01",
   "metadata": {},
   "outputs": [
    {
     "name": "stdout",
     "output_type": "stream",
     "text": [
      "solution_dim: 138\n"
     ]
    }
   ],
   "source": [
    "fake_batch = jnp.zeros(shape=(1, env.observation_size))\n",
    "random_key, subkey = jax.random.split(random_key)\n",
    "example_init_parameters = policy_network.init(subkey, fake_batch)\n",
    "flattened_parameters, _array_to_pytree_fn = ravel_pytree(example_init_parameters)\n",
    "solution_dim = len(flattened_parameters)\n",
    "print(\"solution_dim:\", solution_dim)"
   ]
  },
  {
   "cell_type": "markdown",
   "id": "594d50ce-2a12-4ce9-9920-7203848b2b22",
   "metadata": {},
   "source": [
    "We can also retrieve the bounds of the measure space (measures are referred to as behavior\n",
    "descriptors in Kheperax)."
   ]
  },
  {
   "cell_type": "code",
   "execution_count": 6,
   "id": "97a13e58-46e3-4365-a696-d4e248dc15ce",
   "metadata": {},
   "outputs": [
    {
     "name": "stdout",
     "output_type": "stream",
     "text": [
      "bounds: [(0.0, 1.0), (0.0, 1.0)]\n"
     ]
    }
   ],
   "source": [
    "min_bd, max_bd = env.behavior_descriptor_limits\n",
    "bounds = [(min_bd[0], max_bd[0]), (min_bd[1], max_bd[1])]\n",
    "print(\"bounds:\", bounds)"
   ]
  },
  {
   "cell_type": "markdown",
   "id": "47365da7-7364-4e80-9059-9fdd07dfe767",
   "metadata": {},
   "source": [
    "Finally, we define an evaluation function that... TODO"
   ]
  },
  {
   "cell_type": "code",
   "execution_count": 7,
   "id": "e460fa0f-72ba-4a1c-b40c-affd5c6212c5",
   "metadata": {},
   "outputs": [],
   "source": [
    "def evaluate(params, random_key):\n",
    "    params = jnp.asarray(params)\n",
    "    params_pytree = jax.vmap(_array_to_pytree_fn)(params)\n",
    "\n",
    "    random_key, subkey = jax.random.split(random_key)\n",
    "    objectives, measures, info, _ = scoring_fn(params_pytree, subkey)\n",
    "\n",
    "    best_obj = 0.0\n",
    "    worst_obj = -0.5\n",
    "    objectives = (objectives - worst_obj) / (best_obj - worst_obj) * 100\n",
    "\n",
    "    return np.asarray(objectives), np.asarray(measures), info"
   ]
  },
  {
   "cell_type": "markdown",
   "id": "256a9c7a-a20a-4ab2-8376-65ccd640fc83",
   "metadata": {},
   "source": [
    "## Novelty Search in pyribs\n",
    "\n",
    "TODO: talk about how novelty search is a precursor to QD and does not consider objective\n",
    "TODO: mention NS equation"
   ]
  },
  {
   "cell_type": "markdown",
   "id": "3d9dfc89-672d-49f8-ac2d-4126451c26df",
   "metadata": {},
   "source": [
    "### ProximityArchive\n",
    "\n",
    "TODO\n",
    "\n",
    "Note proximityarchive does not take in bounds"
   ]
  },
  {
   "cell_type": "code",
   "execution_count": 8,
   "id": "aa4e5b4d",
   "metadata": {
    "id": "aa4e5b4d"
   },
   "outputs": [],
   "source": [
    "from ribs.archives import GridArchive, ProximityArchive\n",
    "\n",
    "archive = ProximityArchive(solution_dim=solution_dim,\n",
    "                           measure_dim=2,\n",
    "                           k_neighbors=15,\n",
    "                           novelty_threshold=0.01)\n",
    "                           # k_neighbors=100,\n",
    "                           # novelty_threshold=0.042)\n",
    "\n",
    "result_archive = GridArchive(solution_dim=solution_dim,\n",
    "                             dims=(100, 100),\n",
    "                             ranges=bounds)"
   ]
  },
  {
   "cell_type": "markdown",
   "id": "1e4d7086-15c2-4c1c-a313-a2b36929ee8e",
   "metadata": {},
   "source": [
    "### Emitters\n",
    "\n",
    "TODO"
   ]
  },
  {
   "cell_type": "code",
   "execution_count": 9,
   "id": "beb8f299",
   "metadata": {
    "id": "beb8f299"
   },
   "outputs": [],
   "source": [
    "from ribs.emitters import EvolutionStrategyEmitter\n",
    "\n",
    "emitters = [\n",
    "    EvolutionStrategyEmitter(\n",
    "        archive,\n",
    "        # Created earlier when we initialized the `_array_to_pytree_fn`.\n",
    "        x0=np.asarray(flattened_parameters),\n",
    "        sigma0=0.5,\n",
    "        ranker=\"nov\",\n",
    "        selection_rule=\"mu\",\n",
    "        restart_rule=\"basic\",\n",
    "        batch_size=30\n",
    "    ) for _ in range(5)\n",
    "]"
   ]
  },
  {
   "cell_type": "markdown",
   "id": "1a1b940d",
   "metadata": {
    "id": "1a1b940d"
   },
   "source": [
    "### Scheduler"
   ]
  },
  {
   "cell_type": "code",
   "execution_count": 10,
   "id": "e5c4f108",
   "metadata": {
    "id": "e5c4f108"
   },
   "outputs": [],
   "source": [
    "from ribs.schedulers import Scheduler\n",
    "\n",
    "scheduler = Scheduler(archive, emitters, result_archive=result_archive)"
   ]
  },
  {
   "cell_type": "markdown",
   "id": "391d7c7a-c9b5-4e46-910a-3ef66940f50d",
   "metadata": {},
   "source": [
    "## Running Novelty Search\n",
    "\n",
    "TODO: Talk about objective -- we need it for GridArchive?"
   ]
  },
  {
   "cell_type": "code",
   "execution_count": 11,
   "id": "9bf03e8d",
   "metadata": {
    "colab": {
     "base_uri": "https://localhost:8080/"
    },
    "id": "9bf03e8d",
    "outputId": "c89a1865-76df-4b27-8225-2afefffa151d"
   },
   "outputs": [
    {
     "name": "stdout",
     "output_type": "stream",
     "text": [
      "Iteration    50 | Archive Size: 2402 Coverage: 10.340%                             \n",
      "Iteration   100 | Archive Size: 3217 Coverage: 13.770%                             \n",
      "Iteration   150 | Archive Size: 3881 Coverage: 16.620%                             \n",
      "Iteration   200 | Archive Size: 4476 Coverage: 18.830%                             \n",
      "Iteration   250 | Archive Size: 5001 Coverage: 20.870%                             \n",
      "Iteration   300 | Archive Size: 5345 Coverage: 22.250%                             \n",
      "Iteration   350 | Archive Size: 5628 Coverage: 23.190%                             \n",
      "Iteration   400 | Archive Size: 5925 Coverage: 24.080%                             \n",
      "Iteration   450 | Archive Size: 6231 Coverage: 25.130%                             \n",
      "Iteration   500 | Archive Size: 6475 Coverage: 25.960%                             \n",
      "Iteration   550 | Archive Size: 6652 Coverage: 26.630%                             \n",
      "Iteration   600 | Archive Size: 6814 Coverage: 27.240%                             \n",
      "Iteration   650 | Archive Size: 6995 Coverage: 28.220%                             \n",
      "Iteration   700 | Archive Size: 7191 Coverage: 28.980%                             \n",
      "Iteration   750 | Archive Size: 7417 Coverage: 29.910%                             \n",
      "Iteration   800 | Archive Size: 7712 Coverage: 31.240%                             \n",
      "Iteration   850 | Archive Size: 8075 Coverage: 32.750%                             \n",
      "Iteration   900 | Archive Size: 8422 Coverage: 34.090%                             \n",
      "Iteration   950 | Archive Size: 8714 Coverage: 35.080%                             \n",
      "Iteration  1000 | Archive Size: 8933 Coverage: 35.930%                             \n",
      "Iteration  1050 | Archive Size: 9361 Coverage: 37.270%                             \n",
      "Iteration  1100 | Archive Size: 9644 Coverage: 38.210%                             \n",
      "Iteration  1150 | Archive Size: 9853 Coverage: 38.810%                             \n",
      "Iteration  1200 | Archive Size: 10069 Coverage: 39.520%                            \n",
      "Iteration  1250 | Archive Size: 10233 Coverage: 40.160%                            \n",
      "Iteration  1300 | Archive Size: 10482 Coverage: 41.570%                            \n",
      "Iteration  1350 | Archive Size: 10652 Coverage: 42.470%                            \n",
      "Iteration  1400 | Archive Size: 10812 Coverage: 43.220%                            \n",
      "Iteration  1450 | Archive Size: 10961 Coverage: 43.740%                            \n",
      "Iteration  1500 | Archive Size: 11115 Coverage: 44.190%                            \n",
      "Iteration  1550 | Archive Size: 11324 Coverage: 45.080%                            \n",
      "Iteration  1600 | Archive Size: 11594 Coverage: 46.190%                            \n",
      "Iteration  1650 | Archive Size: 12132 Coverage: 49.610%                            \n",
      "Iteration  1700 | Archive Size: 12908 Coverage: 54.310%                            \n",
      "Iteration  1750 | Archive Size: 13721 Coverage: 58.300%                            \n",
      "Iteration  1800 | Archive Size: 14452 Coverage: 61.480%                            \n",
      "Iteration  1850 | Archive Size: 15267 Coverage: 64.430%                            \n",
      "Iteration  1900 | Archive Size: 16032 Coverage: 67.120%                            \n",
      "Iteration  1950 | Archive Size: 16600 Coverage: 69.250%                            \n",
      "Iteration  2000 | Archive Size: 17105 Coverage: 70.910%                            \n",
      "Iteration  2050 | Archive Size: 17597 Coverage: 72.380%                            \n",
      "Iteration  2100 | Archive Size: 18097 Coverage: 73.920%                            \n",
      "Iteration  2150 | Archive Size: 18709 Coverage: 76.070%                            \n",
      "Iteration  2200 | Archive Size: 19292 Coverage: 77.750%                            \n",
      "Iteration  2250 | Archive Size: 19785 Coverage: 79.110%                            \n",
      "Iteration  2300 | Archive Size: 20258 Coverage: 80.280%                            \n",
      "Iteration  2350 | Archive Size: 20698 Coverage: 81.300%                            \n",
      "Iteration  2400 | Archive Size: 21025 Coverage: 82.190%                            \n",
      "Iteration  2450 | Archive Size: 21293 Coverage: 82.800%                            \n",
      "Iteration  2500 | Archive Size: 21587 Coverage: 83.430%                            \n",
      "Iterations: 100%|██████████████████████████████| 2500/2500 [16:18<00:00,  2.56it/s]\n"
     ]
    }
   ],
   "source": [
    "total_itrs = 2500\n",
    "\n",
    "for itr in trange(1, total_itrs + 1, file=sys.stdout, desc='Iterations'):\n",
    "    solutions = scheduler.ask()\n",
    "\n",
    "    random_key, subkey = jax.random.split(random_key)\n",
    "    objectives, measures, info = evaluate(solutions, subkey)\n",
    "    \n",
    "    scheduler.tell(objectives, measures)\n",
    "\n",
    "    # Logging.\n",
    "    if itr % 50 == 0 or itr == total_itrs:\n",
    "        tqdm.write(f\"Iteration {itr:5d} | \"\n",
    "                   f\"Archive Size: {archive.stats.num_elites} \"\n",
    "                   f\"Coverage: {result_archive.stats.coverage * 100:6.3f}%\")"
   ]
  },
  {
   "cell_type": "markdown",
   "id": "17207b65",
   "metadata": {
    "id": "17207b65"
   },
   "source": [
    "## Visualization"
   ]
  },
  {
   "cell_type": "code",
   "execution_count": 25,
   "id": "3d03f124-0073-4f6c-9401-454b0b00afdf",
   "metadata": {},
   "outputs": [
    {
     "data": {
      "image/png": "[encoded data removed]",
      "text/plain": [
       "<Figure size 800x600 with 1 Axes>"
      ]
     },
     "metadata": {},
     "output_type": "display_data"
    }
   ],
   "source": [
    "from ribs.visualize import grid_archive_heatmap\n",
    "\n",
    "# TODO: Show objective version too.\n",
    "plt.figure(figsize=(8, 6))\n",
    "grid_archive_heatmap(\n",
    "    result_archive,\n",
    "    cmap=[\"#7e57c2\"],\n",
    "    vmin=0,\n",
    "    vmax=100,\n",
    "    cbar=None,\n",
    "    aspect=\"equal\",\n",
    ")"
   ]
  },
  {
   "cell_type": "markdown",
   "id": "b31610ae-18aa-430b-bc9d-ca9d75f216b0",
   "metadata": {},
   "source": [
    "## Citation\n",
    "\n",
    "If you find this tutorial useful, please cite it as:\n",
    "\n",
    "```text\n",
    "@article{pyribs_ns_maze,\n",
    "  title   = {Exploring Deceptive Mazes with Novelty Search},\n",
    "  author  = {Bryon Tjanaka},\n",
    "  journal = {pyribs.org},\n",
    "  year    = {2025},\n",
    "  url     = {https://docs.pyribs.org/en/stable/tutorials/ns_maze.html}\n",
    "}\n",
    "```"
   ]
  }
 ],
 "metadata": {
  "colab": {
   "provenance": []
  },
  "kernelspec": {
   "display_name": "Python 3 (ipykernel)",
   "language": "python",
   "name": "python3"
  },
  "language_info": {
   "codemirror_mode": {
    "name": "ipython",
    "version": 3
   },
   "file_extension": ".py",
   "mimetype": "text/x-python",
   "name": "python",
   "nbconvert_exporter": "python",
   "pygments_lexer": "ipython3",
   "version": "3.10.16"
  }
 },
 "nbformat": 4,
 "nbformat_minor": 5
}
