{
 "cells": [
  {
   "cell_type": "markdown",
   "id": "eace5ee0-82ec-459a-80e8-faa2c7030f73",
   "metadata": {
    "tags": []
   },
   "source": [
    "# Exploring Mazes with Novelty Search\n",
    "\n",
    "_This tutorial is part of the series of pyribs tutorials! See [here](https://docs.pyribs.org/en/latest/tutorials.html) for the list of all tutorials and the order in which they should be read._\n",
    "\n",
    "TODO: background on mazes"
   ]
  },
  {
   "cell_type": "markdown",
   "id": "4e35386c",
   "metadata": {
    "id": "4e35386c",
    "tags": []
   },
   "source": [
    "## Setup"
   ]
  },
  {
   "cell_type": "code",
   "execution_count": null,
   "id": "9562ca7d-0e1a-4916-86b0-67b8254a79c7",
   "metadata": {},
   "outputs": [],
   "source": [
    "%pip install ribs[visualize] kheperax tqdm"
   ]
  },
  {
   "cell_type": "code",
   "execution_count": 2,
   "id": "fa90af0b-d7bb-477e-84a6-f384327e9d34",
   "metadata": {},
   "outputs": [],
   "source": [
    "import sys\n",
    "\n",
    "import jax\n",
    "import jax.numpy as jnp\n",
    "import matplotlib.pyplot as plt\n",
    "import numpy as np\n",
    "from jax.flatten_util import ravel_pytree\n",
    "from kheperax.tasks.config import KheperaxConfig\n",
    "from kheperax.tasks.main import KheperaxTask\n",
    "from tqdm import tqdm, trange"
   ]
  },
  {
   "cell_type": "markdown",
   "id": "57368af3-63f3-4872-bde6-c998e5960e9e",
   "metadata": {},
   "source": [
    "## Maze Environments with Kheperax\n",
    "\n",
    "Kheperax is...\n",
    "\n",
    "Accelerated in JAX...\n",
    "\n",
    "For more info on Kheperax..."
   ]
  },
  {
   "cell_type": "markdown",
   "id": "ecf08071-c5eb-4a3f-845c-23c3c6cc23b9",
   "metadata": {},
   "source": [
    "First, we set up JAX's random keys."
   ]
  },
  {
   "cell_type": "code",
   "execution_count": 3,
   "id": "9b8b354c-fd88-410c-8927-d328ad26166c",
   "metadata": {},
   "outputs": [],
   "source": [
    "seed = 42\n",
    "random_key = jax.random.PRNGKey(seed)\n",
    "random_key, subkey = jax.random.split(random_key)"
   ]
  },
  {
   "cell_type": "markdown",
   "id": "60c7ad1c-a8a0-437c-9e09-33b97898f063",
   "metadata": {},
   "source": [
    "Next, we set up the Kheperax task."
   ]
  },
  {
   "cell_type": "code",
   "execution_count": 4,
   "id": "0356cbf4-dc38-431a-8ad0-6021ef69b0ca",
   "metadata": {},
   "outputs": [],
   "source": [
    "# Define Task configuration\n",
    "config_kheperax = KheperaxConfig.get_default()\n",
    "config_kheperax.mlp_policy_hidden_layer_sizes = (8, 8)\n",
    "\n",
    "# Create Kheperax Task.\n",
    "(\n",
    "    env,\n",
    "    policy_network,\n",
    "    scoring_fn,\n",
    ") = KheperaxTask.create_default_task(\n",
    "    config_kheperax,\n",
    "    random_key=subkey,\n",
    ")\n",
    "\n",
    "scoring_fn = jax.jit(scoring_fn)"
   ]
  },
  {
   "cell_type": "markdown",
   "id": "9d2040ba-78d1-43c0-8903-21dafffa9036",
   "metadata": {},
   "source": [
    "The networks in Kheperax are represented as pytrees, while pyribs typically expects 1D parameters. To be compatible with pyribs, we flatten the pytrees into vectors. Here, we pass a single batch of observations through the network in order to set up the `_array_to_pytree_fn` for un-flattening solution parameters, and also to retrieve the `solution_dim`.\n",
    "\n",
    "TODO: edit"
   ]
  },
  {
   "cell_type": "code",
   "execution_count": 5,
   "id": "cd3947e0-230f-44b5-925d-22b1d0440f01",
   "metadata": {},
   "outputs": [
    {
     "name": "stdout",
     "output_type": "stream",
     "text": [
      "solution_dim: 138\n"
     ]
    }
   ],
   "source": [
    "fake_batch = jnp.zeros(shape=(1, env.observation_size))\n",
    "random_key, subkey = jax.random.split(random_key)\n",
    "example_init_parameters = policy_network.init(subkey, fake_batch)\n",
    "flattened_parameters, _array_to_pytree_fn = ravel_pytree(example_init_parameters)\n",
    "solution_dim = len(flattened_parameters)\n",
    "print(\"solution_dim:\", solution_dim)"
   ]
  },
  {
   "cell_type": "markdown",
   "id": "594d50ce-2a12-4ce9-9920-7203848b2b22",
   "metadata": {},
   "source": [
    "We can also retrieve the bounds of the measure space (measures are referred to as behavior\n",
    "descriptors in Kheperax)."
   ]
  },
  {
   "cell_type": "code",
   "execution_count": 6,
   "id": "97a13e58-46e3-4365-a696-d4e248dc15ce",
   "metadata": {},
   "outputs": [
    {
     "name": "stdout",
     "output_type": "stream",
     "text": [
      "bounds: [(0.0, 1.0), (0.0, 1.0)]\n"
     ]
    }
   ],
   "source": [
    "min_bd, max_bd = env.behavior_descriptor_limits\n",
    "bounds = [(min_bd[0], max_bd[0]), (min_bd[1], max_bd[1])]\n",
    "print(\"bounds:\", bounds)"
   ]
  },
  {
   "cell_type": "markdown",
   "id": "47365da7-7364-4e80-9059-9fdd07dfe767",
   "metadata": {},
   "source": [
    "Finally, we define an evaluation function that... TODO"
   ]
  },
  {
   "cell_type": "code",
   "execution_count": 7,
   "id": "e460fa0f-72ba-4a1c-b40c-affd5c6212c5",
   "metadata": {},
   "outputs": [],
   "source": [
    "def evaluate(params, random_key):\n",
    "    params = jnp.asarray(params)\n",
    "    params_pytree = jax.vmap(_array_to_pytree_fn)(params)\n",
    "\n",
    "    random_key, subkey = jax.random.split(random_key)\n",
    "    objectives, measures, info, _ = scoring_fn(params_pytree, subkey)\n",
    "\n",
    "    best_obj = 0.0\n",
    "    worst_obj = -0.5\n",
    "    objectives = (objectives - worst_obj) / (best_obj - worst_obj) * 100\n",
    "\n",
    "    return np.asarray(objectives), np.asarray(measures), info"
   ]
  },
  {
   "cell_type": "markdown",
   "id": "256a9c7a-a20a-4ab2-8376-65ccd640fc83",
   "metadata": {},
   "source": [
    "## Novelty Search in pyribs"
   ]
  },
  {
   "cell_type": "markdown",
   "id": "3d9dfc89-672d-49f8-ac2d-4126451c26df",
   "metadata": {},
   "source": [
    "### ProximityArchive\n",
    "\n",
    "TODO\n",
    "\n",
    "Note proximityarchive does not take in bounds"
   ]
  },
  {
   "cell_type": "code",
   "execution_count": 8,
   "id": "aa4e5b4d",
   "metadata": {
    "id": "aa4e5b4d"
   },
   "outputs": [],
   "source": [
    "from ribs.archives import GridArchive, ProximityArchive\n",
    "\n",
    "archive = ProximityArchive(solution_dim=solution_dim,\n",
    "                           measure_dim=2,\n",
    "                           k_neighbors=15,\n",
    "                           novelty_threshold=0.042)\n",
    "\n",
    "result_archive = GridArchive(solution_dim=solution_dim,\n",
    "                             dims=(100, 100),\n",
    "                             ranges=bounds)"
   ]
  },
  {
   "cell_type": "markdown",
   "id": "1e4d7086-15c2-4c1c-a313-a2b36929ee8e",
   "metadata": {},
   "source": [
    "### Emitters\n",
    "\n",
    "TODO"
   ]
  },
  {
   "cell_type": "code",
   "execution_count": 9,
   "id": "beb8f299",
   "metadata": {
    "id": "beb8f299"
   },
   "outputs": [],
   "source": [
    "from ribs.emitters import EvolutionStrategyEmitter\n",
    "\n",
    "emitters = [\n",
    "    EvolutionStrategyEmitter(\n",
    "        archive,\n",
    "        # Created earlier when we initialized the `_array_to_pytree_fn`.\n",
    "        x0=np.asarray(flattened_parameters),\n",
    "        sigma0=0.5,\n",
    "        ranker=\"nov\",\n",
    "        selection_rule=\"mu\",\n",
    "        restart_rule=\"basic\",\n",
    "        batch_size=30\n",
    "    ) for _ in range(5)\n",
    "]"
   ]
  },
  {
   "cell_type": "markdown",
   "id": "1a1b940d",
   "metadata": {
    "id": "1a1b940d"
   },
   "source": [
    "### Scheduler"
   ]
  },
  {
   "cell_type": "code",
   "execution_count": 10,
   "id": "e5c4f108",
   "metadata": {
    "id": "e5c4f108"
   },
   "outputs": [],
   "source": [
    "from ribs.schedulers import Scheduler\n",
    "\n",
    "scheduler = Scheduler(archive, emitters, result_archive=result_archive)"
   ]
  },
  {
   "cell_type": "markdown",
   "id": "391d7c7a-c9b5-4e46-910a-3ef66940f50d",
   "metadata": {},
   "source": [
    "## Running Novelty Search\n",
    "\n",
    "TODO: Talk about objective -- we need it for GridArchive?"
   ]
  },
  {
   "cell_type": "code",
   "execution_count": 11,
   "id": "9bf03e8d",
   "metadata": {
    "colab": {
     "base_uri": "https://localhost:8080/"
    },
    "id": "9bf03e8d",
    "outputId": "c89a1865-76df-4b27-8225-2afefffa151d"
   },
   "outputs": [
    {
     "name": "stdout",
     "output_type": "stream",
     "text": [
      "Iteration    50 | Archive Coverage: 10.030%                                        \n",
      "Iteration   100 | Archive Coverage: 13.520%                                        \n",
      "Iteration   150 | Archive Coverage: 16.560%                                        \n",
      "Iteration   200 | Archive Coverage: 18.960%                                        \n",
      "Iteration   250 | Archive Coverage: 20.650%                                        \n",
      "Iteration   300 | Archive Coverage: 21.800%                                        \n",
      "Iteration   350 | Archive Coverage: 22.630%                                        \n",
      "Iteration   400 | Archive Coverage: 23.330%                                        \n",
      "Iteration   450 | Archive Coverage: 23.940%                                        \n",
      "Iteration   500 | Archive Coverage: 24.600%                                        \n",
      "Iteration   550 | Archive Coverage: 25.110%                                        \n",
      "Iteration   600 | Archive Coverage: 25.490%                                        \n",
      "Iteration   650 | Archive Coverage: 25.760%                                        \n",
      "Iteration   700 | Archive Coverage: 26.080%                                        \n",
      "Iteration   750 | Archive Coverage: 26.310%                                        \n",
      "Iteration   800 | Archive Coverage: 26.550%                                        \n",
      "Iteration   850 | Archive Coverage: 26.790%                                        \n",
      "Iteration   900 | Archive Coverage: 27.030%                                        \n",
      "Iteration   950 | Archive Coverage: 27.230%                                        \n",
      "Iteration  1000 | Archive Coverage: 27.300%                                        \n",
      "Iteration  1050 | Archive Coverage: 27.390%                                        \n",
      "Iteration  1100 | Archive Coverage: 27.520%                                        \n",
      "Iteration  1150 | Archive Coverage: 27.600%                                        \n",
      "Iteration  1200 | Archive Coverage: 27.680%                                        \n",
      "Iteration  1250 | Archive Coverage: 27.700%                                        \n",
      "Iteration  1300 | Archive Coverage: 27.720%                                        \n",
      "Iteration  1350 | Archive Coverage: 27.750%                                        \n",
      "Iteration  1400 | Archive Coverage: 27.770%                                        \n",
      "Iteration  1450 | Archive Coverage: 27.810%                                        \n",
      "Iteration  1500 | Archive Coverage: 27.820%                                        \n",
      "Iteration  1550 | Archive Coverage: 27.890%                                        \n",
      "Iteration  1600 | Archive Coverage: 27.910%                                        \n",
      "Iteration  1650 | Archive Coverage: 27.950%                                        \n",
      "Iteration  1700 | Archive Coverage: 27.950%                                        \n",
      "Iteration  1750 | Archive Coverage: 27.960%                                        \n",
      "Iteration  1800 | Archive Coverage: 27.960%                                        \n",
      "Iteration  1850 | Archive Coverage: 27.960%                                        \n",
      "Iteration  1900 | Archive Coverage: 27.960%                                        \n",
      "Iteration  1950 | Archive Coverage: 27.970%                                        \n",
      "Iteration  2000 | Archive Coverage: 27.970%                                        \n",
      "Iterations: 100%|██████████████████████████████| 2000/2000 [10:04<00:00,  3.31it/s]\n"
     ]
    }
   ],
   "source": [
    "total_itrs = 2000\n",
    "\n",
    "for itr in trange(1, total_itrs + 1, file=sys.stdout, desc='Iterations'):\n",
    "    solutions = scheduler.ask()\n",
    "\n",
    "    random_key, subkey = jax.random.split(random_key)\n",
    "    objectives, measures, info = evaluate(solutions, subkey)\n",
    "    \n",
    "    scheduler.tell(objectives, measures)\n",
    "\n",
    "    # Output progress every 50 iterations or on the final iteration.\n",
    "    if itr % 50 == 0 or itr == total_itrs:\n",
    "        tqdm.write(f\"Iteration {itr:5d} | \"\n",
    "                   f\"Archive Coverage: {result_archive.stats.coverage * 100:6.3f}%\")"
   ]
  },
  {
   "cell_type": "markdown",
   "id": "17207b65",
   "metadata": {
    "id": "17207b65"
   },
   "source": [
    "## Visualization"
   ]
  },
  {
   "cell_type": "code",
   "execution_count": 15,
   "id": "3d03f124-0073-4f6c-9401-454b0b00afdf",
   "metadata": {},
   "outputs": [
    {
     "data": {
      "image/png": "[encoded data removed]",
      "text/plain": [
       "<Figure size 800x600 with 2 Axes>"
      ]
     },
     "metadata": {},
     "output_type": "display_data"
    }
   ],
   "source": [
    "from ribs.visualize import grid_archive_heatmap\n",
    "\n",
    "plt.figure(figsize=(8, 6))\n",
    "grid_archive_heatmap(result_archive, vmin=0, vmax=100)"
   ]
  },
  {
   "cell_type": "markdown",
   "id": "b31610ae-18aa-430b-bc9d-ca9d75f216b0",
   "metadata": {},
   "source": [
    "## Citation\n",
    "\n",
    "If you find this tutorial useful, please cite it as:\n",
    "\n",
    "```text\n",
    "@article{pyribs_dds,\n",
    "  title   = {Scaling CMA-MAE on the Sphere Benchmark},\n",
    "  author  = {Bryon Tjanaka},\n",
    "  journal = {pyribs.org},\n",
    "  year    = {2023},\n",
    "  url     = {https://docs.pyribs.org/en/stable/tutorials/cma_mae.html}\n",
    "}\n",
    "```"
   ]
  }
 ],
 "metadata": {
  "colab": {
   "provenance": []
  },
  "kernelspec": {
   "display_name": "Python 3 (ipykernel)",
   "language": "python",
   "name": "python3"
  },
  "language_info": {
   "codemirror_mode": {
    "name": "ipython",
    "version": 3
   },
   "file_extension": ".py",
   "mimetype": "text/x-python",
   "name": "python",
   "nbconvert_exporter": "python",
   "pygments_lexer": "ipython3",
   "version": "3.10.16"
  }
 },
 "nbformat": 4,
 "nbformat_minor": 5
}
