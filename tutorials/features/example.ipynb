{
 "cells": [
  {
   "cell_type": "markdown",
   "id": "6b5ef6e6-ed00-4f5a-bd13-89064b1482b0",
   "metadata": {},
   "source": [
    "# Example Feature\n",
    "\n",
    "Feature tutorials coming soon!"
   ]
  }
 ],
 "metadata": {
  "kernelspec": {
   "display_name": "Python 3 (ipykernel)",
   "language": "python",
   "name": "python3"
  },
  "language_info": {
   "codemirror_mode": {
    "name": "ipython",
    "version": 3
   },
   "file_extension": ".py",
   "mimetype": "text/x-python",
   "name": "python",
   "nbconvert_exporter": "python",
   "pygments_lexer": "ipython3",
   "version": "3.8.17"
  }
 },
 "nbformat": 4,
 "nbformat_minor": 5
}
