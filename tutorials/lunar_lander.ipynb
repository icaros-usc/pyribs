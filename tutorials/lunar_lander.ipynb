{
 "cells": [
  {
   "cell_type": "markdown",
   "metadata": {
    "id": "Ne0mog-NFKhE"
   },
   "source": [
    "# Using CMA-ME to Land a Lunar Lander Like a Space Shuttle\n",
    "\n",
    "In the [Lunar Lander](https://gymnasium.farama.org/environments/box2d/lunar_lander/) environment, an agent controls a spaceship to touch down gently within a goal zone near the bottom of the screen. Typically, agents in Lunar Lander take a direct approach, hovering straight down:"
   ]
  },
  {
   "cell_type": "code",
   "execution_count": 1,
   "metadata": {
    "colab": {
     "base_uri": "https://localhost:8080/",
     "height": 261
    },
    "id": "Powj48a5GIjH",
    "outputId": "5aef86af-d218-4cff-c39d-7c96e5614564"
   },
   "outputs": [
    {
     "data": {
      "text/html": [
       "<video width=\"360\" height=\"auto\" controls><source src=\"https://raw.githubusercontent.com/icaros-usc/pyribs/master/docs/_static/imgs/lunar-lander-vertical.mp4\" type=\"video/mp4\" /></video>"
      ],
      "text/plain": [
       "<IPython.core.display.HTML object>"
      ]
     },
     "metadata": {},
     "output_type": "display_data"
    }
   ],
   "source": [
    "from IPython.display import display, HTML\n",
    "display(HTML(\"\"\"<video width=\"360\" height=\"auto\" controls><source src=\"https://raw.githubusercontent.com/icaros-usc/pyribs/master/docs/_static/imgs/lunar-lander-vertical.mp4\" type=\"video/mp4\" /></video>\"\"\"))"
   ]
  },
  {
   "cell_type": "markdown",
   "metadata": {
    "id": "TRSA2NXJGb8u"
   },
   "source": [
    "Of course, this works fine, and the lander safely lands on the landing pad. However, there are many (and more theatric) ways we can safely achieve our goal. For instance, a different solution is to land like a space shuttle:"
   ]
  },
  {
   "cell_type": "code",
   "execution_count": 2,
   "metadata": {
    "colab": {
     "base_uri": "https://localhost:8080/",
     "height": 261
    },
    "id": "Q9-J8MePGY9L",
    "outputId": "4a4c2863-ebdf-4d93-a67c-591ab7288c89"
   },
   "outputs": [
    {
     "data": {
      "text/html": [
       "<video width=\"360\" height=\"auto\" controls><source src=\"https://raw.githubusercontent.com/icaros-usc/pyribs/master/docs/_static/imgs/lunar-lander-left.mp4\" type=\"video/mp4\" /></video>"
      ],
      "text/plain": [
       "<IPython.core.display.HTML object>"
      ]
     },
     "metadata": {},
     "output_type": "display_data"
    }
   ],
   "source": [
    "display(HTML(\"\"\"<video width=\"360\" height=\"auto\" controls><source src=\"https://raw.githubusercontent.com/icaros-usc/pyribs/master/docs/_static/imgs/lunar-lander-left.mp4\" type=\"video/mp4\" /></video>\"\"\"))"
   ]
  },
  {
   "cell_type": "markdown",
   "metadata": {
    "id": "k1L8dvGuGkSJ"
   },
   "source": [
    "And we can also approach from the right:"
   ]
  },
  {
   "cell_type": "code",
   "execution_count": 3,
   "metadata": {
    "colab": {
     "base_uri": "https://localhost:8080/",
     "height": 261
    },
    "id": "TFTEeCHNGkrt",
    "outputId": "b899fe71-7ea8-459e-87a5-e12fea10aaa8"
   },
   "outputs": [
    {
     "data": {
      "text/html": [
       "<video width=\"360\" height=\"auto\" controls><source src=\"https://raw.githubusercontent.com/icaros-usc/pyribs/master/docs/_static/imgs/lunar-lander-right.mp4\" type=\"video/mp4\" /></video>"
      ],
      "text/plain": [
       "<IPython.core.display.HTML object>"
      ]
     },
     "metadata": {},
     "output_type": "display_data"
    }
   ],
   "source": [
    "display(HTML(\"\"\"<video width=\"360\" height=\"auto\" controls><source src=\"https://raw.githubusercontent.com/icaros-usc/pyribs/master/docs/_static/imgs/lunar-lander-right.mp4\" type=\"video/mp4\" /></video>\"\"\"))"
   ]
  },
  {
   "cell_type": "markdown",
   "metadata": {
    "id": "q3GeMrGjGk41"
   },
   "source": [
    "The primary difference between these trajectories is their \"point of impact,\" that is, the $x$-position of the lander when one of its legs hits the ground for the first time. In the vertical trajectory, the lander first impacts the ground at $x \\approx -0.1$, and when approaching from the left and right, it first impacts at $x \\approx -0.5$ and $x \\approx 0.6$, respectively.\n",
    "\n",
    "Though these trajectories look different, they all achieve good performance (200+), leading to an important insight: there are characteristics of a lunar lander that are not necessarily important for performance, but nonetheless determine the behavior of the lander. In quality diversity (QD) terms, we call these measures. In this tutorial, we will search for policies that yield different trajectories using the pyribs implementation of the QD algorithm [CMA-ME](https://arxiv.org/abs/1912.02400).\n",
    "\n",
    "**_By the way: Recent work introduced [CMA-MAE](https://arxiv.org/abs/2205.10752), an algorithm which builds on CMA-ME and achieves higher performance in a variety of domains. Once you finish this tutorial, be sure to check out the [followup tutorial](https://docs.pyribs.org/en/stable/tutorials/lunar_lander_mae.html) to learn about CMA-MAE._**"
   ]
  },
  {
   "cell_type": "markdown",
   "metadata": {
    "id": "Pry368FHFKhO"
   },
   "source": [
    "## Setup\n",
    "\n",
    "First, let's install pyribs and a specific version of Gymnasium. [Gymnasium](https://gymnasium.farama.org) is the successor to [OpenAI Gym](https://www.gymlibrary.dev), which was deprecated in late 2022."
   ]
  },
  {
   "cell_type": "code",
   "execution_count": 4,
   "metadata": {
    "id": "-83S1zt1FKhQ"
   },
   "outputs": [
    {
     "name": "stdout",
     "output_type": "stream",
     "text": [
      "Requirement already satisfied: ribs[visualize] in /home/btjanaka/Resistance/usc/icaros/projects/pyribs/code (0.4.0)\n",
      "Collecting gymnasium[box2d]==0.27.0\n",
      "  Using cached gymnasium-0.27.0-py3-none-any.whl (879 kB)\n",
      "Collecting moviepy>=1.0.0\n",
      "  Using cached moviepy-1.0.3-py3-none-any.whl\n",
      "Collecting jax-jumpy>=0.2.0\n",
      "  Using cached jax_jumpy-0.2.0-py3-none-any.whl (11 kB)\n",
      "Collecting shimmy<1.0,>=0.1.0\n",
      "  Using cached Shimmy-0.2.0-py3-none-any.whl (25 kB)\n",
      "Collecting gymnasium-notices>=0.0.1\n",
      "  Using cached gymnasium_notices-0.0.1-py3-none-any.whl (2.8 kB)\n",
      "Requirement already satisfied: importlib-metadata>=4.8.0 in /home/btjanaka/Resistance/usc/icaros/projects/pyribs/code/env2/lib/python3.7/site-packages (from gymnasium[box2d]==0.27.0) (6.0.0)\n",
      "Collecting cloudpickle>=1.2.0\n",
      "  Using cached cloudpickle-2.2.0-py3-none-any.whl (25 kB)\n",
      "Requirement already satisfied: typing-extensions>=4.3.0 in /home/btjanaka/Resistance/usc/icaros/projects/pyribs/code/env2/lib/python3.7/site-packages (from gymnasium[box2d]==0.27.0) (4.4.0)\n",
      "Requirement already satisfied: numpy>=1.21.0 in /home/btjanaka/Resistance/usc/icaros/projects/pyribs/code/env2/lib/python3.7/site-packages (from gymnasium[box2d]==0.27.0) (1.21.6)\n",
      "Collecting pygame==2.1.3.dev8\n",
      "  Using cached pygame-2.1.3.dev8-cp37-cp37m-manylinux_2_17_x86_64.manylinux2014_x86_64.whl (13.7 MB)\n",
      "Collecting swig==4.*\n",
      "  Using cached swig-4.1.1-py2.py3-none-manylinux_2_5_x86_64.manylinux1_x86_64.whl (1.8 MB)\n",
      "Collecting box2d-py==2.3.5\n",
      "  Using cached box2d_py-2.3.5-cp37-cp37m-manylinux1_x86_64.whl (2.1 MB)\n",
      "Requirement already satisfied: numpy_groupies>=0.9.16 in /home/btjanaka/Resistance/usc/icaros/projects/pyribs/code/env2/lib/python3.7/site-packages (from ribs[visualize]) (0.9.20)\n",
      "Requirement already satisfied: numba>=0.51.0 in /home/btjanaka/Resistance/usc/icaros/projects/pyribs/code/env2/lib/python3.7/site-packages (from ribs[visualize]) (0.56.4)\n",
      "Requirement already satisfied: pandas>=1.0.0 in /home/btjanaka/Resistance/usc/icaros/projects/pyribs/code/env2/lib/python3.7/site-packages (from ribs[visualize]) (1.3.5)\n",
      "Requirement already satisfied: sortedcontainers>=2.0.0 in /home/btjanaka/Resistance/usc/icaros/projects/pyribs/code/env2/lib/python3.7/site-packages (from ribs[visualize]) (2.4.0)\n",
      "Requirement already satisfied: scikit-learn>=0.20.0 in /home/btjanaka/Resistance/usc/icaros/projects/pyribs/code/env2/lib/python3.7/site-packages (from ribs[visualize]) (1.0.2)\n",
      "Requirement already satisfied: scipy>=1.4.0 in /home/btjanaka/Resistance/usc/icaros/projects/pyribs/code/env2/lib/python3.7/site-packages (from ribs[visualize]) (1.7.3)\n",
      "Requirement already satisfied: threadpoolctl>=3.0.0 in /home/btjanaka/Resistance/usc/icaros/projects/pyribs/code/env2/lib/python3.7/site-packages (from ribs[visualize]) (3.1.0)\n",
      "Requirement already satisfied: semantic-version>=2.10 in /home/btjanaka/Resistance/usc/icaros/projects/pyribs/code/env2/lib/python3.7/site-packages (from ribs[visualize]) (2.10.0)\n",
      "Requirement already satisfied: matplotlib>=3.0.0 in /home/btjanaka/Resistance/usc/icaros/projects/pyribs/code/env2/lib/python3.7/site-packages (from ribs[visualize]) (3.5.3)\n",
      "Collecting decorator<5.0,>=4.0.2\n",
      "  Using cached decorator-4.4.2-py2.py3-none-any.whl (9.2 kB)\n",
      "Collecting imageio<3.0,>=2.5\n",
      "  Using cached imageio-2.24.0-py3-none-any.whl (3.4 MB)\n",
      "Collecting tqdm<5.0,>=4.11.2\n",
      "  Using cached tqdm-4.64.1-py2.py3-none-any.whl (78 kB)\n",
      "Collecting proglog<=1.0.0\n",
      "  Using cached proglog-0.1.10-py3-none-any.whl (6.1 kB)\n",
      "Requirement already satisfied: requests<3.0,>=2.8.1 in /home/btjanaka/Resistance/usc/icaros/projects/pyribs/code/env2/lib/python3.7/site-packages (from moviepy>=1.0.0) (2.28.2)\n",
      "Collecting imageio-ffmpeg>=0.2.0\n",
      "  Using cached imageio_ffmpeg-0.4.8-py3-none-manylinux2010_x86_64.whl (26.9 MB)\n",
      "Requirement already satisfied: pillow>=8.3.2 in /home/btjanaka/Resistance/usc/icaros/projects/pyribs/code/env2/lib/python3.7/site-packages (from imageio<3.0,>=2.5->moviepy>=1.0.0) (9.4.0)\n",
      "Requirement already satisfied: zipp>=0.5 in /home/btjanaka/Resistance/usc/icaros/projects/pyribs/code/env2/lib/python3.7/site-packages (from importlib-metadata>=4.8.0->gymnasium[box2d]==0.27.0) (3.11.0)\n",
      "Requirement already satisfied: python-dateutil>=2.7 in /home/btjanaka/Resistance/usc/icaros/projects/pyribs/code/env2/lib/python3.7/site-packages (from matplotlib>=3.0.0->ribs[visualize]) (2.8.2)\n",
      "Requirement already satisfied: packaging>=20.0 in /home/btjanaka/Resistance/usc/icaros/projects/pyribs/code/env2/lib/python3.7/site-packages (from matplotlib>=3.0.0->ribs[visualize]) (23.0)\n",
      "Requirement already satisfied: fonttools>=4.22.0 in /home/btjanaka/Resistance/usc/icaros/projects/pyribs/code/env2/lib/python3.7/site-packages (from matplotlib>=3.0.0->ribs[visualize]) (4.38.0)\n",
      "Requirement already satisfied: cycler>=0.10 in /home/btjanaka/Resistance/usc/icaros/projects/pyribs/code/env2/lib/python3.7/site-packages (from matplotlib>=3.0.0->ribs[visualize]) (0.11.0)\n",
      "Requirement already satisfied: kiwisolver>=1.0.1 in /home/btjanaka/Resistance/usc/icaros/projects/pyribs/code/env2/lib/python3.7/site-packages (from matplotlib>=3.0.0->ribs[visualize]) (1.4.4)\n",
      "Requirement already satisfied: pyparsing>=2.2.1 in /home/btjanaka/Resistance/usc/icaros/projects/pyribs/code/env2/lib/python3.7/site-packages (from matplotlib>=3.0.0->ribs[visualize]) (3.0.9)\n",
      "Requirement already satisfied: setuptools in /home/btjanaka/Resistance/usc/icaros/projects/pyribs/code/env2/lib/python3.7/site-packages (from numba>=0.51.0->ribs[visualize]) (65.6.3)\n",
      "Requirement already satisfied: llvmlite<0.40,>=0.39.0dev0 in /home/btjanaka/Resistance/usc/icaros/projects/pyribs/code/env2/lib/python3.7/site-packages (from numba>=0.51.0->ribs[visualize]) (0.39.1)\n",
      "Requirement already satisfied: pytz>=2017.3 in /home/btjanaka/Resistance/usc/icaros/projects/pyribs/code/env2/lib/python3.7/site-packages (from pandas>=1.0.0->ribs[visualize]) (2022.7.1)\n",
      "Requirement already satisfied: certifi>=2017.4.17 in /home/btjanaka/Resistance/usc/icaros/projects/pyribs/code/env2/lib/python3.7/site-packages (from requests<3.0,>=2.8.1->moviepy>=1.0.0) (2022.12.7)\n",
      "Requirement already satisfied: charset-normalizer<4,>=2 in /home/btjanaka/Resistance/usc/icaros/projects/pyribs/code/env2/lib/python3.7/site-packages (from requests<3.0,>=2.8.1->moviepy>=1.0.0) (3.0.1)\n",
      "Requirement already satisfied: urllib3<1.27,>=1.21.1 in /home/btjanaka/Resistance/usc/icaros/projects/pyribs/code/env2/lib/python3.7/site-packages (from requests<3.0,>=2.8.1->moviepy>=1.0.0) (1.26.14)\n",
      "Requirement already satisfied: idna<4,>=2.5 in /home/btjanaka/Resistance/usc/icaros/projects/pyribs/code/env2/lib/python3.7/site-packages (from requests<3.0,>=2.8.1->moviepy>=1.0.0) (3.4)\n",
      "Requirement already satisfied: joblib>=0.11 in /home/btjanaka/Resistance/usc/icaros/projects/pyribs/code/env2/lib/python3.7/site-packages (from scikit-learn>=0.20.0->ribs[visualize]) (1.2.0)\n",
      "Requirement already satisfied: six>=1.5 in /home/btjanaka/Resistance/usc/icaros/projects/pyribs/code/env2/lib/python3.7/site-packages (from python-dateutil>=2.7->matplotlib>=3.0.0->ribs[visualize]) (1.16.0)\n",
      "Installing collected packages: swig, gymnasium-notices, box2d-py, tqdm, pygame, jax-jumpy, imageio-ffmpeg, imageio, decorator, cloudpickle, proglog, moviepy, shimmy, gymnasium\n",
      "  Attempting uninstall: decorator\n",
      "    Found existing installation: decorator 5.1.1\n",
      "    Uninstalling decorator-5.1.1:\n",
      "      Successfully uninstalled decorator-5.1.1\n",
      "Successfully installed box2d-py-2.3.5 cloudpickle-2.2.0 decorator-4.4.2 gymnasium-0.27.0 gymnasium-notices-0.0.1 imageio-2.24.0 imageio-ffmpeg-0.4.8 jax-jumpy-0.2.0 moviepy-1.0.3 proglog-0.1.10 pygame-2.1.3.dev8 shimmy-0.2.0 swig-4.1.1 tqdm-4.64.1\n",
      "Note: you may need to restart the kernel to use updated packages.\n"
     ]
    }
   ],
   "source": [
    "%pip install ribs[visualize] gymnasium[box2d]==0.27.0 \"moviepy>=1.0.0\"\n",
    "\n",
    "# An uninstalled version of decorator is occasionally loaded; this loads the newly installed version of decorator so that moviepy works properly -- see https://github.com/Zulko/moviepy/issues/1625\n",
    "import importlib\n",
    "import decorator\n",
    "importlib.reload(decorator)"
   ]
  },
  {
   "cell_type": "markdown",
   "metadata": {
    "id": "oNMaEGunFKhU"
   },
   "source": [
    "Now, we import Gymnasium and several utilities."
   ]
  },
  {
   "cell_type": "code",
   "execution_count": 7,
   "metadata": {
    "id": "WhemB036FKhV"
   },
   "outputs": [],
   "source": [
    "import gymnasium as gym\n",
    "import time\n",
    "import numpy as np\n",
    "import matplotlib.pyplot as plt"
   ]
  },
  {
   "cell_type": "markdown",
   "metadata": {
    "id": "Jva_esiqFKhW"
   },
   "source": [
    "## Problem Description\n",
    "\n",
    "We treat the Lunar Lander as a quality diversity (QD) problem. For the objective, we use the default rewards provided by the environment, which encourages landing on the landing pad and penalizes engine usage.\n",
    "\n",
    "For the measure functions, we are interested in several factors at the time of \"impact.\" We define impact to be the first time when either of the lunar lander's legs touches the ground. When this happens, we measure the following:\n",
    "\n",
    "- $x$-position: This will lead to markedly different trajectories, as seen earlier.\n",
    "- $y$-velocity: Different velocities will determine how hard the lander impacts the ground.\n",
    "\n",
    "If the lunar lander never impacts the ground, we default the $x$-position to be the last $x$-position of the lander, and the $y$-velocity to be the maximum velocity of the lander (technically minimum since velocities are negative).\n",
    "\n",
    "We will search for policies that produce high-performing trajectories with these measures. For simplicity, we will use a linear policy to control the lunar lander. As the default lunar lander has discrete controls, the equation for this policy is:\n",
    "\n",
    "$$a = argmax(Ws)$$\n",
    "\n",
    "where $a$ is the action to take, $s$ is the state vector, and $W$ is our model, a matrix of weights that stays constant. Essentially, we transform the state to a vector with a \"signal\" for each possible action in the action space, and we choose the action with the highest signal. To search for a different policy, we explore the space of models $W$.\n",
    "\n",
    "In this tutorial, we will search for policies solving a fixed scenario with a flat terrain. To create this scenario, we use a fixed seed of 52 in the environment.\n",
    "\n",
    "**Note: Determinism**\n",
    "\n",
    "> Since our policy and environment are both deterministic, we only have to simulate the policy once to find its performance. Typically, we would run our policy multiple times to gauge average performance and have it generalize, but we ignore that to keep this example simple."
   ]
  },
  {
   "cell_type": "code",
   "execution_count": 8,
   "metadata": {
    "id": "iEnaEBMgFKhX"
   },
   "outputs": [],
   "source": [
    "env = gym.make(\"LunarLander-v2\")\n",
    "seed = 52\n",
    "action_dim = env.action_space.n\n",
    "obs_dim = env.observation_space.shape[0]"
   ]
  },
  {
   "cell_type": "markdown",
   "metadata": {
    "id": "NI2KJcyAFKhY"
   },
   "source": [
    "We can summarize our problem description with the following `simulate` function, which takes in the model and rolls it out in the Lunar Lander environment."
   ]
  },
  {
   "cell_type": "code",
   "execution_count": 9,
   "metadata": {
    "id": "UlhzwjDlFKhZ"
   },
   "outputs": [],
   "source": [
    "def simulate(env, model, seed=None):\n",
    "    \"\"\"Simulates the lunar lander model.\n",
    "\n",
    "    Args:\n",
    "        env (gym.Env): A lunar lander environment.\n",
    "        model (np.ndarray): The array of weights for the linear policy. The\n",
    "            weights are passed in as a 1D array and reshaped into a matrix.\n",
    "        seed (int): The seed for the environment.\n",
    "    Returns:\n",
    "        total_reward (float): The reward accrued by the lander throughout its\n",
    "            trajectory.\n",
    "        impact_x_pos (float): The x position of the lander when it touches the\n",
    "            ground for the first time.\n",
    "        impact_y_vel (float): The y velocity of the lander when it touches the\n",
    "            ground for the first time.\n",
    "    \"\"\"\n",
    "    action_dim = env.action_space.n\n",
    "    obs_dim = env.observation_space.shape[0]\n",
    "    model = model.reshape((action_dim, obs_dim))\n",
    "\n",
    "    total_reward = 0.0\n",
    "    impact_x_pos = None\n",
    "    impact_y_vel = None\n",
    "    all_y_vels = []\n",
    "    obs, _ = env.reset(seed=seed)\n",
    "    done = False\n",
    "\n",
    "    while not done:\n",
    "        action = np.argmax(model @ obs)  # Linear policy.\n",
    "        obs, reward, terminated, truncated, _ = env.step(action)\n",
    "        done = terminated or truncated\n",
    "        total_reward += reward\n",
    "\n",
    "        # Refer to the definition of state here:\n",
    "        # https://gymnasium.farama.org/environments/box2d/lunar_lander/\n",
    "        x_pos = obs[0]\n",
    "        y_vel = obs[3]\n",
    "        leg0_touch = bool(obs[6])\n",
    "        leg1_touch = bool(obs[7])\n",
    "        all_y_vels.append(y_vel)\n",
    "\n",
    "        # Check if the lunar lander is impacting for the first time.\n",
    "        if impact_x_pos is None and (leg0_touch or leg1_touch):\n",
    "            impact_x_pos = x_pos\n",
    "            impact_y_vel = y_vel\n",
    "\n",
    "    # If the lunar lander did not land, set the x-pos to the one from the final\n",
    "    # timestep, and set the y-vel to the max y-vel (we use min since the lander\n",
    "    # goes down).\n",
    "    if impact_x_pos is None:\n",
    "        impact_x_pos = x_pos\n",
    "        impact_y_vel = min(all_y_vels)\n",
    "\n",
    "    return total_reward, impact_x_pos, impact_y_vel"
   ]
  },
  {
   "cell_type": "markdown",
   "metadata": {
    "id": "i3PYgVwuFKha"
   },
   "source": [
    "## CMA-ME with pyribs\n",
    "\n",
    "To train our policy, we will use the CMA-ME algorithm (if you are not familiar with CMA-ME, please refer to the corresponding [paper](https://arxiv.org/abs/1912.02400)). This means we need to import and initialize the `GridArchive`, `EvolutionStrategyEmitter`, and `Scheduler` from pyribs."
   ]
  },
  {
   "cell_type": "markdown",
   "metadata": {
    "id": "hd8Fa-uoNg_6"
   },
   "source": [
    "### GridArchive\n",
    "\n",
    "First, the [`GridArchive`](https://docs.pyribs.org/en/stable/api/ribs.archives.GridArchive.html) stores solutions (i.e. models for our policy) in a rectangular grid. Each dimension of the `GridArchive` corresponds to a dimension in measure space that is segmented into equally sized cells. As we have two measure functions for our lunar lander, we have two dimensions in the `GridArchive`. The first dimension is the impact $x$-position, which ranges from -1 to 1, and the second is the impact $y$-velocity, which ranges from -3 (smashing into the ground) to 0 (gently touching down). We divide both dimensions into 50 cells.\n",
    "\n",
    "We additionally specify the dimensionality of solutions which will be stored in the archive. While each model is a 2D matrix, pyribs archives only allow 1D arrays for efficiency; hence, we create an `initial_model` below and retrieve its 1D size with `initial_model.size`."
   ]
  },
  {
   "cell_type": "code",
   "execution_count": 10,
   "metadata": {
    "id": "EUipJ5cDFKhc"
   },
   "outputs": [],
   "source": [
    "from ribs.archives import GridArchive\n",
    "initial_model = np.zeros((action_dim, obs_dim))\n",
    "\n",
    "archive = GridArchive(\n",
    "    solution_dim=initial_model.size,  # Dimensionality of solutions in the archive.\n",
    "    dims=[50, 50],  # 50 cells along each dimension.\n",
    "    ranges=[(-1.0, 1.0), (-3.0, 0.0)],  # (-1, 1) for x-pos and (-3, 0) for y-vel.\n",
    "    qd_score_offset=-300,  # See the note below.\n",
    ")"
   ]
  },
  {
   "cell_type": "markdown",
   "metadata": {},
   "source": [
    "**Note: QD Score Offset**\n",
    "\n",
    "> Above, we specified `qd_score_offset=-300` when initializing the archive. The QD score ([Pugh 2016](https://doi.org/10.3389/frobt.2016.00040)) is a metric for QD algorithms which sums the objective values of all elites in the archive. However, if objectives may be negative, this metric will penalize an algorithm for discovering new cells with a negative objective. To prevent this, it is common to normalize each objective to be non-negative by subtracting an offset, typically the minimum objective, before computing the QD score. While lunar lander does not have a predefined minimum objective, we know from previous experiments that most solutions stay above -300, so we have set the offset correspondingly."
   ]
  },
  {
   "cell_type": "markdown",
   "metadata": {
    "id": "XdCmEwtOFKhd"
   },
   "source": [
    "### EvolutionStrategyEmitter\n",
    "\n",
    "Next, the [`EvolutionStrategyEmitter`](https://docs.pyribs.org/en/stable/api/ribs.emitters.EvolutionStrategyEmitter.html) with two-stage improvement ranking (\"2imp\") uses CMA-ES to search for policies that add new entries to the archive or improve existing ones. Since we do not have any prior knowledge of what the model will be, we set the initial model to be the zero vector, and we set the initial step size for CMA-ES to be 1.0, so that initial solutions are sampled from a standard isotropic Gaussian. Furthermore, we use 5 emitters so that the algorithm simultaneously searches several areas of measure space."
   ]
  },
  {
   "cell_type": "code",
   "execution_count": 11,
   "metadata": {
    "id": "IuyDI0HaFKhe"
   },
   "outputs": [],
   "source": [
    "from ribs.emitters import EvolutionStrategyEmitter\n",
    "\n",
    "emitters = [\n",
    "    EvolutionStrategyEmitter(\n",
    "        archive=archive,\n",
    "        x0=initial_model.flatten(),\n",
    "        sigma0=1.0,  # Initial step size.\n",
    "        ranker=\"2imp\",\n",
    "        batch_size=30,  # If we do not specify a batch size, the emitter will\n",
    "                        # automatically use a batch size equal to the default\n",
    "                        # population size of CMA-ES.\n",
    "    ) for _ in range(5)  # Create 5 separate emitters.\n",
    "]"
   ]
  },
  {
   "cell_type": "markdown",
   "metadata": {
    "id": "TwS_5rnPRCbr"
   },
   "source": [
    "**Note: Two-Stage Improvement Ranking**\n",
    "\n",
    "> The term \"two-stage\" refers to how this ranking mechanism ranks solutions by a tuple of `(status, value)` defined as follows:\n",
    ">\n",
    "> 1. `status`: Whether the solution creates a new cell in the archive, improves an existing cell, or is not inserted.\n",
    "> 2. `value`: Consider the objective $f$ of the solution and the objective $f'$ of the solution currently in the cell where the solution will be inserted. When the solution creates a new cell, $f'$ is undefined because the cell was previously empty, so the value is defined as $f$. Otherwise, when the solution improves an existing cell or is not inserted at all, the value is $f - f'$.\n",
    ">\n",
    "> During ranking, this two-stage improvement ranker will first sort by `status`, prioritizing new solutions, followed by solutions which improve existing cells, followed by solutions which are not inserted. Within each group, solutions are further ranked by their corresponding `value`. See the archive [add](https://docs.pyribs.org/en/latest/api/ribs.archives.GridArchive.html#ribs.archives.GridArchive.add) method for more information on statuses and values.\n",
    "> \n",
    "> Additional rankers are available in the [ribs.emitters.rankers](https://docs.pyribs.org/en/stable/api/ribs.emitters.rankers.html) module. These rankers correspond to different emitters described in the CMA-ME paper."
   ]
  },
  {
   "cell_type": "markdown",
   "metadata": {
    "id": "CYJ5zor9FKhg"
   },
   "source": [
    "### Scheduler\n",
    "\n",
    "Finally, the [`Scheduler`](https://docs.pyribs.org/en/stable/api/ribs.schedulers.Scheduler.html) connects the archive and emitters together."
   ]
  },
  {
   "cell_type": "code",
   "execution_count": 12,
   "metadata": {
    "id": "ytg5qUP2FKhj"
   },
   "outputs": [],
   "source": [
    "from ribs.schedulers import Scheduler\n",
    "\n",
    "scheduler = Scheduler(archive, emitters)"
   ]
  },
  {
   "cell_type": "markdown",
   "metadata": {
    "id": "S5NOJy6YFKhk"
   },
   "source": [
    "## QD Search\n",
    "\n",
    "With the pyribs components defined, we start searching with CMA-ME. This loop should take **2-4 hours** to run. Since we use 5 emitters each with a batch size of 30 and we run 500 iterations, we run 5 x 30 x 500 = 75,000 lunar lander simulations. We also keep track of some logging info via `archive.stats`, which is an [`ArchiveStats`](https://docs.pyribs.org/en/stable/api/ribs.archives.ArchiveStats.html) object."
   ]
  },
  {
   "cell_type": "code",
   "execution_count": 13,
   "metadata": {
    "colab": {
     "base_uri": "https://localhost:8080/"
    },
    "id": "pd2abvstFKhm",
    "outputId": "1dfc615d-331f-4657-e301-c6eda2b70d59"
   },
   "outputs": [],
   "source": [
    "start_time = time.time()\n",
    "total_itrs = 500\n",
    "\n",
    "for itr in range(1, total_itrs + 1):\n",
    "    # Request models from the scheduler.\n",
    "    sols = scheduler.ask()\n",
    "\n",
    "    # Evaluate the models and record the objectives and measuress.\n",
    "    objs, meas = [], []\n",
    "    for model in sols:\n",
    "        obj, impact_x_pos, impact_y_vel = simulate(env, model, seed)\n",
    "        objs.append(obj)\n",
    "        meas.append([impact_x_pos, impact_y_vel])\n",
    "\n",
    "    # Send the results back to the scheduler.\n",
    "    scheduler.tell(objs, meas)\n",
    "\n",
    "    # Logging.\n",
    "    if itr % 25 == 0:\n",
    "        print(f\"> {itr} itrs completed after {time.time() - start_time:.2f}s\")\n",
    "        print(f\"  - Size: {archive.stats.num_elites}\")    # Number of elites in the archive.\n",
    "        print(f\"  - Coverage: {archive.stats.coverage}\")  # Proportion of archive cells which have an elite.\n",
    "        print(f\"  - QD Score: {archive.stats.qd_score}\")  # QD score, i.e. sum of objective values of all elites in the archive.\n",
    "                                                          # Accounts for qd_score_offset as described in the GridArchive section.\n",
    "        print(f\"  - Max Score: {archive.stats.obj_max}\")  # Maximum objective value in the archive."
   ]
  },
  {
   "cell_type": "markdown",
   "metadata": {
    "id": "pZIzzxxWFKhp"
   },
   "source": [
    "## Visualizing the Archive\n",
    "\n",
    "Using [`grid_archive_heatmap`](https://docs.pyribs.org/en/stable/api/ribs.visualize.grid_archive_heatmap.html) from the [`ribs.visualize`](https://docs.pyribs.org/en/stable/api/ribs.visualize.html) module, we can view a heatmap of the archive. The heatmap shows the measures for which CMA-ME found a solution. The color of each cell shows the objective value of the solution."
   ]
  },
  {
   "cell_type": "code",
   "execution_count": 14,
   "metadata": {
    "colab": {
     "base_uri": "https://localhost:8080/",
     "height": 409
    },
    "id": "ufCTDxiAFKhp",
    "outputId": "5b3b2a69-6ffc-4540-8a4b-a64dc0455587"
   },
   "outputs": [
    {
     "data": {
      "text/plain": [
       "Text(0.5, 0, 'Impact x-position')"
      ]
     },
     "execution_count": 14,
     "metadata": {},
     "output_type": "execute_result"
    },
    {
     "data": {
      "image/png": "[encoded data removed]",
      "text/plain": [
       "<Figure size 800x600 with 2 Axes>"
      ]
     },
     "metadata": {},
     "output_type": "display_data"
    }
   ],
   "source": [
    "from ribs.visualize import grid_archive_heatmap\n",
    "\n",
    "plt.figure(figsize=(8, 6))\n",
    "grid_archive_heatmap(archive, vmin=-300, vmax=300)\n",
    "plt.gca().invert_yaxis()  # Makes more sense if larger velocities are on top.\n",
    "plt.ylabel(\"Impact y-velocity\")\n",
    "plt.xlabel(\"Impact x-position\")"
   ]
  },
  {
   "cell_type": "markdown",
   "metadata": {
    "id": "8sHKT6nJFKhq"
   },
   "source": [
    "From this heatmap, we can make a few observations:\n",
    "\n",
    "- CMA-ME found solutions for almost all cells in the archive. Empty cells show up as white.\n",
    "- Most of the high-performing solutions have lower impact $y$-velocities (see the bright area at the bottom of the map). This is reasonable, as a lander that crashes into the ground would not do well.\n",
    "- The high-performing solutions are spread across a wide range of impact $x$-positions. The highest solutions seem to be at $x \\approx 0$ (the bright spot in the middle). This makes sense since an impact $x$-position of 0 corresponds to the direct vertical approach. Nevertheless, there are many high-performing solutions that had other $x$-positions, and we will visualize them in the next section."
   ]
  },
  {
   "cell_type": "markdown",
   "metadata": {
    "id": "cG6GDOpyFKhr"
   },
   "source": [
    "## Visualizing Individual Trajectories\n",
    "\n",
    "To view the trajectories for different models, we can use the [RecordVideo](https://gymnasium.farama.org/api/wrappers/misc_wrappers/#gymnasium.wrappers.RecordVideo) wrapper, and we can use IPython to display the video in the notebook. The `display_video` function below shows how to do this."
   ]
  },
  {
   "cell_type": "code",
   "execution_count": 15,
   "metadata": {
    "id": "vT-xb4myFKhr"
   },
   "outputs": [],
   "source": [
    "import base64\n",
    "import glob\n",
    "import io\n",
    "\n",
    "from IPython.display import display, HTML\n",
    "\n",
    "\n",
    "def display_video(model):\n",
    "    \"\"\"Displays a video of the model in the environment.\"\"\"\n",
    "\n",
    "    video_env = gym.wrappers.RecordVideo(\n",
    "        gym.make(\"LunarLander-v2\", render_mode=\"rgb_array\"),\n",
    "        video_folder=\"videos\",\n",
    "        # This will ensure all episodes are recorded as videos.\n",
    "        episode_trigger=lambda idx: True,\n",
    "        # Disables moviepy's logger to reduce clutter in the output.\n",
    "        disable_logger=True,\n",
    "    )\n",
    "    simulate(video_env, model, seed)\n",
    "    video_env.close()  # Save video.\n",
    "\n",
    "    # Display the video with HTML. Though we use glob, there is only 1 video.\n",
    "    for video_file in glob.glob(\"videos/*.mp4\"):\n",
    "        video = io.open(video_file, 'rb').read()\n",
    "        encoded = base64.b64encode(video).decode(\"ascii\")\n",
    "        display(\n",
    "            HTML(f'''\n",
    "            <video width=\"360\" height=\"auto\" controls>\n",
    "                <source src=\"data:video/mp4;base64,{encoded}\" type=\"video/mp4\" />\n",
    "            </video>'''))"
   ]
  },
  {
   "cell_type": "markdown",
   "metadata": {
    "id": "t2QPnuqgFKhr"
   },
   "source": [
    "\n",
    "We can retrieve policies with measures that are close to a query with the [`retrieve_single`](https://docs.pyribs.org/en/stable/api/ribs.archives.GridArchive.html#ribs.archives.GridArchive.retrieve_single) method. This method will look up the cell corresponding to the queried measures. Then, the method will check if there is an elite in that cell, and return the elite if it exists (the method does not check neighboring cells for elites). The returned elite may not have the exact measures requested because the elite only has to be in the same cell as the queried measures.\n",
    "\n",
    "Below, we first retrieve a policy that impacted the ground on the left (approximately -0.4) with low velocity (approximately -0.10) by querying for `[-0.4, 0.10]`.\n",
    "\n",
    "**Note: Batch and Single Methods**\n",
    "\n",
    "> `retrieve_single` returns an [Elite](https://docs.pyribs.org/en/stable/api/ribs.archives.Elite.html) object given a single `measures` array. Meanwhile, the [`retrieve`](https://docs.pyribs.org/en/stable/api/ribs.archives.GridArchive.html#ribs.archives.GridArchive.retrieve) method takes in a _batch_ of measures (named `measures_batch`) and returns an [EliteBatch](https://docs.pyribs.org/en/stable/api/ribs.archives.EliteBatch.html) object. Several archive methods in pyribs follow a similar pattern of having a batch and single version, e.g., [`add`](https://docs.pyribs.org/en/stable/api/ribs.archives.GridArchive.html#ribs.archives.GridArchive.add) and [`add_single`](https://docs.pyribs.org/en/stable/api/ribs.archives.GridArchive.html#ribs.archives.GridArchive.add_single)."
   ]
  },
  {
   "cell_type": "code",
   "execution_count": 16,
   "metadata": {
    "colab": {
     "base_uri": "https://localhost:8080/",
     "height": 316
    },
    "id": "FxTO1P3tFKhs",
    "outputId": "b5a556a4-77fa-45b5-ac38-7ae634c7e6f6"
   },
   "outputs": [
    {
     "name": "stderr",
     "output_type": "stream",
     "text": [
      "/home/btjanaka/Resistance/usc/icaros/projects/pyribs/code/env2/lib/python3.7/site-packages/gymnasium/wrappers/record_video.py:80: UserWarning: \u001b[33mWARN: Overwriting existing videos at /home/btjanaka/Resistance/usc/icaros/projects/pyribs/code/tutorials/videos folder (try specifying a different `video_folder` for the `RecordVideo` wrapper if this is not desired)\u001b[0m\n",
      "  f\"Overwriting existing videos at {self.video_folder} folder \"\n"
     ]
    },
    {
     "data": {
      "text/html": [
       "\n",
       "            <video width=\"360\" height=\"auto\" controls>\n",
       "                <source src=\"data:video/mp4;base64,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\" type=\"video/mp4\" />\n",
       "            </video>"
      ],
      "text/plain": [
       "<IPython.core.display.HTML object>"
      ]
     },
     "metadata": {},
     "output_type": "display_data"
    }
   ],
   "source": [
    "elite = archive.retrieve_single([-0.4, -0.10])\n",
    "if elite.solution is not None:\n",
    "    display_video(elite.solution)"
   ]
  },
  {
   "cell_type": "markdown",
   "metadata": {
    "id": "JA3KJCMLFKhs"
   },
   "source": [
    "We can also find a policy that impacted the ground on the right (0.4) with low velocity."
   ]
  },
  {
   "cell_type": "code",
   "execution_count": 17,
   "metadata": {
    "colab": {
     "base_uri": "https://localhost:8080/",
     "height": 316
    },
    "id": "0lgiOQ2sFKht",
    "outputId": "567a4f20-28cc-4385-b280-fbcd3dd2a769"
   },
   "outputs": [
    {
     "name": "stderr",
     "output_type": "stream",
     "text": [
      "/home/btjanaka/Resistance/usc/icaros/projects/pyribs/code/env2/lib/python3.7/site-packages/gymnasium/wrappers/record_video.py:80: UserWarning: \u001b[33mWARN: Overwriting existing videos at /home/btjanaka/Resistance/usc/icaros/projects/pyribs/code/tutorials/videos folder (try specifying a different `video_folder` for the `RecordVideo` wrapper if this is not desired)\u001b[0m\n",
      "  f\"Overwriting existing videos at {self.video_folder} folder \"\n"
     ]
    },
    {
     "data": {
      "text/html": [
       "\n",
       "            <video width=\"360\" height=\"auto\" controls>\n",
       "                <source src=\"data:video/mp4;base64,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\" type=\"video/mp4\" />\n",
       "            </video>"
      ],
      "text/plain": [
       "<IPython.core.display.HTML object>"
      ]
     },
     "metadata": {},
     "output_type": "display_data"
    }
   ],
   "source": [
    "elite = archive.retrieve_single([0.4, -0.10])\n",
    "if elite.solution is not None:\n",
    "    display_video(elite.solution)"
   ]
  },
  {
   "cell_type": "markdown",
   "metadata": {
    "id": "OuP_5VVDFKht"
   },
   "source": [
    "And we can find a policy that executes a regular vertical landing, which happens when the impact $x$-position is around 0."
   ]
  },
  {
   "cell_type": "code",
   "execution_count": 18,
   "metadata": {
    "colab": {
     "base_uri": "https://localhost:8080/",
     "height": 261
    },
    "id": "v4nAwfmXFKht",
    "outputId": "cb99d56d-401c-44e1-9d57-8bc35c04160d"
   },
   "outputs": [
    {
     "data": {
      "text/html": [
       "\n",
       "            <video width=\"360\" height=\"auto\" controls>\n",
       "                <source src=\"data:video/mp4;base64,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\" type=\"video/mp4\" />\n",
       "            </video>"
      ],
      "text/plain": [
       "<IPython.core.display.HTML object>"
      ]
     },
     "metadata": {},
     "output_type": "display_data"
    }
   ],
   "source": [
    "elite = archive.retrieve_single([0.0, -0.10])\n",
    "if elite.solution is not None:\n",
    "    display_video(elite.solution)"
   ]
  },
  {
   "cell_type": "markdown",
   "metadata": {
    "id": "MZLDoutPFKhu"
   },
   "source": [
    "As the archive has ~2500 solutions, we cannot view them all, but we can filter for high-performing solutions. We first retrieve the archive's elites with the [`as_pandas`](https://docs.pyribs.org/en/stable/api/ribs.archives.GridArchive.html#ribs.archives.GridArchive.as_pandas) method. Then, we choose solutions that scored above 200 because 200 is the [threshold for the problem to be considered solved](https://gymnasium.farama.org/environments/box2d/lunar_lander/). Note that many solutions that are considered solved do not land on the landing pad."
   ]
  },
  {
   "cell_type": "code",
   "execution_count": 19,
   "metadata": {
    "id": "0rHgh4fgFKhu"
   },
   "outputs": [],
   "source": [
    "df = archive.as_pandas()\n",
    "high_perf_sols = df.query(\"objective > 200\").sort_values(\"objective\", ascending=False)"
   ]
  },
  {
   "cell_type": "markdown",
   "metadata": {
    "id": "0_RYE1rTFKhu"
   },
   "source": [
    "Below we visualize several of these high-performing solutions. The `iterelites` method is available because `as_pandas` returns an [`ArchiveDataFrame`](https://docs.pyribs.org/en/stable/api/ribs.archives.ArchiveDataFrame.html), a subclass of the Pandas DataFrame specialized for pyribs. `iterelites` iterates over the entries in the DataFrame and returns them as [`Elite`](https://docs.pyribs.org/en/stable/api/ribs.archives.Elite.html) objects."
   ]
  },
  {
   "cell_type": "code",
   "execution_count": 20,
   "metadata": {
    "colab": {
     "base_uri": "https://localhost:8080/",
     "height": 749
    },
    "id": "brTepWvkFKhv",
    "outputId": "d4f907fa-8767-4300-ff6d-c83ea7cc7326"
   },
   "outputs": [],
   "source": [
    "if len(high_perf_sols) > 0:\n",
    "    for elite in high_perf_sols.iloc[[0, len(high_perf_sols) // 2, -1]].iterelites():\n",
    "        display_video(elite.solution)"
   ]
  },
  {
   "cell_type": "markdown",
   "metadata": {
    "id": "P3cQJ2ctOBG5"
   },
   "source": [
    "And finally, the [`best_elite`](https://docs.pyribs.org/en/stable/api/ribs.archives.GridArchive.html#ribs.archives.GridArchive.best_elite) property is the [`Elite`](https://docs.pyribs.org/en/stable/api/ribs.archives.Elite.html) which has the highest performance in the archive."
   ]
  },
  {
   "cell_type": "code",
   "execution_count": 21,
   "metadata": {
    "colab": {
     "base_uri": "https://localhost:8080/",
     "height": 166
    },
    "id": "4OTjcg1XN_xz",
    "outputId": "d75b31be-64a0-4f9c-adaa-c62d7e4257fa"
   },
   "outputs": [
    {
     "data": {
      "text/html": [
       "\n",
       "            <video width=\"360\" height=\"auto\" controls>\n",
       "                <source src=\"data:video/mp4;base64,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\" type=\"video/mp4\" />\n",
       "            </video>"
      ],
      "text/plain": [
       "<IPython.core.display.HTML object>"
      ]
     },
     "metadata": {},
     "output_type": "display_data"
    }
   ],
   "source": [
    "display_video(archive.best_elite.solution)"
   ]
  },
  {
   "cell_type": "markdown",
   "metadata": {
    "id": "ooGfhHCuFKhv"
   },
   "source": [
    "## Conclusion\n",
    "\n",
    "As the saying goes, \"there is more than one way to land an airplane\" 😉. However, it is often difficult to shape the reward function in reinforcement learning to discover these unique and \"creative\" solutions. In such cases, a QD algorithm can help search for solutions that vary in \"interestingness.\"\n",
    "\n",
    "In this tutorial, we showed that this is the case for the lunar lander environment. Using CMA-ME, we searched for lunar lander trajectories with differing impact measures. Though these trajectories all take a different approach, many perform well.\n",
    "\n",
    "For extending this tutorial, we suggest the following:\n",
    "\n",
    "- Replace the impact measures with your own measures. What other properties might be interesting for the lunar lander?\n",
    "- Try different terrains by changing the seed. For instance, if the environment has valleys, can the lander learn to go into this valley and glide back up?\n",
    "- Use other gym environments. What measures could you use in an environment like `BipedalWalker-v2`?\n",
    "\n",
    "Finally, to learn about an algorithm which performs even better on this problem and other QD problems, check out the [Lunar Lander CMA-MAE tutorial](https://docs.pyribs.org/en/stable/tutorials/lunar_lander_mae.html).\n",
    "\n",
    "And for a version of this tutorial that uses [Dask](https://dask.org) to parallelize evaluations and thus speed things up, refer to the [Lunar Lander example](https://docs.pyribs.org/en/stable/examples/lunar_lander.html)."
   ]
  },
  {
   "cell_type": "markdown",
   "metadata": {
    "id": "7H8B12jOFKhw"
   },
   "source": [
    "## Citation\n",
    "\n",
    "If you find this tutorial useful, please cite it as:\n",
    "\n",
    "```text\n",
    "@article{pyribs_lunar_lander,\n",
    "  title   = {Using CMA-ME to Land a Lunar Lander Like a Space Shuttle},\n",
    "  author  = {Bryon Tjanaka and Sam Sommerer and Nikitas Klapsis and Matthew C. Fontaine and Stefanos Nikolaidis},\n",
    "  journal = {pyribs.org},\n",
    "  year    = {2021},\n",
    "  url     = {https://docs.pyribs.org/en/stable/tutorials/lunar_lander.html}\n",
    "}\n",
    "```"
   ]
  },
  {
   "cell_type": "markdown",
   "metadata": {
    "id": "5kAdvjZiFKhw"
   },
   "source": [
    "## Credits\n",
    "\n",
    "This tutorial is based on a [poster](https://web.archive.org/web/20220817214422/https://1l7puj10vwe3zflo2jsktkit-wpengine.netdna-ssl.com/wp-content/uploads/2020/08/S20-Klapsis-Poster.pdf) created by Nikitas Klapsis as part of USC's 2020 SHINE program."
   ]
  }
 ],
 "metadata": {
  "colab": {
   "provenance": []
  },
  "kernelspec": {
   "display_name": "Python 3 (ipykernel)",
   "language": "python",
   "name": "python3"
  },
  "language_info": {
   "codemirror_mode": {
    "name": "ipython",
    "version": 3
   },
   "file_extension": ".py",
   "mimetype": "text/x-python",
   "name": "python",
   "nbconvert_exporter": "python",
   "pygments_lexer": "ipython3",
   "version": "3.7.12"
  }
 },
 "nbformat": 4,
 "nbformat_minor": 4
}
