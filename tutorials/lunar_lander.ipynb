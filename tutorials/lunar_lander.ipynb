{
  "cells": [
    {
      "cell_type": "markdown",
      "metadata": {
        "id": "Ne0mog-NFKhE"
      },
      "source": [
        "# Using CMA-ME to Land a Lunar Lander Like a Space Shuttle\n",
        "\n",
        "In the [Lunar Lander](https://gymnasium.farama.org/environments/box2d/lunar_lander/) environment, an agent controls a spaceship to touch down gently within a goal zone near the bottom of the screen. Typically, agents in Lunar Lander take a direct approach, hovering straight down:"
      ]
    },
    {
      "cell_type": "code",
      "source": [
        "from IPython.display import display, HTML\n",
        "display(HTML(\"\"\"<video width=\"360\" height=\"auto\" controls><source src=\"https://raw.githubusercontent.com/icaros-usc/pyribs/master/docs/_static/imgs/lunar-lander-vertical.mp4\" type=\"video/mp4\" /></video>\"\"\"))"
      ],
      "metadata": {
        "colab": {
          "base_uri": "https://localhost:8080/",
          "height": 261
        },
        "id": "Powj48a5GIjH",
        "outputId": "77e49cff-2c01-4412-d2b8-8bd969121498"
      },
      "execution_count": 1,
      "outputs": [
        {
          "output_type": "display_data",
          "data": {
            "text/plain": [
              "<IPython.core.display.HTML object>"
            ],
            "text/html": [
              "<video width=\"360\" height=\"auto\" controls><source src=\"https://raw.githubusercontent.com/icaros-usc/pyribs/master/docs/_static/imgs/lunar-lander-vertical.mp4\" type=\"video/mp4\" /></video>"
            ]
          },
          "metadata": {}
        }
      ]
    },
    {
      "cell_type": "markdown",
      "source": [
        "Of course, this works fine, and the lander safely lands on the landing pad. However, there are many (and more theatric) ways we can safely achieve our goal. For instance, a different solution is to land like a space shuttle:"
      ],
      "metadata": {
        "id": "TRSA2NXJGb8u"
      }
    },
    {
      "cell_type": "code",
      "source": [
        "display(HTML(\"\"\"<video width=\"360\" height=\"auto\" controls><source src=\"https://raw.githubusercontent.com/icaros-usc/pyribs/master/docs/_static/imgs/lunar-lander-left.mp4\" type=\"video/mp4\" /></video>\"\"\"))"
      ],
      "metadata": {
        "colab": {
          "base_uri": "https://localhost:8080/",
          "height": 261
        },
        "id": "Q9-J8MePGY9L",
        "outputId": "f2c80bcd-efda-4671-8004-a5624ec1b908"
      },
      "execution_count": 2,
      "outputs": [
        {
          "output_type": "display_data",
          "data": {
            "text/plain": [
              "<IPython.core.display.HTML object>"
            ],
            "text/html": [
              "<video width=\"360\" height=\"auto\" controls><source src=\"https://raw.githubusercontent.com/icaros-usc/pyribs/master/docs/_static/imgs/lunar-lander-left.mp4\" type=\"video/mp4\" /></video>"
            ]
          },
          "metadata": {}
        }
      ]
    },
    {
      "cell_type": "markdown",
      "source": [
        "And we can also approach from the right:"
      ],
      "metadata": {
        "id": "k1L8dvGuGkSJ"
      }
    },
    {
      "cell_type": "code",
      "source": [
        "display(HTML(\"\"\"<video width=\"360\" height=\"auto\" controls><source src=\"https://raw.githubusercontent.com/icaros-usc/pyribs/master/docs/_static/imgs/lunar-lander-right.mp4\" type=\"video/mp4\" /></video>\"\"\"))"
      ],
      "metadata": {
        "colab": {
          "base_uri": "https://localhost:8080/",
          "height": 261
        },
        "id": "TFTEeCHNGkrt",
        "outputId": "1dd83358-5289-49a4-8d60-c695a37bc446"
      },
      "execution_count": 3,
      "outputs": [
        {
          "output_type": "display_data",
          "data": {
            "text/plain": [
              "<IPython.core.display.HTML object>"
            ],
            "text/html": [
              "<video width=\"360\" height=\"auto\" controls><source src=\"https://raw.githubusercontent.com/icaros-usc/pyribs/master/docs/_static/imgs/lunar-lander-right.mp4\" type=\"video/mp4\" /></video>"
            ]
          },
          "metadata": {}
        }
      ]
    },
    {
      "cell_type": "markdown",
      "source": [
        "The primary difference between these trajectories is their \"point of impact,\" that is, the $x$-position of the lander when one of its legs hits the ground for the first time. In the vertical trajectory, the lander first impacts the ground at $x \\approx -0.1$, and when approaching from the left and right, it first impacts at $x \\approx -0.5$ and $x \\approx 0.6$, respectively.\n",
        "\n",
        "Though these trajectories look different, they all achieve good performance (200+), leading to an important insight: there are characteristics of a lunar lander that are not necessarily important for performance, but nonetheless determine the behavior of the lander. In quality diversity (QD) terms, we call these measures. In this tutorial, we will search for policies that yield different trajectories using the pyribs implementation of the QD algorithm [CMA-ME](https://arxiv.org/abs/1912.02400).\n",
        "\n",
        "**_By the way: Recent work introduced [CMA-MAE](https://arxiv.org/abs/2205.10752), an algorithm which builds on CMA-ME and achieves higher performance in a variety of domains. Once you finish this tutorial, be sure to check out the [followup tutorial](https://docs.pyribs.org/en/stable/tutorials/lunar_lander_mae.html) to learn about CMA-MAE._**"
      ],
      "metadata": {
        "id": "q3GeMrGjGk41"
      }
    },
    {
      "cell_type": "markdown",
      "metadata": {
        "id": "Pry368FHFKhO"
      },
      "source": [
        "## Setup\n",
        "\n",
        "First, let's install pyribs and a specific version of Gymnasium. [Gymnasium](https://gymnasium.farama.org) is the successor to [OpenAI Gym](https://www.gymlibrary.dev), which was deprecated in late 2022."
      ]
    },
    {
      "cell_type": "code",
      "execution_count": 4,
      "metadata": {
        "id": "-83S1zt1FKhQ",
        "colab": {
          "base_uri": "https://localhost:8080/"
        },
        "outputId": "0375fc7b-f57c-4197-ac55-e4787fdaa4a3"
      },
      "outputs": [
        {
          "output_type": "stream",
          "name": "stdout",
          "text": [
            "Looking in indexes: https://pypi.org/simple, https://us-python.pkg.dev/colab-wheels/public/simple/\n",
            "Collecting git+https://github.com/icaros-usc/pyribs@docs/find-elites\n",
            "  Cloning https://github.com/icaros-usc/pyribs (to revision docs/find-elites) to /tmp/pip-req-build-2gqb01t_\n",
            "  Running command git clone --filter=blob:none --quiet https://github.com/icaros-usc/pyribs /tmp/pip-req-build-2gqb01t_\n",
            "  Running command git checkout -b docs/find-elites --track origin/docs/find-elites\n",
            "  Switched to a new branch 'docs/find-elites'\n",
            "  Branch 'docs/find-elites' set up to track remote branch 'docs/find-elites' from 'origin'.\n",
            "  Resolved https://github.com/icaros-usc/pyribs to commit d8292d4a4a7823ed279cb7e91a8b54445cf9afd4\n",
            "  Preparing metadata (setup.py) ... \u001b[?25l\u001b[?25hdone\n",
            "Requirement already satisfied: matplotlib in /usr/local/lib/python3.8/dist-packages (3.2.2)\n",
            "Requirement already satisfied: gymnasium[box2d]==0.27.0 in /usr/local/lib/python3.8/dist-packages (0.27.0)\n",
            "Requirement already satisfied: moviepy>=1.0.0 in /usr/local/lib/python3.8/dist-packages (1.0.3)\n",
            "Requirement already satisfied: numpy>=1.21.0 in /usr/local/lib/python3.8/dist-packages (from gymnasium[box2d]==0.27.0) (1.21.6)\n",
            "Requirement already satisfied: jax-jumpy>=0.2.0 in /usr/local/lib/python3.8/dist-packages (from gymnasium[box2d]==0.27.0) (0.2.0)\n",
            "Requirement already satisfied: importlib-metadata>=4.8.0 in /usr/local/lib/python3.8/dist-packages (from gymnasium[box2d]==0.27.0) (6.0.0)\n",
            "Requirement already satisfied: cloudpickle>=1.2.0 in /usr/local/lib/python3.8/dist-packages (from gymnasium[box2d]==0.27.0) (2.2.0)\n",
            "Requirement already satisfied: shimmy<1.0,>=0.1.0 in /usr/local/lib/python3.8/dist-packages (from gymnasium[box2d]==0.27.0) (0.2.0)\n",
            "Requirement already satisfied: typing-extensions>=4.3.0 in /usr/local/lib/python3.8/dist-packages (from gymnasium[box2d]==0.27.0) (4.4.0)\n",
            "Requirement already satisfied: gymnasium-notices>=0.0.1 in /usr/local/lib/python3.8/dist-packages (from gymnasium[box2d]==0.27.0) (0.0.1)\n",
            "Requirement already satisfied: swig==4.* in /usr/local/lib/python3.8/dist-packages (from gymnasium[box2d]==0.27.0) (4.1.1)\n",
            "Requirement already satisfied: pygame==2.1.3.dev8 in /usr/local/lib/python3.8/dist-packages (from gymnasium[box2d]==0.27.0) (2.1.3.dev8)\n",
            "Requirement already satisfied: box2d-py==2.3.5 in /usr/local/lib/python3.8/dist-packages (from gymnasium[box2d]==0.27.0) (2.3.5)\n",
            "Requirement already satisfied: numpy_groupies>=0.9.16 in /usr/local/lib/python3.8/dist-packages (from ribs==0.4.0) (0.9.20)\n",
            "Requirement already satisfied: numba>=0.51.0 in /usr/local/lib/python3.8/dist-packages (from ribs==0.4.0) (0.56.4)\n",
            "Requirement already satisfied: pandas>=1.0.0 in /usr/local/lib/python3.8/dist-packages (from ribs==0.4.0) (1.3.5)\n",
            "Requirement already satisfied: sortedcontainers>=2.0.0 in /usr/local/lib/python3.8/dist-packages (from ribs==0.4.0) (2.4.0)\n",
            "Requirement already satisfied: scikit-learn>=0.20.0 in /usr/local/lib/python3.8/dist-packages (from ribs==0.4.0) (1.0.2)\n",
            "Requirement already satisfied: scipy>=1.4.0 in /usr/local/lib/python3.8/dist-packages (from ribs==0.4.0) (1.7.3)\n",
            "Requirement already satisfied: threadpoolctl>=3.0.0 in /usr/local/lib/python3.8/dist-packages (from ribs==0.4.0) (3.1.0)\n",
            "Requirement already satisfied: semantic-version>=2.10 in /usr/local/lib/python3.8/dist-packages (from ribs==0.4.0) (2.10.0)\n",
            "Requirement already satisfied: cycler>=0.10 in /usr/local/lib/python3.8/dist-packages (from matplotlib) (0.11.0)\n",
            "Requirement already satisfied: kiwisolver>=1.0.1 in /usr/local/lib/python3.8/dist-packages (from matplotlib) (1.4.4)\n",
            "Requirement already satisfied: python-dateutil>=2.1 in /usr/local/lib/python3.8/dist-packages (from matplotlib) (2.8.2)\n",
            "Requirement already satisfied: pyparsing!=2.0.4,!=2.1.2,!=2.1.6,>=2.0.1 in /usr/local/lib/python3.8/dist-packages (from matplotlib) (3.0.9)\n",
            "Requirement already satisfied: decorator<5.0,>=4.0.2 in /usr/local/lib/python3.8/dist-packages (from moviepy>=1.0.0) (4.4.2)\n",
            "Requirement already satisfied: tqdm<5.0,>=4.11.2 in /usr/local/lib/python3.8/dist-packages (from moviepy>=1.0.0) (4.64.1)\n",
            "Requirement already satisfied: proglog<=1.0.0 in /usr/local/lib/python3.8/dist-packages (from moviepy>=1.0.0) (0.1.10)\n",
            "Requirement already satisfied: requests<3.0,>=2.8.1 in /usr/local/lib/python3.8/dist-packages (from moviepy>=1.0.0) (2.25.1)\n",
            "Requirement already satisfied: imageio-ffmpeg>=0.2.0 in /usr/local/lib/python3.8/dist-packages (from moviepy>=1.0.0) (0.4.8)\n",
            "Requirement already satisfied: imageio<3.0,>=2.5 in /usr/local/lib/python3.8/dist-packages (from moviepy>=1.0.0) (2.9.0)\n",
            "Requirement already satisfied: pillow in /usr/local/lib/python3.8/dist-packages (from imageio<3.0,>=2.5->moviepy>=1.0.0) (7.1.2)\n",
            "Requirement already satisfied: zipp>=0.5 in /usr/local/lib/python3.8/dist-packages (from importlib-metadata>=4.8.0->gymnasium[box2d]==0.27.0) (3.11.0)\n",
            "Requirement already satisfied: llvmlite<0.40,>=0.39.0dev0 in /usr/local/lib/python3.8/dist-packages (from numba>=0.51.0->ribs==0.4.0) (0.39.1)\n",
            "Requirement already satisfied: setuptools in /usr/local/lib/python3.8/dist-packages (from numba>=0.51.0->ribs==0.4.0) (57.4.0)\n",
            "Requirement already satisfied: pytz>=2017.3 in /usr/local/lib/python3.8/dist-packages (from pandas>=1.0.0->ribs==0.4.0) (2022.7)\n",
            "Requirement already satisfied: six>=1.5 in /usr/local/lib/python3.8/dist-packages (from python-dateutil>=2.1->matplotlib) (1.15.0)\n",
            "Requirement already satisfied: chardet<5,>=3.0.2 in /usr/local/lib/python3.8/dist-packages (from requests<3.0,>=2.8.1->moviepy>=1.0.0) (4.0.0)\n",
            "Requirement already satisfied: idna<3,>=2.5 in /usr/local/lib/python3.8/dist-packages (from requests<3.0,>=2.8.1->moviepy>=1.0.0) (2.10)\n",
            "Requirement already satisfied: certifi>=2017.4.17 in /usr/local/lib/python3.8/dist-packages (from requests<3.0,>=2.8.1->moviepy>=1.0.0) (2022.12.7)\n",
            "Requirement already satisfied: urllib3<1.27,>=1.21.1 in /usr/local/lib/python3.8/dist-packages (from requests<3.0,>=2.8.1->moviepy>=1.0.0) (1.24.3)\n",
            "Requirement already satisfied: joblib>=0.11 in /usr/local/lib/python3.8/dist-packages (from scikit-learn>=0.20.0->ribs==0.4.0) (1.2.0)\n"
          ]
        }
      ],
      "source": [
        "%pip install git+https://github.com/icaros-usc/pyribs@docs/find-elites matplotlib gymnasium[box2d]==0.27.0 \"moviepy>=1.0.0\" # %pip install ribs[visualize] gymnasium[box2d]==0.27.0 \"moviepy>=1.0.0\""
      ]
    },
    {
      "cell_type": "markdown",
      "metadata": {
        "id": "oNMaEGunFKhU"
      },
      "source": [
        "Now, we import Gymnasium and several utilities."
      ]
    },
    {
      "cell_type": "code",
      "execution_count": 5,
      "metadata": {
        "id": "WhemB036FKhV"
      },
      "outputs": [],
      "source": [
        "import gymnasium as gym\n",
        "import time\n",
        "import numpy as np\n",
        "import matplotlib.pyplot as plt"
      ]
    },
    {
      "cell_type": "markdown",
      "metadata": {
        "id": "Jva_esiqFKhW"
      },
      "source": [
        "## Problem Description\n",
        "\n",
        "We treat the Lunar Lander as a quality diversity (QD) problem. For the objective, we use the default rewards provided by the environment, which encourages landing on the landing pad and penalizes engine usage.\n",
        "\n",
        "For the measure functions, we are interested in several factors at the time of \"impact.\" We define impact to be the first time when either of the lunar lander's legs touches the ground. When this happens, we measure the following:\n",
        "\n",
        "- $x$-position: This will lead to markedly different trajectories, as seen earlier.\n",
        "- $y$-velocity: Different velocities will determine how hard the lander impacts the ground.\n",
        "\n",
        "If the lunar lander never impacts the ground, we default the $x$-position to be the last $x$-position of the lander, and the $y$-velocity to be the maximum velocity of the lander (technically minimum since velocities are negative).\n",
        "\n",
        "We will search for policies that produce high-performing trajectories with these measures. For simplicity, we will use a linear policy to control the lunar lander. As the default lunar lander has discrete controls, the equation for this policy is:\n",
        "\n",
        "$$a = argmax(Ws)$$\n",
        "\n",
        "where $a$ is the action to take, $s$ is the state vector, and $W$ is our model, a matrix of weights that stays constant. Essentially, we transform the state to a vector with a \"signal\" for each possible action in the action space, and we choose the action with the highest signal. To search for a different policy, we explore the space of models $W$.\n",
        "\n",
        "In this tutorial, we will search for policies solving a fixed scenario with a flat terrain. To create this scenario, we use a fixed seed of 52 in the environment.\n",
        "\n",
        "**Note:** Since our policy and environment are both deterministic, we only have to simulate the policy once to find its performance. Typically, we would run our policy multiple times to gauge average performance and have it generalize, but we ignore that to keep this example simple."
      ]
    },
    {
      "cell_type": "code",
      "execution_count": 6,
      "metadata": {
        "id": "iEnaEBMgFKhX"
      },
      "outputs": [],
      "source": [
        "env = gym.make(\"LunarLander-v2\")\n",
        "seed = 52\n",
        "action_dim = env.action_space.n\n",
        "obs_dim = env.observation_space.shape[0]"
      ]
    },
    {
      "cell_type": "markdown",
      "metadata": {
        "id": "NI2KJcyAFKhY"
      },
      "source": [
        "We can summarize our problem description with the following `simulate` function, which takes in the model and rolls it out in the Lunar Lander environment."
      ]
    },
    {
      "cell_type": "code",
      "execution_count": 7,
      "metadata": {
        "id": "UlhzwjDlFKhZ"
      },
      "outputs": [],
      "source": [
        "def simulate(env, model, seed=None):\n",
        "    \"\"\"Simulates the lunar lander model.\n",
        "\n",
        "    Args:\n",
        "        env (gym.Env): A lunar lander environment.\n",
        "        model (np.ndarray): The array of weights for the linear policy. The\n",
        "            weights are passed in as a 1D array and reshaped into a matrix.\n",
        "        seed (int): The seed for the environment.\n",
        "    Returns:\n",
        "        total_reward (float): The reward accrued by the lander throughout its\n",
        "            trajectory.\n",
        "        impact_x_pos (float): The x position of the lander when it touches the\n",
        "            ground for the first time.\n",
        "        impact_y_vel (float): The y velocity of the lander when it touches the\n",
        "            ground for the first time.\n",
        "    \"\"\"\n",
        "    action_dim = env.action_space.n\n",
        "    obs_dim = env.observation_space.shape[0]\n",
        "    model = model.reshape((action_dim, obs_dim))\n",
        "\n",
        "    total_reward = 0.0\n",
        "    impact_x_pos = None\n",
        "    impact_y_vel = None\n",
        "    all_y_vels = []\n",
        "    obs, _ = env.reset(seed=seed)\n",
        "    done = False\n",
        "\n",
        "    while not done:\n",
        "        action = np.argmax(model @ obs)  # Linear policy.\n",
        "        obs, reward, terminated, truncated, _ = env.step(action)\n",
        "        done = terminated or truncated\n",
        "        total_reward += reward\n",
        "\n",
        "        # Refer to the definition of state here:\n",
        "        # https://gymnasium.farama.org/environments/box2d/lunar_lander/\n",
        "        x_pos = obs[0]\n",
        "        y_vel = obs[3]\n",
        "        leg0_touch = bool(obs[6])\n",
        "        leg1_touch = bool(obs[7])\n",
        "        all_y_vels.append(y_vel)\n",
        "\n",
        "        # Check if the lunar lander is impacting for the first time.\n",
        "        if impact_x_pos is None and (leg0_touch or leg1_touch):\n",
        "            impact_x_pos = x_pos\n",
        "            impact_y_vel = y_vel\n",
        "\n",
        "    # If the lunar lander did not land, set the x-pos to the one from the final\n",
        "    # timestep, and set the y-vel to the max y-vel (we use min since the lander\n",
        "    # goes down).\n",
        "    if impact_x_pos is None:\n",
        "        impact_x_pos = x_pos\n",
        "        impact_y_vel = min(all_y_vels)\n",
        "\n",
        "    return total_reward, impact_x_pos, impact_y_vel"
      ]
    },
    {
      "cell_type": "markdown",
      "metadata": {
        "id": "i3PYgVwuFKha"
      },
      "source": [
        "## CMA-ME with pyribs\n",
        "\n",
        "To train our policy, we will use the CMA-ME algorithm (if you are not familiar with CMA-ME, please refer to the corresponding [paper](https://arxiv.org/abs/1912.02400)). This means we need to import and initialize the `GridArchive`, `EvolutionStrategyEmitter`, and `Scheduler` from pyribs."
      ]
    },
    {
      "cell_type": "markdown",
      "source": [
        "### GridArchive\n",
        "\n",
        "First, the [`GridArchive`](https://docs.pyribs.org/en/stable/api/ribs.archives.GridArchive.html) stores solutions (i.e. models for our policy) in a rectangular grid. Each dimension of the `GridArchive` corresponds to a dimension in measure space that is segmented into equally sized cells. As we have two measure functions for our lunar lander, we have two dimensions in the `GridArchive`. The first dimension is the impact $x$-position, which ranges from -1 to 1, and the second is the impact $y$-velocity, which ranges from -3 (smashing into the ground) to 0 (gently touching down). We divide both dimensions into 50 cells.\n",
        "\n",
        "We additionally specify the dimensionality of solutions which will be stored in the archive. While each model is a 2D matrix, pyribs archives only allow 1D arrays for efficiency; hence, we create an `initial_model` below and retrieve its 1D size with `initial_model.size`."
      ],
      "metadata": {
        "id": "hd8Fa-uoNg_6"
      }
    },
    {
      "cell_type": "code",
      "execution_count": 8,
      "metadata": {
        "id": "EUipJ5cDFKhc"
      },
      "outputs": [],
      "source": [
        "from ribs.archives import GridArchive\n",
        "initial_model = np.zeros((action_dim, obs_dim))\n",
        "\n",
        "archive = GridArchive(\n",
        "    solution_dim=initial_model.size,  # Dimensionality of solutions in the archive.\n",
        "    dims=[50, 50],  # 50 cells along each dimension.\n",
        "    ranges=[(-1.0, 1.0), (-3.0, 0.0)],  # (-1, 1) for x-pos and (-3, 0) for y-vel.\n",
        ")"
      ]
    },
    {
      "cell_type": "markdown",
      "metadata": {
        "id": "XdCmEwtOFKhd"
      },
      "source": [
        "### EvolutionStrategyEmitter\n",
        "\n",
        "Next, the [`EvolutionStrategyEmitter`](https://docs.pyribs.org/en/stable/api/ribs.emitters.EvolutionStrategyEmitter.html) with two-stage improvement ranking (\"2imp\") uses CMA-ES to search for policies that add new entries to the archive or improve existing ones. Since we do not have any prior knowledge of what the model will be, we set the initial model to be the zero vector, and we set the initial step size for CMA-ES to be 1.0, so that initial solutions are sampled from a standard isotropic Gaussian. Furthermore, we use 5 emitters so the algorithm simultaneously searches several areas of measure space."
      ]
    },
    {
      "cell_type": "code",
      "execution_count": 9,
      "metadata": {
        "id": "IuyDI0HaFKhe"
      },
      "outputs": [],
      "source": [
        "from ribs.emitters import EvolutionStrategyEmitter\n",
        "\n",
        "emitters = [\n",
        "    EvolutionStrategyEmitter(\n",
        "        archive=archive,\n",
        "        x0=initial_model.flatten(),\n",
        "        sigma0=1.0,  # Initial step size.\n",
        "        ranker=\"2imp\",\n",
        "        batch_size=30,  # If we do not specify a batch size, the emitter will\n",
        "                        # automatically use a batch size equal to the default\n",
        "                        # population size of CMA-ES.\n",
        "    ) for _ in range(5)  # Create 5 separate emitters.\n",
        "]"
      ]
    },
    {
      "cell_type": "markdown",
      "source": [
        "#### A Note on Two-Stage Improvement Ranking\n",
        "\n",
        "The term \"two-stage\" refers to how this ranking mechanism ranks solutions by a tuple of `(status, value)` defined as follows:\n",
        "\n",
        "1. `status`: Whether the solution creates a new cell in the archive, improves an existing cell, or is not inserted.\n",
        "2. `value`: Consider the objective $f$ of the solution and the objective $f'$ of the solution currently in the cell where the solution will be inserted. When the solution creates a new cell, $f'$ is undefined because the cell was previously empty, so the value is defined as $f$. Otherwise, when the solution improves an existing cell or is not inserted at all, the value is $f - f'$.\n",
        "\n",
        "During ranking, this ranker will first prioritize new solutions, followed by solutions which improve existing cells, followed by solutions which are not inserted. Within each group, solutions are further ranked by their corresponding value.\n",
        "\n",
        "pyribs has several additional rankers available in the [ribs.emitters.rankers](https://docs.pyribs.org/en/stable/api/ribs.emitters.rankers.html) module. These rankers correspond to different emitters described in the CMA-ME paper."
      ],
      "metadata": {
        "id": "TwS_5rnPRCbr"
      }
    },
    {
      "cell_type": "markdown",
      "metadata": {
        "id": "CYJ5zor9FKhg"
      },
      "source": [
        "### Scheduler\n",
        "\n",
        "Finally, the [`Scheduler`](https://docs.pyribs.org/en/stable/api/ribs.schedulers.Scheduler.html) connects the archive and emitters together."
      ]
    },
    {
      "cell_type": "code",
      "execution_count": 10,
      "metadata": {
        "id": "ytg5qUP2FKhj"
      },
      "outputs": [],
      "source": [
        "from ribs.schedulers import Scheduler\n",
        "\n",
        "scheduler = Scheduler(archive, emitters)"
      ]
    },
    {
      "cell_type": "markdown",
      "metadata": {
        "id": "S5NOJy6YFKhk"
      },
      "source": [
        "## QD Search\n",
        "\n",
        "With the pyribs components defined, we start searching with CMA-ME. This loop should take **~2 hours** to run. Since we use 5 emitters each with a batch size of 30 and we run 500 iterations, we run 5 x 30 x 500 = 75,000 lunar lander simulations. We also keep track of some logging info via `archive.stats`, which is an [`ArchiveStats`](https://docs.pyribs.org/en/stable/api/ribs.archives.ArchiveStats.html) object."
      ]
    },
    {
      "cell_type": "code",
      "execution_count": 11,
      "metadata": {
        "id": "pd2abvstFKhm"
      },
      "outputs": [],
      "source": [
        "start_time = time.time()\n",
        "total_itrs = 3\n",
        "\n",
        "for itr in range(1, total_itrs + 1):\n",
        "    # Request models from the scheduler.\n",
        "    sols = scheduler.ask()\n",
        "\n",
        "    # Evaluate the models and record the objectives and measuress.\n",
        "    objs, meas = [], []\n",
        "    for model in sols:\n",
        "        obj, impact_x_pos, impact_y_vel = simulate(env, model, seed)\n",
        "        objs.append(obj)\n",
        "        meas.append([impact_x_pos, impact_y_vel])\n",
        "\n",
        "    # Send the results back to the scheduler.\n",
        "    scheduler.tell(objs, meas)\n",
        "\n",
        "    # Logging.\n",
        "    if itr % 25 == 0:\n",
        "        print(f\"> {itr} itrs completed after {time.time() - start_time:.2f}s\")\n",
        "        print(f\"  - Size: {archive.stats.num_elites}\")    # Number of elites in the archive.\n",
        "        print(f\"  - Coverage: {archive.stats.coverage}\")  # Proportion of archive cells which have an elite.\n",
        "        print(f\"  - QD Score: {archive.stats.qd_score}\")  # QD score, i.e. sum of objective values of all elites in the archive.\n",
        "        print(f\"  - Max Score: {archive.stats.obj_max}\")  # Maximum objective value in the archive."
      ]
    },
    {
      "cell_type": "markdown",
      "metadata": {
        "id": "pZIzzxxWFKhp"
      },
      "source": [
        "## Visualizing the Archive\n",
        "\n",
        "Using [`grid_archive_heatmap`](https://docs.pyribs.org/en/stable/api/ribs.visualize.grid_archive_heatmap.html) from the [`ribs.visualize`](https://docs.pyribs.org/en/stable/api/ribs.visualize.html) module, we can view a heatmap of the archive. The heatmap shows the measures for which CMA-ME found a solution. The color of each cell shows the objective value of the solution."
      ]
    },
    {
      "cell_type": "code",
      "execution_count": 20,
      "metadata": {
        "id": "ufCTDxiAFKhp",
        "outputId": "a9ba6326-af8f-4a6e-d823-bdf6eb6c4bfc",
        "colab": {
          "base_uri": "https://localhost:8080/",
          "height": 409
        }
      },
      "outputs": [
        {
          "output_type": "execute_result",
          "data": {
            "text/plain": [
              "Text(0.5, 0, 'Impact x-position')"
            ]
          },
          "metadata": {},
          "execution_count": 20
        },
        {
          "output_type": "display_data",
          "data": {
            "text/plain": [
              "<Figure size 576x432 with 2 Axes>"
            ],
            "image/png": "[encoded data removed]"
          },
          "metadata": {
            "needs_background": "light"
          }
        }
      ],
      "source": [
        "from ribs.visualize import grid_archive_heatmap\n",
        "\n",
        "plt.figure(figsize=(8, 6))\n",
        "grid_archive_heatmap(archive, vmin=-300, vmax=300)\n",
        "plt.gca().invert_yaxis()  # Makes more sense if larger velocities are on top.\n",
        "plt.ylabel(\"Impact y-velocity\")\n",
        "plt.xlabel(\"Impact x-position\")"
      ]
    },
    {
      "cell_type": "markdown",
      "metadata": {
        "id": "8sHKT6nJFKhq"
      },
      "source": [
        "From this heatmap, we can make a few observations:\n",
        "\n",
        "- CMA-ME found solutions for almost all cells in the archive. Empty cells show up as white.\n",
        "- Most of the high-performing solutions have lower impact $y$-velocities (see the bright area at the bottom of the map). This is reasonable, as a lander that crashes into the ground would not do well.\n",
        "- The high-performing solutions are spread across a wide range of impact $x$-positions. The highest solutions seem to be at $x \\approx 0$ (the bright spot in the middle). This makes sense since an impact $x$-position of 0 corresponds to the direct vertical approach. Nevertheless, there are many high-performing solutions that had other $x$-positions, and we will visualize them in the next section."
      ]
    },
    {
      "cell_type": "markdown",
      "metadata": {
        "id": "cG6GDOpyFKhr"
      },
      "source": [
        "## Visualizing Individual Trajectories\n",
        "\n",
        "To view the trajectories for different models, we can use the [RecordVideo](https://gymnasium.farama.org/api/wrappers/misc_wrappers/#gymnasium.wrappers.RecordVideo) wrapper, and we can use IPython to display the video in the notebook. The `display_video` function below shows how to do this."
      ]
    },
    {
      "cell_type": "code",
      "execution_count": 21,
      "metadata": {
        "id": "vT-xb4myFKhr"
      },
      "outputs": [],
      "source": [
        "import base64\n",
        "import glob\n",
        "import io\n",
        "\n",
        "from IPython.display import display, HTML\n",
        "\n",
        "\n",
        "def display_video(model):\n",
        "    \"\"\"Displays a video of the model in the environment.\"\"\"\n",
        "\n",
        "    video_env = gym.wrappers.RecordVideo(\n",
        "        gym.make(\"LunarLander-v2\", render_mode=\"rgb_array\"),\n",
        "        video_folder=\"videos\",\n",
        "        # This will ensure all episodes are recorded as videos.\n",
        "        episode_trigger=lambda idx: True,\n",
        "        # Disables moviepy's logger to reduce clutter in the output.\n",
        "        disable_logger=True,\n",
        "    )\n",
        "    simulate(video_env, model, seed)\n",
        "    video_env.close()  # Save video.\n",
        "\n",
        "    # Display the video with HTML. Though we use glob, there is only 1 video.\n",
        "    for video_file in glob.glob(\"videos/*.mp4\"):\n",
        "        video = io.open(video_file, 'rb').read()\n",
        "        encoded = base64.b64encode(video).decode(\"ascii\")\n",
        "        display(\n",
        "            HTML(f'''\n",
        "            <video width=\"360\" height=\"auto\" controls>\n",
        "                <source src=\"data:video/mp4;base64,{encoded}\" type=\"video/mp4\" />\n",
        "            </video>'''))"
      ]
    },
    {
      "cell_type": "markdown",
      "metadata": {
        "id": "t2QPnuqgFKhr"
      },
      "source": [
        "\n",
        "We can retrieve policies with measures that are close to a query with the [`find_elites_single`](https://docs.pyribs.org/en/stable/api/ribs.archives.GridArchive.html#ribs.archives.GridArchive.find_elites_single) method. This method will look up the cell corresponding to the queried measures. Then, the method will check if there is an elite in that cell, and return the elite if it exists (the method does not check neighboring cells for elites). The returned elite may not have the exact measures requested because the elite only has to be in the same cell as the queried measures.\n",
        "\n",
        "Below, we first retrieve a policy that impacted the ground on the left (approximately -0.4) with low velocity (approximately -0.10) by querying for `[-0.4, 0.10]`.\n",
        "\n",
        "**Note:** `find_elites_single` returns a single [Elite](https://docs.pyribs.org/en/stable/api/ribs.archives.Elite.html) object given a single `measures` array. Meanwhile, the [`find_elites`](https://docs.pyribs.org/en/stable/api/ribs.archives.GridArchive.html#ribs.archives.GridArchive.find_elites) method takes in a _batch_ of measures (named `measures_batch`) and returns an [EliteBatch](https://docs.pyribs.org/en/stable/api/ribs.archives.EliteBatch.html) object. Several archive methods in pyribs follow a similar pattern of having a batch and single version, e.g., [`add`](https://docs.pyribs.org/en/stable/api/ribs.archives.GridArchive.html#ribs.archives.GridArchive.add) and [`add_single`](https://docs.pyribs.org/en/stable/api/ribs.archives.GridArchive.html#ribs.archives.GridArchive.add_single)."
      ]
    },
    {
      "cell_type": "code",
      "execution_count": 22,
      "metadata": {
        "id": "FxTO1P3tFKhs",
        "outputId": "ed9f5784-aef5-46b6-8934-6e6320376f8b",
        "colab": {
          "base_uri": "https://localhost:8080/",
          "height": 316
        }
      },
      "outputs": [
        {
          "output_type": "stream",
          "name": "stderr",
          "text": [
            "/usr/local/lib/python3.8/dist-packages/gymnasium/wrappers/record_video.py:79: UserWarning: \u001b[33mWARN: Overwriting existing videos at /content/videos folder (try specifying a different `video_folder` for the `RecordVideo` wrapper if this is not desired)\u001b[0m\n",
            "  logger.warn(\n"
          ]
        },
        {
          "output_type": "display_data",
          "data": {
            "text/plain": [
              "<IPython.core.display.HTML object>"
            ],
            "text/html": [
              "\n",
              "            <video width=\"360\" height=\"auto\" controls>\n",
              "                <source src=\"data:video/mp4;base64,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\" type=\"video/mp4\" />\n",
              "            </video>"
            ]
          },
          "metadata": {}
        }
      ],
      "source": [
        "elite = archive.find_elites_single([-0.4, -0.10])\n",
        "if elite.solution is not None:\n",
        "    display_video(elite.solution)"
      ]
    },
    {
      "cell_type": "markdown",
      "metadata": {
        "id": "JA3KJCMLFKhs"
      },
      "source": [
        "We can also find a policy that impacted the ground on the right (0.4) with low velocity."
      ]
    },
    {
      "cell_type": "code",
      "execution_count": 23,
      "metadata": {
        "id": "0lgiOQ2sFKht",
        "outputId": "a8b51127-980d-4fe1-ef83-af6d48b81cf6",
        "colab": {
          "base_uri": "https://localhost:8080/",
          "height": 261
        }
      },
      "outputs": [
        {
          "output_type": "display_data",
          "data": {
            "text/plain": [
              "<IPython.core.display.HTML object>"
            ],
            "text/html": [
              "\n",
              "            <video width=\"360\" height=\"auto\" controls>\n",
              "                <source src=\"data:video/mp4;base64,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\" type=\"video/mp4\" />\n",
              "            </video>"
            ]
          },
          "metadata": {}
        }
      ],
      "source": [
        "elite = archive.find_elites_single([0.4, -0.10])\n",
        "if elite.solution is not None:\n",
        "    display_video(elite.solution)"
      ]
    },
    {
      "cell_type": "markdown",
      "metadata": {
        "id": "OuP_5VVDFKht"
      },
      "source": [
        "And we can find a policy that executes a regular vertical landing, which happens when the impact $x$-position is around 0."
      ]
    },
    {
      "cell_type": "code",
      "execution_count": 24,
      "metadata": {
        "id": "v4nAwfmXFKht",
        "outputId": "ac7ada92-8539-46d8-aa96-17e2ffd96b73",
        "colab": {
          "base_uri": "https://localhost:8080/",
          "height": 261
        }
      },
      "outputs": [
        {
          "output_type": "display_data",
          "data": {
            "text/plain": [
              "<IPython.core.display.HTML object>"
            ],
            "text/html": [
              "\n",
              "            <video width=\"360\" height=\"auto\" controls>\n",
              "                <source src=\"data:video/mp4;base64,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\" type=\"video/mp4\" />\n",
              "            </video>"
            ]
          },
          "metadata": {}
        }
      ],
      "source": [
        "elite = archive.find_elites_single([0.0, -0.10])\n",
        "if elite.solution is not None:\n",
        "    display_video(elite.solution)"
      ]
    },
    {
      "cell_type": "markdown",
      "metadata": {
        "id": "MZLDoutPFKhu"
      },
      "source": [
        "As the archive has ~2500 solutions, we cannot view them all, but we can filter for high-performing solutions. We first retrieve the archive's elites with the [`as_pandas`](https://docs.pyribs.org/en/stable/api/ribs.archives.GridArchive.html#ribs.archives.GridArchive.as_pandas) method. Then, we choose solutions that scored above 200 because 200 is the [threshold for the problem to be considered solved](https://gymnasium.farama.org/environments/box2d/lunar_lander/). Note that many solutions that are considered solved do not land on the landing pad."
      ]
    },
    {
      "cell_type": "code",
      "execution_count": 25,
      "metadata": {
        "id": "0rHgh4fgFKhu"
      },
      "outputs": [],
      "source": [
        "df = archive.as_pandas()\n",
        "high_perf_sols = df.query(\"objective > 200\").sort_values(\"objective\", ascending=False)"
      ]
    },
    {
      "cell_type": "markdown",
      "metadata": {
        "id": "0_RYE1rTFKhu"
      },
      "source": [
        "Below we visualize several of these high-performing solutions. The `iterelites` method is available because `as_pandas` returns an [`ArchiveDataFrame`](https://docs.pyribs.org/en/stable/api/ribs.archives.ArchiveDataFrame.html), a subclass of the Pandas DataFrame specialized for pyribs. `iterelites` iterates over the entries in the DataFrame and returns them as [`Elite`](https://docs.pyribs.org/en/stable/api/ribs.archives.Elite.html) objects."
      ]
    },
    {
      "cell_type": "code",
      "execution_count": 26,
      "metadata": {
        "id": "brTepWvkFKhv"
      },
      "outputs": [],
      "source": [
        "if len(high_perf_sols) > 0:\n",
        "    for elite in high_perf_sols.iloc[[0, len(high_perf_sols) // 2, -1]].iterelites():\n",
        "        display_video(elite.solution)"
      ]
    },
    {
      "cell_type": "markdown",
      "source": [
        "And finally, the [`best_elite`](https://docs.pyribs.org/en/stable/api/ribs.archives.GridArchive.html#ribs.archives.GridArchive.best_elite) property is the [`Elite`](https://docs.pyribs.org/en/stable/api/ribs.archives.Elite.html) which has the highest performance in the archive."
      ],
      "metadata": {
        "id": "P3cQJ2ctOBG5"
      }
    },
    {
      "cell_type": "code",
      "source": [
        "display_video(archive.best_elite.solution)"
      ],
      "metadata": {
        "colab": {
          "base_uri": "https://localhost:8080/",
          "height": 261
        },
        "id": "4OTjcg1XN_xz",
        "outputId": "0d34d707-d62c-4f85-ae44-6336d562be4d"
      },
      "execution_count": 27,
      "outputs": [
        {
          "output_type": "display_data",
          "data": {
            "text/plain": [
              "<IPython.core.display.HTML object>"
            ],
            "text/html": [
              "\n",
              "            <video width=\"360\" height=\"auto\" controls>\n",
              "                <source src=\"data:video/mp4;base64,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\" type=\"video/mp4\" />\n",
              "            </video>"
            ]
          },
          "metadata": {}
        }
      ]
    },
    {
      "cell_type": "markdown",
      "metadata": {
        "id": "ooGfhHCuFKhv"
      },
      "source": [
        "## Conclusion\n",
        "\n",
        "As the saying goes, \"there is more than one way to land an airplane\" 😉. However, it is often difficult to shape the reward function in reinforcement learning to discover these unique and \"creative\" solutions. In such cases, a QD algorithm can help search for solutions that vary in \"interestingness.\"\n",
        "\n",
        "In this tutorial, we showed that this is the case for the lunar lander environment. Using CMA-ME, we searched for lunar lander trajectories with differing impact measures. Though these trajectories all take a different approach, many perform well.\n",
        "\n",
        "For extending this tutorial, we suggest the following:\n",
        "\n",
        "- Replace the impact measures with your own measures. What other properties might be interesting for the lunar lander?\n",
        "- Try different terrains by changing the seed. For instance, if the environment has valleys, can the lander learn to go into this valley and glide back up?\n",
        "- Use other gym environments. What measures could you use in an environment like `BipedalWalker-v2`?\n",
        "\n",
        "Finally, to learn about an algorithm which performs even better on this problem and other QD problems, check out the [Lunar Lander CMA-MAE tutorial](https://docs.pyribs.org/en/stable/tutorials/lunar_lander_mae.html).\n",
        "\n",
        "And for a version of this tutorial that uses [Dask](https://dask.org) to parallelize evaluations and thus speed things up, refer to the [Lunar Lander example](https://docs.pyribs.org/en/stable/examples/lunar_lander.html)."
      ]
    },
    {
      "cell_type": "markdown",
      "metadata": {
        "id": "7H8B12jOFKhw"
      },
      "source": [
        "## Citation\n",
        "\n",
        "If you find this tutorial useful, please cite it as:\n",
        "\n",
        "```text\n",
        "@article{pyribs_lunar_lander,\n",
        "  title   = {Using CMA-ME to Land a Lunar Lander Like a Space Shuttle},\n",
        "  author  = {Bryon Tjanaka and Sam Sommerer and Nikitas Klapsis and Matthew C. Fontaine and Stefanos Nikolaidis},\n",
        "  journal = {pyribs.org},\n",
        "  year    = {2021},\n",
        "  url     = {https://docs.pyribs.org/en/stable/tutorials/lunar_lander.html}\n",
        "}\n",
        "```"
      ]
    },
    {
      "cell_type": "markdown",
      "metadata": {
        "id": "5kAdvjZiFKhw"
      },
      "source": [
        "## Credits\n",
        "\n",
        "This tutorial is based on a [poster](https://web.archive.org/web/20220817214422/https://1l7puj10vwe3zflo2jsktkit-wpengine.netdna-ssl.com/wp-content/uploads/2020/08/S20-Klapsis-Poster.pdf) created by Nikitas Klapsis as part of USC's 2020 SHINE program."
      ]
    }
  ],
  "metadata": {
    "kernelspec": {
      "display_name": "Python 3 (ipykernel)",
      "language": "python",
      "name": "python3"
    },
    "language_info": {
      "codemirror_mode": {
        "name": "ipython",
        "version": 3
      },
      "file_extension": ".py",
      "mimetype": "text/x-python",
      "name": "python",
      "nbconvert_exporter": "python",
      "pygments_lexer": "ipython3",
      "version": "3.7.13"
    },
    "colab": {
      "provenance": []
    }
  },
  "nbformat": 4,
  "nbformat_minor": 0
}