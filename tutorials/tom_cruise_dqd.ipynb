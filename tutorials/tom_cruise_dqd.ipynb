{
 "cells": [
  {
   "cell_type": "markdown",
   "id": "c0bd5447-e3c7-4bc6-ade1-7fd1aca89d88",
   "metadata": {},
   "source": [
    "# Generating Tom Cruise Images with Differentiable Quality Diversity\n",
    "\n",
    "(This tutorial is a work in progress.)"
   ]
  }
 ],
 "metadata": {
  "kernelspec": {
   "display_name": "Python 3 (ipykernel)",
   "language": "python",
   "name": "python3"
  },
  "language_info": {
   "codemirror_mode": {
    "name": "ipython",
    "version": 3
   },
   "file_extension": ".py",
   "mimetype": "text/x-python",
   "name": "python",
   "nbconvert_exporter": "python",
   "pygments_lexer": "ipython3",
   "version": "3.7.13"
  }
 },
 "nbformat": 4,
 "nbformat_minor": 5
}
