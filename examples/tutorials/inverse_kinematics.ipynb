{
 "cells": [
  {
   "cell_type": "markdown",
   "metadata": {},
   "source": [
    "# Inverse Kinematics\n",
    "\n",
    "In this tutorial, we demonstrate how to use MAP-Elites to solve an inverse kinematics problem.\n",
    "\n",
    "## Overview\n",
    "\n",
    "Inverse kinematics is an important robotics problem in which, given a final robot configuration, one must figure out the actions to take to accomplish that position. (TODO: update this)\n",
    "\n",
    "In this example, we will deal with a planar (2D) 12-DoF arm that needs to move its end effector to a certain position. Using MAP-Elites, we will find joint configurations that move the arm to a wide variety of positions."
   ]
  },
  {
   "cell_type": "markdown",
   "metadata": {},
   "source": [
    "## Setup"
   ]
  },
  {
   "cell_type": "code",
   "execution_count": 1,
   "metadata": {},
   "outputs": [
    {
     "name": "stdout",
     "output_type": "stream",
     "text": [
      "Requirement already satisfied: ribs[examples] in /home/btjanaka/Resistance/usc/icaros/projects/pyribs (0.0.0)\n",
      "Requirement already satisfied: numpy>=1.17.0 in /home/btjanaka/Resistance/usc/icaros/projects/pyribs/env/lib/python3.7/site-packages (from ribs[examples]) (1.19.4)\n",
      "Requirement already satisfied: pandas>=1.0.0 in /home/btjanaka/Resistance/usc/icaros/projects/pyribs/env/lib/python3.7/site-packages (from ribs[examples]) (1.1.4)\n",
      "Requirement already satisfied: scipy>=1.0.0 in /home/btjanaka/Resistance/usc/icaros/projects/pyribs/env/lib/python3.7/site-packages (from ribs[examples]) (1.5.3)\n",
      "Requirement already satisfied: seaborn>=0.11.0 in /home/btjanaka/Resistance/usc/icaros/projects/pyribs/env/lib/python3.7/site-packages (from ribs[examples]) (0.11.0)\n",
      "Requirement already satisfied: pytz>=2017.2 in /home/btjanaka/Resistance/usc/icaros/projects/pyribs/env/lib/python3.7/site-packages (from pandas>=1.0.0->ribs[examples]) (2020.4)\n",
      "Requirement already satisfied: python-dateutil>=2.7.3 in /home/btjanaka/Resistance/usc/icaros/projects/pyribs/env/lib/python3.7/site-packages (from pandas>=1.0.0->ribs[examples]) (2.8.1)\n",
      "Requirement already satisfied: matplotlib>=2.2 in /home/btjanaka/Resistance/usc/icaros/projects/pyribs/env/lib/python3.7/site-packages (from seaborn>=0.11.0->ribs[examples]) (3.3.2)\n",
      "Requirement already satisfied: six>=1.5 in /home/btjanaka/Resistance/usc/icaros/projects/pyribs/env/lib/python3.7/site-packages (from python-dateutil>=2.7.3->pandas>=1.0.0->ribs[examples]) (1.15.0)\n",
      "Requirement already satisfied: kiwisolver>=1.0.1 in /home/btjanaka/Resistance/usc/icaros/projects/pyribs/env/lib/python3.7/site-packages (from matplotlib>=2.2->seaborn>=0.11.0->ribs[examples]) (1.3.1)\n",
      "Requirement already satisfied: certifi>=2020.06.20 in /home/btjanaka/Resistance/usc/icaros/projects/pyribs/env/lib/python3.7/site-packages (from matplotlib>=2.2->seaborn>=0.11.0->ribs[examples]) (2020.6.20)\n",
      "Requirement already satisfied: pyparsing!=2.0.4,!=2.1.2,!=2.1.6,>=2.0.3 in /home/btjanaka/Resistance/usc/icaros/projects/pyribs/env/lib/python3.7/site-packages (from matplotlib>=2.2->seaborn>=0.11.0->ribs[examples]) (2.4.7)\n",
      "Requirement already satisfied: cycler>=0.10 in /home/btjanaka/Resistance/usc/icaros/projects/pyribs/env/lib/python3.7/site-packages (from matplotlib>=2.2->seaborn>=0.11.0->ribs[examples]) (0.10.0)\n",
      "Requirement already satisfied: pillow>=6.2.0 in /home/btjanaka/Resistance/usc/icaros/projects/pyribs/env/lib/python3.7/site-packages (from matplotlib>=2.2->seaborn>=0.11.0->ribs[examples]) (8.0.1)\n"
     ]
    }
   ],
   "source": [
    "import sys\n",
    "!{sys.executable} -m pip install ribs[examples]"
   ]
  },
  {
   "cell_type": "code",
   "execution_count": 6,
   "metadata": {},
   "outputs": [],
   "source": [
    "import matplotlib.pyplot as plt\n",
    "import numpy as np\n",
    "\n",
    "from ribs.archives import GridArchive\n",
    "from ribs.optimizers import Optimizer"
   ]
  },
  {
   "cell_type": "markdown",
   "metadata": {},
   "source": [
    "## Visualization"
   ]
  },
  {
   "cell_type": "code",
   "execution_count": 3,
   "metadata": {},
   "outputs": [],
   "source": [
    "def visualize(angles, joint_lengths):\n",
    "    return"
   ]
  },
  {
   "cell_type": "markdown",
   "metadata": {},
   "source": [
    "## Behavior Characteristics"
   ]
  },
  {
   "cell_type": "code",
   "execution_count": 4,
   "metadata": {},
   "outputs": [],
   "source": [
    "def forward_kinematics(angles, joint_lengths):\n",
    "    return"
   ]
  },
  {
   "cell_type": "markdown",
   "metadata": {},
   "source": [
    "## Evaluation Function\n",
    "\n",
    "Perhaps how straight the robot arm is? See the IsoLineDD paper."
   ]
  },
  {
   "cell_type": "code",
   "execution_count": null,
   "metadata": {},
   "outputs": [],
   "source": []
  },
  {
   "cell_type": "markdown",
   "metadata": {},
   "source": [
    "## Running MAP-Elites"
   ]
  },
  {
   "cell_type": "code",
   "execution_count": 7,
   "metadata": {},
   "outputs": [
    {
     "ename": "TypeError",
     "evalue": "__init__() missing 3 required positional arguments: 'x0', 'sigma0', and 'archive'",
     "output_type": "error",
     "traceback": [
      "\u001b[0;31m---------------------------------------------------------------------------\u001b[0m",
      "\u001b[0;31mTypeError\u001b[0m                                 Traceback (most recent call last)",
      "\u001b[0;32m<ipython-input-7-d0135b2612db>\u001b[0m in \u001b[0;36m<module>\u001b[0;34m\u001b[0m\n\u001b[0;32m----> 1\u001b[0;31m \u001b[0mopt\u001b[0m \u001b[0;34m=\u001b[0m \u001b[0mOptimizer\u001b[0m\u001b[0;34m(\u001b[0m\u001b[0;34m)\u001b[0m\u001b[0;34m\u001b[0m\u001b[0;34m\u001b[0m\u001b[0m\n\u001b[0m",
      "\u001b[0;31mTypeError\u001b[0m: __init__() missing 3 required positional arguments: 'x0', 'sigma0', and 'archive'"
     ]
    }
   ],
   "source": [
    "opt = Optimizer()"
   ]
  },
  {
   "cell_type": "markdown",
   "metadata": {},
   "source": [
    "## Analyzing Results\n",
    "\n",
    "Here, we will print out all the solutions we found."
   ]
  },
  {
   "cell_type": "code",
   "execution_count": null,
   "metadata": {},
   "outputs": [],
   "source": []
  },
  {
   "cell_type": "markdown",
   "metadata": {},
   "source": [
    "## Conclusion\n",
    "\n",
    "In this tutorial, we..."
   ]
  }
 ],
 "metadata": {
  "kernelspec": {
   "display_name": "Python 3",
   "language": "python",
   "name": "python3"
  },
  "language_info": {
   "codemirror_mode": {
    "name": "ipython",
    "version": 3
   },
   "file_extension": ".py",
   "mimetype": "text/x-python",
   "name": "python",
   "nbconvert_exporter": "python",
   "pygments_lexer": "ipython3",
   "version": "3.7.8"
  }
 },
 "nbformat": 4,
 "nbformat_minor": 4
}
