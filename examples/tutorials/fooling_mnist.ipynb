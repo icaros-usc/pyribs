{
 "cells": [
  {
   "cell_type": "markdown",
   "metadata": {},
   "source": [
    "# Generating Images to Fool an MNIST Classifier\n",
    "\n",
    "Despite their high performance on classification tasks suh as MNIST, neural networks like the [LeNet-5](https://en.wikipedia.org/wiki/LeNet) have a weakness: they are easy to fool. Namely, given images like the ones below, a classifier may confidently believe that it is seeing certain digits, even though the images look like random noise to humans. Naturally, this phenomenon raises some concerns, especially when the network in question is used in a safety-critical system like a self-driving car. Given such unrecognizable input, one would hope that the network at least has low confidence in its prediction.\n",
    "\n",
    "![fooling images example](_static/fooling_mnist_example.png)\n",
    "\n",
    "To make matters worse for neural networks, generating such images is incredibly easy with QD algorithms. As shown in [Nguyen 2015](http://anhnguyen.me/project/fooling/), one can use simple MAP-Elites to generate these images. In this tutorial, we will use the pyribs version of MAP-Elites to do exactly that."
   ]
  },
  {
   "cell_type": "markdown",
   "metadata": {},
   "source": [
    "## Setup"
   ]
  },
  {
   "cell_type": "code",
   "execution_count": null,
   "metadata": {},
   "outputs": [],
   "source": [
    "%pip install ribs torch torchvision"
   ]
  },
  {
   "cell_type": "code",
   "execution_count": 2,
   "metadata": {},
   "outputs": [],
   "source": [
    "import time\n",
    "\n",
    "import matplotlib.pyplot as plt\n",
    "import numpy as np\n",
    "import torch\n",
    "import torch.nn as nn\n",
    "import torchvision\n",
    "\n",
    "from ribs.archives import GridArchive\n",
    "from ribs.emitters import GaussianEmitter\n",
    "from ribs.optimizers import Optimizer"
   ]
  },
  {
   "cell_type": "code",
   "execution_count": 3,
   "metadata": {},
   "outputs": [
    {
     "name": "stdout",
     "output_type": "stream",
     "text": [
      "cuda\n"
     ]
    }
   ],
   "source": [
    "use_cuda = torch.cuda.is_available()\n",
    "device = torch.device(\"cuda\" if use_cuda else \"cpu\")\n",
    "print(device)"
   ]
  },
  {
   "cell_type": "markdown",
   "metadata": {},
   "source": [
    "## Preliminary: MNIST Network\n",
    "\n",
    "For our classifier network, we train a LeNet-5 to classify MNIST. If you are not familiar with PyTorch, we recommend referring to the [PyTorch 60-minute blitz](https://pytorch.org/tutorials/beginner/deep_learning_60min_blitz.html). On the other hand, if you are familiar, feel free to skip to the next section, where we demonstrate how to fool the network.\n",
    "\n",
    "Before the training the network, we load and preprocess the MNIST dataset."
   ]
  },
  {
   "cell_type": "code",
   "execution_count": 4,
   "metadata": {},
   "outputs": [],
   "source": [
    "# Transform each image by turning it into a tensor and then\n",
    "# normalizing the values.\n",
    "MEAN_TRANSFORM = 0.1307\n",
    "STD_DEV_TRANSFORM = 0.3081\n",
    "mnist_transforms = torchvision.transforms.Compose([\n",
    "    torchvision.transforms.ToTensor(),\n",
    "    torchvision.transforms.Normalize((MEAN_TRANSFORM,), (STD_DEV_TRANSFORM,))\n",
    "])\n",
    "\n",
    "TRAIN_BATCH_SIZE = 64\n",
    "TRAINLOADER = torch.utils.data.DataLoader(torchvision.datasets.MNIST(\n",
    "    './data', train=True, download=True, transform=mnist_transforms),\n",
    "                                          batch_size=TRAIN_BATCH_SIZE,\n",
    "                                          shuffle=True)\n",
    "\n",
    "TEST_BATCH_SIZE = 1000\n",
    "TESTLOADER = torch.utils.data.DataLoader(torchvision.datasets.MNIST(\n",
    "    './data', train=False, transform=mnist_transforms),\n",
    "                                         batch_size=TEST_BATCH_SIZE,\n",
    "                                         shuffle=False)"
   ]
  },
  {
   "cell_type": "markdown",
   "metadata": {},
   "source": [
    "This is our training function. We use negative log likelihood loss and Adam optimization."
   ]
  },
  {
   "cell_type": "code",
   "execution_count": 5,
   "metadata": {},
   "outputs": [],
   "source": [
    "def fit(net, epochs):\n",
    "    \"\"\"Trains net for the given number of epochs.\"\"\"\n",
    "    criterion = nn.NLLLoss()\n",
    "    optimizer = torch.optim.Adam(net.parameters())\n",
    "\n",
    "    for epoch in range(epochs):\n",
    "        print(f\"=== Epoch {epoch + 1} ===\")\n",
    "        total_loss = 0.0\n",
    "\n",
    "        # Iterate through batches in the shuffled training dataset.\n",
    "        for batch_i, data in enumerate(TRAINLOADER):\n",
    "            inputs = data[0].to(device)\n",
    "            labels = data[1].to(device)\n",
    "\n",
    "            optimizer.zero_grad()\n",
    "            outputs = net(inputs)\n",
    "            loss = criterion(outputs, labels)\n",
    "            loss.backward()\n",
    "            optimizer.step()\n",
    "\n",
    "            total_loss += loss.item()\n",
    "            if (batch_i + 1) % 100 == 0:\n",
    "                print(f\"Batch {batch_i + 1:5d}: {total_loss}\")\n",
    "                total_loss = 0.0"
   ]
  },
  {
   "cell_type": "markdown",
   "metadata": {},
   "source": [
    "Now, we define the LeNet-5 and train it for 2 epochs. We have annotated the shapes of the data (excluding the batch dimension) as they pass through the network."
   ]
  },
  {
   "cell_type": "code",
   "execution_count": 6,
   "metadata": {},
   "outputs": [
    {
     "name": "stdout",
     "output_type": "stream",
     "text": [
      "=== Epoch 1 ===\n",
      "Batch   100: 104.05875018239021\n",
      "Batch   200: 32.66764344274998\n",
      "Batch   300: 22.60749428719282\n",
      "Batch   400: 14.98543407395482\n",
      "Batch   500: 12.60848225839436\n",
      "Batch   600: 11.927413458004594\n",
      "Batch   700: 11.24536281824112\n",
      "Batch   800: 10.417082185856998\n",
      "Batch   900: 9.445754482410848\n",
      "=== Epoch 2 ===\n",
      "Batch   100: 8.67462042812258\n",
      "Batch   200: 6.596098876558244\n",
      "Batch   300: 8.126990044489503\n",
      "Batch   400: 6.144526142627001\n",
      "Batch   500: 6.19329902343452\n",
      "Batch   600: 6.277753548230976\n",
      "Batch   700: 6.5695476308465\n",
      "Batch   800: 7.3804698921740055\n",
      "Batch   900: 6.067771065048873\n"
     ]
    }
   ],
   "source": [
    "LENET5 = nn.Sequential(\n",
    "    nn.Conv2d(1, 6, (5, 5), stride=1, padding=0),  # (1,28,28) -> (6,24,24)\n",
    "    nn.MaxPool2d(2),  # (6,24,24) -> (6,12,12)\n",
    "    nn.ReLU(),\n",
    "    nn.Conv2d(6, 16, (5, 5), stride=1, padding=0),  # (6,12,12) -> (16,8,8)\n",
    "    nn.MaxPool2d(2),  # (16,8,8) -> (16,4,4)\n",
    "    nn.ReLU(),\n",
    "    nn.Flatten(),  # (16,4,4) -> (256,)\n",
    "    nn.Linear(256, 120),  # (256,) -> (120,)\n",
    "    nn.ReLU(),\n",
    "    nn.Linear(120, 84),  # (120,) -> (84,)\n",
    "    nn.ReLU(),\n",
    "    nn.Linear(84, 10),  # (84,) -> (10,)\n",
    "    nn.LogSoftmax(dim=1),  # (10,) log probabilities\n",
    ").to(device)\n",
    "\n",
    "fit(LENET5, 2)"
   ]
  },
  {
   "cell_type": "markdown",
   "metadata": {},
   "source": [
    "Finally, we evaluate the network on the train and test sets."
   ]
  },
  {
   "cell_type": "code",
   "execution_count": 7,
   "metadata": {},
   "outputs": [],
   "source": [
    "def evaluate(net, loader):\n",
    "    \"\"\"Evaluates the network's accuracy on the images in the dataloader.\"\"\"\n",
    "    correct_per_num = [0 for _ in range(10)]\n",
    "    total_per_num = [0 for _ in range(10)]\n",
    "\n",
    "    with torch.no_grad():\n",
    "        for data in loader:\n",
    "            images, labels = data\n",
    "            outputs = net(images.to(device))\n",
    "            _, predicted = torch.max(outputs.to(\"cpu\"), 1)\n",
    "            c = (predicted == labels).squeeze()\n",
    "            for i in range(len(c)):\n",
    "                label = labels[i]\n",
    "                correct_per_num[label] += c[i].item()\n",
    "                total_per_num[label] += 1\n",
    "\n",
    "    for i in range(10):\n",
    "        print(f\"Class {i}: {correct_per_num[i] / total_per_num[i]:5.3f}\"\n",
    "              f\" ({correct_per_num[i]} / {total_per_num[i]})\")\n",
    "    print(f\"TOTAL  : {sum(correct_per_num) / sum(total_per_num):5.3f}\"\n",
    "          f\" ({sum(correct_per_num)} / {sum(total_per_num)})\")"
   ]
  },
  {
   "cell_type": "code",
   "execution_count": 8,
   "metadata": {},
   "outputs": [
    {
     "name": "stdout",
     "output_type": "stream",
     "text": [
      "Class 0: 0.997 (5905 / 5923)\n",
      "Class 1: 0.999 (6735 / 6742)\n",
      "Class 2: 0.977 (5822 / 5958)\n",
      "Class 3: 0.953 (5843 / 6131)\n",
      "Class 4: 0.983 (5740 / 5842)\n",
      "Class 5: 0.985 (5339 / 5421)\n",
      "Class 6: 0.992 (5869 / 5918)\n",
      "Class 7: 0.980 (6141 / 6265)\n",
      "Class 8: 0.982 (5748 / 5851)\n",
      "Class 9: 0.981 (5835 / 5949)\n",
      "TOTAL  : 0.983 (58977 / 60000)\n"
     ]
    }
   ],
   "source": [
    "evaluate(LENET5, TRAINLOADER)"
   ]
  },
  {
   "cell_type": "code",
   "execution_count": 9,
   "metadata": {},
   "outputs": [
    {
     "name": "stdout",
     "output_type": "stream",
     "text": [
      "Class 0: 0.995 (975 / 980)\n",
      "Class 1: 0.998 (1133 / 1135)\n",
      "Class 2: 0.980 (1011 / 1032)\n",
      "Class 3: 0.953 (963 / 1010)\n",
      "Class 4: 0.989 (971 / 982)\n",
      "Class 5: 0.989 (882 / 892)\n",
      "Class 6: 0.981 (940 / 958)\n",
      "Class 7: 0.976 (1003 / 1028)\n",
      "Class 8: 0.985 (959 / 974)\n",
      "Class 9: 0.970 (979 / 1009)\n",
      "TOTAL  : 0.982 (9816 / 10000)\n"
     ]
    }
   ],
   "source": [
    "evaluate(LENET5, TESTLOADER)"
   ]
  },
  {
   "cell_type": "markdown",
   "metadata": {},
   "source": [
    "## Fooling the Classifier with MAP-Elites\n",
    "\n",
    "Above, we trained a reasonably high-performing classifier. In order to fool the classifier into seeing various digits, we use MAP-Elites. As we have 10 distinct digits (0-9), we have a discrete behavior space with 10 values. Above, our classifier outputs a log probability vector with its belief that it is seeing each digit. Thus, our objective for each digit is to maximize the probability that the classifier assigns to the image associated with it. For instance, for digit 5, we want to generate an image that makes the classifier believe with high probability that it is seeing a 5.\n",
    "\n",
    "In pyribs, we implement MAP-Elites with a `GridArchive` and a `GaussianEmitter`. Below, we start by constructing the `GridArchive`. The archive has 10 bins and a range of (0,10). Since `GridArchive` was originally designed for continuous spaces, it does not directly support discrete spaces, but by using these settings, we have a bin for each digit from 0 to 9."
   ]
  },
  {
   "cell_type": "code",
   "execution_count": 10,
   "metadata": {},
   "outputs": [],
   "source": [
    "archive = GridArchive([10], [(0, 10)])"
   ]
  },
  {
   "cell_type": "markdown",
   "metadata": {},
   "source": [
    "Next, the `GaussianEmitter` begins with an image filled with 0.5 (i.e. grey, since pixels are in the range (0,1)) and generates random images by adding Gaussian noise with standard deviation 0.5. After the first iteration, the emitter adds the Gaussian noise to random elites in the archive."
   ]
  },
  {
   "cell_type": "code",
   "execution_count": 11,
   "metadata": {},
   "outputs": [],
   "source": [
    "img_size = (28, 28)\n",
    "flat_img_size = 784  # 28 * 28\n",
    "emitters = [\n",
    "    GaussianEmitter(\n",
    "        archive,\n",
    "        # Start with a grey image.\n",
    "        np.full(flat_img_size, 0.5),\n",
    "        # 0.5 standard deviation to cover the whole range of images.\n",
    "        0.5,\n",
    "        # Bound the generated images to the pixel range of the images.\n",
    "        bounds=[(0, 1)] * flat_img_size,\n",
    "        batch_size=64,\n",
    "    )\n",
    "]"
   ]
  },
  {
   "cell_type": "markdown",
   "metadata": {},
   "source": [
    "Finally, we construct the optimizer to connect the archive and emitters together."
   ]
  },
  {
   "cell_type": "code",
   "execution_count": 12,
   "metadata": {},
   "outputs": [],
   "source": [
    "optimizer = Optimizer(archive, emitters)"
   ]
  },
  {
   "cell_type": "markdown",
   "metadata": {},
   "source": [
    "With the components created, we now generate the images. As the emitter has batch size 64 and we run 15,000 iterations, we evaluate 960,000 images in total."
   ]
  },
  {
   "cell_type": "code",
   "execution_count": 13,
   "metadata": {},
   "outputs": [
    {
     "name": "stdout",
     "output_type": "stream",
     "text": [
      "Iteration 1000 complete after 6.583799839019775 s\n",
      "Iteration 2000 complete after 13.378127098083496 s\n",
      "Iteration 3000 complete after 19.498377323150635 s\n",
      "Iteration 4000 complete after 24.7131507396698 s\n",
      "Iteration 5000 complete after 30.050055503845215 s\n",
      "Iteration 6000 complete after 34.987005949020386 s\n",
      "Iteration 7000 complete after 42.060264348983765 s\n",
      "Iteration 8000 complete after 48.691709756851196 s\n",
      "Iteration 9000 complete after 55.84390568733215 s\n",
      "Iteration 10000 complete after 63.679113149642944 s\n",
      "Iteration 11000 complete after 69.51899433135986 s\n",
      "Iteration 12000 complete after 76.88922810554504 s\n",
      "Iteration 13000 complete after 84.6748218536377 s\n",
      "Iteration 14000 complete after 93.00445079803467 s\n",
      "Iteration 15000 complete after 99.50167036056519 s\n"
     ]
    }
   ],
   "source": [
    "total_itrs = 15_000\n",
    "start_time = time.time()\n",
    "\n",
    "for itr in range(1, total_itrs + 1):\n",
    "    sols = optimizer.ask()\n",
    "\n",
    "    with torch.no_grad():\n",
    "\n",
    "        # Reshape and normalize the image and pass it through the network.\n",
    "        imgs = sols.reshape((-1, 1, *img_size))\n",
    "        imgs = (imgs - MEAN_TRANSFORM) / STD_DEV_TRANSFORM\n",
    "        imgs = torch.tensor(imgs, dtype=torch.float32, device=device)\n",
    "        output = LENET5(imgs)\n",
    "\n",
    "        # The BC is the digit that the network believes it is seeing, i.e. the\n",
    "        # digit with the maximum probability. The objective is the probability\n",
    "        # associated with that digit.\n",
    "        scores, predicted = torch.max(output.to(\"cpu\"), 1)\n",
    "        scores = torch.exp(scores)\n",
    "        objs = scores.numpy()\n",
    "        bcs = predicted.numpy()\n",
    "\n",
    "    optimizer.tell(objs, bcs)\n",
    "\n",
    "    if itr % 1000 == 0:\n",
    "        print(f\"Iteration {itr} complete after {time.time() - start_time} s\")"
   ]
  },
  {
   "cell_type": "markdown",
   "metadata": {},
   "source": [
    "Below, we display the results we found with MAP-Elites. The `index_0` column shows the digit associated with each image, and the `objective` column shows the network's belief that the image is that digit. The `solution` columns show the image's pixel values."
   ]
  },
  {
   "cell_type": "code",
   "execution_count": 14,
   "metadata": {},
   "outputs": [
    {
     "data": {
      "text/html": [
       "<div>\n",
       "<style scoped>\n",
       "    .dataframe tbody tr th:only-of-type {\n",
       "        vertical-align: middle;\n",
       "    }\n",
       "\n",
       "    .dataframe tbody tr th {\n",
       "        vertical-align: top;\n",
       "    }\n",
       "\n",
       "    .dataframe thead th {\n",
       "        text-align: right;\n",
       "    }\n",
       "</style>\n",
       "<table border=\"1\" class=\"dataframe\">\n",
       "  <thead>\n",
       "    <tr style=\"text-align: right;\">\n",
       "      <th></th>\n",
       "      <th>index_0</th>\n",
       "      <th>behavior_0</th>\n",
       "      <th>objective</th>\n",
       "      <th>solution_0</th>\n",
       "      <th>solution_1</th>\n",
       "      <th>solution_2</th>\n",
       "      <th>solution_3</th>\n",
       "      <th>solution_4</th>\n",
       "      <th>solution_5</th>\n",
       "      <th>solution_6</th>\n",
       "      <th>...</th>\n",
       "      <th>solution_774</th>\n",
       "      <th>solution_775</th>\n",
       "      <th>solution_776</th>\n",
       "      <th>solution_777</th>\n",
       "      <th>solution_778</th>\n",
       "      <th>solution_779</th>\n",
       "      <th>solution_780</th>\n",
       "      <th>solution_781</th>\n",
       "      <th>solution_782</th>\n",
       "      <th>solution_783</th>\n",
       "    </tr>\n",
       "  </thead>\n",
       "  <tbody>\n",
       "    <tr>\n",
       "      <th>3</th>\n",
       "      <td>0</td>\n",
       "      <td>0.0</td>\n",
       "      <td>0.974767</td>\n",
       "      <td>0.438514</td>\n",
       "      <td>0.137440</td>\n",
       "      <td>1.000000</td>\n",
       "      <td>0.091439</td>\n",
       "      <td>0.323721</td>\n",
       "      <td>0.595538</td>\n",
       "      <td>0.541427</td>\n",
       "      <td>...</td>\n",
       "      <td>0.000000</td>\n",
       "      <td>0.017290</td>\n",
       "      <td>1.000000</td>\n",
       "      <td>0.640506</td>\n",
       "      <td>0.000000</td>\n",
       "      <td>0.399020</td>\n",
       "      <td>0.294919</td>\n",
       "      <td>0.000000</td>\n",
       "      <td>0.277442</td>\n",
       "      <td>1.000000</td>\n",
       "    </tr>\n",
       "    <tr>\n",
       "      <th>4</th>\n",
       "      <td>1</td>\n",
       "      <td>1.0</td>\n",
       "      <td>0.874809</td>\n",
       "      <td>1.000000</td>\n",
       "      <td>0.000000</td>\n",
       "      <td>0.462769</td>\n",
       "      <td>0.736841</td>\n",
       "      <td>0.413149</td>\n",
       "      <td>1.000000</td>\n",
       "      <td>0.032153</td>\n",
       "      <td>...</td>\n",
       "      <td>0.000000</td>\n",
       "      <td>0.477436</td>\n",
       "      <td>0.163252</td>\n",
       "      <td>0.634795</td>\n",
       "      <td>0.604286</td>\n",
       "      <td>0.046643</td>\n",
       "      <td>1.000000</td>\n",
       "      <td>1.000000</td>\n",
       "      <td>0.107447</td>\n",
       "      <td>0.376860</td>\n",
       "    </tr>\n",
       "    <tr>\n",
       "      <th>2</th>\n",
       "      <td>2</td>\n",
       "      <td>2.0</td>\n",
       "      <td>0.989309</td>\n",
       "      <td>0.567776</td>\n",
       "      <td>1.000000</td>\n",
       "      <td>0.276714</td>\n",
       "      <td>0.000000</td>\n",
       "      <td>0.858094</td>\n",
       "      <td>1.000000</td>\n",
       "      <td>0.000000</td>\n",
       "      <td>...</td>\n",
       "      <td>1.000000</td>\n",
       "      <td>0.408137</td>\n",
       "      <td>0.552990</td>\n",
       "      <td>0.166472</td>\n",
       "      <td>0.413101</td>\n",
       "      <td>0.000000</td>\n",
       "      <td>0.287672</td>\n",
       "      <td>1.000000</td>\n",
       "      <td>0.920290</td>\n",
       "      <td>0.336544</td>\n",
       "    </tr>\n",
       "    <tr>\n",
       "      <th>1</th>\n",
       "      <td>3</td>\n",
       "      <td>3.0</td>\n",
       "      <td>0.993900</td>\n",
       "      <td>1.000000</td>\n",
       "      <td>0.217978</td>\n",
       "      <td>0.554727</td>\n",
       "      <td>0.767231</td>\n",
       "      <td>0.000000</td>\n",
       "      <td>0.000000</td>\n",
       "      <td>0.262807</td>\n",
       "      <td>...</td>\n",
       "      <td>0.000000</td>\n",
       "      <td>0.069533</td>\n",
       "      <td>0.049343</td>\n",
       "      <td>0.690000</td>\n",
       "      <td>0.000000</td>\n",
       "      <td>0.175842</td>\n",
       "      <td>0.337845</td>\n",
       "      <td>0.429926</td>\n",
       "      <td>1.000000</td>\n",
       "      <td>0.618268</td>\n",
       "    </tr>\n",
       "    <tr>\n",
       "      <th>8</th>\n",
       "      <td>4</td>\n",
       "      <td>4.0</td>\n",
       "      <td>0.950847</td>\n",
       "      <td>0.504189</td>\n",
       "      <td>0.600669</td>\n",
       "      <td>1.000000</td>\n",
       "      <td>0.792341</td>\n",
       "      <td>1.000000</td>\n",
       "      <td>1.000000</td>\n",
       "      <td>1.000000</td>\n",
       "      <td>...</td>\n",
       "      <td>0.000000</td>\n",
       "      <td>0.374392</td>\n",
       "      <td>0.000000</td>\n",
       "      <td>0.000000</td>\n",
       "      <td>0.580114</td>\n",
       "      <td>0.173094</td>\n",
       "      <td>1.000000</td>\n",
       "      <td>0.175546</td>\n",
       "      <td>1.000000</td>\n",
       "      <td>1.000000</td>\n",
       "    </tr>\n",
       "    <tr>\n",
       "      <th>6</th>\n",
       "      <td>5</td>\n",
       "      <td>5.0</td>\n",
       "      <td>0.994286</td>\n",
       "      <td>0.000515</td>\n",
       "      <td>0.168286</td>\n",
       "      <td>0.000000</td>\n",
       "      <td>0.204953</td>\n",
       "      <td>0.072450</td>\n",
       "      <td>0.000000</td>\n",
       "      <td>1.000000</td>\n",
       "      <td>...</td>\n",
       "      <td>1.000000</td>\n",
       "      <td>0.231357</td>\n",
       "      <td>0.654818</td>\n",
       "      <td>0.000000</td>\n",
       "      <td>0.674185</td>\n",
       "      <td>0.646424</td>\n",
       "      <td>0.587912</td>\n",
       "      <td>0.119216</td>\n",
       "      <td>1.000000</td>\n",
       "      <td>0.483821</td>\n",
       "    </tr>\n",
       "    <tr>\n",
       "      <th>9</th>\n",
       "      <td>6</td>\n",
       "      <td>6.0</td>\n",
       "      <td>0.922751</td>\n",
       "      <td>0.000000</td>\n",
       "      <td>0.514078</td>\n",
       "      <td>0.000000</td>\n",
       "      <td>0.472218</td>\n",
       "      <td>1.000000</td>\n",
       "      <td>1.000000</td>\n",
       "      <td>0.422203</td>\n",
       "      <td>...</td>\n",
       "      <td>1.000000</td>\n",
       "      <td>1.000000</td>\n",
       "      <td>0.000000</td>\n",
       "      <td>1.000000</td>\n",
       "      <td>0.834119</td>\n",
       "      <td>1.000000</td>\n",
       "      <td>0.017994</td>\n",
       "      <td>1.000000</td>\n",
       "      <td>0.425199</td>\n",
       "      <td>0.605551</td>\n",
       "    </tr>\n",
       "    <tr>\n",
       "      <th>7</th>\n",
       "      <td>7</td>\n",
       "      <td>7.0</td>\n",
       "      <td>0.942844</td>\n",
       "      <td>0.000000</td>\n",
       "      <td>0.854834</td>\n",
       "      <td>0.000000</td>\n",
       "      <td>0.477746</td>\n",
       "      <td>0.843315</td>\n",
       "      <td>0.497624</td>\n",
       "      <td>0.000000</td>\n",
       "      <td>...</td>\n",
       "      <td>0.587237</td>\n",
       "      <td>0.000000</td>\n",
       "      <td>1.000000</td>\n",
       "      <td>0.126746</td>\n",
       "      <td>0.000000</td>\n",
       "      <td>0.000000</td>\n",
       "      <td>0.232047</td>\n",
       "      <td>0.050801</td>\n",
       "      <td>0.847697</td>\n",
       "      <td>1.000000</td>\n",
       "    </tr>\n",
       "    <tr>\n",
       "      <th>0</th>\n",
       "      <td>8</td>\n",
       "      <td>8.0</td>\n",
       "      <td>0.998382</td>\n",
       "      <td>0.651196</td>\n",
       "      <td>0.230279</td>\n",
       "      <td>0.000000</td>\n",
       "      <td>0.693062</td>\n",
       "      <td>0.260174</td>\n",
       "      <td>1.000000</td>\n",
       "      <td>0.000000</td>\n",
       "      <td>...</td>\n",
       "      <td>0.000000</td>\n",
       "      <td>0.253260</td>\n",
       "      <td>0.906332</td>\n",
       "      <td>0.436550</td>\n",
       "      <td>0.323638</td>\n",
       "      <td>0.850188</td>\n",
       "      <td>0.243665</td>\n",
       "      <td>1.000000</td>\n",
       "      <td>0.271453</td>\n",
       "      <td>0.468901</td>\n",
       "    </tr>\n",
       "    <tr>\n",
       "      <th>5</th>\n",
       "      <td>9</td>\n",
       "      <td>9.0</td>\n",
       "      <td>0.783577</td>\n",
       "      <td>0.000000</td>\n",
       "      <td>1.000000</td>\n",
       "      <td>1.000000</td>\n",
       "      <td>0.566808</td>\n",
       "      <td>0.027275</td>\n",
       "      <td>1.000000</td>\n",
       "      <td>0.000000</td>\n",
       "      <td>...</td>\n",
       "      <td>0.372171</td>\n",
       "      <td>0.449304</td>\n",
       "      <td>0.000000</td>\n",
       "      <td>0.000000</td>\n",
       "      <td>0.000000</td>\n",
       "      <td>1.000000</td>\n",
       "      <td>0.300654</td>\n",
       "      <td>0.000000</td>\n",
       "      <td>1.000000</td>\n",
       "      <td>0.000000</td>\n",
       "    </tr>\n",
       "  </tbody>\n",
       "</table>\n",
       "<p>10 rows × 787 columns</p>\n",
       "</div>"
      ],
      "text/plain": [
       "   index_0  behavior_0  objective  solution_0  solution_1  solution_2  \\\n",
       "3        0         0.0   0.974767    0.438514    0.137440    1.000000   \n",
       "4        1         1.0   0.874809    1.000000    0.000000    0.462769   \n",
       "2        2         2.0   0.989309    0.567776    1.000000    0.276714   \n",
       "1        3         3.0   0.993900    1.000000    0.217978    0.554727   \n",
       "8        4         4.0   0.950847    0.504189    0.600669    1.000000   \n",
       "6        5         5.0   0.994286    0.000515    0.168286    0.000000   \n",
       "9        6         6.0   0.922751    0.000000    0.514078    0.000000   \n",
       "7        7         7.0   0.942844    0.000000    0.854834    0.000000   \n",
       "0        8         8.0   0.998382    0.651196    0.230279    0.000000   \n",
       "5        9         9.0   0.783577    0.000000    1.000000    1.000000   \n",
       "\n",
       "   solution_3  solution_4  solution_5  solution_6  ...  solution_774  \\\n",
       "3    0.091439    0.323721    0.595538    0.541427  ...      0.000000   \n",
       "4    0.736841    0.413149    1.000000    0.032153  ...      0.000000   \n",
       "2    0.000000    0.858094    1.000000    0.000000  ...      1.000000   \n",
       "1    0.767231    0.000000    0.000000    0.262807  ...      0.000000   \n",
       "8    0.792341    1.000000    1.000000    1.000000  ...      0.000000   \n",
       "6    0.204953    0.072450    0.000000    1.000000  ...      1.000000   \n",
       "9    0.472218    1.000000    1.000000    0.422203  ...      1.000000   \n",
       "7    0.477746    0.843315    0.497624    0.000000  ...      0.587237   \n",
       "0    0.693062    0.260174    1.000000    0.000000  ...      0.000000   \n",
       "5    0.566808    0.027275    1.000000    0.000000  ...      0.372171   \n",
       "\n",
       "   solution_775  solution_776  solution_777  solution_778  solution_779  \\\n",
       "3      0.017290      1.000000      0.640506      0.000000      0.399020   \n",
       "4      0.477436      0.163252      0.634795      0.604286      0.046643   \n",
       "2      0.408137      0.552990      0.166472      0.413101      0.000000   \n",
       "1      0.069533      0.049343      0.690000      0.000000      0.175842   \n",
       "8      0.374392      0.000000      0.000000      0.580114      0.173094   \n",
       "6      0.231357      0.654818      0.000000      0.674185      0.646424   \n",
       "9      1.000000      0.000000      1.000000      0.834119      1.000000   \n",
       "7      0.000000      1.000000      0.126746      0.000000      0.000000   \n",
       "0      0.253260      0.906332      0.436550      0.323638      0.850188   \n",
       "5      0.449304      0.000000      0.000000      0.000000      1.000000   \n",
       "\n",
       "   solution_780  solution_781  solution_782  solution_783  \n",
       "3      0.294919      0.000000      0.277442      1.000000  \n",
       "4      1.000000      1.000000      0.107447      0.376860  \n",
       "2      0.287672      1.000000      0.920290      0.336544  \n",
       "1      0.337845      0.429926      1.000000      0.618268  \n",
       "8      1.000000      0.175546      1.000000      1.000000  \n",
       "6      0.587912      0.119216      1.000000      0.483821  \n",
       "9      0.017994      1.000000      0.425199      0.605551  \n",
       "7      0.232047      0.050801      0.847697      1.000000  \n",
       "0      0.243665      1.000000      0.271453      0.468901  \n",
       "5      0.300654      0.000000      1.000000      0.000000  \n",
       "\n",
       "[10 rows x 787 columns]"
      ]
     },
     "execution_count": 14,
     "metadata": {},
     "output_type": "execute_result"
    }
   ],
   "source": [
    "archive.as_pandas().sort_values(\"index_0\")"
   ]
  },
  {
   "cell_type": "markdown",
   "metadata": {},
   "source": [
    "Here, we display the images found by the network. Interestingly, though the images look mostly like noise, we can occasionally make out traces of the original digit. Note that MAP-Elites may not find images for all the digits. If this is the case, consider re-running the algorithm and increasing the number of iterations."
   ]
  },
  {
   "cell_type": "code",
   "execution_count": 15,
   "metadata": {},
   "outputs": [
    {
     "data": {
      "image/png": "[encoded data removed]",
      "text/plain": [
       "<Figure size 720x288 with 10 Axes>"
      ]
     },
     "metadata": {
      "needs_background": "light"
     },
     "output_type": "display_data"
    }
   ],
   "source": [
    "fig, ax = plt.subplots(2, 5, figsize=(10, 4))\n",
    "fig.tight_layout()\n",
    "ax = ax.flatten()\n",
    "found = set()\n",
    "\n",
    "# Display images.\n",
    "for _, row in archive.as_pandas().iterrows():\n",
    "    i = int(row.loc[\"index_0\"])\n",
    "    found.add(i)\n",
    "    obj = row.loc[\"objective\"]\n",
    "    ax[i].set_title(f\"{i} | Score: {obj:.3f}\", pad=8)\n",
    "    img = row.loc[\"solution_0\":].to_numpy().reshape(28, 28)\n",
    "\n",
    "    # No need to normalize image because we want to see the original.\n",
    "    ax[i].imshow(img, cmap=\"Greys\")\n",
    "    ax[i].set_axis_off()\n",
    "\n",
    "# Mark digits that we did not generate images for.\n",
    "for i in range(10):\n",
    "    if i not in found:\n",
    "        ax[i].set_title(f\"{i} | (no solution)\", pad=8)\n",
    "        ax[i].set_axis_off()"
   ]
  },
  {
   "cell_type": "markdown",
   "metadata": {},
   "source": [
    "## Conclusion\n",
    "\n",
    "In this tutorial, we used MAP-Elites to generate images that fool a LeNet-5 MNIST classifier. For further exploration, we recommend referring to [Nguyen 2015](http://anhnguyen.me/project/fooling/) and replicating or extending the other experiments described in the paper."
   ]
  }
 ],
 "metadata": {
  "kernelspec": {
   "display_name": "Python 3",
   "language": "python",
   "name": "python3"
  },
  "language_info": {
   "codemirror_mode": {
    "name": "ipython",
    "version": 3
   },
   "file_extension": ".py",
   "mimetype": "text/x-python",
   "name": "python",
   "nbconvert_exporter": "python",
   "pygments_lexer": "ipython3",
   "version": "3.7.8"
  }
 },
 "nbformat": 4,
 "nbformat_minor": 4
}
