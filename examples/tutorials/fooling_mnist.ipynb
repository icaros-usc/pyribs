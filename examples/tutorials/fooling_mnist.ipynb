{
 "cells": [
  {
   "cell_type": "markdown",
   "metadata": {},
   "source": [
    "# Generating Images to Fool an MNIST Classifier\n",
    "\n",
    "Despite their high performance on classification tasks such as MNIST, neural networks like the [LeNet-5](https://en.wikipedia.org/wiki/LeNet) have a weakness: they are easy to fool. Namely, given images like the ones below, a classifier may confidently believe that it is seeing certain digits, even though the images look like random noise to humans. Naturally, this phenomenon raises some concerns, especially when the network in question is used in a safety-critical system like a self-driving car. Given such unrecognizable input, one would hope that the network at least has low confidence in its prediction.\n",
    "\n",
    "![fooling images example](_static/fooling_mnist_example.png)\n",
    "\n",
    "To make matters worse for neural networks, generating such images is incredibly easy with QD algorithms. As shown in [Nguyen 2015](http://anhnguyen.me/project/fooling/), one can use simple MAP-Elites to generate these images. In this tutorial, we will instead use the pyribs version of MAP-Elites to do just that."
   ]
  },
  {
   "cell_type": "markdown",
   "metadata": {},
   "source": [
    "## Setup\n",
    "\n",
    "First, we install pyribs and PyTorch."
   ]
  },
  {
   "cell_type": "code",
   "execution_count": null,
   "metadata": {},
   "outputs": [],
   "source": [
    "%pip install ribs torch torchvision"
   ]
  },
  {
   "cell_type": "markdown",
   "metadata": {},
   "source": [
    "Here, we import PyTorch and some utilities."
   ]
  },
  {
   "cell_type": "code",
   "execution_count": 2,
   "metadata": {},
   "outputs": [],
   "source": [
    "import time\n",
    "\n",
    "import matplotlib.pyplot as plt\n",
    "import numpy as np\n",
    "import torch\n",
    "import torch.nn as nn\n",
    "import torchvision"
   ]
  },
  {
   "cell_type": "markdown",
   "metadata": {},
   "source": [
    "Below, we check what device is available for PyTorch. On Colab, activate the GPU by clicking \"Runtime\" in the toolbar at the top. Then, click \"Change Runtime Type\", and select \"GPU\"."
   ]
  },
  {
   "cell_type": "code",
   "execution_count": 3,
   "metadata": {},
   "outputs": [
    {
     "name": "stdout",
     "output_type": "stream",
     "text": [
      "cuda\n"
     ]
    }
   ],
   "source": [
    "use_cuda = torch.cuda.is_available()\n",
    "device = torch.device(\"cuda\" if use_cuda else \"cpu\")\n",
    "print(device)"
   ]
  },
  {
   "cell_type": "markdown",
   "metadata": {},
   "source": [
    "## Preliminary: MNIST Network\n",
    "\n",
    "For the classifier network, we train a LeNet-5 to classify MNIST. If you are not familiar with PyTorch, we recommend referring to the [PyTorch 60-minute blitz](https://pytorch.org/tutorials/beginner/deep_learning_60min_blitz.html). On the other hand, if you are familiar, feel free to skip to the next section, where we demonstrate how to fool the network.\n",
    "\n",
    "**Note**: This section is adapted from the [Training a Classifier](https://pytorch.org/tutorials/beginner/blitz/cifar10_tutorial.html#sphx-glr-beginner-blitz-cifar10-tutorial-py) tutorial in the 60-minute blitz.\n",
    "\n",
    "Before training the network, we load and preprocess the MNIST dataset."
   ]
  },
  {
   "cell_type": "code",
   "execution_count": 4,
   "metadata": {},
   "outputs": [],
   "source": [
    "# Transform each image by turning it into a tensor and then\n",
    "# normalizing the values.\n",
    "MEAN_TRANSFORM = 0.1307\n",
    "STD_DEV_TRANSFORM = 0.3081\n",
    "mnist_transforms = torchvision.transforms.Compose([\n",
    "    torchvision.transforms.ToTensor(),\n",
    "    torchvision.transforms.Normalize((MEAN_TRANSFORM,), (STD_DEV_TRANSFORM,))\n",
    "])\n",
    "\n",
    "TRAIN_BATCH_SIZE = 64\n",
    "TRAINLOADER = torch.utils.data.DataLoader(torchvision.datasets.MNIST(\n",
    "    './data', train=True, download=True, transform=mnist_transforms),\n",
    "                                          batch_size=TRAIN_BATCH_SIZE,\n",
    "                                          shuffle=True)\n",
    "\n",
    "TEST_BATCH_SIZE = 1000\n",
    "TESTLOADER = torch.utils.data.DataLoader(torchvision.datasets.MNIST(\n",
    "    './data', train=False, transform=mnist_transforms),\n",
    "                                         batch_size=TEST_BATCH_SIZE,\n",
    "                                         shuffle=False)"
   ]
  },
  {
   "cell_type": "markdown",
   "metadata": {},
   "source": [
    "This is our training function. We use negative log likelihood loss and Adam optimization."
   ]
  },
  {
   "cell_type": "code",
   "execution_count": 5,
   "metadata": {},
   "outputs": [],
   "source": [
    "def fit(net, epochs):\n",
    "    \"\"\"Trains net for the given number of epochs.\"\"\"\n",
    "    criterion = nn.NLLLoss()\n",
    "    optimizer = torch.optim.Adam(net.parameters())\n",
    "\n",
    "    for epoch in range(epochs):\n",
    "        print(f\"=== Epoch {epoch + 1} ===\")\n",
    "        total_loss = 0.0\n",
    "\n",
    "        # Iterate through batches in the shuffled training dataset.\n",
    "        for batch_i, data in enumerate(TRAINLOADER):\n",
    "            inputs = data[0].to(device)\n",
    "            labels = data[1].to(device)\n",
    "\n",
    "            optimizer.zero_grad()\n",
    "            outputs = net(inputs)\n",
    "            loss = criterion(outputs, labels)\n",
    "            loss.backward()\n",
    "            optimizer.step()\n",
    "\n",
    "            total_loss += loss.item()\n",
    "            if (batch_i + 1) % 100 == 0:\n",
    "                print(f\"Batch {batch_i + 1:5d}: {total_loss}\")\n",
    "                total_loss = 0.0"
   ]
  },
  {
   "cell_type": "markdown",
   "metadata": {},
   "source": [
    "Now, we define the LeNet-5 and train it for 2 epochs. We have annotated the shapes of the data (excluding the batch dimension) as they pass through the network."
   ]
  },
  {
   "cell_type": "code",
   "execution_count": 6,
   "metadata": {},
   "outputs": [
    {
     "name": "stdout",
     "output_type": "stream",
     "text": [
      "=== Epoch 1 ===\n",
      "Batch   100: 103.92088487744331\n",
      "Batch   200: 33.70535735785961\n",
      "Batch   300: 22.15521464496851\n",
      "Batch   400: 17.821983620524406\n",
      "Batch   500: 15.65167298913002\n",
      "Batch   600: 13.086637169122696\n",
      "Batch   700: 12.409602331928909\n",
      "Batch   800: 10.96252972073853\n",
      "Batch   900: 9.360629732720554\n",
      "=== Epoch 2 ===\n",
      "Batch   100: 7.9545784797519445\n",
      "Batch   200: 8.44696637801826\n",
      "Batch   300: 7.563114176504314\n",
      "Batch   400: 8.443509192671627\n",
      "Batch   500: 6.890517502557486\n",
      "Batch   600: 7.3185144872404635\n",
      "Batch   700: 7.459332271013409\n",
      "Batch   800: 5.568579972721636\n",
      "Batch   900: 6.198564644902945\n"
     ]
    }
   ],
   "source": [
    "LENET5 = nn.Sequential(\n",
    "    nn.Conv2d(1, 6, (5, 5), stride=1, padding=0),  # (1,28,28) -> (6,24,24)\n",
    "    nn.MaxPool2d(2),  # (6,24,24) -> (6,12,12)\n",
    "    nn.ReLU(),\n",
    "    nn.Conv2d(6, 16, (5, 5), stride=1, padding=0),  # (6,12,12) -> (16,8,8)\n",
    "    nn.MaxPool2d(2),  # (16,8,8) -> (16,4,4)\n",
    "    nn.ReLU(),\n",
    "    nn.Flatten(),  # (16,4,4) -> (256,)\n",
    "    nn.Linear(256, 120),  # (256,) -> (120,)\n",
    "    nn.ReLU(),\n",
    "    nn.Linear(120, 84),  # (120,) -> (84,)\n",
    "    nn.ReLU(),\n",
    "    nn.Linear(84, 10),  # (84,) -> (10,)\n",
    "    nn.LogSoftmax(dim=1),  # (10,) log probabilities\n",
    ").to(device)\n",
    "\n",
    "fit(LENET5, 2)"
   ]
  },
  {
   "cell_type": "markdown",
   "metadata": {},
   "source": [
    "Finally, we evaluate the network on the train and test sets."
   ]
  },
  {
   "cell_type": "code",
   "execution_count": 7,
   "metadata": {},
   "outputs": [],
   "source": [
    "def evaluate(net, loader):\n",
    "    \"\"\"Evaluates the network's accuracy on the images in the dataloader.\"\"\"\n",
    "    correct_per_num = [0 for _ in range(10)]\n",
    "    total_per_num = [0 for _ in range(10)]\n",
    "\n",
    "    with torch.no_grad():\n",
    "        for data in loader:\n",
    "            images, labels = data\n",
    "            outputs = net(images.to(device))\n",
    "            _, predicted = torch.max(outputs.to(\"cpu\"), 1)\n",
    "            c = (predicted == labels).squeeze()\n",
    "            for i in range(len(c)):\n",
    "                label = labels[i]\n",
    "                correct_per_num[label] += c[i].item()\n",
    "                total_per_num[label] += 1\n",
    "\n",
    "    for i in range(10):\n",
    "        print(f\"Class {i}: {correct_per_num[i] / total_per_num[i]:5.3f}\"\n",
    "              f\" ({correct_per_num[i]} / {total_per_num[i]})\")\n",
    "    print(f\"TOTAL  : {sum(correct_per_num) / sum(total_per_num):5.3f}\"\n",
    "          f\" ({sum(correct_per_num)} / {sum(total_per_num)})\")"
   ]
  },
  {
   "cell_type": "code",
   "execution_count": 8,
   "metadata": {},
   "outputs": [
    {
     "name": "stdout",
     "output_type": "stream",
     "text": [
      "Class 0: 0.987 (5847 / 5923)\n",
      "Class 1: 0.994 (6703 / 6742)\n",
      "Class 2: 0.982 (5852 / 5958)\n",
      "Class 3: 0.988 (6058 / 6131)\n",
      "Class 4: 0.990 (5781 / 5842)\n",
      "Class 5: 0.981 (5316 / 5421)\n",
      "Class 6: 0.996 (5895 / 5918)\n",
      "Class 7: 0.969 (6068 / 6265)\n",
      "Class 8: 0.969 (5672 / 5851)\n",
      "Class 9: 0.985 (5861 / 5949)\n",
      "TOTAL  : 0.984 (59053 / 60000)\n"
     ]
    }
   ],
   "source": [
    "evaluate(LENET5, TRAINLOADER)"
   ]
  },
  {
   "cell_type": "code",
   "execution_count": 9,
   "metadata": {},
   "outputs": [
    {
     "name": "stdout",
     "output_type": "stream",
     "text": [
      "Class 0: 0.988 (968 / 980)\n",
      "Class 1: 0.996 (1130 / 1135)\n",
      "Class 2: 0.976 (1007 / 1032)\n",
      "Class 3: 0.989 (999 / 1010)\n",
      "Class 4: 0.991 (973 / 982)\n",
      "Class 5: 0.983 (877 / 892)\n",
      "Class 6: 0.991 (949 / 958)\n",
      "Class 7: 0.966 (993 / 1028)\n",
      "Class 8: 0.975 (950 / 974)\n",
      "Class 9: 0.984 (993 / 1009)\n",
      "TOTAL  : 0.984 (9839 / 10000)\n"
     ]
    }
   ],
   "source": [
    "evaluate(LENET5, TESTLOADER)"
   ]
  },
  {
   "cell_type": "markdown",
   "metadata": {},
   "source": [
    "## Fooling the Classifier with MAP-Elites\n",
    "\n",
    "Above, we trained a reasonably high-performing classifier. In order to fool the classifier into seeing various digits, we use MAP-Elites. As we have 10 distinct digits (0-9), we have a discrete behavior space with 10 values. Note that while pyribs is designed for continuous search spaces, the behavior space can be either continuous or discrete.\n",
    "\n",
    "Our classifier outputs a log probability vector with its belief that it is seeing each digit. Thus, our objective for each digit is to maximize the probability that the classifier assigns to the image associated with it. For instance, for digit 5, we want to generate an image that makes the classifier believe with high probability that it is seeing a 5.\n",
    "\n",
    "In pyribs, we implement MAP-Elites with a `GridArchive` and a `GaussianEmitter`. Below, we start by constructing the `GridArchive`. The archive has 10 bins and a range of (0,10). Since `GridArchive` was originally designed for continuous spaces, it does not directly support discrete spaces, but by using these settings, we have a bin for each digit from 0 to 9."
   ]
  },
  {
   "cell_type": "code",
   "execution_count": 10,
   "metadata": {},
   "outputs": [],
   "source": [
    "from ribs.archives import GridArchive\n",
    "\n",
    "archive = GridArchive([10], [(0, 10)])"
   ]
  },
  {
   "cell_type": "markdown",
   "metadata": {},
   "source": [
    "Next, we use 5 Gaussian emitters, each with batch size of 30. Each emitter begins with an image filled with 0.5 (i.e. grey, since pixels are in the range $[0,1]$) and has $\\sigma = 0.5$."
   ]
  },
  {
   "cell_type": "code",
   "execution_count": 11,
   "metadata": {},
   "outputs": [],
   "source": [
    "from ribs.emitters import GaussianEmitter\n",
    "\n",
    "img_size = (28, 28)\n",
    "flat_img_size = 784  # 28 * 28\n",
    "emitters = [\n",
    "    GaussianEmitter(\n",
    "        archive,\n",
    "        # Start with a grey image.\n",
    "        np.full(flat_img_size, 0.5),\n",
    "        0.5,\n",
    "        # Bound the generated images to the pixel range.\n",
    "        bounds=[(0, 1)] * flat_img_size,\n",
    "        batch_size=30,\n",
    "    ) for _ in range(5)\n",
    "]"
   ]
  },
  {
   "cell_type": "markdown",
   "metadata": {},
   "source": [
    "Finally, we construct the optimizer to connect the archive and emitters together."
   ]
  },
  {
   "cell_type": "code",
   "execution_count": 12,
   "metadata": {},
   "outputs": [],
   "source": [
    "from ribs.optimizers import Optimizer\n",
    "\n",
    "optimizer = Optimizer(archive, emitters)"
   ]
  },
  {
   "cell_type": "markdown",
   "metadata": {},
   "source": [
    "With the components created, we now generate the images. As we use 5 emitters each with batch size of 30 and run 6,000 iterations, we evaluate 900,000 images in total."
   ]
  },
  {
   "cell_type": "code",
   "execution_count": 13,
   "metadata": {},
   "outputs": [
    {
     "name": "stdout",
     "output_type": "stream",
     "text": [
      "Iteration 500 complete after 11.317359447479248 s\n",
      "Iteration 1000 complete after 20.381446361541748 s\n",
      "Iteration 1500 complete after 29.439425468444824 s\n",
      "Iteration 2000 complete after 38.70516514778137 s\n",
      "Iteration 2500 complete after 48.32654023170471 s\n",
      "Iteration 3000 complete after 57.88940477371216 s\n",
      "Iteration 3500 complete after 67.32674074172974 s\n",
      "Iteration 4000 complete after 77.77149820327759 s\n",
      "Iteration 4500 complete after 89.96416592597961 s\n",
      "Iteration 5000 complete after 99.85577702522278 s\n",
      "Iteration 5500 complete after 109.35589170455933 s\n",
      "Iteration 6000 complete after 118.67683720588684 s\n"
     ]
    }
   ],
   "source": [
    "total_itrs = 6000\n",
    "start_time = time.time()\n",
    "\n",
    "for itr in range(1, total_itrs + 1):\n",
    "    sols = optimizer.ask()\n",
    "\n",
    "    with torch.no_grad():\n",
    "\n",
    "        # Reshape and normalize the image and pass it through the network.\n",
    "        imgs = sols.reshape((-1, 1, *img_size))\n",
    "        imgs = (imgs - MEAN_TRANSFORM) / STD_DEV_TRANSFORM\n",
    "        imgs = torch.tensor(imgs, dtype=torch.float32, device=device)\n",
    "        output = LENET5(imgs)\n",
    "\n",
    "        # The BC is the digit that the network believes it is seeing, i.e. the\n",
    "        # digit with the maximum probability. The objective is the probability\n",
    "        # associated with that digit.\n",
    "        scores, predicted = torch.max(output.to(\"cpu\"), 1)\n",
    "        scores = torch.exp(scores)\n",
    "        objs = scores.numpy()\n",
    "        bcs = predicted.numpy()\n",
    "\n",
    "    optimizer.tell(objs, bcs)\n",
    "    \n",
    "    if itr % 500 == 0:\n",
    "        print(f\"Iteration {itr} complete after {time.time() - start_time} s\")"
   ]
  },
  {
   "cell_type": "markdown",
   "metadata": {},
   "source": [
    "Below, we display the results we found with MAP-Elites. The `index_0` column shows the digit associated with each image, and the `objective` column shows the network's belief that the image is that digit. The `solution` columns show the image's pixel values."
   ]
  },
  {
   "cell_type": "code",
   "execution_count": 14,
   "metadata": {},
   "outputs": [
    {
     "data": {
      "text/html": [
       "<div>\n",
       "<style scoped>\n",
       "    .dataframe tbody tr th:only-of-type {\n",
       "        vertical-align: middle;\n",
       "    }\n",
       "\n",
       "    .dataframe tbody tr th {\n",
       "        vertical-align: top;\n",
       "    }\n",
       "\n",
       "    .dataframe thead th {\n",
       "        text-align: right;\n",
       "    }\n",
       "</style>\n",
       "<table border=\"1\" class=\"dataframe\">\n",
       "  <thead>\n",
       "    <tr style=\"text-align: right;\">\n",
       "      <th></th>\n",
       "      <th>index_0</th>\n",
       "      <th>behavior_0</th>\n",
       "      <th>objective</th>\n",
       "      <th>solution_0</th>\n",
       "      <th>solution_1</th>\n",
       "      <th>solution_2</th>\n",
       "      <th>solution_3</th>\n",
       "      <th>solution_4</th>\n",
       "      <th>solution_5</th>\n",
       "      <th>solution_6</th>\n",
       "      <th>...</th>\n",
       "      <th>solution_774</th>\n",
       "      <th>solution_775</th>\n",
       "      <th>solution_776</th>\n",
       "      <th>solution_777</th>\n",
       "      <th>solution_778</th>\n",
       "      <th>solution_779</th>\n",
       "      <th>solution_780</th>\n",
       "      <th>solution_781</th>\n",
       "      <th>solution_782</th>\n",
       "      <th>solution_783</th>\n",
       "    </tr>\n",
       "  </thead>\n",
       "  <tbody>\n",
       "    <tr>\n",
       "      <th>1</th>\n",
       "      <td>0</td>\n",
       "      <td>0.0</td>\n",
       "      <td>0.929513</td>\n",
       "      <td>0.666185</td>\n",
       "      <td>0.094848</td>\n",
       "      <td>0.679688</td>\n",
       "      <td>0.000000</td>\n",
       "      <td>0.867709</td>\n",
       "      <td>0.558049</td>\n",
       "      <td>0.363775</td>\n",
       "      <td>...</td>\n",
       "      <td>0.564437</td>\n",
       "      <td>1.000000</td>\n",
       "      <td>0.671843</td>\n",
       "      <td>0.000000</td>\n",
       "      <td>0.142737</td>\n",
       "      <td>0.208487</td>\n",
       "      <td>1.000000</td>\n",
       "      <td>0.052058</td>\n",
       "      <td>0.209409</td>\n",
       "      <td>0.094693</td>\n",
       "    </tr>\n",
       "    <tr>\n",
       "      <th>2</th>\n",
       "      <td>2</td>\n",
       "      <td>2.0</td>\n",
       "      <td>0.986729</td>\n",
       "      <td>1.000000</td>\n",
       "      <td>0.685207</td>\n",
       "      <td>0.728273</td>\n",
       "      <td>0.680493</td>\n",
       "      <td>0.749196</td>\n",
       "      <td>0.868995</td>\n",
       "      <td>0.456220</td>\n",
       "      <td>...</td>\n",
       "      <td>0.000000</td>\n",
       "      <td>1.000000</td>\n",
       "      <td>0.918081</td>\n",
       "      <td>1.000000</td>\n",
       "      <td>1.000000</td>\n",
       "      <td>1.000000</td>\n",
       "      <td>0.530227</td>\n",
       "      <td>0.190481</td>\n",
       "      <td>0.000000</td>\n",
       "      <td>0.314496</td>\n",
       "    </tr>\n",
       "    <tr>\n",
       "      <th>3</th>\n",
       "      <td>3</td>\n",
       "      <td>3.0</td>\n",
       "      <td>0.992450</td>\n",
       "      <td>1.000000</td>\n",
       "      <td>0.483390</td>\n",
       "      <td>0.201991</td>\n",
       "      <td>0.000000</td>\n",
       "      <td>1.000000</td>\n",
       "      <td>1.000000</td>\n",
       "      <td>0.331929</td>\n",
       "      <td>...</td>\n",
       "      <td>0.712497</td>\n",
       "      <td>1.000000</td>\n",
       "      <td>0.000000</td>\n",
       "      <td>0.690873</td>\n",
       "      <td>0.932973</td>\n",
       "      <td>0.101159</td>\n",
       "      <td>0.742524</td>\n",
       "      <td>0.000000</td>\n",
       "      <td>0.567233</td>\n",
       "      <td>0.066197</td>\n",
       "    </tr>\n",
       "    <tr>\n",
       "      <th>4</th>\n",
       "      <td>4</td>\n",
       "      <td>4.0</td>\n",
       "      <td>0.995215</td>\n",
       "      <td>0.000000</td>\n",
       "      <td>0.969984</td>\n",
       "      <td>0.000000</td>\n",
       "      <td>0.612051</td>\n",
       "      <td>1.000000</td>\n",
       "      <td>0.000000</td>\n",
       "      <td>0.000000</td>\n",
       "      <td>...</td>\n",
       "      <td>0.000000</td>\n",
       "      <td>0.502019</td>\n",
       "      <td>0.210630</td>\n",
       "      <td>0.565360</td>\n",
       "      <td>0.391433</td>\n",
       "      <td>0.038559</td>\n",
       "      <td>0.772292</td>\n",
       "      <td>0.649052</td>\n",
       "      <td>0.193482</td>\n",
       "      <td>1.000000</td>\n",
       "    </tr>\n",
       "    <tr>\n",
       "      <th>8</th>\n",
       "      <td>5</td>\n",
       "      <td>5.0</td>\n",
       "      <td>0.958060</td>\n",
       "      <td>0.675056</td>\n",
       "      <td>1.000000</td>\n",
       "      <td>0.064789</td>\n",
       "      <td>0.000000</td>\n",
       "      <td>0.235084</td>\n",
       "      <td>1.000000</td>\n",
       "      <td>1.000000</td>\n",
       "      <td>...</td>\n",
       "      <td>0.000000</td>\n",
       "      <td>0.915055</td>\n",
       "      <td>0.699775</td>\n",
       "      <td>0.241711</td>\n",
       "      <td>0.000000</td>\n",
       "      <td>0.836332</td>\n",
       "      <td>0.000000</td>\n",
       "      <td>0.370514</td>\n",
       "      <td>0.714322</td>\n",
       "      <td>0.081487</td>\n",
       "    </tr>\n",
       "    <tr>\n",
       "      <th>5</th>\n",
       "      <td>6</td>\n",
       "      <td>6.0</td>\n",
       "      <td>0.968553</td>\n",
       "      <td>0.811132</td>\n",
       "      <td>0.395137</td>\n",
       "      <td>0.577237</td>\n",
       "      <td>0.269608</td>\n",
       "      <td>0.118688</td>\n",
       "      <td>0.289920</td>\n",
       "      <td>0.000000</td>\n",
       "      <td>...</td>\n",
       "      <td>1.000000</td>\n",
       "      <td>0.000000</td>\n",
       "      <td>0.083905</td>\n",
       "      <td>0.868328</td>\n",
       "      <td>0.298324</td>\n",
       "      <td>0.716925</td>\n",
       "      <td>0.736255</td>\n",
       "      <td>1.000000</td>\n",
       "      <td>0.000000</td>\n",
       "      <td>0.305833</td>\n",
       "    </tr>\n",
       "    <tr>\n",
       "      <th>7</th>\n",
       "      <td>7</td>\n",
       "      <td>7.0</td>\n",
       "      <td>0.970018</td>\n",
       "      <td>0.224700</td>\n",
       "      <td>0.768123</td>\n",
       "      <td>0.547491</td>\n",
       "      <td>0.783308</td>\n",
       "      <td>1.000000</td>\n",
       "      <td>0.590328</td>\n",
       "      <td>0.291507</td>\n",
       "      <td>...</td>\n",
       "      <td>0.000000</td>\n",
       "      <td>0.279329</td>\n",
       "      <td>1.000000</td>\n",
       "      <td>0.000000</td>\n",
       "      <td>1.000000</td>\n",
       "      <td>0.838454</td>\n",
       "      <td>0.563636</td>\n",
       "      <td>0.829742</td>\n",
       "      <td>1.000000</td>\n",
       "      <td>0.000000</td>\n",
       "    </tr>\n",
       "    <tr>\n",
       "      <th>0</th>\n",
       "      <td>8</td>\n",
       "      <td>8.0</td>\n",
       "      <td>0.998245</td>\n",
       "      <td>0.133900</td>\n",
       "      <td>0.443820</td>\n",
       "      <td>0.000000</td>\n",
       "      <td>0.000000</td>\n",
       "      <td>0.000000</td>\n",
       "      <td>1.000000</td>\n",
       "      <td>0.607856</td>\n",
       "      <td>...</td>\n",
       "      <td>1.000000</td>\n",
       "      <td>0.682026</td>\n",
       "      <td>1.000000</td>\n",
       "      <td>0.646690</td>\n",
       "      <td>0.861757</td>\n",
       "      <td>1.000000</td>\n",
       "      <td>0.354071</td>\n",
       "      <td>0.269678</td>\n",
       "      <td>0.502267</td>\n",
       "      <td>0.000000</td>\n",
       "    </tr>\n",
       "    <tr>\n",
       "      <th>6</th>\n",
       "      <td>9</td>\n",
       "      <td>9.0</td>\n",
       "      <td>0.957564</td>\n",
       "      <td>0.330562</td>\n",
       "      <td>1.000000</td>\n",
       "      <td>1.000000</td>\n",
       "      <td>0.093036</td>\n",
       "      <td>0.676963</td>\n",
       "      <td>0.985599</td>\n",
       "      <td>0.233686</td>\n",
       "      <td>...</td>\n",
       "      <td>0.031970</td>\n",
       "      <td>0.000000</td>\n",
       "      <td>0.117085</td>\n",
       "      <td>0.566163</td>\n",
       "      <td>0.081003</td>\n",
       "      <td>1.000000</td>\n",
       "      <td>0.967519</td>\n",
       "      <td>0.293034</td>\n",
       "      <td>0.000000</td>\n",
       "      <td>1.000000</td>\n",
       "    </tr>\n",
       "  </tbody>\n",
       "</table>\n",
       "<p>9 rows × 787 columns</p>\n",
       "</div>"
      ],
      "text/plain": [
       "   index_0  behavior_0  objective  solution_0  solution_1  solution_2  \\\n",
       "1        0         0.0   0.929513    0.666185    0.094848    0.679688   \n",
       "2        2         2.0   0.986729    1.000000    0.685207    0.728273   \n",
       "3        3         3.0   0.992450    1.000000    0.483390    0.201991   \n",
       "4        4         4.0   0.995215    0.000000    0.969984    0.000000   \n",
       "8        5         5.0   0.958060    0.675056    1.000000    0.064789   \n",
       "5        6         6.0   0.968553    0.811132    0.395137    0.577237   \n",
       "7        7         7.0   0.970018    0.224700    0.768123    0.547491   \n",
       "0        8         8.0   0.998245    0.133900    0.443820    0.000000   \n",
       "6        9         9.0   0.957564    0.330562    1.000000    1.000000   \n",
       "\n",
       "   solution_3  solution_4  solution_5  solution_6  ...  solution_774  \\\n",
       "1    0.000000    0.867709    0.558049    0.363775  ...      0.564437   \n",
       "2    0.680493    0.749196    0.868995    0.456220  ...      0.000000   \n",
       "3    0.000000    1.000000    1.000000    0.331929  ...      0.712497   \n",
       "4    0.612051    1.000000    0.000000    0.000000  ...      0.000000   \n",
       "8    0.000000    0.235084    1.000000    1.000000  ...      0.000000   \n",
       "5    0.269608    0.118688    0.289920    0.000000  ...      1.000000   \n",
       "7    0.783308    1.000000    0.590328    0.291507  ...      0.000000   \n",
       "0    0.000000    0.000000    1.000000    0.607856  ...      1.000000   \n",
       "6    0.093036    0.676963    0.985599    0.233686  ...      0.031970   \n",
       "\n",
       "   solution_775  solution_776  solution_777  solution_778  solution_779  \\\n",
       "1      1.000000      0.671843      0.000000      0.142737      0.208487   \n",
       "2      1.000000      0.918081      1.000000      1.000000      1.000000   \n",
       "3      1.000000      0.000000      0.690873      0.932973      0.101159   \n",
       "4      0.502019      0.210630      0.565360      0.391433      0.038559   \n",
       "8      0.915055      0.699775      0.241711      0.000000      0.836332   \n",
       "5      0.000000      0.083905      0.868328      0.298324      0.716925   \n",
       "7      0.279329      1.000000      0.000000      1.000000      0.838454   \n",
       "0      0.682026      1.000000      0.646690      0.861757      1.000000   \n",
       "6      0.000000      0.117085      0.566163      0.081003      1.000000   \n",
       "\n",
       "   solution_780  solution_781  solution_782  solution_783  \n",
       "1      1.000000      0.052058      0.209409      0.094693  \n",
       "2      0.530227      0.190481      0.000000      0.314496  \n",
       "3      0.742524      0.000000      0.567233      0.066197  \n",
       "4      0.772292      0.649052      0.193482      1.000000  \n",
       "8      0.000000      0.370514      0.714322      0.081487  \n",
       "5      0.736255      1.000000      0.000000      0.305833  \n",
       "7      0.563636      0.829742      1.000000      0.000000  \n",
       "0      0.354071      0.269678      0.502267      0.000000  \n",
       "6      0.967519      0.293034      0.000000      1.000000  \n",
       "\n",
       "[9 rows x 787 columns]"
      ]
     },
     "execution_count": 14,
     "metadata": {},
     "output_type": "execute_result"
    }
   ],
   "source": [
    "archive.as_pandas().sort_values(\"index_0\")"
   ]
  },
  {
   "cell_type": "markdown",
   "metadata": {},
   "source": [
    "Here, we display the images found. Interestingly, though the images look mostly like noise, we can occasionally make out traces of the original digit. Note that MAP-Elites may not find images for all the digits, and this is mostly due to the small behavior space. Usually, QD algorithms run with fairly large behavior spaces. This is something to keep in mind when tuning QD algorithms."
   ]
  },
  {
   "cell_type": "code",
   "execution_count": 15,
   "metadata": {},
   "outputs": [
    {
     "data": {
      "image/png": "[encoded data removed]",
      "text/plain": [
       "<Figure size 720x288 with 10 Axes>"
      ]
     },
     "metadata": {
      "needs_background": "light"
     },
     "output_type": "display_data"
    }
   ],
   "source": [
    "fig, ax = plt.subplots(2, 5, figsize=(10, 4))\n",
    "fig.tight_layout()\n",
    "ax = ax.flatten()\n",
    "found = set()\n",
    "\n",
    "# Display images.\n",
    "for _, row in archive.as_pandas().iterrows():\n",
    "    i = int(row.loc[\"index_0\"])\n",
    "    found.add(i)\n",
    "    obj = row.loc[\"objective\"]\n",
    "    ax[i].set_title(f\"{i} | Score: {obj:.3f}\", pad=8)\n",
    "    img = row.loc[\"solution_0\":].to_numpy().reshape(28, 28)\n",
    "\n",
    "    # No need to normalize image because we want to see the original.\n",
    "    ax[i].imshow(img, cmap=\"Greys\")\n",
    "    ax[i].set_axis_off()\n",
    "\n",
    "# Mark digits that we did not generate images for.\n",
    "for i in range(10):\n",
    "    if i not in found:\n",
    "        ax[i].set_title(f\"{i} | (no solution)\", pad=8)\n",
    "        ax[i].set_axis_off()"
   ]
  },
  {
   "cell_type": "markdown",
   "metadata": {},
   "source": [
    "## Conclusion\n",
    "\n",
    "In this tutorial, we used MAP-Elites to generate images that fool a LeNet-5 MNIST classifier. For further exploration, we recommend referring to [Nguyen 2015](http://anhnguyen.me/project/fooling/) and replicating or extending the other experiments described in the paper."
   ]
  }
 ],
 "metadata": {
  "kernelspec": {
   "display_name": "Python 3",
   "language": "python",
   "name": "python3"
  },
  "language_info": {
   "codemirror_mode": {
    "name": "ipython",
    "version": 3
   },
   "file_extension": ".py",
   "mimetype": "text/x-python",
   "name": "python",
   "nbconvert_exporter": "python",
   "pygments_lexer": "ipython3",
   "version": "3.7.8"
  }
 },
 "nbformat": 4,
 "nbformat_minor": 4
}
