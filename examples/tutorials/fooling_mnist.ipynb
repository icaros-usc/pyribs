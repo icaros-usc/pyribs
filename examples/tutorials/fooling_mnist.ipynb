{
 "cells": [
  {
   "cell_type": "markdown",
   "metadata": {},
   "source": [
    "# Fooling an MNIST Network: CMA-ME with Constraints in Discrete Behavior Spaces\n",
    "\n",
    "[![Open In Colab](https://colab.research.google.com/assets/colab-badge.svg)](https://colab.research.google.com/github/icaros-usc/pyribs/blob/master/examples/tutorials/fooling_mnist.ipynb)\n",
    "\n",
    "[Nguyen 2015](http://anhnguyen.me/project/fooling/) demonstrated that it is\n",
    "\n",
    "(brief overview of fooling networks; show some examples)"
   ]
  },
  {
   "cell_type": "code",
   "execution_count": 45,
   "metadata": {},
   "outputs": [
    {
     "name": "stdout",
     "output_type": "stream",
     "text": [
      "Requirement already satisfied: ribs in /home/btjanaka/Resistance/usc/icaros/projects/pyribs (0.0.0)\n",
      "Requirement already satisfied: torch in /home/btjanaka/Resistance/usc/icaros/projects/pyribs/env/lib/python3.7/site-packages (1.7.0)\n",
      "Requirement already satisfied: torchvision in /home/btjanaka/Resistance/usc/icaros/projects/pyribs/env/lib/python3.7/site-packages (0.8.1)\n",
      "Requirement already satisfied: tqdm in /home/btjanaka/Resistance/usc/icaros/projects/pyribs/env/lib/python3.7/site-packages (4.51.0)\n",
      "Requirement already satisfied: numpy>=1.17.0 in /home/btjanaka/Resistance/usc/icaros/projects/pyribs/env/lib/python3.7/site-packages (from ribs) (1.19.4)\n",
      "Requirement already satisfied: pandas>=1.0.0 in /home/btjanaka/Resistance/usc/icaros/projects/pyribs/env/lib/python3.7/site-packages (from ribs) (1.1.4)\n",
      "Requirement already satisfied: scipy>=1.0.0 in /home/btjanaka/Resistance/usc/icaros/projects/pyribs/env/lib/python3.7/site-packages (from ribs) (1.5.3)\n",
      "Requirement already satisfied: toml>=0.10.0 in /home/btjanaka/Resistance/usc/icaros/projects/pyribs/env/lib/python3.7/site-packages (from ribs) (0.10.2)\n",
      "Requirement already satisfied: future in /home/btjanaka/Resistance/usc/icaros/projects/pyribs/env/lib/python3.7/site-packages (from torch) (0.18.2)\n",
      "Requirement already satisfied: dataclasses in /home/btjanaka/Resistance/usc/icaros/projects/pyribs/env/lib/python3.7/site-packages (from torch) (0.6)\n",
      "Requirement already satisfied: typing-extensions in /home/btjanaka/.local/lib/python3.7/site-packages (from torch) (3.7.4.1)\n",
      "Requirement already satisfied: pillow>=4.1.1 in /home/btjanaka/Resistance/usc/icaros/projects/pyribs/env/lib/python3.7/site-packages (from torchvision) (8.0.1)\n",
      "Requirement already satisfied: pytz>=2017.2 in /home/btjanaka/Resistance/usc/icaros/projects/pyribs/env/lib/python3.7/site-packages (from pandas>=1.0.0->ribs) (2020.4)\n",
      "Requirement already satisfied: python-dateutil>=2.7.3 in /home/btjanaka/Resistance/usc/icaros/projects/pyribs/env/lib/python3.7/site-packages (from pandas>=1.0.0->ribs) (2.8.1)\n",
      "Requirement already satisfied: six>=1.5 in /home/btjanaka/Resistance/usc/icaros/projects/pyribs/env/lib/python3.7/site-packages (from python-dateutil>=2.7.3->pandas>=1.0.0->ribs) (1.15.0)\n",
      "Note: you may need to restart the kernel to use updated packages.\n"
     ]
    }
   ],
   "source": [
    "%pip install ribs torch torchvision tqdm"
   ]
  },
  {
   "cell_type": "code",
   "execution_count": 67,
   "metadata": {},
   "outputs": [],
   "source": [
    "import matplotlib.pyplot as plt\n",
    "import numpy as np\n",
    "import torch\n",
    "import torch.nn as nn\n",
    "import torchvision\n",
    "import tqdm\n",
    "\n",
    "from ribs.archives import GridArchive\n",
    "from ribs.emitters import GaussianEmitter\n",
    "from ribs.optimizers import Optimizer"
   ]
  },
  {
   "cell_type": "code",
   "execution_count": 3,
   "metadata": {},
   "outputs": [
    {
     "name": "stdout",
     "output_type": "stream",
     "text": [
      "cuda\n"
     ]
    }
   ],
   "source": [
    "use_cuda = torch.cuda.is_available()\n",
    "device = torch.device(\"cuda\" if use_cuda else \"cpu\")\n",
    "print(device)"
   ]
  },
  {
   "cell_type": "markdown",
   "metadata": {},
   "source": [
    "# MNIST Network\n",
    "\n",
    "We'll quickly train a [LeNet-5](https://en.wikipedia.org/wiki/LeNet) to classify MNIST. If you are not familiar with PyTorch, we recommend referring to the [PyTorch 60-minute blitz](https://pytorch.org/tutorials/beginner/deep_learning_60min_blitz.html). Feel free to skip to the next section, where we demonstrate how to fool the network.\n",
    "\n",
    "First, we'll load the MNIST dataset and preprocess it."
   ]
  },
  {
   "cell_type": "code",
   "execution_count": 4,
   "metadata": {},
   "outputs": [],
   "source": [
    "TRAIN_BATCH_SIZE = 64\n",
    "TEST_BATCH_SIZE = 1000\n",
    "\n",
    "MEAN_TRANSFORM = 0.1307\n",
    "STD_DEV_TRANSFORM = 0.3081\n",
    "\n",
    "# Transform each image by turning it into a tensor and then\n",
    "# normalizing the values.\n",
    "mnist_transforms = torchvision.transforms.Compose([\n",
    "    torchvision.transforms.ToTensor(),\n",
    "    torchvision.transforms.Normalize((MEAN_TRANSFORM,), (STD_DEV_TRANSFORM,))\n",
    "])\n",
    "\n",
    "TRAINLOADER = torch.utils.data.DataLoader(\n",
    "    torchvision.datasets.MNIST('./data',\n",
    "                               train=True,\n",
    "                               download=True,\n",
    "                               transform=mnist_transforms),\n",
    "    batch_size=TRAIN_BATCH_SIZE,\n",
    "    shuffle=True,\n",
    ")\n",
    "TESTLOADER = torch.utils.data.DataLoader(\n",
    "    torchvision.datasets.MNIST('./data',\n",
    "                               train=False,\n",
    "                               transform=mnist_transforms),\n",
    "    batch_size=TEST_BATCH_SIZE,\n",
    "    shuffle=False,\n",
    ")"
   ]
  },
  {
   "cell_type": "markdown",
   "metadata": {},
   "source": [
    "This is our training function. We use Cross-Entropy loss and Adam optimization."
   ]
  },
  {
   "cell_type": "code",
   "execution_count": 5,
   "metadata": {},
   "outputs": [],
   "source": [
    "def fit(net, epochs):\n",
    "    criterion = nn.NLLLoss()\n",
    "    optimizer = torch.optim.Adam(net.parameters())\n",
    "\n",
    "    for epoch in range(epochs):\n",
    "        print(f\"=== Epoch {epoch + 1} ===\")\n",
    "        total_loss = 0.0\n",
    "\n",
    "        # Iterate through batches in the (shuffled) training dataset.\n",
    "        for batch_i, data in enumerate(TRAINLOADER):\n",
    "            inputs = data[0].to(device)\n",
    "            labels = data[1].to(device)\n",
    "\n",
    "            optimizer.zero_grad()\n",
    "\n",
    "            outputs = net(inputs)\n",
    "            loss = criterion(outputs, labels)\n",
    "            loss.backward()\n",
    "            optimizer.step()\n",
    "\n",
    "            total_loss += loss.item()\n",
    "            if (batch_i + 1) % 100 == 0:\n",
    "                print(f\"Batch {batch_i + 1:5d}: {total_loss}\")\n",
    "                total_loss = 0.0"
   ]
  },
  {
   "cell_type": "markdown",
   "metadata": {},
   "source": [
    "Now we define the LeNet-5 and train it for 2 epochs."
   ]
  },
  {
   "cell_type": "code",
   "execution_count": 6,
   "metadata": {},
   "outputs": [
    {
     "name": "stdout",
     "output_type": "stream",
     "text": [
      "=== Epoch 1 ===\n",
      "Batch   100: 90.05563884973526\n",
      "Batch   200: 28.76210478693247\n",
      "Batch   300: 19.684272661805153\n",
      "Batch   400: 15.75448501482606\n",
      "Batch   500: 13.357834421098232\n",
      "Batch   600: 12.08718966320157\n",
      "Batch   700: 10.556483671069145\n",
      "Batch   800: 9.339978739619255\n",
      "Batch   900: 9.977776657789946\n",
      "=== Epoch 2 ===\n",
      "Batch   100: 7.4631321877241135\n",
      "Batch   200: 7.160808344371617\n",
      "Batch   300: 7.256685642525554\n",
      "Batch   400: 7.198970447294414\n",
      "Batch   500: 7.237963899970055\n",
      "Batch   600: 6.613698286470026\n",
      "Batch   700: 8.08781830733642\n",
      "Batch   800: 5.624962490983307\n",
      "Batch   900: 5.724665587767959\n"
     ]
    }
   ],
   "source": [
    "LENET5 = nn.Sequential(\n",
    "    nn.Conv2d(1, 6, (5, 5), stride=1, padding=0),  # (1,28,28) -> (6,24,24)\n",
    "    nn.MaxPool2d(2),  # (6,24,24) -> (6,12,12)\n",
    "    nn.ReLU(),\n",
    "    nn.Conv2d(6, 16, (5, 5), stride=1, padding=0),  # (6,12,12) -> (16,8,8)\n",
    "    nn.MaxPool2d(2),  # (16,8,8) -> (16,4,4)\n",
    "    nn.ReLU(),\n",
    "    nn.Flatten(),  # (16,4,4) -> (256,)\n",
    "    nn.Linear(256, 120),  # (256,) -> (120,)\n",
    "    nn.ReLU(),\n",
    "    nn.Linear(120, 84),  # (120,) -> (84,)\n",
    "    nn.ReLU(),\n",
    "    nn.Linear(84, 10),  # (84,) -> (10,)\n",
    "    nn.LogSoftmax(dim=1),  # (10,) output probabilities\n",
    ").to(device)\n",
    "\n",
    "fit(LENET5, 2)"
   ]
  },
  {
   "cell_type": "markdown",
   "metadata": {},
   "source": [
    "To see how well the network does, we'll evaluate it on the train and test sets."
   ]
  },
  {
   "cell_type": "code",
   "execution_count": 15,
   "metadata": {},
   "outputs": [],
   "source": [
    "def evaluate(net, loader):\n",
    "    correct_per_num = [0 for _ in range(10)]\n",
    "    total_per_num = [0 for _ in range(10)]\n",
    "\n",
    "    with torch.no_grad():\n",
    "        for data in loader:\n",
    "            images, labels = data\n",
    "            outputs = net(images.to(device))\n",
    "            _, predicted = torch.max(outputs.to(\"cpu\"), 1)\n",
    "            c = (predicted == labels).squeeze()\n",
    "            for i in range(len(c)):\n",
    "                label = labels[i]\n",
    "                correct_per_num[label] += c[i].item()\n",
    "                total_per_num[label] += 1\n",
    "\n",
    "    for i in range(10):\n",
    "        print(f\"Correct {i:2d}: {correct_per_num[i] / total_per_num[i]:5.3f}\"\n",
    "              f\" ({correct_per_num[i]} / {total_per_num[i]})\")\n",
    "    print(f\"TOTAL     : {sum(correct_per_num) / sum(total_per_num):5.3f}\"\n",
    "          f\" ({sum(correct_per_num)} / {sum(total_per_num)})\")"
   ]
  },
  {
   "cell_type": "code",
   "execution_count": 16,
   "metadata": {},
   "outputs": [
    {
     "name": "stdout",
     "output_type": "stream",
     "text": [
      "Correct  0: 0.996 (5900 / 5923)\n",
      "Correct  1: 0.998 (6726 / 6742)\n",
      "Correct  2: 0.990 (5897 / 5958)\n",
      "Correct  3: 0.980 (6008 / 6131)\n",
      "Correct  4: 0.987 (5764 / 5842)\n",
      "Correct  5: 0.974 (5280 / 5421)\n",
      "Correct  6: 0.994 (5884 / 5918)\n",
      "Correct  7: 0.983 (6156 / 6265)\n",
      "Correct  8: 0.969 (5672 / 5851)\n",
      "Correct  9: 0.985 (5857 / 5949)\n",
      "TOTAL     : 0.986 (59144 / 60000)\n"
     ]
    }
   ],
   "source": [
    "evaluate(LENET5, TRAINLOADER)"
   ]
  },
  {
   "cell_type": "code",
   "execution_count": 17,
   "metadata": {},
   "outputs": [
    {
     "name": "stdout",
     "output_type": "stream",
     "text": [
      "Correct  0: 0.994 (974 / 980)\n",
      "Correct  1: 0.998 (1133 / 1135)\n",
      "Correct  2: 0.990 (1022 / 1032)\n",
      "Correct  3: 0.990 (1000 / 1010)\n",
      "Correct  4: 0.979 (961 / 982)\n",
      "Correct  5: 0.965 (861 / 892)\n",
      "Correct  6: 0.987 (946 / 958)\n",
      "Correct  7: 0.982 (1010 / 1028)\n",
      "Correct  8: 0.972 (947 / 974)\n",
      "Correct  9: 0.976 (985 / 1009)\n",
      "TOTAL     : 0.984 (9839 / 10000)\n"
     ]
    }
   ],
   "source": [
    "evaluate(LENET5, TESTLOADER)"
   ]
  },
  {
   "cell_type": "markdown",
   "metadata": {},
   "source": [
    "## Fooling MNIST\n",
    "\n",
    "Above, we trained a reasonably high-performing network. We will now show how to generate images that make the network believe it is seeing various digits.\n",
    "\n",
    "TODO: Explain behavior space, objective"
   ]
  },
  {
   "cell_type": "code",
   "execution_count": 94,
   "metadata": {},
   "outputs": [
    {
     "name": "stderr",
     "output_type": "stream",
     "text": [
      "100%|██████████| 30000/30000 [02:35<00:00, 193.38it/s]\n"
     ]
    }
   ],
   "source": [
    "img_size = (28, 28)\n",
    "flat_img_size = 784\n",
    "\n",
    "archive = GridArchive([10], [(0, 10)])\n",
    "emitters = [\n",
    "    GaussianEmitter(np.zeros(flat_img_size), 0.1, archive, batch_size=64)\n",
    "]\n",
    "optimizer = Optimizer(archive, emitters)\n",
    "\n",
    "for i in tqdm.tqdm(range(30_000)):\n",
    "    sols = optimizer.ask()\n",
    "    sols = np.clip(sols, -1, 1)\n",
    "\n",
    "    with torch.no_grad():\n",
    "        net_input = sols.reshape((-1, 1, *img_size))\n",
    "        net_input = torch.tensor(net_input, dtype=torch.float32, device=device)\n",
    "        net_output = LENET5(net_input)\n",
    "        scores, predicted = torch.max(net_output.to(\"cpu\"), 1)\n",
    "        scores = torch.exp(scores)\n",
    "        objs = scores.numpy()\n",
    "        bcs = predicted.numpy()\n",
    "\n",
    "    optimizer.tell(objs, bcs)"
   ]
  },
  {
   "cell_type": "code",
   "execution_count": 95,
   "metadata": {},
   "outputs": [
    {
     "data": {
      "text/html": [
       "<div>\n",
       "<style scoped>\n",
       "    .dataframe tbody tr th:only-of-type {\n",
       "        vertical-align: middle;\n",
       "    }\n",
       "\n",
       "    .dataframe tbody tr th {\n",
       "        vertical-align: top;\n",
       "    }\n",
       "\n",
       "    .dataframe thead th {\n",
       "        text-align: right;\n",
       "    }\n",
       "</style>\n",
       "<table border=\"1\" class=\"dataframe\">\n",
       "  <thead>\n",
       "    <tr style=\"text-align: right;\">\n",
       "      <th></th>\n",
       "      <th>index-0</th>\n",
       "      <th>behavior-0</th>\n",
       "      <th>objective</th>\n",
       "      <th>solution-0</th>\n",
       "      <th>solution-1</th>\n",
       "      <th>solution-2</th>\n",
       "      <th>solution-3</th>\n",
       "      <th>solution-4</th>\n",
       "      <th>solution-5</th>\n",
       "      <th>solution-6</th>\n",
       "      <th>...</th>\n",
       "      <th>solution-774</th>\n",
       "      <th>solution-775</th>\n",
       "      <th>solution-776</th>\n",
       "      <th>solution-777</th>\n",
       "      <th>solution-778</th>\n",
       "      <th>solution-779</th>\n",
       "      <th>solution-780</th>\n",
       "      <th>solution-781</th>\n",
       "      <th>solution-782</th>\n",
       "      <th>solution-783</th>\n",
       "    </tr>\n",
       "  </thead>\n",
       "  <tbody>\n",
       "    <tr>\n",
       "      <th>0</th>\n",
       "      <td>8</td>\n",
       "      <td>8.0</td>\n",
       "      <td>0.999994</td>\n",
       "      <td>-1.115009</td>\n",
       "      <td>-0.907968</td>\n",
       "      <td>-4.227008</td>\n",
       "      <td>0.609915</td>\n",
       "      <td>2.746843</td>\n",
       "      <td>3.766778</td>\n",
       "      <td>1.419774</td>\n",
       "      <td>...</td>\n",
       "      <td>2.655139</td>\n",
       "      <td>1.111414</td>\n",
       "      <td>1.432303</td>\n",
       "      <td>-1.219990</td>\n",
       "      <td>-0.459208</td>\n",
       "      <td>3.050352</td>\n",
       "      <td>-0.230894</td>\n",
       "      <td>-2.261601</td>\n",
       "      <td>1.307116</td>\n",
       "      <td>0.765757</td>\n",
       "    </tr>\n",
       "    <tr>\n",
       "      <th>1</th>\n",
       "      <td>6</td>\n",
       "      <td>6.0</td>\n",
       "      <td>0.999995</td>\n",
       "      <td>0.990689</td>\n",
       "      <td>0.469256</td>\n",
       "      <td>0.432633</td>\n",
       "      <td>-0.170066</td>\n",
       "      <td>0.847131</td>\n",
       "      <td>1.483720</td>\n",
       "      <td>0.703229</td>\n",
       "      <td>...</td>\n",
       "      <td>-2.447768</td>\n",
       "      <td>0.982460</td>\n",
       "      <td>-0.234436</td>\n",
       "      <td>-0.830460</td>\n",
       "      <td>-0.929451</td>\n",
       "      <td>1.047383</td>\n",
       "      <td>2.511805</td>\n",
       "      <td>-2.034433</td>\n",
       "      <td>2.066612</td>\n",
       "      <td>0.899377</td>\n",
       "    </tr>\n",
       "    <tr>\n",
       "      <th>2</th>\n",
       "      <td>5</td>\n",
       "      <td>5.0</td>\n",
       "      <td>0.999997</td>\n",
       "      <td>-2.232336</td>\n",
       "      <td>0.663010</td>\n",
       "      <td>2.886221</td>\n",
       "      <td>-0.239243</td>\n",
       "      <td>0.394504</td>\n",
       "      <td>-1.636266</td>\n",
       "      <td>-3.666874</td>\n",
       "      <td>...</td>\n",
       "      <td>-0.666294</td>\n",
       "      <td>0.212614</td>\n",
       "      <td>0.685936</td>\n",
       "      <td>0.206516</td>\n",
       "      <td>-0.374165</td>\n",
       "      <td>-2.463224</td>\n",
       "      <td>-0.319963</td>\n",
       "      <td>0.478236</td>\n",
       "      <td>2.913427</td>\n",
       "      <td>-0.428216</td>\n",
       "    </tr>\n",
       "    <tr>\n",
       "      <th>3</th>\n",
       "      <td>9</td>\n",
       "      <td>9.0</td>\n",
       "      <td>0.999996</td>\n",
       "      <td>-1.528707</td>\n",
       "      <td>-0.113608</td>\n",
       "      <td>-2.724215</td>\n",
       "      <td>-0.164623</td>\n",
       "      <td>0.680227</td>\n",
       "      <td>0.445147</td>\n",
       "      <td>0.993359</td>\n",
       "      <td>...</td>\n",
       "      <td>1.205399</td>\n",
       "      <td>-0.733220</td>\n",
       "      <td>2.361530</td>\n",
       "      <td>0.030937</td>\n",
       "      <td>-0.414414</td>\n",
       "      <td>0.647923</td>\n",
       "      <td>-0.171562</td>\n",
       "      <td>-0.052194</td>\n",
       "      <td>-1.027606</td>\n",
       "      <td>0.513549</td>\n",
       "    </tr>\n",
       "    <tr>\n",
       "      <th>4</th>\n",
       "      <td>2</td>\n",
       "      <td>2.0</td>\n",
       "      <td>0.999998</td>\n",
       "      <td>0.724940</td>\n",
       "      <td>2.941073</td>\n",
       "      <td>0.675785</td>\n",
       "      <td>1.901795</td>\n",
       "      <td>0.997574</td>\n",
       "      <td>-0.149194</td>\n",
       "      <td>-1.047320</td>\n",
       "      <td>...</td>\n",
       "      <td>-2.169116</td>\n",
       "      <td>-0.043693</td>\n",
       "      <td>0.158952</td>\n",
       "      <td>1.444307</td>\n",
       "      <td>1.900600</td>\n",
       "      <td>-0.366763</td>\n",
       "      <td>-0.485433</td>\n",
       "      <td>0.673444</td>\n",
       "      <td>1.656865</td>\n",
       "      <td>0.734444</td>\n",
       "    </tr>\n",
       "    <tr>\n",
       "      <th>5</th>\n",
       "      <td>3</td>\n",
       "      <td>3.0</td>\n",
       "      <td>0.999998</td>\n",
       "      <td>1.462686</td>\n",
       "      <td>-1.238742</td>\n",
       "      <td>-0.095428</td>\n",
       "      <td>2.942282</td>\n",
       "      <td>1.390643</td>\n",
       "      <td>1.700532</td>\n",
       "      <td>-1.486423</td>\n",
       "      <td>...</td>\n",
       "      <td>3.290092</td>\n",
       "      <td>-1.240908</td>\n",
       "      <td>-0.066389</td>\n",
       "      <td>-2.805334</td>\n",
       "      <td>0.247245</td>\n",
       "      <td>1.352099</td>\n",
       "      <td>0.350120</td>\n",
       "      <td>0.675892</td>\n",
       "      <td>-0.296269</td>\n",
       "      <td>0.226448</td>\n",
       "    </tr>\n",
       "  </tbody>\n",
       "</table>\n",
       "<p>6 rows × 787 columns</p>\n",
       "</div>"
      ],
      "text/plain": [
       "   index-0  behavior-0  objective  solution-0  solution-1  solution-2  \\\n",
       "0        8         8.0   0.999994   -1.115009   -0.907968   -4.227008   \n",
       "1        6         6.0   0.999995    0.990689    0.469256    0.432633   \n",
       "2        5         5.0   0.999997   -2.232336    0.663010    2.886221   \n",
       "3        9         9.0   0.999996   -1.528707   -0.113608   -2.724215   \n",
       "4        2         2.0   0.999998    0.724940    2.941073    0.675785   \n",
       "5        3         3.0   0.999998    1.462686   -1.238742   -0.095428   \n",
       "\n",
       "   solution-3  solution-4  solution-5  solution-6  ...  solution-774  \\\n",
       "0    0.609915    2.746843    3.766778    1.419774  ...      2.655139   \n",
       "1   -0.170066    0.847131    1.483720    0.703229  ...     -2.447768   \n",
       "2   -0.239243    0.394504   -1.636266   -3.666874  ...     -0.666294   \n",
       "3   -0.164623    0.680227    0.445147    0.993359  ...      1.205399   \n",
       "4    1.901795    0.997574   -0.149194   -1.047320  ...     -2.169116   \n",
       "5    2.942282    1.390643    1.700532   -1.486423  ...      3.290092   \n",
       "\n",
       "   solution-775  solution-776  solution-777  solution-778  solution-779  \\\n",
       "0      1.111414      1.432303     -1.219990     -0.459208      3.050352   \n",
       "1      0.982460     -0.234436     -0.830460     -0.929451      1.047383   \n",
       "2      0.212614      0.685936      0.206516     -0.374165     -2.463224   \n",
       "3     -0.733220      2.361530      0.030937     -0.414414      0.647923   \n",
       "4     -0.043693      0.158952      1.444307      1.900600     -0.366763   \n",
       "5     -1.240908     -0.066389     -2.805334      0.247245      1.352099   \n",
       "\n",
       "   solution-780  solution-781  solution-782  solution-783  \n",
       "0     -0.230894     -2.261601      1.307116      0.765757  \n",
       "1      2.511805     -2.034433      2.066612      0.899377  \n",
       "2     -0.319963      0.478236      2.913427     -0.428216  \n",
       "3     -0.171562     -0.052194     -1.027606      0.513549  \n",
       "4     -0.485433      0.673444      1.656865      0.734444  \n",
       "5      0.350120      0.675892     -0.296269      0.226448  \n",
       "\n",
       "[6 rows x 787 columns]"
      ]
     },
     "execution_count": 95,
     "metadata": {},
     "output_type": "execute_result"
    }
   ],
   "source": [
    "archive.as_pandas()"
   ]
  },
  {
   "cell_type": "code",
   "execution_count": 96,
   "metadata": {},
   "outputs": [
    {
     "data": {
      "image/png": "[encoded data removed]",
      "text/plain": [
       "<Figure size 720x288 with 10 Axes>"
      ]
     },
     "metadata": {
      "needs_background": "light"
     },
     "output_type": "display_data"
    }
   ],
   "source": [
    "fig, ax = plt.subplots(2, 5, figsize=(10, 4))\n",
    "fig.tight_layout()\n",
    "ax = ax.flatten()\n",
    "found = set()\n",
    "for _, row in archive.as_pandas().iterrows():\n",
    "    i = int(row.loc[\"index-0\"])\n",
    "    found.add(i)\n",
    "    obj = row.loc[\"objective\"]\n",
    "    ax[i].set_title(f\"{i} | Score: {obj:.3f}\")\n",
    "    img = row.loc[\"solution-0\":].to_numpy().reshape(28,28)\n",
    "    img = np.clip(img, -1, 1)\n",
    "    ax[i].imshow(img, cmap=\"Greys\")\n",
    "for i in range(10):\n",
    "    if i not in found:\n",
    "        ax[i].set_title(f\"{i} | (no solution)\")"
   ]
  }
 ],
 "metadata": {
  "kernelspec": {
   "display_name": "Python 3",
   "language": "python",
   "name": "python3"
  },
  "language_info": {
   "codemirror_mode": {
    "name": "ipython",
    "version": 3
   },
   "file_extension": ".py",
   "mimetype": "text/x-python",
   "name": "python",
   "nbconvert_exporter": "python",
   "pygments_lexer": "ipython3",
   "version": "3.7.8"
  }
 },
 "nbformat": 4,
 "nbformat_minor": 4
}
