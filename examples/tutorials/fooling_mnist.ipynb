{
 "cells": [
  {
   "cell_type": "markdown",
   "metadata": {},
   "source": [
    "# Generating Images to Fool an MNIST Classifier\n",
    "\n",
    "A classic introductory deep learning exercise is to train a neural network like the [LeNet-5](https://en.wikipedia.org/wiki/LeNet) to classify the MNIST dataset of handwritten digits. Similarly, from a Quality-Diversity (QD) standpoint, it is a simple exercise to generate images that fool such networks. As shown in [Nguyen 2015](http://anhnguyen.me/project/fooling/), one can use simple MAP-Elites to find images that make the network believe with high accuracy that it sees certain digits, even though the images look like random noise to humans. In this tutorial, we replicate some of the results of Nguyen 2015 using the pyribs version of MAP-Elites."
   ]
  },
  {
   "cell_type": "markdown",
   "metadata": {},
   "source": [
    "## Setup"
   ]
  },
  {
   "cell_type": "code",
   "execution_count": null,
   "metadata": {},
   "outputs": [],
   "source": [
    "%pip install ribs torch torchvision"
   ]
  },
  {
   "cell_type": "code",
   "execution_count": 2,
   "metadata": {},
   "outputs": [],
   "source": [
    "import time\n",
    "\n",
    "import matplotlib.pyplot as plt\n",
    "import numpy as np\n",
    "import torch\n",
    "import torch.nn as nn\n",
    "import torchvision\n",
    "\n",
    "from ribs.archives import GridArchive\n",
    "from ribs.emitters import GaussianEmitter\n",
    "from ribs.optimizers import Optimizer"
   ]
  },
  {
   "cell_type": "code",
   "execution_count": 3,
   "metadata": {},
   "outputs": [
    {
     "name": "stdout",
     "output_type": "stream",
     "text": [
      "cuda\n"
     ]
    }
   ],
   "source": [
    "use_cuda = torch.cuda.is_available()\n",
    "device = torch.device(\"cuda\" if use_cuda else \"cpu\")\n",
    "print(device)"
   ]
  },
  {
   "cell_type": "markdown",
   "metadata": {},
   "source": [
    "## Preliminary: MNIST Network\n",
    "\n",
    "For our ~victim~ classifier network, we train a LeNet-5 to classify MNIST. If you are not familiar with PyTorch, we recommend referring to the [PyTorch 60-minute blitz](https://pytorch.org/tutorials/beginner/deep_learning_60min_blitz.html). On the other hand, if you are familiar, feel free to skip to the next section, where we demonstrate how to fool the network.\n",
    "\n",
    "First, we load and preprocess the MNIST dataset."
   ]
  },
  {
   "cell_type": "code",
   "execution_count": 4,
   "metadata": {},
   "outputs": [],
   "source": [
    "# Transform each image by turning it into a tensor and then\n",
    "# normalizing the values.\n",
    "MEAN_TRANSFORM = 0.1307\n",
    "STD_DEV_TRANSFORM = 0.3081\n",
    "mnist_transforms = torchvision.transforms.Compose([\n",
    "    torchvision.transforms.ToTensor(),\n",
    "    torchvision.transforms.Normalize((MEAN_TRANSFORM,), (STD_DEV_TRANSFORM,))\n",
    "])\n",
    "\n",
    "TRAIN_BATCH_SIZE = 64\n",
    "TRAINLOADER = torch.utils.data.DataLoader(\n",
    "    torchvision.datasets.MNIST('./data',\n",
    "                               train=True,\n",
    "                               download=True,\n",
    "                               transform=mnist_transforms),\n",
    "    batch_size=TRAIN_BATCH_SIZE,\n",
    "    shuffle=True\n",
    ")\n",
    "\n",
    "TEST_BATCH_SIZE = 1000\n",
    "TESTLOADER = torch.utils.data.DataLoader(\n",
    "    torchvision.datasets.MNIST('./data',\n",
    "                               train=False,\n",
    "                               transform=mnist_transforms),\n",
    "    batch_size=TEST_BATCH_SIZE,\n",
    "    shuffle=False\n",
    ")"
   ]
  },
  {
   "cell_type": "markdown",
   "metadata": {},
   "source": [
    "This is our training function. We use negative log likelihood loss and Adam optimization."
   ]
  },
  {
   "cell_type": "code",
   "execution_count": 5,
   "metadata": {},
   "outputs": [],
   "source": [
    "def fit(net, epochs):\n",
    "    \"\"\"Trains net for the given number of epochs.\"\"\"\n",
    "    criterion = nn.NLLLoss()\n",
    "    optimizer = torch.optim.Adam(net.parameters())\n",
    "\n",
    "    for epoch in range(epochs):\n",
    "        print(f\"=== Epoch {epoch + 1} ===\")\n",
    "        total_loss = 0.0\n",
    "\n",
    "        # Iterate through batches in the shuffled training dataset.\n",
    "        for batch_i, data in enumerate(TRAINLOADER):\n",
    "            inputs = data[0].to(device)\n",
    "            labels = data[1].to(device)\n",
    "\n",
    "            optimizer.zero_grad()\n",
    "            outputs = net(inputs)\n",
    "            loss = criterion(outputs, labels)\n",
    "            loss.backward()\n",
    "            optimizer.step()\n",
    "\n",
    "            total_loss += loss.item()\n",
    "            if (batch_i + 1) % 100 == 0:\n",
    "                print(f\"Batch {batch_i + 1:5d}: {total_loss}\")\n",
    "                total_loss = 0.0"
   ]
  },
  {
   "cell_type": "markdown",
   "metadata": {},
   "source": [
    "Now, we define the LeNet-5 and train it for 2 epochs. We have annotated the shapes of the images (excluding the batch dimension) as they pass through the network."
   ]
  },
  {
   "cell_type": "code",
   "execution_count": 6,
   "metadata": {},
   "outputs": [
    {
     "name": "stdout",
     "output_type": "stream",
     "text": [
      "=== Epoch 1 ===\n",
      "Batch   100: 102.51357261836529\n",
      "Batch   200: 32.9656745493412\n",
      "Batch   300: 21.529952958226204\n",
      "Batch   400: 15.667681757360697\n",
      "Batch   500: 15.097078140825033\n",
      "Batch   600: 13.270927803590894\n",
      "Batch   700: 12.564910806715488\n",
      "Batch   800: 9.672732993029058\n",
      "Batch   900: 9.525600061751902\n",
      "=== Epoch 2 ===\n",
      "Batch   100: 8.397011974360794\n",
      "Batch   200: 7.109771997667849\n",
      "Batch   300: 8.579339948482811\n",
      "Batch   400: 7.7545816991478205\n",
      "Batch   500: 6.249599913135171\n",
      "Batch   600: 8.113473088946193\n",
      "Batch   700: 7.2713636280968785\n",
      "Batch   800: 7.562341179233044\n",
      "Batch   900: 6.3597436924465\n"
     ]
    }
   ],
   "source": [
    "LENET5 = nn.Sequential(\n",
    "    nn.Conv2d(1, 6, (5, 5), stride=1, padding=0),  # (1,28,28) -> (6,24,24)\n",
    "    nn.MaxPool2d(2),  # (6,24,24) -> (6,12,12)\n",
    "    nn.ReLU(),\n",
    "    nn.Conv2d(6, 16, (5, 5), stride=1, padding=0),  # (6,12,12) -> (16,8,8)\n",
    "    nn.MaxPool2d(2),  # (16,8,8) -> (16,4,4)\n",
    "    nn.ReLU(),\n",
    "    nn.Flatten(),  # (16,4,4) -> (256,)\n",
    "    nn.Linear(256, 120),  # (256,) -> (120,)\n",
    "    nn.ReLU(),\n",
    "    nn.Linear(120, 84),  # (120,) -> (84,)\n",
    "    nn.ReLU(),\n",
    "    nn.Linear(84, 10),  # (84,) -> (10,)\n",
    "    nn.LogSoftmax(dim=1),  # (10,) log probabilities\n",
    ").to(device)\n",
    "\n",
    "fit(LENET5, 2)"
   ]
  },
  {
   "cell_type": "markdown",
   "metadata": {},
   "source": [
    "To see how well the network does, we'll evaluate it on the train and test sets."
   ]
  },
  {
   "cell_type": "code",
   "execution_count": 7,
   "metadata": {},
   "outputs": [],
   "source": [
    "def evaluate(net, loader):\n",
    "    \"\"\"Evaluates the network's accuracy on the images in the dataloader.\"\"\"\n",
    "    correct_per_num = [0 for _ in range(10)]\n",
    "    total_per_num = [0 for _ in range(10)]\n",
    "\n",
    "    with torch.no_grad():\n",
    "        for data in loader:\n",
    "            images, labels = data\n",
    "            outputs = net(images.to(device))\n",
    "            _, predicted = torch.max(outputs.to(\"cpu\"), 1)\n",
    "            c = (predicted == labels).squeeze()\n",
    "            for i in range(len(c)):\n",
    "                label = labels[i]\n",
    "                correct_per_num[label] += c[i].item()\n",
    "                total_per_num[label] += 1\n",
    "\n",
    "    for i in range(10):\n",
    "        print(f\"Class {i}: {correct_per_num[i] / total_per_num[i]:5.3f}\"\n",
    "              f\" ({correct_per_num[i]} / {total_per_num[i]})\")\n",
    "    print(f\"TOTAL    : {sum(correct_per_num) / sum(total_per_num):5.3f}\"\n",
    "          f\" ({sum(correct_per_num)} / {sum(total_per_num)})\")"
   ]
  },
  {
   "cell_type": "code",
   "execution_count": 8,
   "metadata": {},
   "outputs": [
    {
     "name": "stdout",
     "output_type": "stream",
     "text": [
      "Class 0: 0.994 (5889 / 5923)\n",
      "Class 1: 0.995 (6708 / 6742)\n",
      "Class 2: 0.985 (5871 / 5958)\n",
      "Class 3: 0.940 (5762 / 6131)\n",
      "Class 4: 0.992 (5798 / 5842)\n",
      "Class 5: 0.972 (5269 / 5421)\n",
      "Class 6: 0.986 (5835 / 5918)\n",
      "Class 7: 0.994 (6225 / 6265)\n",
      "Class 8: 0.958 (5604 / 5851)\n",
      "Class 9: 0.938 (5583 / 5949)\n",
      "TOTAL    : 0.976 (58544 / 60000)\n"
     ]
    }
   ],
   "source": [
    "evaluate(LENET5, TRAINLOADER)"
   ]
  },
  {
   "cell_type": "code",
   "execution_count": 9,
   "metadata": {},
   "outputs": [
    {
     "name": "stdout",
     "output_type": "stream",
     "text": [
      "Class 0: 0.992 (972 / 980)\n",
      "Class 1: 0.997 (1132 / 1135)\n",
      "Class 2: 0.986 (1018 / 1032)\n",
      "Class 3: 0.954 (964 / 1010)\n",
      "Class 4: 0.996 (978 / 982)\n",
      "Class 5: 0.979 (873 / 892)\n",
      "Class 6: 0.975 (934 / 958)\n",
      "Class 7: 0.992 (1020 / 1028)\n",
      "Class 8: 0.966 (941 / 974)\n",
      "Class 9: 0.942 (950 / 1009)\n",
      "TOTAL    : 0.978 (9782 / 10000)\n"
     ]
    }
   ],
   "source": [
    "evaluate(LENET5, TESTLOADER)"
   ]
  },
  {
   "cell_type": "markdown",
   "metadata": {},
   "source": [
    "## Fooling the Classifier with Random Noise\n",
    "\n",
    "Above, we trained a reasonably high-performing classifier. In order to fool the classifier into seeing various digits, we use MAP-Elites. As we have 10 distinct digits (0-9), we have a discrete behavior space with 10 values. Above, our classifier outputs a log probability vector with its belief that it is seeing each digit. Thus, our objective for each digit is to maximize the probability that the classifier assigns to the image associated with it. For instance, for digit 5, we want to generate an image that makes the classifier believe with high probability that is seeing a 5.\n",
    "\n",
    "In pyribs, we implement MAP-Elites with a `GridArchive` and a `GaussianEmitter`. Below, we start by constructing the `GridArchive`. The archive has 10 bins and a range of (0,10). Since `GridArchive` was originally designed for continuous spaces, it does not directly support discrete spaces, but by using these settings, we have a bin for digits 0-9."
   ]
  },
  {
   "cell_type": "code",
   "execution_count": 10,
   "metadata": {},
   "outputs": [],
   "source": [
    "archive = GridArchive([10], [(0, 10)])"
   ]
  },
  {
   "cell_type": "markdown",
   "metadata": {},
   "source": [
    "Second, the `GaussianEmitter` begins at an image filled with 0.5 (i.e. grey, since pixels are in the range (0,1)) and generates random images by adding Gaussian noise with standard deviation 0.5. After the first iteration, the emitter adds the Gaussian noise to random elites in the archive."
   ]
  },
  {
   "cell_type": "code",
   "execution_count": 11,
   "metadata": {},
   "outputs": [],
   "source": [
    "img_size = (28, 28)\n",
    "flat_img_size = 784  # 28 * 28\n",
    "emitters = [\n",
    "    GaussianEmitter(\n",
    "        archive,\n",
    "        # Start with a grey image.\n",
    "        np.full(flat_img_size, 0.5),\n",
    "        # 0.5 to cover the whole range.\n",
    "        0.5,\n",
    "        # Bound the generated images to the pixel range of the images.\n",
    "        bounds=[(0, 1)] * flat_img_size,\n",
    "        batch_size=64,\n",
    "    )\n",
    "]"
   ]
  },
  {
   "cell_type": "markdown",
   "metadata": {},
   "source": [
    "Finally, we construct the optimizer to connect the archive and emitters together."
   ]
  },
  {
   "cell_type": "code",
   "execution_count": 12,
   "metadata": {},
   "outputs": [],
   "source": [
    "optimizer = Optimizer(archive, emitters)"
   ]
  },
  {
   "cell_type": "markdown",
   "metadata": {},
   "source": [
    "With the components created, we now generate the images. As the emitter had batch size 64 and we run 15,000 iterations, we evaluate 960,000 images in total."
   ]
  },
  {
   "cell_type": "code",
   "execution_count": 13,
   "metadata": {},
   "outputs": [
    {
     "name": "stdout",
     "output_type": "stream",
     "text": [
      "Iteration 1000 complete after 6.405324459075928 s\n",
      "Iteration 2000 complete after 11.881330728530884 s\n",
      "Iteration 3000 complete after 17.29666304588318 s\n",
      "Iteration 4000 complete after 22.742225170135498 s\n",
      "Iteration 5000 complete after 28.1128511428833 s\n",
      "Iteration 6000 complete after 33.4985466003418 s\n",
      "Iteration 7000 complete after 38.969311237335205 s\n",
      "Iteration 8000 complete after 44.38250923156738 s\n",
      "Iteration 9000 complete after 49.784961462020874 s\n",
      "Iteration 10000 complete after 55.21747589111328 s\n",
      "Iteration 11000 complete after 60.6211154460907 s\n",
      "Iteration 12000 complete after 66.14762783050537 s\n",
      "Iteration 13000 complete after 71.53709769248962 s\n",
      "Iteration 14000 complete after 76.90295338630676 s\n",
      "Iteration 15000 complete after 82.26457858085632 s\n"
     ]
    }
   ],
   "source": [
    "total_itrs = 15_000\n",
    "start_time = time.time()\n",
    "\n",
    "for itr in range(1, total_itrs + 1):\n",
    "    sols = optimizer.ask()\n",
    "\n",
    "    with torch.no_grad():\n",
    "\n",
    "        # Reshape and normalize the image and pass it through the network.\n",
    "        imgs = sols.reshape((-1, 1, *img_size))\n",
    "        imgs = (imgs - MEAN_TRANSFORM) / STD_DEV_TRANSFORM\n",
    "        imgs = torch.tensor(imgs, dtype=torch.float32, device=device)\n",
    "        output = LENET5(imgs)\n",
    "\n",
    "        # The BC is the digit that the network believes it is seeing, i.e. the\n",
    "        # digit with the maximum probability. The objective is the actual\n",
    "        # probability associated with that digit.\n",
    "        scores, predicted = torch.max(output.to(\"cpu\"), 1)\n",
    "        scores = torch.exp(scores)\n",
    "        objs = scores.numpy()\n",
    "        bcs = predicted.numpy()\n",
    "\n",
    "    optimizer.tell(objs, bcs)\n",
    "\n",
    "    if itr % 1000 == 0:\n",
    "        print(f\"Iteration {itr} complete after {time.time() - start_time} s\")"
   ]
  },
  {
   "cell_type": "markdown",
   "metadata": {},
   "source": [
    "Below, we display the results we found with MAP-Elites. The `index_0` column shows the digit that each image corresponds to the `objective` column shows the network's belief that the image is that digit. The `solution` columns show the image's pixels."
   ]
  },
  {
   "cell_type": "code",
   "execution_count": 14,
   "metadata": {},
   "outputs": [
    {
     "data": {
      "text/html": [
       "<div>\n",
       "<style scoped>\n",
       "    .dataframe tbody tr th:only-of-type {\n",
       "        vertical-align: middle;\n",
       "    }\n",
       "\n",
       "    .dataframe tbody tr th {\n",
       "        vertical-align: top;\n",
       "    }\n",
       "\n",
       "    .dataframe thead th {\n",
       "        text-align: right;\n",
       "    }\n",
       "</style>\n",
       "<table border=\"1\" class=\"dataframe\">\n",
       "  <thead>\n",
       "    <tr style=\"text-align: right;\">\n",
       "      <th></th>\n",
       "      <th>index_0</th>\n",
       "      <th>behavior_0</th>\n",
       "      <th>objective</th>\n",
       "      <th>solution_0</th>\n",
       "      <th>solution_1</th>\n",
       "      <th>solution_2</th>\n",
       "      <th>solution_3</th>\n",
       "      <th>solution_4</th>\n",
       "      <th>solution_5</th>\n",
       "      <th>solution_6</th>\n",
       "      <th>...</th>\n",
       "      <th>solution_774</th>\n",
       "      <th>solution_775</th>\n",
       "      <th>solution_776</th>\n",
       "      <th>solution_777</th>\n",
       "      <th>solution_778</th>\n",
       "      <th>solution_779</th>\n",
       "      <th>solution_780</th>\n",
       "      <th>solution_781</th>\n",
       "      <th>solution_782</th>\n",
       "      <th>solution_783</th>\n",
       "    </tr>\n",
       "  </thead>\n",
       "  <tbody>\n",
       "    <tr>\n",
       "      <th>2</th>\n",
       "      <td>0</td>\n",
       "      <td>0.0</td>\n",
       "      <td>0.987680</td>\n",
       "      <td>1.000000</td>\n",
       "      <td>1.000000</td>\n",
       "      <td>0.011156</td>\n",
       "      <td>0.169332</td>\n",
       "      <td>1.000000</td>\n",
       "      <td>0.701903</td>\n",
       "      <td>0.217690</td>\n",
       "      <td>...</td>\n",
       "      <td>0.714737</td>\n",
       "      <td>0.708943</td>\n",
       "      <td>0.000000</td>\n",
       "      <td>0.753090</td>\n",
       "      <td>0.734133</td>\n",
       "      <td>0.000000</td>\n",
       "      <td>1.000000</td>\n",
       "      <td>0.477669</td>\n",
       "      <td>0.000000</td>\n",
       "      <td>0.396209</td>\n",
       "    </tr>\n",
       "    <tr>\n",
       "      <th>0</th>\n",
       "      <td>1</td>\n",
       "      <td>1.0</td>\n",
       "      <td>0.999146</td>\n",
       "      <td>1.000000</td>\n",
       "      <td>0.614113</td>\n",
       "      <td>0.107083</td>\n",
       "      <td>0.431910</td>\n",
       "      <td>0.093555</td>\n",
       "      <td>0.312382</td>\n",
       "      <td>0.000000</td>\n",
       "      <td>...</td>\n",
       "      <td>0.000000</td>\n",
       "      <td>0.187751</td>\n",
       "      <td>1.000000</td>\n",
       "      <td>0.764512</td>\n",
       "      <td>0.000000</td>\n",
       "      <td>1.000000</td>\n",
       "      <td>1.000000</td>\n",
       "      <td>0.477747</td>\n",
       "      <td>0.426100</td>\n",
       "      <td>0.913944</td>\n",
       "    </tr>\n",
       "    <tr>\n",
       "      <th>6</th>\n",
       "      <td>2</td>\n",
       "      <td>2.0</td>\n",
       "      <td>0.981022</td>\n",
       "      <td>0.954979</td>\n",
       "      <td>0.549241</td>\n",
       "      <td>0.000000</td>\n",
       "      <td>0.000000</td>\n",
       "      <td>0.643126</td>\n",
       "      <td>0.569946</td>\n",
       "      <td>0.664567</td>\n",
       "      <td>...</td>\n",
       "      <td>0.000000</td>\n",
       "      <td>0.878428</td>\n",
       "      <td>0.539377</td>\n",
       "      <td>0.104789</td>\n",
       "      <td>1.000000</td>\n",
       "      <td>0.000000</td>\n",
       "      <td>0.287717</td>\n",
       "      <td>0.583123</td>\n",
       "      <td>0.877207</td>\n",
       "      <td>0.202896</td>\n",
       "    </tr>\n",
       "    <tr>\n",
       "      <th>8</th>\n",
       "      <td>3</td>\n",
       "      <td>3.0</td>\n",
       "      <td>0.903618</td>\n",
       "      <td>1.000000</td>\n",
       "      <td>0.000000</td>\n",
       "      <td>0.000000</td>\n",
       "      <td>0.000000</td>\n",
       "      <td>1.000000</td>\n",
       "      <td>1.000000</td>\n",
       "      <td>0.468883</td>\n",
       "      <td>...</td>\n",
       "      <td>0.325218</td>\n",
       "      <td>0.939044</td>\n",
       "      <td>0.000000</td>\n",
       "      <td>1.000000</td>\n",
       "      <td>0.000000</td>\n",
       "      <td>0.923697</td>\n",
       "      <td>0.000000</td>\n",
       "      <td>0.798279</td>\n",
       "      <td>1.000000</td>\n",
       "      <td>0.000000</td>\n",
       "    </tr>\n",
       "    <tr>\n",
       "      <th>1</th>\n",
       "      <td>4</td>\n",
       "      <td>4.0</td>\n",
       "      <td>0.999301</td>\n",
       "      <td>0.000000</td>\n",
       "      <td>1.000000</td>\n",
       "      <td>0.482723</td>\n",
       "      <td>0.000000</td>\n",
       "      <td>0.180477</td>\n",
       "      <td>0.000000</td>\n",
       "      <td>0.538591</td>\n",
       "      <td>...</td>\n",
       "      <td>0.574619</td>\n",
       "      <td>0.835598</td>\n",
       "      <td>0.365552</td>\n",
       "      <td>0.993877</td>\n",
       "      <td>0.625835</td>\n",
       "      <td>1.000000</td>\n",
       "      <td>1.000000</td>\n",
       "      <td>0.573823</td>\n",
       "      <td>0.988071</td>\n",
       "      <td>1.000000</td>\n",
       "    </tr>\n",
       "    <tr>\n",
       "      <th>5</th>\n",
       "      <td>5</td>\n",
       "      <td>5.0</td>\n",
       "      <td>0.970175</td>\n",
       "      <td>0.953075</td>\n",
       "      <td>0.000000</td>\n",
       "      <td>0.116254</td>\n",
       "      <td>1.000000</td>\n",
       "      <td>0.000000</td>\n",
       "      <td>0.675124</td>\n",
       "      <td>0.000000</td>\n",
       "      <td>...</td>\n",
       "      <td>1.000000</td>\n",
       "      <td>1.000000</td>\n",
       "      <td>0.000000</td>\n",
       "      <td>1.000000</td>\n",
       "      <td>0.500610</td>\n",
       "      <td>1.000000</td>\n",
       "      <td>1.000000</td>\n",
       "      <td>0.000000</td>\n",
       "      <td>0.000000</td>\n",
       "      <td>0.616909</td>\n",
       "    </tr>\n",
       "    <tr>\n",
       "      <th>9</th>\n",
       "      <td>6</td>\n",
       "      <td>6.0</td>\n",
       "      <td>0.862747</td>\n",
       "      <td>0.500315</td>\n",
       "      <td>1.000000</td>\n",
       "      <td>0.893130</td>\n",
       "      <td>1.000000</td>\n",
       "      <td>0.410955</td>\n",
       "      <td>0.311204</td>\n",
       "      <td>0.679928</td>\n",
       "      <td>...</td>\n",
       "      <td>0.000000</td>\n",
       "      <td>0.252908</td>\n",
       "      <td>0.000000</td>\n",
       "      <td>0.956751</td>\n",
       "      <td>0.847560</td>\n",
       "      <td>0.808687</td>\n",
       "      <td>0.533426</td>\n",
       "      <td>1.000000</td>\n",
       "      <td>0.147118</td>\n",
       "      <td>0.000000</td>\n",
       "    </tr>\n",
       "    <tr>\n",
       "      <th>4</th>\n",
       "      <td>7</td>\n",
       "      <td>7.0</td>\n",
       "      <td>0.992296</td>\n",
       "      <td>0.512495</td>\n",
       "      <td>0.827997</td>\n",
       "      <td>1.000000</td>\n",
       "      <td>0.739287</td>\n",
       "      <td>0.000000</td>\n",
       "      <td>0.664664</td>\n",
       "      <td>0.000000</td>\n",
       "      <td>...</td>\n",
       "      <td>0.043437</td>\n",
       "      <td>1.000000</td>\n",
       "      <td>0.141383</td>\n",
       "      <td>0.170574</td>\n",
       "      <td>0.215346</td>\n",
       "      <td>0.445491</td>\n",
       "      <td>0.327223</td>\n",
       "      <td>0.311870</td>\n",
       "      <td>0.848086</td>\n",
       "      <td>1.000000</td>\n",
       "    </tr>\n",
       "    <tr>\n",
       "      <th>3</th>\n",
       "      <td>8</td>\n",
       "      <td>8.0</td>\n",
       "      <td>0.998332</td>\n",
       "      <td>0.000000</td>\n",
       "      <td>1.000000</td>\n",
       "      <td>0.579672</td>\n",
       "      <td>0.000000</td>\n",
       "      <td>0.741452</td>\n",
       "      <td>0.000000</td>\n",
       "      <td>0.243033</td>\n",
       "      <td>...</td>\n",
       "      <td>0.185573</td>\n",
       "      <td>0.766609</td>\n",
       "      <td>0.715961</td>\n",
       "      <td>0.000000</td>\n",
       "      <td>1.000000</td>\n",
       "      <td>0.000000</td>\n",
       "      <td>0.074394</td>\n",
       "      <td>0.249930</td>\n",
       "      <td>1.000000</td>\n",
       "      <td>1.000000</td>\n",
       "    </tr>\n",
       "    <tr>\n",
       "      <th>7</th>\n",
       "      <td>9</td>\n",
       "      <td>9.0</td>\n",
       "      <td>0.839247</td>\n",
       "      <td>0.876791</td>\n",
       "      <td>0.000000</td>\n",
       "      <td>0.655479</td>\n",
       "      <td>1.000000</td>\n",
       "      <td>0.587206</td>\n",
       "      <td>0.599552</td>\n",
       "      <td>1.000000</td>\n",
       "      <td>...</td>\n",
       "      <td>1.000000</td>\n",
       "      <td>0.000000</td>\n",
       "      <td>1.000000</td>\n",
       "      <td>0.835658</td>\n",
       "      <td>0.000000</td>\n",
       "      <td>0.337262</td>\n",
       "      <td>0.794993</td>\n",
       "      <td>1.000000</td>\n",
       "      <td>0.100611</td>\n",
       "      <td>0.769564</td>\n",
       "    </tr>\n",
       "  </tbody>\n",
       "</table>\n",
       "<p>10 rows × 787 columns</p>\n",
       "</div>"
      ],
      "text/plain": [
       "   index_0  behavior_0  objective  solution_0  solution_1  solution_2  \\\n",
       "2        0         0.0   0.987680    1.000000    1.000000    0.011156   \n",
       "0        1         1.0   0.999146    1.000000    0.614113    0.107083   \n",
       "6        2         2.0   0.981022    0.954979    0.549241    0.000000   \n",
       "8        3         3.0   0.903618    1.000000    0.000000    0.000000   \n",
       "1        4         4.0   0.999301    0.000000    1.000000    0.482723   \n",
       "5        5         5.0   0.970175    0.953075    0.000000    0.116254   \n",
       "9        6         6.0   0.862747    0.500315    1.000000    0.893130   \n",
       "4        7         7.0   0.992296    0.512495    0.827997    1.000000   \n",
       "3        8         8.0   0.998332    0.000000    1.000000    0.579672   \n",
       "7        9         9.0   0.839247    0.876791    0.000000    0.655479   \n",
       "\n",
       "   solution_3  solution_4  solution_5  solution_6  ...  solution_774  \\\n",
       "2    0.169332    1.000000    0.701903    0.217690  ...      0.714737   \n",
       "0    0.431910    0.093555    0.312382    0.000000  ...      0.000000   \n",
       "6    0.000000    0.643126    0.569946    0.664567  ...      0.000000   \n",
       "8    0.000000    1.000000    1.000000    0.468883  ...      0.325218   \n",
       "1    0.000000    0.180477    0.000000    0.538591  ...      0.574619   \n",
       "5    1.000000    0.000000    0.675124    0.000000  ...      1.000000   \n",
       "9    1.000000    0.410955    0.311204    0.679928  ...      0.000000   \n",
       "4    0.739287    0.000000    0.664664    0.000000  ...      0.043437   \n",
       "3    0.000000    0.741452    0.000000    0.243033  ...      0.185573   \n",
       "7    1.000000    0.587206    0.599552    1.000000  ...      1.000000   \n",
       "\n",
       "   solution_775  solution_776  solution_777  solution_778  solution_779  \\\n",
       "2      0.708943      0.000000      0.753090      0.734133      0.000000   \n",
       "0      0.187751      1.000000      0.764512      0.000000      1.000000   \n",
       "6      0.878428      0.539377      0.104789      1.000000      0.000000   \n",
       "8      0.939044      0.000000      1.000000      0.000000      0.923697   \n",
       "1      0.835598      0.365552      0.993877      0.625835      1.000000   \n",
       "5      1.000000      0.000000      1.000000      0.500610      1.000000   \n",
       "9      0.252908      0.000000      0.956751      0.847560      0.808687   \n",
       "4      1.000000      0.141383      0.170574      0.215346      0.445491   \n",
       "3      0.766609      0.715961      0.000000      1.000000      0.000000   \n",
       "7      0.000000      1.000000      0.835658      0.000000      0.337262   \n",
       "\n",
       "   solution_780  solution_781  solution_782  solution_783  \n",
       "2      1.000000      0.477669      0.000000      0.396209  \n",
       "0      1.000000      0.477747      0.426100      0.913944  \n",
       "6      0.287717      0.583123      0.877207      0.202896  \n",
       "8      0.000000      0.798279      1.000000      0.000000  \n",
       "1      1.000000      0.573823      0.988071      1.000000  \n",
       "5      1.000000      0.000000      0.000000      0.616909  \n",
       "9      0.533426      1.000000      0.147118      0.000000  \n",
       "4      0.327223      0.311870      0.848086      1.000000  \n",
       "3      0.074394      0.249930      1.000000      1.000000  \n",
       "7      0.794993      1.000000      0.100611      0.769564  \n",
       "\n",
       "[10 rows x 787 columns]"
      ]
     },
     "execution_count": 14,
     "metadata": {},
     "output_type": "execute_result"
    }
   ],
   "source": [
    "archive.as_pandas().sort_values(\"index_0\")"
   ]
  },
  {
   "cell_type": "markdown",
   "metadata": {},
   "source": [
    "Here, we display the images found by the network. Interestingly, though the images look mostly like noise, we can occasionally make out traces of the original digit."
   ]
  },
  {
   "cell_type": "code",
   "execution_count": 15,
   "metadata": {},
   "outputs": [
    {
     "data": {
      "image/png": "[encoded data removed]",
      "text/plain": [
       "<Figure size 720x288 with 10 Axes>"
      ]
     },
     "metadata": {
      "needs_background": "light"
     },
     "output_type": "display_data"
    }
   ],
   "source": [
    "fig, ax = plt.subplots(2, 5, figsize=(10, 4))\n",
    "fig.tight_layout()\n",
    "ax = ax.flatten()\n",
    "found = set()\n",
    "\n",
    "# Display images.\n",
    "for _, row in archive.as_pandas().iterrows():\n",
    "    i = int(row.loc[\"index_0\"])\n",
    "    found.add(i)\n",
    "    obj = row.loc[\"objective\"]\n",
    "    ax[i].set_title(f\"{i} | Score: {obj:.3f}\")\n",
    "    img = row.loc[\"solution_0\":].to_numpy().reshape(28, 28)\n",
    "\n",
    "    # No need to normalize image because we want to see the original.\n",
    "    ax[i].imshow(img, cmap=\"Greys\")\n",
    "\n",
    "# Mark digits that we did not generate images for.\n",
    "for i in range(10):\n",
    "    if i not in found:\n",
    "        ax[i].set_title(f\"{i} | (no solution)\")"
   ]
  },
  {
   "cell_type": "markdown",
   "metadata": {},
   "source": [
    "## Conclusion\n",
    "\n",
    "In this tutorial, we used MAP-Elites to generate images that fool a LeNet-5 MNIST classifier. For further exploration, we recommend referring to [Nguyen 2015](http://anhnguyen.me/project/fooling/) and attmepting to replicate or extend the other experiments described in the paper."
   ]
  }
 ],
 "metadata": {
  "kernelspec": {
   "display_name": "Python 3",
   "language": "python",
   "name": "python3"
  },
  "language_info": {
   "codemirror_mode": {
    "name": "ipython",
    "version": 3
   },
   "file_extension": ".py",
   "mimetype": "text/x-python",
   "name": "python",
   "nbconvert_exporter": "python",
   "pygments_lexer": "ipython3",
   "version": "3.7.8"
  }
 },
 "nbformat": 4,
 "nbformat_minor": 4
}
