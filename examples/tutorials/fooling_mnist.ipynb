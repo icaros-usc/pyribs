{
 "cells": [
  {
   "cell_type": "markdown",
   "metadata": {},
   "source": [
    "# Generating Images to Fool an MNIST Classifier\n",
    "\n",
    "Despite their high performance on classification tasks such as MNIST, neural networks like the [LeNet-5](https://en.wikipedia.org/wiki/LeNet) have a weakness: they are easy to fool. Namely, given images like the ones below, a classifier may confidently believe that it is seeing certain digits, even though the images look like random noise to humans. Naturally, this phenomenon raises some concerns, especially when the network in question is used in a safety-critical system like a self-driving car. Given such unrecognizable input, one would hope that the network at least has low confidence in its prediction.\n",
    "\n",
    "![fooling images example](_static/fooling_mnist_example.png)\n",
    "\n",
    "To make matters worse for neural networks, generating such images is incredibly easy with QD algorithms. As shown in [Nguyen 2015](http://anhnguyen.me/project/fooling/), one can use simple MAP-Elites to generate these images. In this tutorial, we will instead use the pyribs version of MAP-Elites to do just that."
   ]
  },
  {
   "cell_type": "markdown",
   "metadata": {},
   "source": [
    "## Setup\n",
    "\n",
    "First, we install pyribs and PyTorch."
   ]
  },
  {
   "cell_type": "code",
   "execution_count": null,
   "metadata": {},
   "outputs": [],
   "source": [
    "%pip install ribs torch torchvision"
   ]
  },
  {
   "cell_type": "markdown",
   "metadata": {},
   "source": [
    "Here, we import PyTorch and some utilities."
   ]
  },
  {
   "cell_type": "code",
   "execution_count": 2,
   "metadata": {},
   "outputs": [],
   "source": [
    "import time\n",
    "\n",
    "import matplotlib.pyplot as plt\n",
    "import numpy as np\n",
    "import torch\n",
    "import torch.nn as nn\n",
    "import torchvision"
   ]
  },
  {
   "cell_type": "markdown",
   "metadata": {},
   "source": [
    "Below, we check what device is available for PyTorch. On Colab, activate the GPU by clicking \"Runtime\" in the toolbar at the top. Then, click \"Change Runtime Type\", and select \"GPU\"."
   ]
  },
  {
   "cell_type": "code",
   "execution_count": 3,
   "metadata": {},
   "outputs": [
    {
     "name": "stdout",
     "output_type": "stream",
     "text": [
      "cuda\n"
     ]
    }
   ],
   "source": [
    "use_cuda = torch.cuda.is_available()\n",
    "device = torch.device(\"cuda\" if use_cuda else \"cpu\")\n",
    "print(device)"
   ]
  },
  {
   "cell_type": "markdown",
   "metadata": {},
   "source": [
    "## Preliminary: MNIST Network\n",
    "\n",
    "For the classifier network, we train a LeNet-5 to classify MNIST. If you are not familiar with PyTorch, we recommend referring to the [PyTorch 60-minute blitz](https://pytorch.org/tutorials/beginner/deep_learning_60min_blitz.html). On the other hand, if you are familiar, feel free to skip to the next section, where we demonstrate how to fool the network.\n",
    "\n",
    "**Note**: This section is adapted from the [Training a Classifier](https://pytorch.org/tutorials/beginner/blitz/cifar10_tutorial.html#sphx-glr-beginner-blitz-cifar10-tutorial-py) tutorial in the 60-minute blitz.\n",
    "\n",
    "Before training the network, we load and preprocess the MNIST dataset."
   ]
  },
  {
   "cell_type": "code",
   "execution_count": 4,
   "metadata": {},
   "outputs": [],
   "source": [
    "# Transform each image by turning it into a tensor and then\n",
    "# normalizing the values.\n",
    "MEAN_TRANSFORM = 0.1307\n",
    "STD_DEV_TRANSFORM = 0.3081\n",
    "mnist_transforms = torchvision.transforms.Compose([\n",
    "    torchvision.transforms.ToTensor(),\n",
    "    torchvision.transforms.Normalize((MEAN_TRANSFORM,), (STD_DEV_TRANSFORM,))\n",
    "])\n",
    "\n",
    "TRAIN_BATCH_SIZE = 64\n",
    "TRAINLOADER = torch.utils.data.DataLoader(torchvision.datasets.MNIST(\n",
    "    './data', train=True, download=True, transform=mnist_transforms),\n",
    "                                          batch_size=TRAIN_BATCH_SIZE,\n",
    "                                          shuffle=True)\n",
    "\n",
    "TEST_BATCH_SIZE = 1000\n",
    "TESTLOADER = torch.utils.data.DataLoader(torchvision.datasets.MNIST(\n",
    "    './data', train=False, transform=mnist_transforms),\n",
    "                                         batch_size=TEST_BATCH_SIZE,\n",
    "                                         shuffle=False)"
   ]
  },
  {
   "cell_type": "markdown",
   "metadata": {},
   "source": [
    "This is our training function. We use negative log likelihood loss and Adam optimization."
   ]
  },
  {
   "cell_type": "code",
   "execution_count": 5,
   "metadata": {},
   "outputs": [],
   "source": [
    "def fit(net, epochs):\n",
    "    \"\"\"Trains net for the given number of epochs.\"\"\"\n",
    "    criterion = nn.NLLLoss()\n",
    "    optimizer = torch.optim.Adam(net.parameters())\n",
    "\n",
    "    for epoch in range(epochs):\n",
    "        print(f\"=== Epoch {epoch + 1} ===\")\n",
    "        total_loss = 0.0\n",
    "\n",
    "        # Iterate through batches in the shuffled training dataset.\n",
    "        for batch_i, data in enumerate(TRAINLOADER):\n",
    "            inputs = data[0].to(device)\n",
    "            labels = data[1].to(device)\n",
    "\n",
    "            optimizer.zero_grad()\n",
    "            outputs = net(inputs)\n",
    "            loss = criterion(outputs, labels)\n",
    "            loss.backward()\n",
    "            optimizer.step()\n",
    "\n",
    "            total_loss += loss.item()\n",
    "            if (batch_i + 1) % 100 == 0:\n",
    "                print(f\"Batch {batch_i + 1:5d}: {total_loss}\")\n",
    "                total_loss = 0.0"
   ]
  },
  {
   "cell_type": "markdown",
   "metadata": {},
   "source": [
    "Now, we define the LeNet-5 and train it for 2 epochs. We have annotated the shapes of the data (excluding the batch dimension) as they pass through the network."
   ]
  },
  {
   "cell_type": "code",
   "execution_count": 6,
   "metadata": {},
   "outputs": [
    {
     "name": "stdout",
     "output_type": "stream",
     "text": [
      "=== Epoch 1 ===\n",
      "Batch   100: 91.06456322968006\n",
      "Batch   200: 27.53672430664301\n",
      "Batch   300: 20.126135285943747\n",
      "Batch   400: 17.020390208810568\n",
      "Batch   500: 12.69742445461452\n",
      "Batch   600: 11.237632440403104\n",
      "Batch   700: 10.171053199097514\n",
      "Batch   800: 9.923257116228342\n",
      "Batch   900: 9.814844051375985\n",
      "=== Epoch 2 ===\n",
      "Batch   100: 7.419087789952755\n",
      "Batch   200: 6.923573239240795\n",
      "Batch   300: 7.54965728148818\n",
      "Batch   400: 7.2184919700957835\n",
      "Batch   500: 6.637612740509212\n",
      "Batch   600: 6.85739607969299\n",
      "Batch   700: 6.978088988456875\n",
      "Batch   800: 5.98210142692551\n",
      "Batch   900: 6.327374076470733\n"
     ]
    }
   ],
   "source": [
    "LENET5 = nn.Sequential(\n",
    "    nn.Conv2d(1, 6, (5, 5), stride=1, padding=0),  # (1,28,28) -> (6,24,24)\n",
    "    nn.MaxPool2d(2),  # (6,24,24) -> (6,12,12)\n",
    "    nn.ReLU(),\n",
    "    nn.Conv2d(6, 16, (5, 5), stride=1, padding=0),  # (6,12,12) -> (16,8,8)\n",
    "    nn.MaxPool2d(2),  # (16,8,8) -> (16,4,4)\n",
    "    nn.ReLU(),\n",
    "    nn.Flatten(),  # (16,4,4) -> (256,)\n",
    "    nn.Linear(256, 120),  # (256,) -> (120,)\n",
    "    nn.ReLU(),\n",
    "    nn.Linear(120, 84),  # (120,) -> (84,)\n",
    "    nn.ReLU(),\n",
    "    nn.Linear(84, 10),  # (84,) -> (10,)\n",
    "    nn.LogSoftmax(dim=1),  # (10,) log probabilities\n",
    ").to(device)\n",
    "\n",
    "fit(LENET5, 2)"
   ]
  },
  {
   "cell_type": "markdown",
   "metadata": {},
   "source": [
    "Finally, we evaluate the network on the train and test sets."
   ]
  },
  {
   "cell_type": "code",
   "execution_count": 7,
   "metadata": {},
   "outputs": [],
   "source": [
    "def evaluate(net, loader):\n",
    "    \"\"\"Evaluates the network's accuracy on the images in the dataloader.\"\"\"\n",
    "    correct_per_num = [0 for _ in range(10)]\n",
    "    total_per_num = [0 for _ in range(10)]\n",
    "\n",
    "    with torch.no_grad():\n",
    "        for data in loader:\n",
    "            images, labels = data\n",
    "            outputs = net(images.to(device))\n",
    "            _, predicted = torch.max(outputs.to(\"cpu\"), 1)\n",
    "            c = (predicted == labels).squeeze()\n",
    "            for i in range(len(c)):\n",
    "                label = labels[i]\n",
    "                correct_per_num[label] += c[i].item()\n",
    "                total_per_num[label] += 1\n",
    "\n",
    "    for i in range(10):\n",
    "        print(f\"Class {i}: {correct_per_num[i] / total_per_num[i]:5.3f}\"\n",
    "              f\" ({correct_per_num[i]} / {total_per_num[i]})\")\n",
    "    print(f\"TOTAL  : {sum(correct_per_num) / sum(total_per_num):5.3f}\"\n",
    "          f\" ({sum(correct_per_num)} / {sum(total_per_num)})\")"
   ]
  },
  {
   "cell_type": "code",
   "execution_count": 8,
   "metadata": {},
   "outputs": [
    {
     "name": "stdout",
     "output_type": "stream",
     "text": [
      "Class 0: 0.988 (5854 / 5923)\n",
      "Class 1: 0.996 (6714 / 6742)\n",
      "Class 2: 0.983 (5858 / 5958)\n",
      "Class 3: 0.985 (6037 / 6131)\n",
      "Class 4: 0.983 (5741 / 5842)\n",
      "Class 5: 0.986 (5347 / 5421)\n",
      "Class 6: 0.996 (5894 / 5918)\n",
      "Class 7: 0.992 (6215 / 6265)\n",
      "Class 8: 0.972 (5690 / 5851)\n",
      "Class 9: 0.979 (5823 / 5949)\n",
      "TOTAL  : 0.986 (59173 / 60000)\n"
     ]
    }
   ],
   "source": [
    "evaluate(LENET5, TRAINLOADER)"
   ]
  },
  {
   "cell_type": "code",
   "execution_count": 9,
   "metadata": {},
   "outputs": [
    {
     "name": "stdout",
     "output_type": "stream",
     "text": [
      "Class 0: 0.984 (964 / 980)\n",
      "Class 1: 0.996 (1131 / 1135)\n",
      "Class 2: 0.985 (1017 / 1032)\n",
      "Class 3: 0.991 (1001 / 1010)\n",
      "Class 4: 0.989 (971 / 982)\n",
      "Class 5: 0.985 (879 / 892)\n",
      "Class 6: 0.994 (952 / 958)\n",
      "Class 7: 0.994 (1022 / 1028)\n",
      "Class 8: 0.978 (953 / 974)\n",
      "Class 9: 0.975 (984 / 1009)\n",
      "TOTAL  : 0.987 (9874 / 10000)\n"
     ]
    }
   ],
   "source": [
    "evaluate(LENET5, TESTLOADER)"
   ]
  },
  {
   "cell_type": "markdown",
   "metadata": {},
   "source": [
    "## Fooling the Classifier with MAP-Elites\n",
    "\n",
    "Above, we trained a reasonably high-performing classifier. In order to fool the classifier into seeing various digits, we use MAP-Elites. As we have 10 distinct digits (0-9), we have a discrete behavior space with 10 values. Note that while pyribs is designed for continuous search spaces, the behavior space can be either continuous or discrete.\n",
    "\n",
    "Our classifier outputs a log probability vector with its belief that it is seeing each digit. Thus, our objective for each digit is to maximize the probability that the classifier assigns to the image associated with it. For instance, for digit 5, we want to generate an image that makes the classifier believe with high probability that it is seeing a 5.\n",
    "\n",
    "In pyribs, we implement MAP-Elites with a `GridArchive` and a `GaussianEmitter`. Below, we start by constructing the `GridArchive`. The archive has 10 bins and a range of (0,10). Since `GridArchive` was originally designed for continuous spaces, it does not directly support discrete spaces, but by using these settings, we have a bin for each digit from 0 to 9."
   ]
  },
  {
   "cell_type": "code",
   "execution_count": 10,
   "metadata": {},
   "outputs": [],
   "source": [
    "from ribs.archives import GridArchive\n",
    "\n",
    "archive = GridArchive([10], [(0, 10)])"
   ]
  },
  {
   "cell_type": "markdown",
   "metadata": {},
   "source": [
    "Next, we use a single Gaussian emitter with batch size of 30. The emitter begins with an image filled with 0.5 (i.e. grey, since pixels are in the range $[0,1]$) and has $\\sigma = 0.5$."
   ]
  },
  {
   "cell_type": "code",
   "execution_count": 11,
   "metadata": {},
   "outputs": [],
   "source": [
    "from ribs.emitters import GaussianEmitter\n",
    "\n",
    "img_size = (28, 28)\n",
    "flat_img_size = 784  # 28 * 28\n",
    "emitters = [\n",
    "    GaussianEmitter(\n",
    "        archive,\n",
    "        # Start with a grey image.\n",
    "        np.full(flat_img_size, 0.5),\n",
    "        0.5,\n",
    "        # Bound the generated images to the pixel range.\n",
    "        bounds=[(0, 1)] * flat_img_size,\n",
    "        batch_size=30,\n",
    "    )\n",
    "]"
   ]
  },
  {
   "cell_type": "markdown",
   "metadata": {},
   "source": [
    "Finally, we construct the optimizer to connect the archive and emitter together."
   ]
  },
  {
   "cell_type": "code",
   "execution_count": 12,
   "metadata": {},
   "outputs": [],
   "source": [
    "from ribs.optimizers import Optimizer\n",
    "\n",
    "optimizer = Optimizer(archive, emitters)"
   ]
  },
  {
   "cell_type": "markdown",
   "metadata": {},
   "source": [
    "With the components created, we now generate the images. As we use 1 emitter with batch size of 30 and run 30,000 iterations, we evaluate 900,000 images in total."
   ]
  },
  {
   "cell_type": "code",
   "execution_count": 13,
   "metadata": {},
   "outputs": [
    {
     "name": "stdout",
     "output_type": "stream",
     "text": [
      "Iteration 1000 complete after 8.40089201927185 s\n",
      "Iteration 2000 complete after 18.655755758285522 s\n",
      "Iteration 3000 complete after 26.78686022758484 s\n",
      "Iteration 4000 complete after 34.25956344604492 s\n",
      "Iteration 5000 complete after 40.23374128341675 s\n",
      "Iteration 6000 complete after 45.780840158462524 s\n",
      "Iteration 7000 complete after 51.34646511077881 s\n",
      "Iteration 8000 complete after 56.87763333320618 s\n",
      "Iteration 9000 complete after 62.4202446937561 s\n",
      "Iteration 10000 complete after 67.97641730308533 s\n",
      "Iteration 11000 complete after 74.24591207504272 s\n",
      "Iteration 12000 complete after 79.86771273612976 s\n",
      "Iteration 13000 complete after 86.17090797424316 s\n",
      "Iteration 14000 complete after 93.36901998519897 s\n",
      "Iteration 15000 complete after 100.97218585014343 s\n",
      "Iteration 16000 complete after 106.8744752407074 s\n",
      "Iteration 17000 complete after 112.68033242225647 s\n",
      "Iteration 18000 complete after 118.06590342521667 s\n",
      "Iteration 19000 complete after 123.54357981681824 s\n",
      "Iteration 20000 complete after 131.5358066558838 s\n",
      "Iteration 21000 complete after 139.29581952095032 s\n",
      "Iteration 22000 complete after 144.79404830932617 s\n",
      "Iteration 23000 complete after 150.26445746421814 s\n",
      "Iteration 24000 complete after 155.667062997818 s\n",
      "Iteration 25000 complete after 161.09095001220703 s\n",
      "Iteration 26000 complete after 166.48615026474 s\n",
      "Iteration 27000 complete after 171.90232849121094 s\n",
      "Iteration 28000 complete after 177.3490025997162 s\n",
      "Iteration 29000 complete after 182.76266932487488 s\n",
      "Iteration 30000 complete after 188.1841962337494 s\n"
     ]
    }
   ],
   "source": [
    "total_itrs = 30_000\n",
    "start_time = time.time()\n",
    "\n",
    "for itr in range(1, total_itrs + 1):\n",
    "    sols = optimizer.ask()\n",
    "\n",
    "    with torch.no_grad():\n",
    "\n",
    "        # Reshape and normalize the image and pass it through the network.\n",
    "        imgs = sols.reshape((-1, 1, *img_size))\n",
    "        imgs = (imgs - MEAN_TRANSFORM) / STD_DEV_TRANSFORM\n",
    "        imgs = torch.tensor(imgs, dtype=torch.float32, device=device)\n",
    "        output = LENET5(imgs)\n",
    "\n",
    "        # The BC is the digit that the network believes it is seeing, i.e. the\n",
    "        # digit with the maximum probability. The objective is the probability\n",
    "        # associated with that digit.\n",
    "        scores, predicted = torch.max(output.to(\"cpu\"), 1)\n",
    "        scores = torch.exp(scores)\n",
    "        objs = scores.numpy()\n",
    "        bcs = predicted.numpy()\n",
    "\n",
    "    optimizer.tell(objs, bcs)\n",
    "    \n",
    "    if itr % 1000 == 0:\n",
    "        print(f\"Iteration {itr} complete after {time.time() - start_time} s\")"
   ]
  },
  {
   "cell_type": "markdown",
   "metadata": {},
   "source": [
    "Below, we display the results we found with MAP-Elites. The `index_0` column shows the digit associated with each image, and the `objective` column shows the network's belief that the image is that digit. The `solution` columns show the image's pixel values."
   ]
  },
  {
   "cell_type": "code",
   "execution_count": 14,
   "metadata": {},
   "outputs": [
    {
     "data": {
      "text/html": [
       "<div>\n",
       "<style scoped>\n",
       "    .dataframe tbody tr th:only-of-type {\n",
       "        vertical-align: middle;\n",
       "    }\n",
       "\n",
       "    .dataframe tbody tr th {\n",
       "        vertical-align: top;\n",
       "    }\n",
       "\n",
       "    .dataframe thead th {\n",
       "        text-align: right;\n",
       "    }\n",
       "</style>\n",
       "<table border=\"1\" class=\"dataframe\">\n",
       "  <thead>\n",
       "    <tr style=\"text-align: right;\">\n",
       "      <th></th>\n",
       "      <th>index_0</th>\n",
       "      <th>behavior_0</th>\n",
       "      <th>objective</th>\n",
       "      <th>solution_0</th>\n",
       "      <th>solution_1</th>\n",
       "      <th>solution_2</th>\n",
       "      <th>solution_3</th>\n",
       "      <th>solution_4</th>\n",
       "      <th>solution_5</th>\n",
       "      <th>solution_6</th>\n",
       "      <th>...</th>\n",
       "      <th>solution_774</th>\n",
       "      <th>solution_775</th>\n",
       "      <th>solution_776</th>\n",
       "      <th>solution_777</th>\n",
       "      <th>solution_778</th>\n",
       "      <th>solution_779</th>\n",
       "      <th>solution_780</th>\n",
       "      <th>solution_781</th>\n",
       "      <th>solution_782</th>\n",
       "      <th>solution_783</th>\n",
       "    </tr>\n",
       "  </thead>\n",
       "  <tbody>\n",
       "    <tr>\n",
       "      <th>1</th>\n",
       "      <td>0</td>\n",
       "      <td>0.0</td>\n",
       "      <td>0.941922</td>\n",
       "      <td>1.000000</td>\n",
       "      <td>0.741815</td>\n",
       "      <td>0.768159</td>\n",
       "      <td>0.277410</td>\n",
       "      <td>0.781590</td>\n",
       "      <td>0.176740</td>\n",
       "      <td>0.000000</td>\n",
       "      <td>...</td>\n",
       "      <td>0.000000</td>\n",
       "      <td>0.041704</td>\n",
       "      <td>0.000000</td>\n",
       "      <td>1.000000</td>\n",
       "      <td>1.000000</td>\n",
       "      <td>0.436551</td>\n",
       "      <td>1.000000</td>\n",
       "      <td>0.619011</td>\n",
       "      <td>0.036524</td>\n",
       "      <td>0.000000</td>\n",
       "    </tr>\n",
       "    <tr>\n",
       "      <th>9</th>\n",
       "      <td>1</td>\n",
       "      <td>1.0</td>\n",
       "      <td>0.967510</td>\n",
       "      <td>0.850452</td>\n",
       "      <td>0.348060</td>\n",
       "      <td>0.028136</td>\n",
       "      <td>0.025715</td>\n",
       "      <td>0.000000</td>\n",
       "      <td>0.710674</td>\n",
       "      <td>0.105554</td>\n",
       "      <td>...</td>\n",
       "      <td>1.000000</td>\n",
       "      <td>0.000000</td>\n",
       "      <td>0.000000</td>\n",
       "      <td>1.000000</td>\n",
       "      <td>1.000000</td>\n",
       "      <td>1.000000</td>\n",
       "      <td>0.000000</td>\n",
       "      <td>0.000000</td>\n",
       "      <td>0.710068</td>\n",
       "      <td>0.000000</td>\n",
       "    </tr>\n",
       "    <tr>\n",
       "      <th>5</th>\n",
       "      <td>2</td>\n",
       "      <td>2.0</td>\n",
       "      <td>0.981887</td>\n",
       "      <td>0.000000</td>\n",
       "      <td>0.440409</td>\n",
       "      <td>0.647115</td>\n",
       "      <td>0.640636</td>\n",
       "      <td>0.700368</td>\n",
       "      <td>0.910001</td>\n",
       "      <td>0.000000</td>\n",
       "      <td>...</td>\n",
       "      <td>0.000000</td>\n",
       "      <td>1.000000</td>\n",
       "      <td>1.000000</td>\n",
       "      <td>0.000000</td>\n",
       "      <td>0.069804</td>\n",
       "      <td>0.608800</td>\n",
       "      <td>0.502689</td>\n",
       "      <td>0.310673</td>\n",
       "      <td>0.000000</td>\n",
       "      <td>0.752838</td>\n",
       "    </tr>\n",
       "    <tr>\n",
       "      <th>4</th>\n",
       "      <td>3</td>\n",
       "      <td>3.0</td>\n",
       "      <td>0.972874</td>\n",
       "      <td>0.462327</td>\n",
       "      <td>0.000000</td>\n",
       "      <td>0.000000</td>\n",
       "      <td>1.000000</td>\n",
       "      <td>0.000000</td>\n",
       "      <td>0.723633</td>\n",
       "      <td>0.727103</td>\n",
       "      <td>...</td>\n",
       "      <td>0.135687</td>\n",
       "      <td>0.356678</td>\n",
       "      <td>0.279045</td>\n",
       "      <td>0.068244</td>\n",
       "      <td>0.000000</td>\n",
       "      <td>0.688684</td>\n",
       "      <td>0.000000</td>\n",
       "      <td>0.000000</td>\n",
       "      <td>1.000000</td>\n",
       "      <td>0.498214</td>\n",
       "    </tr>\n",
       "    <tr>\n",
       "      <th>3</th>\n",
       "      <td>4</td>\n",
       "      <td>4.0</td>\n",
       "      <td>0.996900</td>\n",
       "      <td>0.286218</td>\n",
       "      <td>0.914999</td>\n",
       "      <td>1.000000</td>\n",
       "      <td>0.137627</td>\n",
       "      <td>0.089804</td>\n",
       "      <td>0.000000</td>\n",
       "      <td>0.488552</td>\n",
       "      <td>...</td>\n",
       "      <td>0.268614</td>\n",
       "      <td>1.000000</td>\n",
       "      <td>1.000000</td>\n",
       "      <td>0.000000</td>\n",
       "      <td>0.012825</td>\n",
       "      <td>0.245794</td>\n",
       "      <td>1.000000</td>\n",
       "      <td>0.404129</td>\n",
       "      <td>0.000000</td>\n",
       "      <td>0.548628</td>\n",
       "    </tr>\n",
       "    <tr>\n",
       "      <th>7</th>\n",
       "      <td>5</td>\n",
       "      <td>5.0</td>\n",
       "      <td>0.991366</td>\n",
       "      <td>0.869267</td>\n",
       "      <td>0.000000</td>\n",
       "      <td>0.236837</td>\n",
       "      <td>0.089832</td>\n",
       "      <td>0.499572</td>\n",
       "      <td>0.262858</td>\n",
       "      <td>0.000000</td>\n",
       "      <td>...</td>\n",
       "      <td>0.211596</td>\n",
       "      <td>0.000000</td>\n",
       "      <td>0.000000</td>\n",
       "      <td>0.771642</td>\n",
       "      <td>0.384867</td>\n",
       "      <td>0.904340</td>\n",
       "      <td>0.068203</td>\n",
       "      <td>0.469802</td>\n",
       "      <td>0.916816</td>\n",
       "      <td>0.898603</td>\n",
       "    </tr>\n",
       "    <tr>\n",
       "      <th>6</th>\n",
       "      <td>6</td>\n",
       "      <td>6.0</td>\n",
       "      <td>0.980629</td>\n",
       "      <td>1.000000</td>\n",
       "      <td>0.000000</td>\n",
       "      <td>0.942983</td>\n",
       "      <td>0.601392</td>\n",
       "      <td>0.250491</td>\n",
       "      <td>0.039754</td>\n",
       "      <td>1.000000</td>\n",
       "      <td>...</td>\n",
       "      <td>1.000000</td>\n",
       "      <td>0.000000</td>\n",
       "      <td>0.670791</td>\n",
       "      <td>0.000000</td>\n",
       "      <td>1.000000</td>\n",
       "      <td>0.810804</td>\n",
       "      <td>0.625034</td>\n",
       "      <td>0.000000</td>\n",
       "      <td>0.208471</td>\n",
       "      <td>1.000000</td>\n",
       "    </tr>\n",
       "    <tr>\n",
       "      <th>2</th>\n",
       "      <td>7</td>\n",
       "      <td>7.0</td>\n",
       "      <td>0.988252</td>\n",
       "      <td>0.000000</td>\n",
       "      <td>0.000000</td>\n",
       "      <td>0.832956</td>\n",
       "      <td>0.282398</td>\n",
       "      <td>0.000000</td>\n",
       "      <td>0.724716</td>\n",
       "      <td>0.737155</td>\n",
       "      <td>...</td>\n",
       "      <td>0.000000</td>\n",
       "      <td>0.657358</td>\n",
       "      <td>0.868062</td>\n",
       "      <td>1.000000</td>\n",
       "      <td>0.460378</td>\n",
       "      <td>0.403149</td>\n",
       "      <td>1.000000</td>\n",
       "      <td>0.000000</td>\n",
       "      <td>1.000000</td>\n",
       "      <td>0.878756</td>\n",
       "    </tr>\n",
       "    <tr>\n",
       "      <th>0</th>\n",
       "      <td>8</td>\n",
       "      <td>8.0</td>\n",
       "      <td>0.996376</td>\n",
       "      <td>0.699162</td>\n",
       "      <td>0.852378</td>\n",
       "      <td>1.000000</td>\n",
       "      <td>1.000000</td>\n",
       "      <td>0.848423</td>\n",
       "      <td>0.496602</td>\n",
       "      <td>1.000000</td>\n",
       "      <td>...</td>\n",
       "      <td>1.000000</td>\n",
       "      <td>0.065986</td>\n",
       "      <td>0.000000</td>\n",
       "      <td>0.764668</td>\n",
       "      <td>0.000000</td>\n",
       "      <td>0.000000</td>\n",
       "      <td>1.000000</td>\n",
       "      <td>0.491454</td>\n",
       "      <td>0.000000</td>\n",
       "      <td>0.578239</td>\n",
       "    </tr>\n",
       "    <tr>\n",
       "      <th>8</th>\n",
       "      <td>9</td>\n",
       "      <td>9.0</td>\n",
       "      <td>0.985330</td>\n",
       "      <td>0.689702</td>\n",
       "      <td>1.000000</td>\n",
       "      <td>0.815496</td>\n",
       "      <td>1.000000</td>\n",
       "      <td>1.000000</td>\n",
       "      <td>0.163877</td>\n",
       "      <td>0.911765</td>\n",
       "      <td>...</td>\n",
       "      <td>1.000000</td>\n",
       "      <td>0.095587</td>\n",
       "      <td>0.576414</td>\n",
       "      <td>0.303699</td>\n",
       "      <td>0.000000</td>\n",
       "      <td>0.396534</td>\n",
       "      <td>0.000000</td>\n",
       "      <td>1.000000</td>\n",
       "      <td>0.366522</td>\n",
       "      <td>0.000000</td>\n",
       "    </tr>\n",
       "  </tbody>\n",
       "</table>\n",
       "<p>10 rows × 787 columns</p>\n",
       "</div>"
      ],
      "text/plain": [
       "   index_0  behavior_0  objective  solution_0  solution_1  solution_2  \\\n",
       "1        0         0.0   0.941922    1.000000    0.741815    0.768159   \n",
       "9        1         1.0   0.967510    0.850452    0.348060    0.028136   \n",
       "5        2         2.0   0.981887    0.000000    0.440409    0.647115   \n",
       "4        3         3.0   0.972874    0.462327    0.000000    0.000000   \n",
       "3        4         4.0   0.996900    0.286218    0.914999    1.000000   \n",
       "7        5         5.0   0.991366    0.869267    0.000000    0.236837   \n",
       "6        6         6.0   0.980629    1.000000    0.000000    0.942983   \n",
       "2        7         7.0   0.988252    0.000000    0.000000    0.832956   \n",
       "0        8         8.0   0.996376    0.699162    0.852378    1.000000   \n",
       "8        9         9.0   0.985330    0.689702    1.000000    0.815496   \n",
       "\n",
       "   solution_3  solution_4  solution_5  solution_6  ...  solution_774  \\\n",
       "1    0.277410    0.781590    0.176740    0.000000  ...      0.000000   \n",
       "9    0.025715    0.000000    0.710674    0.105554  ...      1.000000   \n",
       "5    0.640636    0.700368    0.910001    0.000000  ...      0.000000   \n",
       "4    1.000000    0.000000    0.723633    0.727103  ...      0.135687   \n",
       "3    0.137627    0.089804    0.000000    0.488552  ...      0.268614   \n",
       "7    0.089832    0.499572    0.262858    0.000000  ...      0.211596   \n",
       "6    0.601392    0.250491    0.039754    1.000000  ...      1.000000   \n",
       "2    0.282398    0.000000    0.724716    0.737155  ...      0.000000   \n",
       "0    1.000000    0.848423    0.496602    1.000000  ...      1.000000   \n",
       "8    1.000000    1.000000    0.163877    0.911765  ...      1.000000   \n",
       "\n",
       "   solution_775  solution_776  solution_777  solution_778  solution_779  \\\n",
       "1      0.041704      0.000000      1.000000      1.000000      0.436551   \n",
       "9      0.000000      0.000000      1.000000      1.000000      1.000000   \n",
       "5      1.000000      1.000000      0.000000      0.069804      0.608800   \n",
       "4      0.356678      0.279045      0.068244      0.000000      0.688684   \n",
       "3      1.000000      1.000000      0.000000      0.012825      0.245794   \n",
       "7      0.000000      0.000000      0.771642      0.384867      0.904340   \n",
       "6      0.000000      0.670791      0.000000      1.000000      0.810804   \n",
       "2      0.657358      0.868062      1.000000      0.460378      0.403149   \n",
       "0      0.065986      0.000000      0.764668      0.000000      0.000000   \n",
       "8      0.095587      0.576414      0.303699      0.000000      0.396534   \n",
       "\n",
       "   solution_780  solution_781  solution_782  solution_783  \n",
       "1      1.000000      0.619011      0.036524      0.000000  \n",
       "9      0.000000      0.000000      0.710068      0.000000  \n",
       "5      0.502689      0.310673      0.000000      0.752838  \n",
       "4      0.000000      0.000000      1.000000      0.498214  \n",
       "3      1.000000      0.404129      0.000000      0.548628  \n",
       "7      0.068203      0.469802      0.916816      0.898603  \n",
       "6      0.625034      0.000000      0.208471      1.000000  \n",
       "2      1.000000      0.000000      1.000000      0.878756  \n",
       "0      1.000000      0.491454      0.000000      0.578239  \n",
       "8      0.000000      1.000000      0.366522      0.000000  \n",
       "\n",
       "[10 rows x 787 columns]"
      ]
     },
     "execution_count": 14,
     "metadata": {},
     "output_type": "execute_result"
    }
   ],
   "source": [
    "archive.as_pandas().sort_values(\"index_0\")"
   ]
  },
  {
   "cell_type": "markdown",
   "metadata": {},
   "source": [
    "Here, we display the images found. Interestingly, though the images look mostly like noise, we can occasionally make out traces of the original digit. Note that MAP-Elites may not find images for all the digits, and this is mostly due to the small behavior space. Usually, QD algorithms run with fairly large behavior spaces. This is something to keep in mind when tuning QD algorithms."
   ]
  },
  {
   "cell_type": "code",
   "execution_count": 15,
   "metadata": {},
   "outputs": [
    {
     "data": {
      "image/png": "[encoded data removed]",
      "text/plain": [
       "<Figure size 720x288 with 10 Axes>"
      ]
     },
     "metadata": {
      "needs_background": "light"
     },
     "output_type": "display_data"
    }
   ],
   "source": [
    "fig, ax = plt.subplots(2, 5, figsize=(10, 4))\n",
    "fig.tight_layout()\n",
    "ax = ax.flatten()\n",
    "found = set()\n",
    "\n",
    "# Display images.\n",
    "for _, row in archive.as_pandas().iterrows():\n",
    "    i = int(row.loc[\"index_0\"])\n",
    "    found.add(i)\n",
    "    obj = row.loc[\"objective\"]\n",
    "    ax[i].set_title(f\"{i} | Score: {obj:.3f}\", pad=8)\n",
    "    img = row.loc[\"solution_0\":].to_numpy().reshape(28, 28)\n",
    "\n",
    "    # No need to normalize image because we want to see the original.\n",
    "    ax[i].imshow(img, cmap=\"Greys\")\n",
    "    ax[i].set_axis_off()\n",
    "\n",
    "# Mark digits that we did not generate images for.\n",
    "for i in range(10):\n",
    "    if i not in found:\n",
    "        ax[i].set_title(f\"{i} | (no solution)\", pad=8)\n",
    "        ax[i].set_axis_off()"
   ]
  },
  {
   "cell_type": "markdown",
   "metadata": {},
   "source": [
    "## Conclusion\n",
    "\n",
    "In this tutorial, we used MAP-Elites to generate images that fool a LeNet-5 MNIST classifier. For further exploration, we recommend referring to [Nguyen 2015](http://anhnguyen.me/project/fooling/) and replicating or extending the other experiments described in the paper."
   ]
  }
 ],
 "metadata": {
  "kernelspec": {
   "display_name": "Python 3",
   "language": "python",
   "name": "python3"
  },
  "language_info": {
   "codemirror_mode": {
    "name": "ipython",
    "version": 3
   },
   "file_extension": ".py",
   "mimetype": "text/x-python",
   "name": "python",
   "nbconvert_exporter": "python",
   "pygments_lexer": "ipython3",
   "version": "3.7.8"
  }
 },
 "nbformat": 4,
 "nbformat_minor": 4
}
