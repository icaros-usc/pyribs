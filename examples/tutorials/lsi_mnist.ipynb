{
 "cells": [
  {
   "cell_type": "markdown",
   "metadata": {},
   "source": [
    "# Illuminating the Latent Space of an MNIST GAN\n",
    "\n",
    "One of the most popular applications of [Generative Adversarial Networks](https://en.wikipedia.org/wiki/Generative_adversarial_network) is generating fake images. In particular, websites like [this person does not exist](https://thispersondoesnotexist.com) serve a GAN that generates fake images of people ([this x does not exist](https://thisxdoesnotexist.com) provides a comprehensive list of such websites). Such websites are entertaining, especially when one is asked to figure out [which face is real](https://www.whichfaceisreal.com/index.php).\n",
    "\n",
    "Usually, these websites extract fake images by sampling the GAN’s latent space. For those unfamiliar with GANs, this means that each image is associated with a real valued vector of $n$ components. But since these vectors are typically generated randomly, the usefulness of these websites breaks down when we wish to search for a specific image.\n",
    "\n",
    "For instance, suppose that instead of fake faces, we want to generate fake handwriting, specifically the digit eight (8). We could train a GAN on the MNIST dataset and produce a generator network that generates fake digits. Now, we can repeatedly sample the latent space until an eight appears. However, if we want to _find_ an eight, we could optimize latent space directly with CMA-ES. To ensure that we generate eights, we could use the output classification prediction of a LeNet-5 classifier as the objective (see [Bontrager 2018](https://arxiv.org/abs/1705.07386)).<sup>1</sup> But notice that the latent space likely contains many examples of the digit eight, and they might vary in the weight of the pen stroke or the lightness of the ink color. If we make these properties our measures, we could search latent space for many different examples of eight in a single run!\n",
    "\n",
    "[Fontaine 2021](https://arxiv.org/abs/2007.05674) takes exactly this approach when generating new levels for the classic video game [Super Mario Bros](https://en.wikipedia.org/wiki/Super_Mario_Bros). They term this approach “Latent Space Illumination”, as they explore quality diversity (QD) algorithms (including [CMA-ME](https://arxiv.org/pdf/1912.02400.pdf)) as a method to search the latent space of a video game level GAN and illuminate the behavior space of possible level mechanics. In this tutorial, we illuminate the latent space of the aforementioned MNIST GAN by mimicking the approach taken in [Fontaine 2021](https://arxiv.org/abs/2007.05674).\n",
    "\n",
    "**(1)** Since the discriminator of the GAN is only trained to evaluate how realistic an image is, it cannot detect specific digits. Hence, we need the LeNet-5 to check that the digit is an 8."
   ]
  },
  {
   "cell_type": "markdown",
   "metadata": {},
   "source": [
    "## Setup\n",
    "\n",
    "First, we install pyribs, PyTorch, and several utilities."
   ]
  },
  {
   "cell_type": "code",
   "execution_count": null,
   "metadata": {},
   "outputs": [],
   "source": [
    "%pip install ribs torch==1.7 torchvision==0.8 numpy matplotlib"
   ]
  },
  {
   "cell_type": "code",
   "execution_count": 22,
   "metadata": {},
   "outputs": [],
   "source": [
    "import time\n",
    "\n",
    "import matplotlib.pyplot as plt\n",
    "import numpy as np\n",
    "import torch\n",
    "import torch.nn as nn\n",
    "import torchvision"
   ]
  },
  {
   "cell_type": "markdown",
   "metadata": {},
   "source": [
    "Below, we check what device is available for PyTorch. On Colab, activate the GPU by clicking \"Runtime\" in the toolbar at the top. Then, click \"Change Runtime Type\", and select \"GPU\"."
   ]
  },
  {
   "cell_type": "code",
   "execution_count": 23,
   "metadata": {},
   "outputs": [
    {
     "name": "stdout",
     "output_type": "stream",
     "text": [
      "cpu\n"
     ]
    }
   ],
   "source": [
    "device = torch.device(\"cuda\" if torch.cuda.is_available() else \"cpu\")\n",
    "print(device)"
   ]
  },
  {
   "cell_type": "markdown",
   "metadata": {},
   "source": [
    "## Loading the GAN and Classifier\n",
    "\n",
    "For this tutorial, we pretrained a GAN that generates MNIST digits using the code from [a beginner GAN tutorial](https://debuggercafe.com/generating-mnist-digit-images-using-vanilla-gan-with-pytorch/). We also pretrained a [LeNet-5](https://en.wikipedia.org/wiki/LeNet) classifier for the MNIST dataset using the code [here](https://github.com/icaros-usc/pyribs/tree/master/examples/tools/train_mnist_classifier.py). Below, we define the network structures."
   ]
  },
  {
   "cell_type": "code",
   "execution_count": 24,
   "metadata": {},
   "outputs": [],
   "source": [
    "class Generator(nn.Module):\n",
    "    \"\"\"Generator network for the GAN.\"\"\"\n",
    "\n",
    "    def __init__(self, nz):\n",
    "        super(Generator, self).__init__()\n",
    "\n",
    "        # Size of the latent space (number of dimensions).\n",
    "        self.nz = nz\n",
    "        self.main = nn.Sequential(\n",
    "            nn.Linear(self.nz, 256),\n",
    "            nn.LeakyReLU(0.2),\n",
    "            nn.Linear(256, 512),\n",
    "            nn.LeakyReLU(0.2),\n",
    "            nn.Linear(512, 1024),\n",
    "            nn.LeakyReLU(0.2),\n",
    "            nn.Linear(1024, 784),\n",
    "            nn.Tanh(),\n",
    "        )\n",
    "\n",
    "    def forward(self, x):\n",
    "        return self.main(x).view(-1, 1, 28, 28)\n",
    "\n",
    "\n",
    "class Discriminator(nn.Module):\n",
    "    \"\"\"Discriminator network for the GAN.\"\"\"\n",
    "\n",
    "    def __init__(self):\n",
    "        super(Discriminator, self).__init__()\n",
    "        self.n_input = 784\n",
    "        self.main = nn.Sequential(\n",
    "            nn.Linear(self.n_input, 1024),\n",
    "            nn.LeakyReLU(0.2),\n",
    "            nn.Dropout(0.3),\n",
    "            nn.Linear(1024, 512),\n",
    "            nn.LeakyReLU(0.2),\n",
    "            nn.Dropout(0.3),\n",
    "            nn.Linear(512, 256),\n",
    "            nn.LeakyReLU(0.2),\n",
    "            nn.Dropout(0.3),\n",
    "            nn.Linear(256, 1),\n",
    "            nn.Sigmoid(),\n",
    "        )\n",
    "\n",
    "    def forward(self, x):\n",
    "        x = x.view(-1, 784)\n",
    "        return self.main(x)\n",
    "\n",
    "\n",
    "LENET5 = nn.Sequential(\n",
    "    nn.Conv2d(1, 6, (5, 5), stride=1, padding=0),  # (1,28,28) -> (6,24,24)\n",
    "    nn.MaxPool2d(2),  # (6,24,24) -> (6,12,12)\n",
    "    nn.ReLU(),\n",
    "    nn.Conv2d(6, 16, (5, 5), stride=1, padding=0),  # (6,12,12) -> (16,8,8)\n",
    "    nn.MaxPool2d(2),  # (16,8,8) -> (16,4,4)\n",
    "    nn.ReLU(),\n",
    "    nn.Flatten(),  # (16,4,4) -> (256,)\n",
    "    nn.Linear(256, 120),  # (256,) -> (120,)\n",
    "    nn.ReLU(),\n",
    "    nn.Linear(120, 84),  # (120,) -> (84,)\n",
    "    nn.ReLU(),\n",
    "    nn.Linear(84, 10),  # (84,) -> (10,)\n",
    "    nn.LogSoftmax(dim=1),  # (10,) log probabilities\n",
    ").to(device)\n",
    "LENET5_MEAN_TRANSFORM = 0.1307\n",
    "LENET5_STD_DEV_TRANSFORM = 0.3081"
   ]
  },
  {
   "cell_type": "markdown",
   "metadata": {},
   "source": [
    "Next, we load the pretrained weights for each network."
   ]
  },
  {
   "cell_type": "code",
   "execution_count": 25,
   "metadata": {},
   "outputs": [
    {
     "data": {
      "text/plain": [
       "<All keys matched successfully>"
      ]
     },
     "execution_count": 25,
     "metadata": {},
     "output_type": "execute_result"
    }
   ],
   "source": [
    "import os\n",
    "from urllib.request import urlretrieve\n",
    "from pathlib import Path\n",
    "\n",
    "LOCAL_DIR = Path(\"lsi_mnist_weights\")\n",
    "LOCAL_DIR.mkdir(exist_ok=True)\n",
    "WEB_DIR = \"https://raw.githubusercontent.com/icaros-usc/pyribs/master/examples/tutorials/_static/\"\n",
    "\n",
    "# Download the model files to LOCAL_DIR.\n",
    "for filename in [\n",
    "        \"mnist_generator.pth\",\n",
    "        \"mnist_discriminator.pth\",\n",
    "        \"mnist_classifier.pth\",\n",
    "]:\n",
    "    model_path = LOCAL_DIR / filename\n",
    "    if not model_path.is_file():\n",
    "        urlretrieve(WEB_DIR + filename, str(model_path))\n",
    "\n",
    "# Load the weights of each network from its file.\n",
    "g_state_dict = torch.load(\n",
    "    str(LOCAL_DIR / \"mnist_generator.pth\"),\n",
    "    map_location=device,\n",
    ")\n",
    "d_state_dict = torch.load(\n",
    "    str(LOCAL_DIR / \"mnist_discriminator.pth\"),\n",
    "    map_location=device,\n",
    ")\n",
    "c_state_dict = torch.load(\n",
    "    str(LOCAL_DIR / \"mnist_classifier.pth\"),\n",
    "    map_location=device,\n",
    ")\n",
    "\n",
    "# Instantiate networks and insert the weights.\n",
    "generator = Generator(nz=128).to(device)\n",
    "discriminator = Discriminator().to(device)\n",
    "generator.load_state_dict(g_state_dict)\n",
    "discriminator.load_state_dict(d_state_dict)\n",
    "LENET5.load_state_dict(c_state_dict)"
   ]
  },
  {
   "cell_type": "markdown",
   "metadata": {},
   "source": [
    "## LSI with CMA-ME on MNIST GAN\n",
    "\n",
    "After loading the GAN and the classifier, we can begin exploring the latent space of the GAN with the pyribs implementation of CMA-ME. Thus, we import and initialize the `GridArchive`, `EvolutionStrategyEmitter`, and `Scheduler` from pyribs.\n",
    "\n",
    "For the `GridArchive`, we choose a 2D measure space with \"boldness\" and \"lightness\" as the measures. We approximate \"boldness\" of a digit by counting the number of white pixels in the image, and we approximate \"lightness\" by averaging the values of the white pixels in the image. We define a \"white\" pixel as a pixel with value at least 0.5 (pixels are bounded to the range $[0,1]$). Since there are 784 pixels in an image, boldness is bounded to the range $[0, 784]$. Meanwhile, lightness is bounded to the range $[0.5, 1]$, as that is the range of a white pixel."
   ]
  },
  {
   "cell_type": "code",
   "execution_count": 26,
   "metadata": {},
   "outputs": [],
   "source": [
    "from ribs.archives import GridArchive\n",
    "\n",
    "archive = GridArchive(\n",
    "    solution_dim=generator.nz,\n",
    "    dims=[200, 200],  # 200 bins in each dimension.\n",
    "    ranges=[(0, 784), (0.5, 1)],  # Boldness range, lightness range.\n",
    ")"
   ]
  },
  {
   "cell_type": "markdown",
   "metadata": {},
   "source": [
    "Next, we use 5 instances of `EvolutionStrategyEmitter` with `2imp` ranker, each with batch size of 30. Each emitter begins with a zero vector of the same dimensionality as the latent space and an initial step size $\\sigma=0.2$."
   ]
  },
  {
   "cell_type": "code",
   "execution_count": 27,
   "metadata": {},
   "outputs": [],
   "source": [
    "from ribs.emitters import EvolutionStrategyEmitter\n",
    "\n",
    "# We use the EvolutionStrategyEmitter to create a ImprovementEmitter.\n",
    "emitters = [\n",
    "    EvolutionStrategyEmitter(\n",
    "        archive=archive,\n",
    "        x0=np.zeros(generator.nz),\n",
    "        sigma0=0.2,  # Initial step size.\n",
    "        ranker=\"2imp\",\n",
    "        batch_size=30,\n",
    "    ) for _ in range(5)  # Create 5 separate emitters.\n",
    "]"
   ]
  },
  {
   "cell_type": "markdown",
   "metadata": {},
   "source": [
    "Finally, we construct the optimizer to connect the archive and emitters together."
   ]
  },
  {
   "cell_type": "code",
   "execution_count": 28,
   "metadata": {},
   "outputs": [],
   "source": [
    "from ribs.schedulers import Scheduler\n",
    "\n",
    "scheduler = Scheduler(archive, emitters)"
   ]
  },
  {
   "cell_type": "markdown",
   "metadata": {},
   "source": [
    "With the components created, we now generate latent vectors. As we use 5 emitters with batch size of 30 and run 30,000 iterations, we evaluate 30,000 * 30 * 5 = 4,500,000 latent vectors in total. This loop should take **15-30 min** to run."
   ]
  },
  {
   "cell_type": "code",
   "execution_count": 29,
   "metadata": {
    "tags": []
   },
   "outputs": [
    {
     "name": "stdout",
     "output_type": "stream",
     "text": [
      "Iteration 1000 complete after 22.63s - Archive size: 14755\n",
      "Iteration 2000 complete after 43.19s - Archive size: 19571\n",
      "Iteration 3000 complete after 63.63s - Archive size: 20254\n",
      "Iteration 4000 complete after 83.61s - Archive size: 20533\n",
      "Iteration 5000 complete after 106.20s - Archive size: 20769\n",
      "Iteration 6000 complete after 126.45s - Archive size: 20800\n",
      "Iteration 7000 complete after 144.89s - Archive size: 20877\n",
      "Iteration 8000 complete after 163.25s - Archive size: 20900\n",
      "Iteration 9000 complete after 181.85s - Archive size: 20927\n",
      "Iteration 10000 complete after 199.89s - Archive size: 20945\n",
      "Iteration 11000 complete after 217.93s - Archive size: 20981\n",
      "Iteration 12000 complete after 236.13s - Archive size: 21001\n",
      "Iteration 13000 complete after 254.18s - Archive size: 21028\n",
      "Iteration 14000 complete after 272.47s - Archive size: 21077\n",
      "Iteration 15000 complete after 290.93s - Archive size: 21110\n",
      "Iteration 16000 complete after 308.99s - Archive size: 21120\n",
      "Iteration 17000 complete after 326.71s - Archive size: 21136\n",
      "Iteration 18000 complete after 344.68s - Archive size: 21149\n",
      "Iteration 19000 complete after 362.26s - Archive size: 21164\n",
      "Iteration 20000 complete after 379.89s - Archive size: 21173\n",
      "Iteration 21000 complete after 397.67s - Archive size: 21205\n",
      "Iteration 22000 complete after 415.79s - Archive size: 21224\n",
      "Iteration 23000 complete after 433.96s - Archive size: 21228\n",
      "Iteration 24000 complete after 452.20s - Archive size: 21242\n",
      "Iteration 25000 complete after 469.96s - Archive size: 21251\n",
      "Iteration 26000 complete after 487.37s - Archive size: 21260\n",
      "Iteration 27000 complete after 504.79s - Archive size: 21295\n",
      "Iteration 28000 complete after 522.33s - Archive size: 21307\n",
      "Iteration 29000 complete after 539.74s - Archive size: 21319\n",
      "Iteration 30000 complete after 557.19s - Archive size: 21328\n"
     ]
    }
   ],
   "source": [
    "total_itrs = 30_000\n",
    "flat_img_size = 784  # 28 * 28\n",
    "start_time = time.time()\n",
    "\n",
    "for itr in range(1, total_itrs + 1):\n",
    "    sols = scheduler.ask()\n",
    "\n",
    "    with torch.no_grad():\n",
    "        tensor_sols = torch.tensor(\n",
    "            sols,\n",
    "            dtype=torch.float32,\n",
    "            device=device,\n",
    "        )\n",
    "\n",
    "        # Shape: len(sols) x 1 x 28 x 28\n",
    "        generated_imgs = generator(tensor_sols)\n",
    "\n",
    "        # Normalize the images from [-1,1] to [0,1].\n",
    "        normalized_imgs = (generated_imgs + 1.0) / 2.0\n",
    "\n",
    "        # We optimize the score of the digit being 8. Other digits may also be\n",
    "        # used.\n",
    "        lenet5_normalized = ((normalized_imgs - LENET5_MEAN_TRANSFORM) /\n",
    "                             LENET5_STD_DEV_TRANSFORM)\n",
    "        objs = torch.exp(LENET5(lenet5_normalized)[:, 8]).cpu().numpy()\n",
    "\n",
    "        # Shape: len(sols) x 784\n",
    "        flattened_imgs = normalized_imgs.cpu().numpy().reshape(\n",
    "            (-1, flat_img_size))\n",
    "\n",
    "        # The first measures is the \"boldness\" of the digit (i.e. number of white\n",
    "        # pixels). We consider pixels with values larger than or equal to 0.5\n",
    "        # to be \"white\".\n",
    "        # Shape: len(sols) x 1\n",
    "        boldness = np.count_nonzero(flattened_imgs >= 0.5,\n",
    "                                    axis=1,\n",
    "                                    keepdims=True)\n",
    "\n",
    "        # The second measures is the \"lightness\" of the digit (i.e. the mean value of\n",
    "        # the white pixels).\n",
    "        # Shape: len(sols) x 1\n",
    "        flattened_imgs[flattened_imgs < 0.5] = 0  # Set non-white pixels to 0.\n",
    "        # Add 1 to avoid dividing by zero.\n",
    "        lightness = (np.sum(flattened_imgs, axis=1, keepdims=True) /\n",
    "                     (boldness + 1))\n",
    "\n",
    "        # Each measures entry is [boldness, lightness].\n",
    "        meas = np.concatenate([boldness, lightness], axis=1)\n",
    "\n",
    "    scheduler.tell(objs, meas)\n",
    "\n",
    "    if itr % 1000 == 0:\n",
    "        print(\n",
    "            f\"Iteration {itr} complete after {time.time() - start_time:.2f}s - \"\n",
    "            f\"Archive size: {len(archive.as_pandas(include_solutions=False))}\")"
   ]
  },
  {
   "cell_type": "code",
   "execution_count": 36,
   "metadata": {
    "tags": []
   },
   "outputs": [],
   "source": [
    "from torchvision.utils import make_grid\n",
    "\n",
    "\n",
    "def show_grid_img(x_start,\n",
    "                  x_num,\n",
    "                  x_step_size,\n",
    "                  y_start,\n",
    "                  y_num,\n",
    "                  y_step_size,\n",
    "                  archive,\n",
    "                  figsize=(8, 6)):\n",
    "    \"\"\"Displays a grid of images from the archive.\n",
    "    \n",
    "    Args:\n",
    "        x_start (int): Starting index along x-axis.\n",
    "        x_num (int): Number of images to generate along x-axis.\n",
    "        x_step_size (int): Index step size along x-axis.\n",
    "        y_start (int): Starting index along y-axis.\n",
    "        y_num (int): Number of images to generate along y-axis.\n",
    "        y_step_size (int): Index step size along y-axis.\n",
    "        archive (GridArchive): Archive with results from CMA-ME.\n",
    "        figsize ((int, int)): Size of the figure for the image.\n",
    "    \"\"\"\n",
    "    x_range = np.arange(x_start, x_start + x_step_size * x_num, x_step_size)\n",
    "    y_range = np.arange(y_start, y_start + y_step_size * y_num, y_step_size)\n",
    "    grid_indices = [(x, y) for y in np.flip(y_range) for x in x_range]\n",
    "\n",
    "    imgs = []\n",
    "    img_size = (28, 28)\n",
    "    df = archive.as_pandas()\n",
    "    solutions, indices = df.solution_batch(), df.index_batch()\n",
    "    try:\n",
    "        sol = solutions[np.where(indices == archive.grid_to_int_index(grid_indices))][0]\n",
    "    except IndexError:\n",
    "        print(f\"There is no solution at index {index}.\")\n",
    "        return\n",
    "    \n",
    "    for index in grid_indices:\n",
    "        with torch.no_grad():\n",
    "            img = generator(\n",
    "                torch.tensor(sol.reshape(1, generator.nz),\n",
    "                             dtype=torch.float32,\n",
    "                             device=device))\n",
    "            # Normalize images to [0,1].\n",
    "            normalized = (img.reshape(1, *img_size) + 1) / 2\n",
    "            imgs.append(normalized)\n",
    "\n",
    "    plt.figure(figsize=figsize)\n",
    "    img_grid = make_grid(imgs, nrow=x_num, padding=0)\n",
    "    plt.imshow(np.transpose(img_grid.cpu().numpy(), (1, 2, 0)),\n",
    "               interpolation='nearest',\n",
    "               cmap='gray')\n",
    "\n",
    "    # Change labels to be BC values.\n",
    "    plt.xlabel(\"Boldness\")\n",
    "    plt.ylabel(\"Lightness\")\n",
    "    x_ticklabels = [\n",
    "        round(archive.boundaries[0][i])\n",
    "        for i in [x_start + x_step_size * k for k in range(x_num + 1)]\n",
    "    ]\n",
    "    y_ticklabels = [\n",
    "        round(archive.boundaries[1][i], 2) for i in [\n",
    "            y_start + y_step_size * y_num - y_step_size * k\n",
    "            for k in range(y_num + 1)\n",
    "        ]\n",
    "    ]\n",
    "    plt.xticks([img_size[0] * x for x in range(x_num + 1)], x_ticklabels)\n",
    "    plt.yticks([img_size[0] * x for x in range(y_num + 1)], y_ticklabels)"
   ]
  },
  {
   "cell_type": "markdown",
   "metadata": {},
   "source": [
    "## Visualization\n",
    "\n",
    "Below, we visualize the archive after all evaluations. The x-axis is the boldness and the y-axis is the lightness. The color indicates the objective value. We can see that we found many images that the classifier strongly believed to be an eight."
   ]
  },
  {
   "cell_type": "code",
   "execution_count": 37,
   "metadata": {},
   "outputs": [
    {
     "data": {
      "image/png": "[encoded data removed]",
      "text/plain": [
       "<Figure size 576x432 with 2 Axes>"
      ]
     },
     "metadata": {
      "needs_background": "light"
     },
     "output_type": "display_data"
    }
   ],
   "source": [
    "from ribs.visualize import grid_archive_heatmap\n",
    "\n",
    "plt.figure(figsize=(8, 6))\n",
    "grid_archive_heatmap(archive, vmin=0.0, vmax=1.0)\n",
    "plt.title(\"LSI MNIST\")\n",
    "plt.xlabel(\"Boldness\")\n",
    "plt.ylabel(\"Lightness\")\n",
    "plt.show()"
   ]
  },
  {
   "cell_type": "markdown",
   "metadata": {},
   "source": [
    "Next, we display a grid of digits generated from a selected set of latent vectors in the archive."
   ]
  },
  {
   "cell_type": "markdown",
   "metadata": {},
   "source": [
    "As we can see below, digits get bolder as we go along the x-axis. Meanwhile, as we go along the y-axis, the digits get brighter. For instance, the image in the bottom right corner is grey and bold, while the image in the top left corner is white and thin."
   ]
  },
  {
   "cell_type": "code",
   "execution_count": 38,
   "metadata": {},
   "outputs": [
    {
     "name": "stderr",
     "output_type": "stream",
     "text": [
      "/usr/local/Caskroom/miniconda/base/envs/pyribs/lib/python3.7/site-packages/ipykernel_launcher.py:33: DeprecationWarning: elementwise comparison failed; this will raise an error in the future.\n"
     ]
    },
    {
     "ename": "UnboundLocalError",
     "evalue": "local variable 'index' referenced before assignment",
     "output_type": "error",
     "traceback": [
      "\u001b[0;31m---------------------------------------------------------------------------\u001b[0m",
      "\u001b[0;31mIndexError\u001b[0m                                Traceback (most recent call last)",
      "\u001b[0;32m/var/folders/yp/6z86mmwj6ys7n5xdcbd57cqc0000gn/T/ipykernel_38899/3465062011.py\u001b[0m in \u001b[0;36mshow_grid_img\u001b[0;34m(x_start, x_num, x_step_size, y_start, y_num, y_step_size, archive, figsize)\u001b[0m\n\u001b[1;32m     32\u001b[0m     \u001b[0;32mtry\u001b[0m\u001b[0;34m:\u001b[0m\u001b[0;34m\u001b[0m\u001b[0;34m\u001b[0m\u001b[0m\n\u001b[0;32m---> 33\u001b[0;31m         \u001b[0msol\u001b[0m \u001b[0;34m=\u001b[0m \u001b[0msolutions\u001b[0m\u001b[0;34m[\u001b[0m\u001b[0mnp\u001b[0m\u001b[0;34m.\u001b[0m\u001b[0mwhere\u001b[0m\u001b[0;34m(\u001b[0m\u001b[0mindices\u001b[0m \u001b[0;34m==\u001b[0m \u001b[0marchive\u001b[0m\u001b[0;34m.\u001b[0m\u001b[0mgrid_to_int_index\u001b[0m\u001b[0;34m(\u001b[0m\u001b[0mgrid_indices\u001b[0m\u001b[0;34m)\u001b[0m\u001b[0;34m)\u001b[0m\u001b[0;34m]\u001b[0m\u001b[0;34m[\u001b[0m\u001b[0;36m0\u001b[0m\u001b[0;34m]\u001b[0m\u001b[0;34m\u001b[0m\u001b[0;34m\u001b[0m\u001b[0m\n\u001b[0m\u001b[1;32m     34\u001b[0m     \u001b[0;32mexcept\u001b[0m \u001b[0mIndexError\u001b[0m\u001b[0;34m:\u001b[0m\u001b[0;34m\u001b[0m\u001b[0;34m\u001b[0m\u001b[0m\n",
      "\u001b[0;31mIndexError\u001b[0m: index 0 is out of bounds for axis 0 with size 0",
      "\nDuring handling of the above exception, another exception occurred:\n",
      "\u001b[0;31mUnboundLocalError\u001b[0m                         Traceback (most recent call last)",
      "\u001b[0;32m/var/folders/yp/6z86mmwj6ys7n5xdcbd57cqc0000gn/T/ipykernel_38899/666924021.py\u001b[0m in \u001b[0;36m<module>\u001b[0;34m\u001b[0m\n\u001b[0;32m----> 1\u001b[0;31m \u001b[0mshow_grid_img\u001b[0m\u001b[0;34m(\u001b[0m\u001b[0;36m10\u001b[0m\u001b[0;34m,\u001b[0m \u001b[0;36m8\u001b[0m\u001b[0;34m,\u001b[0m \u001b[0;36m7\u001b[0m\u001b[0;34m,\u001b[0m \u001b[0;36m105\u001b[0m\u001b[0;34m,\u001b[0m \u001b[0;36m6\u001b[0m\u001b[0;34m,\u001b[0m \u001b[0;36m15\u001b[0m\u001b[0;34m,\u001b[0m \u001b[0marchive\u001b[0m\u001b[0;34m)\u001b[0m\u001b[0;34m\u001b[0m\u001b[0;34m\u001b[0m\u001b[0m\n\u001b[0m",
      "\u001b[0;32m/var/folders/yp/6z86mmwj6ys7n5xdcbd57cqc0000gn/T/ipykernel_38899/3465062011.py\u001b[0m in \u001b[0;36mshow_grid_img\u001b[0;34m(x_start, x_num, x_step_size, y_start, y_num, y_step_size, archive, figsize)\u001b[0m\n\u001b[1;32m     33\u001b[0m         \u001b[0msol\u001b[0m \u001b[0;34m=\u001b[0m \u001b[0msolutions\u001b[0m\u001b[0;34m[\u001b[0m\u001b[0mnp\u001b[0m\u001b[0;34m.\u001b[0m\u001b[0mwhere\u001b[0m\u001b[0;34m(\u001b[0m\u001b[0mindices\u001b[0m \u001b[0;34m==\u001b[0m \u001b[0marchive\u001b[0m\u001b[0;34m.\u001b[0m\u001b[0mgrid_to_int_index\u001b[0m\u001b[0;34m(\u001b[0m\u001b[0mgrid_indices\u001b[0m\u001b[0;34m)\u001b[0m\u001b[0;34m)\u001b[0m\u001b[0;34m]\u001b[0m\u001b[0;34m[\u001b[0m\u001b[0;36m0\u001b[0m\u001b[0;34m]\u001b[0m\u001b[0;34m\u001b[0m\u001b[0;34m\u001b[0m\u001b[0m\n\u001b[1;32m     34\u001b[0m     \u001b[0;32mexcept\u001b[0m \u001b[0mIndexError\u001b[0m\u001b[0;34m:\u001b[0m\u001b[0;34m\u001b[0m\u001b[0;34m\u001b[0m\u001b[0m\n\u001b[0;32m---> 35\u001b[0;31m         \u001b[0mprint\u001b[0m\u001b[0;34m(\u001b[0m\u001b[0;34mf\"There is no solution at index {index}.\"\u001b[0m\u001b[0;34m)\u001b[0m\u001b[0;34m\u001b[0m\u001b[0;34m\u001b[0m\u001b[0m\n\u001b[0m\u001b[1;32m     36\u001b[0m         \u001b[0;32mreturn\u001b[0m\u001b[0;34m\u001b[0m\u001b[0;34m\u001b[0m\u001b[0m\n\u001b[1;32m     37\u001b[0m \u001b[0;34m\u001b[0m\u001b[0m\n",
      "\u001b[0;31mUnboundLocalError\u001b[0m: local variable 'index' referenced before assignment"
     ]
    }
   ],
   "source": [
    "show_grid_img(10, 8, 7, 105, 6, 15, archive)"
   ]
  },
  {
   "cell_type": "markdown",
   "metadata": {},
   "source": [
    "Here we display images from a wider range of the archive. Note that in order to generate images with high boldness values, CMA-ME generated images that do not look realistic (see the bottom right corner in particular)."
   ]
  },
  {
   "cell_type": "code",
   "execution_count": null,
   "metadata": {},
   "outputs": [],
   "source": [
    "show_grid_img(10, 8, 15, 90, 6, 15, archive)"
   ]
  },
  {
   "cell_type": "markdown",
   "metadata": {},
   "source": [
    "To determine how realistic all of the images in the archive are, we can evaluate them with the discriminator network of the GAN. Below, we create a new archive where the objective value of each solution is the discriminator score. BCs remain the same."
   ]
  },
  {
   "cell_type": "code",
   "execution_count": null,
   "metadata": {},
   "outputs": [],
   "source": [
    "discriminator_archive = GridArchive(\n",
    "    solution_dim=generator.nz,\n",
    "    dims=[200, 200],  # 200 bins in each dimension.\n",
    "    ranges=[(0, 784), (0.5, 1)],  # Boldness range, lightness range.\n",
    ")\n",
    "\n",
    "# Evaluate each solution in the archive and insert it into the new archive.\n",
    "for elite in archive:\n",
    "    # No need to normalize to [0, 1] since the discriminator takes in images in\n",
    "    # the range [-1, 1].\n",
    "    img = generator(\n",
    "        torch.tensor(elite.solution.reshape(1, generator.nz),\n",
    "                     dtype=torch.float32,\n",
    "                     device=device))\n",
    "    obj = discriminator(img).item()\n",
    "    discriminator_archive.add(elite.solution, obj, elite.measures)"
   ]
  },
  {
   "cell_type": "markdown",
   "metadata": {},
   "source": [
    "Now, we can plot a heatmap of the archive with the discriminator score. The large regions of low score (in black) show that many images in the archive are not realistic, even though LeNet-5 had high confidence that these images showed the digit eight."
   ]
  },
  {
   "cell_type": "code",
   "execution_count": null,
   "metadata": {},
   "outputs": [],
   "source": [
    "plt.figure(figsize=(8, 6))\n",
    "grid_archive_heatmap(discriminator_archive, vmin=0.0, vmax=1.0)\n",
    "plt.title(\"Discriminator Evaluation\")\n",
    "plt.xlabel(\"Boldness\")\n",
    "plt.ylabel(\"Lightness\")\n",
    "plt.show()"
   ]
  },
  {
   "cell_type": "markdown",
   "metadata": {},
   "source": [
    "## Conclusion\n",
    "\n",
    "By searching the latent space of an MNIST GAN, CMA-ME found images of the digit eight that varied in boldness and lightness. Even though the LeNet-5 network had high confidence that these images were eights, it turned out that many of these images were highly unrealistic --- when we evaluated them with the GAN's discriminator network, the images mostly received low scores.\n",
    "\n",
    "_In short, we found that large portions of the GAN's latent space are unrealistic_. This is not surprising because during training, the GAN generates fake images by randomly sampling the latent space from a fixed Gaussian distribution, and some portions of the distribution are less likely to be sampled. Thus, we have the following questions, which we leave open for future exploration:\n",
    "\n",
    "- How can we ensure that CMA-ME searches for realistic eights?\n",
    "- While searching for realistic eights, can we also search for other digits at the same time?"
   ]
  },
  {
   "cell_type": "markdown",
   "metadata": {},
   "source": [
    "## Citation\n",
    "\n",
    "If you find this tutorial useful, please cite it as:\n",
    "\n",
    "```text\n",
    "@article{pyribs_lsi_mnist,\n",
    "  title   = {Illuminating the Latent Space of an MNIST GAN},\n",
    "  author  = {Yulun Zhang and Bryon Tjanaka and Matthew C. Fontaine and Stefanos Nikolaidis},\n",
    "  journal = {pyribs.org},\n",
    "  year    = {2021},\n",
    "  url     = {https://docs.pyribs.org/en/stable/tutorials/lsi_mnist.html}\n",
    "}\n",
    "```"
   ]
  }
 ],
 "metadata": {
  "kernelspec": {
   "display_name": "Python [conda env:pyribs]",
   "language": "python",
   "name": "conda-env-pyribs-py"
  },
  "language_info": {
   "codemirror_mode": {
    "name": "ipython",
    "version": 3
   },
   "file_extension": ".py",
   "mimetype": "text/x-python",
   "name": "python",
   "nbconvert_exporter": "python",
   "pygments_lexer": "ipython3",
   "version": "3.7.13"
  }
 },
 "nbformat": 4,
 "nbformat_minor": 4
}
