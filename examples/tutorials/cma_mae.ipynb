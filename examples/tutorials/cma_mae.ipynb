{
 "cells": [
  {
   "cell_type": "markdown",
   "id": "69e0c236-9407-496f-be0d-9562f8191ce4",
   "metadata": {},
   "source": [
    "# CMA-MAE and Archive Thresholds\n",
    "\n",
    "**This tutorial assumes that you understand the CMA-ME algorithm.** \n",
    "\n",
    "If you are not familiar with CMA-ME, we recommend reading through and playing around with the following tutorials on CMA-ME:\n",
    "- [Using CMA-ME to Land a Lunar Lander Like a Space Shuttle](https://docs.pyribs.org/en/latest/tutorials/lunar_lander.html)\n",
    "- [Illuminating the Latent Space of an MNIST GAN](https://docs.pyribs.org/en/latest/tutorials/lsi_mnist.html)"
   ]
  },
  {
   "cell_type": "markdown",
   "id": "4e35386c",
   "metadata": {},
   "source": [
    "## Setup\n",
    "\n",
    "First, let's import some useful libraries that we will use later."
   ]
  },
  {
   "cell_type": "code",
   "execution_count": 1,
   "id": "dd6afd15",
   "metadata": {},
   "outputs": [],
   "source": [
    "import time\n",
    "\n",
    "import matplotlib.pyplot as plt\n",
    "import numpy as np\n",
    "from tqdm.notebook import tqdm, trange"
   ]
  },
  {
   "cell_type": "markdown",
   "id": "e1900b33",
   "metadata": {},
   "source": [
    "Secondly, let's define **the Sphere Function and its gradients**.\n",
    "\n",
    "It is not important to understand the implementation of this method, but it is important to understand how this particular sphere function differs from the standard [sphere function](https://en.wikipedia.org/wiki/Sphere).\n",
    "\n",
    "The particular sphere function used in this example is adapted from Section 4 of [Fontaine 2020](https://arxiv.org/abs/1912.02400). Namely, each solution value is clipped to the range $[-5.12, 5.12]$, and the optimum is moved from $[0,..]$ to $[0.4 \\times 5.12 = 2.048,..]$. Furthermore, the objectives are normalized to the range $[0,100]$ where $100$ is the maximum and corresponds to $0$ on the original sphere function.\n",
    "\n",
    "There are two measures in this example. The first is the sum of the first $\\frac{n}{2}$ clipped values of the solution, and the second is the sum of the last $\\frac{n}{2}$ clipped values of the solution. Having each measure depend equally on several values in the solution space makes the problem more difficult (refer to [Fontaine 2020](https://arxiv.org/abs/1912.02400) for more information)."
   ]
  },
  {
   "cell_type": "code",
   "execution_count": 2,
   "id": "8cb2801c",
   "metadata": {},
   "outputs": [],
   "source": [
    "def sphere(solution_batch):\n",
    "    \"\"\"Sphere function evaluation and measures for a batch of solutions.\n",
    "\n",
    "    Args:\n",
    "        solution_batch (np.ndarray): (batch_size, dim) batch of solutions.\n",
    "    Returns:\n",
    "        objective_batch (np.ndarray): (batch_size,) batch of objectives.\n",
    "        measures_batch (np.ndarray): (batch_size, 2) batch of measures.\n",
    "    \"\"\"\n",
    "    dim = solution_batch.shape[1]\n",
    "\n",
    "    # Shift the Sphere function so that the optimal value is at x_i = 2.048.\n",
    "    sphere_shift = 5.12 * 0.4\n",
    "\n",
    "    # Normalize the objective to the range [0, 100] where 100 is optimal.\n",
    "    best_obj = 0.0\n",
    "    worst_obj = (-5.12 - sphere_shift)**2 * dim\n",
    "    raw_obj = np.sum(np.square(solution_batch - sphere_shift), axis=1)\n",
    "    objective_batch = (raw_obj - worst_obj) / (best_obj - worst_obj) * 100\n",
    "\n",
    "    # Compute gradient of the objective\n",
    "    objective_grad_batch = -2 * (solution_batch - sphere_shift)\n",
    "\n",
    "    # Calculate measures.\n",
    "    clipped = solution_batch.copy()\n",
    "    clip_indices = np.where(np.logical_or(clipped > 5.12, clipped < -5.12))\n",
    "    clipped[clip_indices] = 5.12 / clipped[clip_indices]\n",
    "    measures_batch = np.concatenate(\n",
    "        (\n",
    "            np.sum(clipped[:, :dim // 2], axis=1, keepdims=True),\n",
    "            np.sum(clipped[:, dim // 2:], axis=1, keepdims=True),\n",
    "        ),\n",
    "        axis=1,\n",
    "    )\n",
    "\n",
    "    # Compute gradient of the measures\n",
    "    derivatives = np.ones(solution_batch.shape)\n",
    "    derivatives[clip_indices] = -5.12 / np.square(solution_batch[clip_indices])\n",
    "\n",
    "    mask_0 = np.concatenate((np.ones(dim // 2), np.zeros(dim - dim // 2)))\n",
    "    mask_1 = np.concatenate((np.zeros(dim // 2), np.ones(dim - dim // 2)))\n",
    "\n",
    "    d_measure0 = derivatives * mask_0\n",
    "    d_measure1 = derivatives * mask_1\n",
    "\n",
    "    measures_grad_batch = np.stack((d_measure0, d_measure1), axis=1)\n",
    "\n",
    "    return (\n",
    "        objective_batch,\n",
    "        objective_grad_batch,\n",
    "        measures_batch,\n",
    "        measures_grad_batch,\n",
    "    )"
   ]
  },
  {
   "cell_type": "markdown",
   "id": "ade59e92",
   "metadata": {},
   "source": [
    "## CMA-MAE with pyribs\n",
    "\n",
    "TODO: Overview of CMA-MAE\n",
    "\n",
    "<!-- Think about being > vs >= to the threshold — e.g. if someone sets the min objective to be 0.0 and thus sets threshold_min to be 0.0, they would expect an entry into the archive with objective 0.0 to make it in, but it currently would not — perhaps we can just tell people to set threshold min to some slightly smaller value -->\n",
    "\n",
    "We will create an `GridArchive` using the following parameters. In particular, we use a learning rate of 0.01 and minimum threshold of 0."
   ]
  },
  {
   "cell_type": "code",
   "execution_count": 25,
   "id": "aa4e5b4d",
   "metadata": {},
   "outputs": [],
   "source": [
    "from ribs.archives import GridArchive\n",
    "\n",
    "solution_dim = 100\n",
    "archive_dims = (100, 100)\n",
    "max_bound = solution_dim / 2 * 5.12\n",
    "bounds = [(-max_bound, max_bound), (-max_bound, max_bound)]\n",
    "learning_rate = 0.01\n",
    "\n",
    "archive = GridArchive(solution_dim=solution_dim,\n",
    "                      dims=archive_dims,\n",
    "                      ranges=bounds,\n",
    "                      learning_rate=learning_rate,\n",
    "                      threshold_min=0)"
   ]
  },
  {
   "cell_type": "markdown",
   "id": "79a7ac58",
   "metadata": {},
   "source": [
    "Since solutions are added to the archive based on the cell's **threshold** rather than the cell's **objective** (as in CMA-ME with improvement ranker), it is possible for CMA-MAE to make backwards progress. Specifically, a solution's objective can exceed the cell's threshold value but not exceed the objective of the cell's current occupant, which results in overwriting the **better** solution.\n",
    "\n",
    "For this reason, CMA-MAE requires a separate **result archive** that keeps track of the best solutions encountered in each cell. Fortunately, this exactly the default behavior of `GridArchive`, with `learning_rate = 0` and `threashold_min=-inf`."
   ]
  },
  {
   "cell_type": "code",
   "execution_count": 26,
   "id": "b1e4948b",
   "metadata": {},
   "outputs": [],
   "source": [
    "result_archive = GridArchive(solution_dim=solution_dim,\n",
    "                             dims=archive_dims,\n",
    "                             ranges=bounds)"
   ]
  },
  {
   "cell_type": "markdown",
   "id": "294906d3",
   "metadata": {},
   "source": [
    "CMA-MAE is based on CMA-ME. The original conception of CMA-MAE uses $15$ `EvolutionStrategyEmitter` as defined in the following cell.\n",
    "\n",
    "> We encourage you to play around with the parameters of this emitter (i.e. `x0`, `sigma0`, `ranker`, `selection_rule`, `restart_rule`, and `batch_size`), or experiment with different combination of emitters (such as mixing different emitters together)."
   ]
  },
  {
   "cell_type": "code",
   "execution_count": 27,
   "id": "beb8f299",
   "metadata": {},
   "outputs": [],
   "source": [
    "from ribs.emitters import EvolutionStrategyEmitter\n",
    "\n",
    "emitters = [\n",
    "    EvolutionStrategyEmitter(\n",
    "        archive,\n",
    "        x0=np.zeros(solution_dim),\n",
    "        sigma0=0.5,\n",
    "        ranker=\"imp\",\n",
    "        selection_rule=\"mu\",\n",
    "        restart_rule=\"basic\",\n",
    "        batch_size=36,\n",
    "    ) for _ in range(15)\n",
    "]"
   ]
  },
  {
   "cell_type": "markdown",
   "id": "1a1b940d",
   "metadata": {},
   "source": [
    "Finally, we can define the `Scheduler` with the additional parameter of `result_archive`. The `Scheduler` class will be responsible for interacting with the `result_archive` so that it keeps track of the best solutions."
   ]
  },
  {
   "cell_type": "code",
   "execution_count": 28,
   "id": "e5c4f108",
   "metadata": {},
   "outputs": [],
   "source": [
    "from ribs.schedulers import Scheduler\n",
    "\n",
    "scheduler = Scheduler(archive, emitters, result_archive=result_archive)"
   ]
  },
  {
   "cell_type": "markdown",
   "id": "f8a30983",
   "metadata": {},
   "source": [
    "## Running the CMA-MAE\n",
    "\n",
    "Now we can finally run CMA-MAE!\n",
    "\n",
    "We will run it for 10000 iterations following the experiment in (TODO cite matt)."
   ]
  },
  {
   "cell_type": "code",
   "execution_count": 29,
   "id": "9bf03e8d",
   "metadata": {},
   "outputs": [
    {
     "data": {
      "application/vnd.jupyter.widget-view+json": {
       "model_id": "7785b536b44947baaf0088e126b0b44b",
       "version_major": 2,
       "version_minor": 0
      },
      "text/plain": [
       "  0%|          | 0/10000 [00:00<?, ?it/s]"
      ]
     },
     "metadata": {},
     "output_type": "display_data"
    },
    {
     "name": "stdout",
     "output_type": "stream",
     "text": [
      "Iteration 500 | Archive Coverage: 53.980% QD Score: 441678.192\n",
      "Iteration 1000 | Archive Coverage: 64.250% QD Score: 506982.603\n",
      "Iteration 1500 | Archive Coverage: 71.430% QD Score: 545695.051\n",
      "Iteration 2000 | Archive Coverage: 74.790% QD Score: 570044.154\n",
      "Iteration 2500 | Archive Coverage: 76.830% QD Score: 585600.776\n",
      "Iteration 3000 | Archive Coverage: 77.470% QD Score: 593205.355\n",
      "Iteration 3500 | Archive Coverage: 78.010% QD Score: 599972.898\n",
      "Iteration 4000 | Archive Coverage: 78.650% QD Score: 607343.336\n",
      "Iteration 4500 | Archive Coverage: 78.890% QD Score: 610967.827\n",
      "Iteration 5000 | Archive Coverage: 79.430% QD Score: 615528.338\n",
      "Iteration 5500 | Archive Coverage: 79.740% QD Score: 618522.133\n",
      "Iteration 6000 | Archive Coverage: 79.890% QD Score: 620668.277\n",
      "Iteration 6500 | Archive Coverage: 80.000% QD Score: 622475.265\n",
      "Iteration 7000 | Archive Coverage: 80.150% QD Score: 624751.679\n",
      "Iteration 7500 | Archive Coverage: 80.190% QD Score: 625928.192\n",
      "Iteration 8000 | Archive Coverage: 80.230% QD Score: 626817.968\n",
      "Iteration 8500 | Archive Coverage: 80.510% QD Score: 629640.397\n",
      "Iteration 9000 | Archive Coverage: 80.690% QD Score: 631329.736\n",
      "Iteration 9500 | Archive Coverage: 80.700% QD Score: 631775.604\n",
      "Iteration 10000 | Archive Coverage: 80.720% QD Score: 632268.738\n"
     ]
    }
   ],
   "source": [
    "itrs = 10_000\n",
    "\n",
    "for itr in trange(1, itrs + 1):\n",
    "    solution_batch = scheduler.ask()\n",
    "    objective_batch, _, measure_batch, _ = sphere(solution_batch)\n",
    "    scheduler.tell(objective_batch, measure_batch)\n",
    "\n",
    "    # Logging and output every 500 iteration or on final iteration.\n",
    "    if itr % 500 == 0 or itr == itrs:\n",
    "        # Record and display metrics.\n",
    "        print(f\"Iteration {itr} | Archive Coverage: \"\n",
    "              f\"{result_archive.stats.coverage * 100:.3f}% \"\n",
    "              f\"QD Score: {result_archive.stats.qd_score:.3f}\")"
   ]
  },
  {
   "cell_type": "markdown",
   "id": "d220587e",
   "metadata": {},
   "source": [
    "## Visualization\n",
    "\n",
    "As usual, we will visualize the archive using `grid_archive_heatmap`"
   ]
  },
  {
   "cell_type": "code",
   "execution_count": 18,
   "id": "cb869a5b",
   "metadata": {},
   "outputs": [
    {
     "data": {
      "text/plain": [
       "Text(0.5, 36.72222222222221, 'X')"
      ]
     },
     "execution_count": 18,
     "metadata": {},
     "output_type": "execute_result"
    },
    {
     "data": {
      "image/png": "[encoded data removed]",
      "text/plain": [
       "<Figure size 800x600 with 2 Axes>"
      ]
     },
     "metadata": {},
     "output_type": "display_data"
    }
   ],
   "source": [
    "from ribs.visualize import grid_archive_heatmap\n",
    "\n",
    "plt.figure(figsize=(8, 6))\n",
    "grid_archive_heatmap(result_archive, vmin=0, vmax=100)\n",
    "plt.tight_layout()\n",
    "plt.ylabel(\"Y\")\n",
    "plt.xlabel(\"X\")"
   ]
  },
  {
   "cell_type": "markdown",
   "id": "66d6c476",
   "metadata": {},
   "source": [
    "# Extension: CMA-MAEGA\n",
    "\n",
    "CMA-MAEGA, proposed in the same paper as CMA-MAE, combines the archive thresholds with the `GradientArborescenceEmitter`.\n",
    "\n",
    "If you want to see this algorithm in action, you can run the following cell to set up the scheduler."
   ]
  },
  {
   "cell_type": "code",
   "execution_count": 21,
   "id": "37a9ef3e",
   "metadata": {},
   "outputs": [],
   "source": [
    "from ribs.archives import GridArchive\n",
    "from ribs.emitters import GradientArborescenceEmitter\n",
    "from ribs.schedulers import Scheduler\n",
    "\n",
    "solution_dim = 100\n",
    "archive_dims = (100, 100)\n",
    "max_bound = solution_dim / 2 * 5.12\n",
    "bounds = [(-max_bound, max_bound), (-max_bound, max_bound)]\n",
    "learning_rate = 0.01\n",
    "\n",
    "archive_mega = GridArchive(solution_dim=solution_dim,\n",
    "                      dims=archive_dims,\n",
    "                      ranges=bounds,\n",
    "                      learning_rate=learning_rate,\n",
    "                      threshold_min=0)\n",
    "\n",
    "result_archive_mega = GridArchive(solution_dim=solution_dim,\n",
    "                             dims=archive_dims,\n",
    "                             ranges=bounds)\n",
    "\n",
    "emitters_mega = [\n",
    "    GradientArborescenceEmitter(\n",
    "        archive,\n",
    "        x0=np.zeros(solution_dim),\n",
    "        sigma0=10.0,\n",
    "        step_size=1.0,\n",
    "        ranker=\"imp\",\n",
    "        grad_opt=\"gradient_ascent\",\n",
    "        restart_rule=\"basic\",\n",
    "        bounds=None,\n",
    "        batch_size=36,\n",
    "    ) for _ in range(15)\n",
    "]\n",
    "\n",
    "scheduler_mega = Scheduler(archive_mega, emitters_mega, result_archive=result_archive_mega)"
   ]
  },
  {
   "cell_type": "markdown",
   "id": "225e7f00",
   "metadata": {},
   "source": [
    "And the following cell to run the algorithm."
   ]
  },
  {
   "cell_type": "code",
   "execution_count": 22,
   "id": "843f0a78",
   "metadata": {},
   "outputs": [
    {
     "data": {
      "application/vnd.jupyter.widget-view+json": {
       "model_id": "d07ffd0b58c54513b790bb908cd124fd",
       "version_major": 2,
       "version_minor": 0
      },
      "text/plain": [
       "  0%|          | 0/4500 [00:00<?, ?it/s]"
      ]
     },
     "metadata": {},
     "output_type": "display_data"
    },
    {
     "name": "stdout",
     "output_type": "stream",
     "text": [
      "Iteration 500 | Archive Coverage: 95.330% QD Score: 718919.393\n",
      "Iteration 1000 | Archive Coverage: 99.050% QD Score: 749825.597\n",
      "Iteration 1500 | Archive Coverage: 99.720% QD Score: 752198.192\n",
      "Iteration 2000 | Archive Coverage: 99.960% QD Score: 753062.133\n",
      "Iteration 2500 | Archive Coverage: 100.000% QD Score: 753319.934\n",
      "Iteration 3000 | Archive Coverage: 100.000% QD Score: 753420.704\n",
      "Iteration 3500 | Archive Coverage: 100.000% QD Score: 753492.928\n",
      "Iteration 4000 | Archive Coverage: 100.000% QD Score: 753558.983\n",
      "Iteration 4500 | Archive Coverage: 100.000% QD Score: 753600.769\n"
     ]
    }
   ],
   "source": [
    "itrs = 4500\n",
    "\n",
    "for itr in trange(1, itrs + 1):\n",
    "    # DQD ask-tell.\n",
    "    solution_batch = scheduler_mega.ask_dqd()\n",
    "\n",
    "    (objective_batch, objective_grad_batch, measures_batch, measures_grad_batch) = sphere(solution_batch)\n",
    "\n",
    "    objective_grad_batch = np.expand_dims(objective_grad_batch, axis=1)\n",
    "    jacobian_batch = np.concatenate((objective_grad_batch, measures_grad_batch), axis=1)\n",
    "    scheduler_mega.tell_dqd(objective_batch, measures_batch, jacobian_batch)\n",
    "\n",
    "    # ask-tell\n",
    "    solution_batch = scheduler_mega.ask()\n",
    "    objective_batch, _, measure_batch, _ = sphere(solution_batch)\n",
    "    scheduler_mega.tell(objective_batch, measure_batch)\n",
    "\n",
    "    # Logging and output every 500 iteration or on final iteration.\n",
    "    if itr % 500 == 0 or itr == itrs:\n",
    "        # Record and display metrics.\n",
    "        print(f\"Iteration {itr} | Archive Coverage: \"\n",
    "              f\"{result_archive_mega.stats.coverage * 100:.3f}% \"\n",
    "              f\"QD Score: {result_archive_mega.stats.qd_score:.3f}\")"
   ]
  },
  {
   "cell_type": "markdown",
   "id": "ef166e31",
   "metadata": {},
   "source": [
    "Notice that the CMA-MEGA fully explores the archive around 2000 iterations, which is way better than CMA-MAE. It also beats the QD score of CMA-MAE.\n",
    "\n",
    "Now, let's visualize the result archive."
   ]
  },
  {
   "cell_type": "code",
   "execution_count": 24,
   "id": "a2daa4bf",
   "metadata": {},
   "outputs": [
    {
     "data": {
      "text/plain": [
       "Text(0.5, 36.72222222222221, 'X')"
      ]
     },
     "execution_count": 24,
     "metadata": {},
     "output_type": "execute_result"
    },
    {
     "data": {
      "image/png": "[encoded data removed]",
      "text/plain": [
       "<Figure size 800x600 with 2 Axes>"
      ]
     },
     "metadata": {},
     "output_type": "display_data"
    }
   ],
   "source": [
    "from ribs.visualize import grid_archive_heatmap\n",
    "\n",
    "plt.figure(figsize=(8, 6))\n",
    "grid_archive_heatmap(result_archive_mega, vmin=0, vmax=100)\n",
    "plt.tight_layout()\n",
    "plt.ylabel(\"Y\")\n",
    "plt.xlabel(\"X\")"
   ]
  },
  {
   "cell_type": "code",
   "execution_count": null,
   "id": "791746b7",
   "metadata": {},
   "outputs": [],
   "source": []
  }
 ],
 "metadata": {
  "kernelspec": {
   "display_name": "Python [conda env:pyribs]",
   "language": "python",
   "name": "conda-env-pyribs-py"
  },
  "language_info": {
   "codemirror_mode": {
    "name": "ipython",
    "version": 3
   },
   "file_extension": ".py",
   "mimetype": "text/x-python",
   "name": "python",
   "nbconvert_exporter": "python",
   "pygments_lexer": "ipython3",
   "version": "3.10.6"
  }
 },
 "nbformat": 4,
 "nbformat_minor": 5
}
