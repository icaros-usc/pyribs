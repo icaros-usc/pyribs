{
  "cells": [
    {
      "cell_type": "markdown",
      "id": "69e0c236-9407-496f-be0d-9562f8191ce4",
      "metadata": {
        "id": "69e0c236-9407-496f-be0d-9562f8191ce4"
      },
      "source": [
        "# Covariance Matrix Adaptation MAP-Annealing (CMA-MAE) and Archive Thresholds\n",
        "\n",
        "**This tutorial assumes that you are familiar with Covariance Matrix Adaptation MAP-Elites (CMA-ME).** \n",
        "\n",
        "If you are not familiar with CMA-ME, we recommend reading through and playing around with the following tutorials:\n",
        "- [Using CMA-ME to Land a Lunar Lander Like a Space Shuttle](https://docs.pyribs.org/en/latest/tutorials/lunar_lander.html)\n",
        "- [Illuminating the Latent Space of an MNIST GAN](https://docs.pyribs.org/en/latest/tutorials/lsi_mnist.html)"
      ]
    },
    {
      "cell_type": "markdown",
      "id": "4e35386c",
      "metadata": {
        "id": "4e35386c"
      },
      "source": [
        "## Setup\n",
        "\n",
        "Firstly, let's import some utility libraries that we will use later."
      ]
    },
    {
      "cell_type": "code",
      "execution_count": 4,
      "id": "dd6afd15",
      "metadata": {
        "id": "dd6afd15",
        "colab": {
          "base_uri": "https://localhost:8080/"
        },
        "outputId": "d6137bd5-5541-46e5-aa89-1f40732dcf74"
      },
      "outputs": [
        {
          "output_type": "stream",
          "name": "stdout",
          "text": [
            "Cloning into 'pyribs'...\n",
            "remote: Enumerating objects: 2901, done.\u001b[K\n",
            "remote: Counting objects: 100% (66/66), done.\u001b[K\n",
            "remote: Compressing objects: 100% (55/55), done.\u001b[K\n",
            "remote: Total 2901 (delta 33), reused 27 (delta 10), pack-reused 2835\u001b[K\n",
            "Receiving objects: 100% (2901/2901), 32.77 MiB | 30.65 MiB/s, done.\n",
            "Resolving deltas: 100% (1891/1891), done.\n",
            "Looking in indexes: https://pypi.org/simple, https://us-python.pkg.dev/colab-wheels/public/simple/\n",
            "Processing ./pyribs\n",
            "\u001b[33m  DEPRECATION: A future pip version will change local packages to be built in-place without first copying to a temporary directory. We recommend you use --use-feature=in-tree-build to test your packages with this new behavior before it becomes the default.\n",
            "   pip 21.3 will remove support for this functionality. You can find discussion regarding this at https://github.com/pypa/pip/issues/7555.\u001b[0m\n",
            "\u001b[33mWARNING: ribs 0.4.0 does not provide the extra 'all'\u001b[0m\n",
            "Requirement already satisfied: numpy>=1.17.0 in /usr/local/lib/python3.7/dist-packages (from ribs==0.4.0) (1.21.6)\n",
            "Collecting numpy_groupies>=0.9.16\n",
            "  Downloading numpy_groupies-0.9.20-py3-none-any.whl (25 kB)\n",
            "Requirement already satisfied: numba>=0.51.0 in /usr/local/lib/python3.7/dist-packages (from ribs==0.4.0) (0.56.4)\n",
            "Requirement already satisfied: pandas>=1.0.0 in /usr/local/lib/python3.7/dist-packages (from ribs==0.4.0) (1.3.5)\n",
            "Requirement already satisfied: sortedcontainers>=2.0.0 in /usr/local/lib/python3.7/dist-packages (from ribs==0.4.0) (2.4.0)\n",
            "Requirement already satisfied: scikit-learn>=0.20.0 in /usr/local/lib/python3.7/dist-packages (from ribs==0.4.0) (1.0.2)\n",
            "Requirement already satisfied: scipy>=1.4.0 in /usr/local/lib/python3.7/dist-packages (from ribs==0.4.0) (1.7.3)\n",
            "Requirement already satisfied: threadpoolctl>=3.0.0 in /usr/local/lib/python3.7/dist-packages (from ribs==0.4.0) (3.1.0)\n",
            "Collecting semantic-version>=2.10\n",
            "  Downloading semantic_version-2.10.0-py2.py3-none-any.whl (15 kB)\n",
            "Requirement already satisfied: importlib-metadata in /usr/local/lib/python3.7/dist-packages (from numba>=0.51.0->ribs==0.4.0) (4.13.0)\n",
            "Requirement already satisfied: setuptools in /usr/local/lib/python3.7/dist-packages (from numba>=0.51.0->ribs==0.4.0) (57.4.0)\n",
            "Requirement already satisfied: llvmlite<0.40,>=0.39.0dev0 in /usr/local/lib/python3.7/dist-packages (from numba>=0.51.0->ribs==0.4.0) (0.39.1)\n",
            "Requirement already satisfied: python-dateutil>=2.7.3 in /usr/local/lib/python3.7/dist-packages (from pandas>=1.0.0->ribs==0.4.0) (2.8.2)\n",
            "Requirement already satisfied: pytz>=2017.3 in /usr/local/lib/python3.7/dist-packages (from pandas>=1.0.0->ribs==0.4.0) (2022.6)\n",
            "Requirement already satisfied: six>=1.5 in /usr/local/lib/python3.7/dist-packages (from python-dateutil>=2.7.3->pandas>=1.0.0->ribs==0.4.0) (1.15.0)\n",
            "Requirement already satisfied: joblib>=0.11 in /usr/local/lib/python3.7/dist-packages (from scikit-learn>=0.20.0->ribs==0.4.0) (1.2.0)\n",
            "Requirement already satisfied: zipp>=0.5 in /usr/local/lib/python3.7/dist-packages (from importlib-metadata->numba>=0.51.0->ribs==0.4.0) (3.10.0)\n",
            "Requirement already satisfied: typing-extensions>=3.6.4 in /usr/local/lib/python3.7/dist-packages (from importlib-metadata->numba>=0.51.0->ribs==0.4.0) (4.1.1)\n",
            "Building wheels for collected packages: ribs\n",
            "  Building wheel for ribs (setup.py) ... \u001b[?25l\u001b[?25hdone\n",
            "  Created wheel for ribs: filename=ribs-0.4.0-py3-none-any.whl size=79432 sha256=a603aef0f46ff24519d58e128b5400aafcff79653fa687d4b5bda96db61883d1\n",
            "  Stored in directory: /tmp/pip-ephem-wheel-cache-aluh2uvk/wheels/c9/11/4b/66717ff9f4bdcff8cba45cb0ca191db0b4e56d17b9e9461229\n",
            "Successfully built ribs\n",
            "Installing collected packages: semantic-version, numpy-groupies, ribs\n",
            "Successfully installed numpy-groupies-0.9.20 ribs-0.4.0 semantic-version-2.10.0\n"
          ]
        }
      ],
      "source": [
        "# Install latest pyribs (temporary for collab, remove after pip formula is updated)\n",
        "!git clone https://github.com/icaros-usc/pyribs.git\n",
        "!pip install ./pyribs[all]\n",
        "\n",
        "import matplotlib.pyplot as plt\n",
        "import numpy as np"
      ]
    },
    {
      "cell_type": "markdown",
      "id": "e1900b33",
      "metadata": {
        "id": "e1900b33"
      },
      "source": [
        "Secondly, let's define **the sphere function and its gradients**.\n",
        "\n",
        "It is not important to understand the implementation of this method, but it is important to understand how this particular sphere function differs from the standard [sphere function](https://en.wikipedia.org/wiki/Sphere).\n",
        "\n",
        "The particular sphere function used in this example is adapted from Section 4 of [Fontaine 2020](https://arxiv.org/abs/1912.02400). Namely, each solution value is clipped to the range $[-5.12, 5.12]$, and the optimum is moved from $[0,..]$ to $[0.4 \\times 5.12 = 2.048,..]$. Furthermore, the objectives are normalized to the range $[0,100]$ where $100$ is the maximum and corresponds to $0$ on the original sphere function.\n",
        "\n",
        "There are two measures in this example. The first is the sum of the first $\\frac{n}{2}$ clipped values of the solution, and the second is the sum of the last $\\frac{n}{2}$ clipped values of the solution. Having each measure depend equally on several values in the solution space makes the problem more difficult (refer to [Fontaine 2020](https://arxiv.org/abs/1912.02400) for more information)."
      ]
    },
    {
      "cell_type": "code",
      "execution_count": 5,
      "id": "8cb2801c",
      "metadata": {
        "id": "8cb2801c"
      },
      "outputs": [],
      "source": [
        "def sphere(solution_batch):\n",
        "    \"\"\"Sphere function evaluation and measures for a batch of solutions.\n",
        "\n",
        "    Args:\n",
        "        solution_batch (np.ndarray): (batch_size, dim) batch of solutions.\n",
        "    Returns:\n",
        "        objective_batch (np.ndarray): (batch_size,) batch of objectives.\n",
        "        measures_batch (np.ndarray): (batch_size, 2) batch of measures.\n",
        "    \"\"\"\n",
        "    dim = solution_batch.shape[1]\n",
        "\n",
        "    # Shift the Sphere function so that the optimal value is at x_i = 2.048.\n",
        "    sphere_shift = 5.12 * 0.4\n",
        "\n",
        "    # Normalize the objective to the range [0, 100] where 100 is optimal.\n",
        "    best_obj = 0.0\n",
        "    worst_obj = (-5.12 - sphere_shift)**2 * dim\n",
        "    raw_obj = np.sum(np.square(solution_batch - sphere_shift), axis=1)\n",
        "    objective_batch = (raw_obj - worst_obj) / (best_obj - worst_obj) * 100\n",
        "\n",
        "    # Compute gradient of the objective\n",
        "    objective_grad_batch = -2 * (solution_batch - sphere_shift)\n",
        "\n",
        "    # Calculate measures.\n",
        "    clipped = solution_batch.copy()\n",
        "    clip_indices = np.where(np.logical_or(clipped > 5.12, clipped < -5.12))\n",
        "    clipped[clip_indices] = 5.12 / clipped[clip_indices]\n",
        "    measures_batch = np.concatenate(\n",
        "        (\n",
        "            np.sum(clipped[:, :dim // 2], axis=1, keepdims=True),\n",
        "            np.sum(clipped[:, dim // 2:], axis=1, keepdims=True),\n",
        "        ),\n",
        "        axis=1,\n",
        "    )\n",
        "\n",
        "    # Compute gradient of the measures\n",
        "    derivatives = np.ones(solution_batch.shape)\n",
        "    derivatives[clip_indices] = -5.12 / np.square(solution_batch[clip_indices])\n",
        "\n",
        "    mask_0 = np.concatenate((np.ones(dim // 2), np.zeros(dim - dim // 2)))\n",
        "    mask_1 = np.concatenate((np.zeros(dim // 2), np.ones(dim - dim // 2)))\n",
        "\n",
        "    d_measure0 = derivatives * mask_0\n",
        "    d_measure1 = derivatives * mask_1\n",
        "\n",
        "    measures_grad_batch = np.stack((d_measure0, d_measure1), axis=1)\n",
        "\n",
        "    return (\n",
        "        objective_batch,\n",
        "        objective_grad_batch,\n",
        "        measures_batch,\n",
        "        measures_grad_batch,\n",
        "    )"
      ]
    },
    {
      "cell_type": "markdown",
      "source": [
        "## Overview of CMA-MAE\n",
        "\n",
        "After CMA-ME finds a high-objective solution, all subsequent solutions found in the same region will be neglected since they have much lower objective value. Consequently, CMA-ME will rapidly move away from a high-performing solution after discovering it.\n",
        "\n",
        "The intuition of CMA-MAE is that there could be value in discovering more solutions in a high-objective region. For instance, there could be even better solutions in the same region, but CMA-ME will move away from the region regardless if it does not discover a better solution in the next few iterations.\n",
        "\n",
        "CMA-MAE achieves this by using a threshold value (not the objective value) to determine whether a new solution is accepted by the archive. Formally, a new solution $\\theta'$ in cell $e$ is accepted to the archive if and only if $f(\\theta') > t_e$, where $t_e$ is the threshold of cell $e$, and $f(\\theta')$ computes the objective value of $\\theta'$. The improvement value of a solution is calculated as $$\\Delta = f(\\theta') - t_e.$$\n",
        "\n",
        "Furthermore, after $\\theta'$ is accepted to $e$, $t_e$ is updated according to the following equation $$t_e \\gets (1 - \\alpha) t_e + \\alpha f(\\theta')$$ where the constant $\\alpha$ denotes the learning rate.\n",
        "\n",
        "Notice that when $\\alpha = 1$, **CMA-MAE behaves like CMA-ME**, evaluating the quality of the solutions entirely based on the new objective values (an observation that [Fontaine 2022](https://arxiv.org/abs/2205.10752) discusses more formally).\n",
        "\n",
        "Using an example from the paper:\n",
        "> Consider discovering solutions in the same cell with objective value 100 in 5 consecutive iterations. The improvement values computed by CMA-ME would be 100, 0, 0, 0, 0, thus CMA-ME would move rapidly away from this cell. The improvement values computed by CMA-MAE with α = 0.5 would diminish smoothly as follows: 100, 50, 25, 12.5, 6.25, enabling further exploitation of the high-performing region.\n",
        "\n",
        "**For more details about CMA-MAE, please refer to [Fontaine 2022](https://arxiv.org/abs/2205.10752).**"
      ],
      "metadata": {
        "id": "-8bqAHnuJxRa"
      },
      "id": "-8bqAHnuJxRa"
    },
    {
      "cell_type": "markdown",
      "id": "ade59e92",
      "metadata": {
        "id": "ade59e92"
      },
      "source": [
        "## CMA-MAE with pyribs\n",
        "\n",
        "TODO add learning_rate visualization\n",
        "\n",
        "We will create an `GridArchive` using the following parameters. In particular, we use a learning rate of 0.01 and minimum threshold of 0.\n",
        "\n",
        "**Note that since solutions are accepted to the archive if and only if $f(\\theta') > t_e$, the initial threadhold of the archive (`threshold_min`) should be slightly smaller than the minimum objective value.**"
      ]
    },
    {
      "cell_type": "code",
      "execution_count": 6,
      "id": "aa4e5b4d",
      "metadata": {
        "id": "aa4e5b4d"
      },
      "outputs": [],
      "source": [
        "from ribs.archives import GridArchive\n",
        "\n",
        "solution_dim = 100\n",
        "archive_dims = (100, 100)\n",
        "max_bound = solution_dim / 2 * 5.12\n",
        "bounds = [(-max_bound, max_bound), (-max_bound, max_bound)]\n",
        "learning_rate = 0.01\n",
        "\n",
        "archive = GridArchive(solution_dim=solution_dim,\n",
        "                      dims=archive_dims,\n",
        "                      ranges=bounds,\n",
        "                      learning_rate=learning_rate,\n",
        "                      threshold_min=0)"
      ]
    },
    {
      "cell_type": "markdown",
      "id": "79a7ac58",
      "metadata": {
        "id": "79a7ac58"
      },
      "source": [
        "Since solutions are added to the archive based on the cell's **threshold** rather than the cell's **objective**, it is possible for CMA-MAE to make backwards progress. Specifically, a solution's objective can exceed the cell's threshold value but not exceed the objective of the cell's current occupant, which results in overwriting the **better** solution.\n",
        "\n",
        "TODO: Add concrete example with numbers\n",
        "\n",
        "For this reason, CMA-MAE requires a separate **result archive** that keeps track of the best solutions encountered in each cell. Fortunately, this exactly the default behavior of `GridArchive`, with `learning_rate = 0` and `threashold_min=-inf`."
      ]
    },
    {
      "cell_type": "code",
      "execution_count": 7,
      "id": "b1e4948b",
      "metadata": {
        "id": "b1e4948b"
      },
      "outputs": [],
      "source": [
        "result_archive = GridArchive(solution_dim=solution_dim,\n",
        "                             dims=archive_dims,\n",
        "                             ranges=bounds)"
      ]
    },
    {
      "cell_type": "markdown",
      "id": "294906d3",
      "metadata": {
        "id": "294906d3"
      },
      "source": [
        "CMA-MAE is based on CMA-ME. The original conception of CMA-MAE uses $15$ `EvolutionStrategyEmitter` as defined in the following cell.\n",
        "\n",
        "> We strongly encourage you to play around with the parameters of this emitter (i.e. `x0`, `sigma0`, `ranker`, `selection_rule`, `restart_rule`, and `batch_size`), or experiment with different combination of emitters (such as mixing different emitters together). The setup that we are using might not be optimal!"
      ]
    },
    {
      "cell_type": "code",
      "execution_count": 8,
      "id": "beb8f299",
      "metadata": {
        "id": "beb8f299"
      },
      "outputs": [],
      "source": [
        "from ribs.emitters import EvolutionStrategyEmitter\n",
        "\n",
        "emitters = [\n",
        "    EvolutionStrategyEmitter(\n",
        "        archive,\n",
        "        x0=np.zeros(solution_dim),\n",
        "        sigma0=0.5,\n",
        "        ranker=\"imp\",\n",
        "        selection_rule=\"mu\",\n",
        "        restart_rule=\"basic\",\n",
        "        batch_size=36,\n",
        "    ) for _ in range(15)\n",
        "]"
      ]
    },
    {
      "cell_type": "markdown",
      "id": "1a1b940d",
      "metadata": {
        "id": "1a1b940d"
      },
      "source": [
        "Finally, we can create `Scheduler` with an additional parameter `result_archive`. The `Scheduler` class will be responsible for interacting with the `result_archive` so that it keeps track of the best solutions."
      ]
    },
    {
      "cell_type": "code",
      "execution_count": 9,
      "id": "e5c4f108",
      "metadata": {
        "id": "e5c4f108"
      },
      "outputs": [],
      "source": [
        "from ribs.schedulers import Scheduler\n",
        "\n",
        "scheduler = Scheduler(archive, emitters, result_archive=result_archive)"
      ]
    },
    {
      "cell_type": "markdown",
      "id": "f8a30983",
      "metadata": {
        "id": "f8a30983"
      },
      "source": [
        "## Running the CMA-MAE (~ 5 minutes on Google Colab)\n",
        "\n",
        "Now we can finally run CMA-MAE!\n",
        "\n",
        "We will run it for 10000 iterations following the experiment in (TODO cite matt)."
      ]
    },
    {
      "cell_type": "code",
      "execution_count": 10,
      "id": "9bf03e8d",
      "metadata": {
        "id": "9bf03e8d",
        "outputId": "c89a1865-76df-4b27-8225-2afefffa151d",
        "colab": {
          "base_uri": "https://localhost:8080/"
        }
      },
      "outputs": [
        {
          "output_type": "stream",
          "name": "stdout",
          "text": [
            "Iteration 500 | Archive Coverage: 53.630% QD Score: 439021.985\n",
            "Iteration 1000 | Archive Coverage: 66.430% QD Score: 517618.476\n",
            "Iteration 1500 | Archive Coverage: 70.680% QD Score: 547698.036\n",
            "Iteration 2000 | Archive Coverage: 73.950% QD Score: 568704.698\n",
            "Iteration 2500 | Archive Coverage: 77.090% QD Score: 585512.094\n",
            "Iteration 3000 | Archive Coverage: 78.130% QD Score: 595523.518\n",
            "Iteration 3500 | Archive Coverage: 78.480% QD Score: 602159.817\n",
            "Iteration 4000 | Archive Coverage: 78.880% QD Score: 607399.249\n",
            "Iteration 4500 | Archive Coverage: 79.360% QD Score: 612947.902\n",
            "Iteration 5000 | Archive Coverage: 79.490% QD Score: 615582.957\n",
            "Iteration 5500 | Archive Coverage: 79.610% QD Score: 618099.951\n",
            "Iteration 6000 | Archive Coverage: 79.710% QD Score: 619972.918\n",
            "Iteration 6500 | Archive Coverage: 79.760% QD Score: 621449.473\n",
            "Iteration 7000 | Archive Coverage: 79.990% QD Score: 624451.330\n",
            "Iteration 7500 | Archive Coverage: 80.260% QD Score: 626099.604\n",
            "Iteration 8000 | Archive Coverage: 80.300% QD Score: 627056.704\n",
            "Iteration 8500 | Archive Coverage: 80.510% QD Score: 629307.250\n",
            "Iteration 9000 | Archive Coverage: 80.520% QD Score: 629853.805\n",
            "Iteration 9500 | Archive Coverage: 80.520% QD Score: 630209.583\n",
            "Iteration 10000 | Archive Coverage: 80.660% QD Score: 631369.398\n"
          ]
        }
      ],
      "source": [
        "itrs = 10_000\n",
        "\n",
        "for itr in range(1, itrs + 1):\n",
        "    solution_batch = scheduler.ask()\n",
        "    objective_batch, _, measure_batch, _ = sphere(solution_batch)\n",
        "    scheduler.tell(objective_batch, measure_batch)\n",
        "\n",
        "    # Output progress every 500 iteration or on the final iteration.\n",
        "    if itr % 500 == 0 or itr == itrs:\n",
        "        print(f\"Iteration {itr} | Archive Coverage: \"\n",
        "              f\"{result_archive.stats.coverage * 100:.3f}% \"\n",
        "              f\"QD Score: {result_archive.stats.qd_score :.3f}\")"
      ]
    },
    {
      "cell_type": "markdown",
      "id": "17207b65",
      "metadata": {
        "id": "17207b65"
      },
      "source": [
        "## Visualization\n",
        "\n",
        "As usual, we will visualize the archive using `grid_archive_heatmap`."
      ]
    },
    {
      "cell_type": "code",
      "execution_count": 11,
      "id": "dc5cb17c",
      "metadata": {
        "scrolled": true,
        "id": "dc5cb17c",
        "outputId": "71d43642-67a8-4d50-b969-6538f7d9cdeb",
        "colab": {
          "base_uri": "https://localhost:8080/",
          "height": 473
        }
      },
      "outputs": [
        {
          "output_type": "execute_result",
          "data": {
            "text/plain": [
              "Text(0.5, 33.0, 'X')"
            ]
          },
          "metadata": {},
          "execution_count": 11
        },
        {
          "output_type": "display_data",
          "data": {
            "text/plain": [
              "<Figure size 576x432 with 2 Axes>"
            ],
            "image/png": "[encoded data removed]"
          },
          "metadata": {
            "needs_background": "light"
          }
        }
      ],
      "source": [
        "from ribs.visualize import grid_archive_heatmap\n",
        "\n",
        "plt.figure(figsize=(8, 6))\n",
        "grid_archive_heatmap(result_archive, vmin=0, vmax=100)\n",
        "plt.tight_layout()\n",
        "plt.ylabel(\"Y\")\n",
        "plt.xlabel(\"X\")"
      ]
    },
    {
      "cell_type": "markdown",
      "id": "7ead18d0",
      "metadata": {
        "id": "7ead18d0"
      },
      "source": [
        "# Extension: CMA-MAEGA with pyribs\n",
        "\n",
        "CMA-MAEGA, proposed in the same paper as CMA-MAE, combines the archive thresholds with the `GradientArborescenceEmitter`.\n",
        "\n",
        "If you want to see this algorithm in action, you can run the following cell to set up the scheduler."
      ]
    },
    {
      "cell_type": "code",
      "execution_count": 12,
      "id": "37a9ef3e",
      "metadata": {
        "id": "37a9ef3e"
      },
      "outputs": [],
      "source": [
        "from ribs.archives import GridArchive\n",
        "from ribs.emitters import GradientArborescenceEmitter\n",
        "from ribs.schedulers import Scheduler\n",
        "\n",
        "solution_dim = 100\n",
        "archive_dims = (100, 100)\n",
        "max_bound = solution_dim / 2 * 5.12\n",
        "bounds = [(-max_bound, max_bound), (-max_bound, max_bound)]\n",
        "learning_rate = 0.01\n",
        "\n",
        "archive_mega = GridArchive(solution_dim=solution_dim,\n",
        "                           dims=archive_dims,\n",
        "                           ranges=bounds,\n",
        "                           learning_rate=learning_rate,\n",
        "                           threshold_min=0)\n",
        "\n",
        "result_archive_mega = GridArchive(solution_dim=solution_dim,\n",
        "                                  dims=archive_dims,\n",
        "                                  ranges=bounds)\n",
        "\n",
        "emitters_mega = [\n",
        "    GradientArborescenceEmitter(\n",
        "        archive,\n",
        "        x0=np.zeros(solution_dim),\n",
        "        sigma0=10.0,\n",
        "        step_size=1.0,\n",
        "        ranker=\"imp\",\n",
        "        grad_opt=\"gradient_ascent\",\n",
        "        restart_rule=\"basic\",\n",
        "        bounds=None,\n",
        "        batch_size=36,\n",
        "    ) for _ in range(15)\n",
        "]\n",
        "\n",
        "scheduler_mega = Scheduler(archive_mega, emitters_mega, result_archive=result_archive_mega)"
      ]
    },
    {
      "cell_type": "markdown",
      "id": "243cbe3d",
      "metadata": {
        "id": "243cbe3d"
      },
      "source": [
        "And the following cell to run the algorithm."
      ]
    },
    {
      "cell_type": "code",
      "execution_count": 13,
      "id": "843f0a78",
      "metadata": {
        "id": "843f0a78",
        "outputId": "1f6bd322-86fa-4b15-9433-be02fea326c1",
        "colab": {
          "base_uri": "https://localhost:8080/"
        }
      },
      "outputs": [
        {
          "output_type": "stream",
          "name": "stdout",
          "text": [
            "Iteration 500 | Archive Coverage: 95.060% QD Score: 676320.000\n",
            "Iteration 1000 | Archive Coverage: 99.140% QD Score: 749717.621\n",
            "Iteration 1500 | Archive Coverage: 99.790% QD Score: 752505.513\n",
            "Iteration 2000 | Archive Coverage: 99.960% QD Score: 753105.327\n",
            "Iteration 2500 | Archive Coverage: 100.000% QD Score: 753359.305\n",
            "Iteration 3000 | Archive Coverage: 100.000% QD Score: 753446.591\n",
            "Iteration 3500 | Archive Coverage: 100.000% QD Score: 753531.149\n",
            "Iteration 4000 | Archive Coverage: 100.000% QD Score: 753589.410\n",
            "Iteration 4500 | Archive Coverage: 100.000% QD Score: 753642.239\n"
          ]
        }
      ],
      "source": [
        "itrs = 4500\n",
        "\n",
        "for itr in range(1, itrs + 1):\n",
        "    # DQD ask-tell.\n",
        "    solution_batch = scheduler_mega.ask_dqd()\n",
        "\n",
        "    (objective_batch, objective_grad_batch, measures_batch, measures_grad_batch) = sphere(solution_batch)\n",
        "\n",
        "    objective_grad_batch = np.expand_dims(objective_grad_batch, axis=1)\n",
        "    jacobian_batch = np.concatenate((objective_grad_batch, measures_grad_batch), axis=1)\n",
        "    scheduler_mega.tell_dqd(objective_batch, measures_batch, jacobian_batch)\n",
        "\n",
        "    # ask-tell\n",
        "    solution_batch = scheduler_mega.ask()\n",
        "    objective_batch, _, measure_batch, _ = sphere(solution_batch)\n",
        "    scheduler_mega.tell(objective_batch, measure_batch)\n",
        "\n",
        "    # Logging and output every 500 iteration or on final iteration.\n",
        "    if itr % 500 == 0 or itr == itrs:\n",
        "        # Record and display metrics.\n",
        "        print(f\"Iteration {itr} | Archive Coverage: \"\n",
        "              f\"{result_archive_mega.stats.coverage * 100:.3f}% \"\n",
        "              f\"QD Score: {result_archive_mega.stats.qd_score:.3f}\")"
      ]
    },
    {
      "cell_type": "markdown",
      "id": "7a561d5d",
      "metadata": {
        "id": "7a561d5d"
      },
      "source": [
        "Notice that the CMA-MEGA fully explores the archive around 2000 iterations, which is way better than CMA-MAE. It also beats the QD score of CMA-MAE.\n",
        "\n",
        "Now, let's visualize the result archive."
      ]
    },
    {
      "cell_type": "code",
      "execution_count": 14,
      "id": "b4c30f8f",
      "metadata": {
        "id": "b4c30f8f",
        "outputId": "014f7388-21ca-4e63-9605-8b8fb381b2a1",
        "colab": {
          "base_uri": "https://localhost:8080/",
          "height": 473
        }
      },
      "outputs": [
        {
          "output_type": "execute_result",
          "data": {
            "text/plain": [
              "Text(0.5, 33.0, 'X')"
            ]
          },
          "metadata": {},
          "execution_count": 14
        },
        {
          "output_type": "display_data",
          "data": {
            "text/plain": [
              "<Figure size 576x432 with 2 Axes>"
            ],
            "image/png": "[encoded data removed]"
          },
          "metadata": {
            "needs_background": "light"
          }
        }
      ],
      "source": [
        "from ribs.visualize import grid_archive_heatmap\n",
        "\n",
        "plt.figure(figsize=(8, 6))\n",
        "grid_archive_heatmap(result_archive_mega, vmin=0, vmax=100)\n",
        "plt.tight_layout()\n",
        "plt.ylabel(\"Y\")\n",
        "plt.xlabel(\"X\")"
      ]
    }
  ],
  "metadata": {
    "kernelspec": {
      "display_name": "Python 3 (ipykernel)",
      "language": "python",
      "name": "python3"
    },
    "language_info": {
      "codemirror_mode": {
        "name": "ipython",
        "version": 3
      },
      "file_extension": ".py",
      "mimetype": "text/x-python",
      "name": "python",
      "nbconvert_exporter": "python",
      "pygments_lexer": "ipython3",
      "version": "3.9.12"
    },
    "colab": {
      "provenance": []
    }
  },
  "nbformat": 4,
  "nbformat_minor": 5
}