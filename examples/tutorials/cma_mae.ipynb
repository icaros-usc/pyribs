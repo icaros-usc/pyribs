{
  "cells": [
    {
      "cell_type": "markdown",
      "id": "69e0c236-9407-496f-be0d-9562f8191ce4",
      "metadata": {
        "id": "69e0c236-9407-496f-be0d-9562f8191ce4"
      },
      "source": [
        "# Covariance Matrix Adaptation MAP-Annealing (CMA-MAE) and Archive Thresholds\n",
        "\n",
        "**This tutorial assumes that you are familiar with Covariance Matrix Adaptation MAP-Elites (CMA-ME).** \n",
        "\n",
        "If you are not familiar with CMA-ME, we recommend reading through and playing around with the following tutorials:\n",
        "- [Using CMA-ME to Land a Lunar Lander Like a Space Shuttle](https://docs.pyribs.org/en/latest/tutorials/lunar_lander.html)\n",
        "- [Illuminating the Latent Space of an MNIST GAN](https://docs.pyribs.org/en/latest/tutorials/lsi_mnist.html)"
      ]
    },
    {
      "cell_type": "markdown",
      "id": "4e35386c",
      "metadata": {
        "id": "4e35386c"
      },
      "source": [
        "## Setup\n",
        "\n",
        "Firstly, let's import some utility libraries that we will use later."
      ]
    },
    {
      "cell_type": "code",
      "execution_count": null,
      "id": "dd6afd15",
      "metadata": {
        "id": "dd6afd15"
      },
      "outputs": [],
      "source": [
        "# Install latest pyribs (temporary for collab, remove after pip formula is updated)\n",
        "!git clone https://github.com/icaros-usc/pyribs.git\n",
        "!pip install ./pyribs\n",
        "\n",
        "import matplotlib.pyplot as plt\n",
        "import numpy as np"
      ]
    },
    {
      "cell_type": "markdown",
      "id": "e1900b33",
      "metadata": {
        "id": "e1900b33"
      },
      "source": [
        "Secondly, let's define **the sphere function and its gradients**.\n",
        "\n",
        "It is not important to understand the implementation of this method, but it is important to understand how this particular sphere function differs from the standard [sphere function](https://en.wikipedia.org/wiki/Sphere).\n",
        "\n",
        "The particular sphere function used in this example is adapted from Section 4 of [Fontaine 2020](https://arxiv.org/abs/1912.02400). Namely, each solution value is clipped to the range $[-5.12, 5.12]$, and the optimum is moved from $[0,..]$ to $[0.4 \\times 5.12 = 2.048,..]$. Furthermore, the objectives are normalized to the range $[0,100]$ where $100$ is the maximum and corresponds to $0$ on the original sphere function.\n",
        "\n",
        "There are two measures in this example. The first is the sum of the first $\\frac{n}{2}$ clipped values of the solution, and the second is the sum of the last $\\frac{n}{2}$ clipped values of the solution. Having each measure depend equally on several values in the solution space makes the problem more difficult (refer to [Fontaine 2020](https://arxiv.org/abs/1912.02400) for more information)."
      ]
    },
    {
      "cell_type": "code",
      "execution_count": null,
      "id": "8cb2801c",
      "metadata": {
        "id": "8cb2801c"
      },
      "outputs": [],
      "source": [
        "def sphere(solution_batch):\n",
        "  \"\"\"Sphere function evaluation and measures for a batch of solutions.\n",
        "\n",
        "  Args:\n",
        "      solution_batch (np.ndarray): (batch_size, dim) batch of solutions.\n",
        "  Returns:\n",
        "      objective_batch (np.ndarray): (batch_size,) batch of objectives.\n",
        "      measures_batch (np.ndarray): (batch_size, 2) batch of measures.\n",
        "  \"\"\"\n",
        "  dim = solution_batch.shape[1]\n",
        "\n",
        "  # Shift the Sphere function so that the optimal value is at x_i = 2.048.\n",
        "  sphere_shift = 5.12 * 0.4\n",
        "\n",
        "  # Normalize the objective to the range [0, 100] where 100 is optimal.\n",
        "  best_obj = 0.0\n",
        "  worst_obj = (-5.12 - sphere_shift)**2 * dim\n",
        "  raw_obj = np.sum(np.square(solution_batch - sphere_shift), axis=1)\n",
        "  objective_batch = (raw_obj - worst_obj) / (best_obj - worst_obj) * 100\n",
        "\n",
        "  # Compute gradient of the objective\n",
        "  objective_grad_batch = -2 * (solution_batch - sphere_shift)\n",
        "\n",
        "  # Calculate measures.\n",
        "  clipped = solution_batch.copy()\n",
        "  clip_indices = np.where(np.logical_or(clipped > 5.12, clipped < -5.12))\n",
        "  clipped[clip_indices] = 5.12 / clipped[clip_indices]\n",
        "  measures_batch = np.concatenate(\n",
        "      (\n",
        "          np.sum(clipped[:, :dim // 2], axis=1, keepdims=True),\n",
        "          np.sum(clipped[:, dim // 2:], axis=1, keepdims=True),\n",
        "      ),\n",
        "      axis=1,\n",
        "  )\n",
        "\n",
        "  # Compute gradient of the measures\n",
        "  derivatives = np.ones(solution_batch.shape)\n",
        "  derivatives[clip_indices] = -5.12 / np.square(solution_batch[clip_indices])\n",
        "\n",
        "  mask_0 = np.concatenate((np.ones(dim // 2), np.zeros(dim - dim // 2)))\n",
        "  mask_1 = np.concatenate((np.zeros(dim // 2), np.ones(dim - dim // 2)))\n",
        "\n",
        "  d_measure0 = derivatives * mask_0\n",
        "  d_measure1 = derivatives * mask_1\n",
        "\n",
        "  measures_grad_batch = np.stack((d_measure0, d_measure1), axis=1)\n",
        "\n",
        "  return (\n",
        "      objective_batch,\n",
        "      objective_grad_batch,\n",
        "      measures_batch,\n",
        "      measures_grad_batch,\n",
        "  )"
      ]
    },
    {
      "cell_type": "markdown",
      "source": [
        "## Overview of CMA-MAE\n",
        "\n",
        "After CMA-ME finds a high-objective solution, all subsequent solutions found in the same region will be neglected since they have much lower objective value. Consequently, CMA-ME will rapidly move away from a high-performing solution after discovering it.\n",
        "\n",
        "The intuition of CMA-MAE is that there could be value in discovering more solutions in a high-objective region. For instance, there could be even better solutions in the same region, but CMA-ME will move away from the region regardless if it does not discover a better solution in the next few iterations.\n",
        "\n",
        "CMA-MAE achieves this by using a threshold value (not the objective value) to determine whether a new solution is accepted by the archive. Formally, a new solution $\\theta'$ in cell $e$ is accepted to the archive if and only if $f(\\theta') > t_e$, where $t_e$ is the threshold of cell $e$, and $f(\\theta')$ computes the objective value of $\\theta'$. The improvement value of a solution is calculated as $$\\Delta = f(\\theta') - t_e.$$\n",
        "\n",
        "Furthermore, after $\\theta'$ is accepted to $e$, $t_e$ is updated according to the following equation $$t_e \\gets (1 - \\alpha) t_e + \\alpha f(\\theta')$$ where the constant $\\alpha$ denotes the learning rate.\n",
        "\n",
        "Notice that when $\\alpha = 1$, **CMA-MAE behaves like CMA-ME**, evaluating the quality of the solutions entirely based on the new objective values (an observation that [Fontaine 2022](https://arxiv.org/abs/2205.10752) discusses more formally).\n",
        "\n",
        "Using an example from the paper:\n",
        "> Consider discovering solutions in the same cell with objective value 100 in 5 consecutive iterations. The improvement values computed by CMA-ME would be 100, 0, 0, 0, 0, thus CMA-ME would move rapidly away from this cell. The improvement values computed by CMA-MAE with α = 0.5 would diminish smoothly as follows: 100, 50, 25, 12.5, 6.25, enabling further exploitation of the high-performing region.\n",
        "\n",
        "**For more details about CMA-MAE, please refer to [Fontaine 2022](https://arxiv.org/abs/2205.10752).**"
      ],
      "metadata": {
        "id": "-8bqAHnuJxRa"
      },
      "id": "-8bqAHnuJxRa"
    },
    {
      "cell_type": "markdown",
      "id": "ade59e92",
      "metadata": {
        "id": "ade59e92"
      },
      "source": [
        "## CMA-MAE with pyribs\n",
        "\n",
        "We will create an `GridArchive` using the following parameters. In particular, we use a learning rate of 0.01 and minimum threshold of 0.\n",
        "\n",
        "**Note that since solutions are accepted to the archive if and only if $f(\\theta') > t_e$, the initial threadhold of the archive (`threshold_min`) should be slightly smaller than the minimum objective value.**"
      ]
    },
    {
      "cell_type": "code",
      "execution_count": null,
      "id": "aa4e5b4d",
      "metadata": {
        "id": "aa4e5b4d"
      },
      "outputs": [],
      "source": [
        "from ribs.archives import GridArchive\n",
        "\n",
        "solution_dim = 100\n",
        "archive_dims = (100, 100)\n",
        "max_bound = solution_dim / 2 * 5.12\n",
        "bounds = [(-max_bound, max_bound), (-max_bound, max_bound)]\n",
        "learning_rate = 0.01\n",
        "\n",
        "archive = GridArchive(solution_dim=solution_dim,\n",
        "                      dims=archive_dims,\n",
        "                      ranges=bounds,\n",
        "                      learning_rate=learning_rate,\n",
        "                      threshold_min=0)"
      ]
    },
    {
      "cell_type": "markdown",
      "id": "79a7ac58",
      "metadata": {
        "id": "79a7ac58"
      },
      "source": [
        "Since solutions are added to the archive based on the cell's **threshold** rather than the cell's **objective**, it is possible for CMA-MAE to make backwards progress. Specifically, a solution's objective can exceed the cell's threshold value but not exceed the objective of the cell's current occupant, which results in overwriting the **better** solution.\n",
        "\n",
        "For this reason, CMA-MAE requires a separate **result archive** that keeps track of the best solutions encountered in each cell. Fortunately, this exactly the default behavior of `GridArchive`, with `learning_rate = 0` and `threashold_min=-inf`."
      ]
    },
    {
      "cell_type": "code",
      "execution_count": null,
      "id": "b1e4948b",
      "metadata": {
        "id": "b1e4948b"
      },
      "outputs": [],
      "source": [
        "result_archive = GridArchive(solution_dim=solution_dim,\n",
        "                             dims=archive_dims,\n",
        "                             ranges=bounds)"
      ]
    },
    {
      "cell_type": "markdown",
      "id": "294906d3",
      "metadata": {
        "id": "294906d3"
      },
      "source": [
        "CMA-MAE is based on CMA-ME. The original conception of CMA-MAE uses $15$ `EvolutionStrategyEmitter` as defined in the following cell.\n",
        "\n",
        "> We strongly encourage you to play around with the parameters of this emitter (i.e. `x0`, `sigma0`, `ranker`, `selection_rule`, `restart_rule`, and `batch_size`), or experiment with different combination of emitters (such as mixing different emitters together). The setup that we are using might not be optimal!"
      ]
    },
    {
      "cell_type": "code",
      "execution_count": null,
      "id": "beb8f299",
      "metadata": {
        "id": "beb8f299"
      },
      "outputs": [],
      "source": [
        "from ribs.emitters import EvolutionStrategyEmitter\n",
        "\n",
        "emitters = [\n",
        "    EvolutionStrategyEmitter(\n",
        "        archive,\n",
        "        x0=np.zeros(solution_dim),\n",
        "        sigma0=0.5,\n",
        "        ranker=\"imp\",\n",
        "        selection_rule=\"mu\",\n",
        "        restart_rule=\"basic\",\n",
        "        batch_size=36,\n",
        "    ) for _ in range(15)\n",
        "]"
      ]
    },
    {
      "cell_type": "markdown",
      "id": "1a1b940d",
      "metadata": {
        "id": "1a1b940d"
      },
      "source": [
        "Finally, we can create `Scheduler` with an additional parameter `result_archive`. The `Scheduler` class will be responsible for interacting with the `result_archive` so that it keeps track of the best solutions."
      ]
    },
    {
      "cell_type": "code",
      "execution_count": null,
      "id": "e5c4f108",
      "metadata": {
        "id": "e5c4f108"
      },
      "outputs": [],
      "source": [
        "from ribs.schedulers import Scheduler\n",
        "\n",
        "scheduler = Scheduler(archive, emitters, result_archive=result_archive)"
      ]
    },
    {
      "cell_type": "markdown",
      "id": "f8a30983",
      "metadata": {
        "id": "f8a30983"
      },
      "source": [
        "## Running the CMA-MAE (~ 5 minutes on Google Colab)\n",
        "\n",
        "Now we can finally run CMA-MAE!\n",
        "\n",
        "We will run it for 10000 iterations to be consistent with the experiments in [Fontaine 2022](https://arxiv.org/abs/2205.10752)."
      ]
    },
    {
      "cell_type": "code",
      "execution_count": null,
      "id": "9bf03e8d",
      "metadata": {
        "id": "9bf03e8d",
        "outputId": "c89a1865-76df-4b27-8225-2afefffa151d",
        "colab": {
          "base_uri": "https://localhost:8080/"
        }
      },
      "outputs": [
        {
          "output_type": "stream",
          "name": "stdout",
          "text": [
            "Iteration 500 | Archive Coverage: 53.630% QD Score: 439021.985\n",
            "Iteration 1000 | Archive Coverage: 66.430% QD Score: 517618.476\n",
            "Iteration 1500 | Archive Coverage: 70.680% QD Score: 547698.036\n",
            "Iteration 2000 | Archive Coverage: 73.950% QD Score: 568704.698\n",
            "Iteration 2500 | Archive Coverage: 77.090% QD Score: 585512.094\n",
            "Iteration 3000 | Archive Coverage: 78.130% QD Score: 595523.518\n",
            "Iteration 3500 | Archive Coverage: 78.480% QD Score: 602159.817\n",
            "Iteration 4000 | Archive Coverage: 78.880% QD Score: 607399.249\n",
            "Iteration 4500 | Archive Coverage: 79.360% QD Score: 612947.902\n",
            "Iteration 5000 | Archive Coverage: 79.490% QD Score: 615582.957\n",
            "Iteration 5500 | Archive Coverage: 79.610% QD Score: 618099.951\n",
            "Iteration 6000 | Archive Coverage: 79.710% QD Score: 619972.918\n",
            "Iteration 6500 | Archive Coverage: 79.760% QD Score: 621449.473\n",
            "Iteration 7000 | Archive Coverage: 79.990% QD Score: 624451.330\n",
            "Iteration 7500 | Archive Coverage: 80.260% QD Score: 626099.604\n",
            "Iteration 8000 | Archive Coverage: 80.300% QD Score: 627056.704\n",
            "Iteration 8500 | Archive Coverage: 80.510% QD Score: 629307.250\n",
            "Iteration 9000 | Archive Coverage: 80.520% QD Score: 629853.805\n",
            "Iteration 9500 | Archive Coverage: 80.520% QD Score: 630209.583\n",
            "Iteration 10000 | Archive Coverage: 80.660% QD Score: 631369.398\n"
          ]
        }
      ],
      "source": [
        "itrs = 10_000\n",
        "\n",
        "for itr in range(1, itrs + 1):\n",
        "  solution_batch = scheduler.ask()\n",
        "  objective_batch, _, measure_batch, _ = sphere(solution_batch)\n",
        "  scheduler.tell(objective_batch, measure_batch)\n",
        "\n",
        "  # Output progress every 500 iteration or on the final iteration.\n",
        "  if itr % 500 == 0 or itr == itrs:\n",
        "    normalized_qd_score = result_archive.stats.qd_score / result_archive.cells\n",
        "    coverage_percentage = result_archive.stats.coverage * 100\n",
        "    print(f\"Iteration {itr} | Archive Coverage: {coverage_percentage:.3f}% \"\n",
        "          f\"Normalized QD Score: {normalized_qd_score:.3f}\")"
      ]
    },
    {
      "cell_type": "markdown",
      "id": "17207b65",
      "metadata": {
        "id": "17207b65"
      },
      "source": [
        "## Visualization\n",
        "\n",
        "As usual, we will visualize the archive using `grid_archive_heatmap`."
      ]
    },
    {
      "cell_type": "code",
      "execution_count": null,
      "id": "dc5cb17c",
      "metadata": {
        "scrolled": true,
        "id": "dc5cb17c",
        "outputId": "71d43642-67a8-4d50-b969-6538f7d9cdeb",
        "colab": {
          "base_uri": "https://localhost:8080/",
          "height": 473
        }
      },
      "outputs": [
        {
          "output_type": "execute_result",
          "data": {
            "text/plain": [
              "Text(0.5, 33.0, 'X')"
            ]
          },
          "metadata": {},
          "execution_count": 11
        },
        {
          "output_type": "display_data",
          "data": {
            "text/plain": [
              "<Figure size 576x432 with 2 Axes>"
            ],
            "image/png": "[encoded data removed]"
          },
          "metadata": {
            "needs_background": "light"
          }
        }
      ],
      "source": [
        "from ribs.visualize import grid_archive_heatmap\n",
        "\n",
        "plt.figure(figsize=(8, 6))\n",
        "grid_archive_heatmap(result_archive, vmin=0, vmax=100)\n",
        "plt.tight_layout()\n",
        "plt.ylabel(\"Y\")\n",
        "plt.xlabel(\"X\")"
      ]
    },
    {
      "cell_type": "markdown",
      "source": [
        "## Exploring the Effect of Learning Rate $\\alpha$\n",
        "\n",
        "In the previous section, we explored CMA-MAE using $\\alpha = 0.01$, but what about other settings of $\\alpha$?\n",
        "\n",
        "In this section, we explore how different learning rate effects CMA-MAE on the sphere function.\n",
        "\n",
        "We will first encapsulate the procedure of creating a scheduler with some `learning_rate` in a method."
      ],
      "metadata": {
        "id": "8jizIZfWjYT0"
      },
      "id": "8jizIZfWjYT0"
    },
    {
      "cell_type": "code",
      "source": [
        "def create_scheduler(learning_rate):\n",
        "  solution_dim = 100\n",
        "  archive_dims = (100, 100)\n",
        "  max_bound = solution_dim / 2 * 5.12\n",
        "  bounds = [(-max_bound, max_bound), (-max_bound, max_bound)]\n",
        "\n",
        "  archive = GridArchive(solution_dim=solution_dim,\n",
        "                        dims=archive_dims,\n",
        "                        ranges=bounds,\n",
        "                        learning_rate=learning_rate,\n",
        "                        threshold_min=0)\n",
        "\n",
        "  result_archive = GridArchive(solution_dim=solution_dim,\n",
        "                               dims=archive_dims,\n",
        "                               ranges=bounds)\n",
        "\n",
        "  emitters = [\n",
        "      EvolutionStrategyEmitter(\n",
        "          archive,\n",
        "          x0=np.zeros(solution_dim),\n",
        "          sigma0=0.5,\n",
        "          ranker=\"imp\",\n",
        "          selection_rule=\"mu\",\n",
        "          restart_rule=\"basic\",\n",
        "          batch_size=36,\n",
        "      ) for _ in range(15)\n",
        "  ]\n",
        "  \n",
        "  return Scheduler(archive, emitters, result_archive=result_archive)"
      ],
      "metadata": {
        "id": "FN3RMtPLnSr5"
      },
      "id": "FN3RMtPLnSr5",
      "execution_count": null,
      "outputs": []
    },
    {
      "cell_type": "markdown",
      "source": [
        "Then, we will run the experiments with various learning rates while keeping track of the performance (normalized QD score and archive coverage) for each learning rate. **This took 13 minutes on Google Colab.**\n",
        "\n",
        "> Note that the iterations is adjusted from `10000` to `5000` to save time."
      ],
      "metadata": {
        "id": "t0LABtIuqS7a"
      },
      "id": "t0LABtIuqS7a"
    },
    {
      "cell_type": "code",
      "source": [
        "from ribs.archives import GridArchive\n",
        "from ribs.emitters import EvolutionStrategyEmitter\n",
        "from ribs.schedulers import Scheduler\n",
        "\n",
        "# The learning rates that we run CMA-MAE with.\n",
        "learning_rates = [0, 0.001, 0.01, 0.1, 1]\n",
        "\n",
        "# Run for 5000 iterations.\n",
        "itrs = 5000\n",
        "\n",
        "# Tracks the metrics of all the experiments.\n",
        "all_metrics = {}\n",
        "\n",
        "for learning_rate in learning_rates:\n",
        "  # Create scheduler\n",
        "  scheduler = create_scheduler(learning_rate)\n",
        "  result_archive = scheduler.result_archive\n",
        "\n",
        "  metrics = {\n",
        "    \"Normalized QD Score\": {\n",
        "        \"x\": [0],\n",
        "        \"y\": [0.0],\n",
        "    },\n",
        "    \"Archive Coverage\": {\n",
        "        \"x\": [0],\n",
        "        \"y\": [0.0],\n",
        "    },\n",
        "  }\n",
        "\n",
        "  print(f\"Running CMA-MAE with learning_rate = {learning_rate}\")\n",
        "  for itr in range(1, itrs + 1):\n",
        "    solution_batch = scheduler.ask()\n",
        "    objective_batch, _, measure_batch, _ = sphere(solution_batch)\n",
        "    scheduler.tell(objective_batch, measure_batch)\n",
        "\n",
        "    # Output and record metrics every 250 iteration or on the final iteration.\n",
        "    if itr % 250 == 0 or itr == itrs:\n",
        "      normalized_qd_score = result_archive.stats.qd_score / result_archive.cells\n",
        "      coverage_percentage = result_archive.stats.coverage * 100\n",
        "      print(f\"Iteration {itr} | Archive Coverage: {coverage_percentage:.3f}% \"\n",
        "            f\"Normalized QD Score: {normalized_qd_score:.3f}\")\n",
        "      \n",
        "      metrics[\"Normalized QD Score\"][\"x\"].append(itr)\n",
        "      metrics[\"Normalized QD Score\"][\"y\"].append(normalized_qd_score)\n",
        "      metrics[\"Archive Coverage\"][\"x\"].append(itr)\n",
        "      metrics[\"Archive Coverage\"][\"y\"].append(coverage_percentage)\n",
        "  \n",
        "  all_metrics[learning_rate] = metrics\n"
      ],
      "metadata": {
        "colab": {
          "base_uri": "https://localhost:8080/"
        },
        "id": "gU2ngZ8PjgEs",
        "outputId": "57dad911-4513-46ac-8841-79f3a297ac72"
      },
      "id": "gU2ngZ8PjgEs",
      "execution_count": null,
      "outputs": [
        {
          "output_type": "stream",
          "name": "stdout",
          "text": [
            "Running CMA-MAE with learning_rate = 0\n",
            "Iteration 250 | Archive Coverage: 3.250% Normalized QD Score: 3.140\n",
            "Iteration 500 | Archive Coverage: 3.250% Normalized QD Score: 3.140\n",
            "Iteration 750 | Archive Coverage: 3.590% Normalized QD Score: 3.470\n",
            "Iteration 1000 | Archive Coverage: 3.590% Normalized QD Score: 3.470\n",
            "Iteration 1250 | Archive Coverage: 3.900% Normalized QD Score: 3.768\n",
            "Iteration 1500 | Archive Coverage: 4.010% Normalized QD Score: 3.874\n",
            "Iteration 1750 | Archive Coverage: 4.050% Normalized QD Score: 3.913\n",
            "Iteration 2000 | Archive Coverage: 4.530% Normalized QD Score: 4.376\n",
            "Iteration 2250 | Archive Coverage: 4.530% Normalized QD Score: 4.376\n",
            "Iteration 2500 | Archive Coverage: 4.750% Normalized QD Score: 4.581\n",
            "Iteration 2750 | Archive Coverage: 4.750% Normalized QD Score: 4.581\n",
            "Iteration 3000 | Archive Coverage: 4.940% Normalized QD Score: 4.759\n",
            "Iteration 3250 | Archive Coverage: 5.220% Normalized QD Score: 5.028\n",
            "Iteration 3500 | Archive Coverage: 5.220% Normalized QD Score: 5.028\n",
            "Iteration 3750 | Archive Coverage: 5.300% Normalized QD Score: 5.105\n",
            "Iteration 4000 | Archive Coverage: 5.300% Normalized QD Score: 5.105\n",
            "Iteration 4250 | Archive Coverage: 5.350% Normalized QD Score: 5.152\n",
            "Iteration 4500 | Archive Coverage: 5.350% Normalized QD Score: 5.152\n",
            "Iteration 4750 | Archive Coverage: 5.350% Normalized QD Score: 5.152\n",
            "Iteration 5000 | Archive Coverage: 5.550% Normalized QD Score: 5.339\n",
            "Running CMA-MAE with learning_rate = 0.001\n",
            "Iteration 250 | Archive Coverage: 22.380% Normalized QD Score: 21.150\n",
            "Iteration 500 | Archive Coverage: 31.620% Normalized QD Score: 29.302\n",
            "Iteration 750 | Archive Coverage: 34.950% Normalized QD Score: 32.184\n",
            "Iteration 1000 | Archive Coverage: 39.920% Normalized QD Score: 36.315\n",
            "Iteration 1250 | Archive Coverage: 42.490% Normalized QD Score: 38.379\n",
            "Iteration 1500 | Archive Coverage: 45.690% Normalized QD Score: 40.857\n",
            "Iteration 1750 | Archive Coverage: 49.400% Normalized QD Score: 43.641\n",
            "Iteration 2000 | Archive Coverage: 51.590% Normalized QD Score: 45.231\n",
            "Iteration 2250 | Archive Coverage: 54.040% Normalized QD Score: 46.991\n",
            "Iteration 2500 | Archive Coverage: 57.280% Normalized QD Score: 49.233\n",
            "Iteration 2750 | Archive Coverage: 58.440% Normalized QD Score: 50.037\n",
            "Iteration 3000 | Archive Coverage: 61.020% Normalized QD Score: 51.711\n",
            "Iteration 3250 | Archive Coverage: 62.230% Normalized QD Score: 52.496\n",
            "Iteration 3500 | Archive Coverage: 62.880% Normalized QD Score: 52.914\n",
            "Iteration 3750 | Archive Coverage: 64.020% Normalized QD Score: 53.661\n",
            "Iteration 4000 | Archive Coverage: 65.140% Normalized QD Score: 54.344\n",
            "Iteration 4250 | Archive Coverage: 66.460% Normalized QD Score: 55.168\n",
            "Iteration 4500 | Archive Coverage: 67.530% Normalized QD Score: 55.807\n",
            "Iteration 4750 | Archive Coverage: 68.980% Normalized QD Score: 56.636\n",
            "Iteration 5000 | Archive Coverage: 70.920% Normalized QD Score: 57.724\n",
            "Running CMA-MAE with learning_rate = 0.01\n",
            "Iteration 250 | Archive Coverage: 37.910% Normalized QD Score: 32.943\n",
            "Iteration 500 | Archive Coverage: 49.890% Normalized QD Score: 41.649\n",
            "Iteration 750 | Archive Coverage: 58.810% Normalized QD Score: 47.151\n",
            "Iteration 1000 | Archive Coverage: 64.540% Normalized QD Score: 50.660\n",
            "Iteration 1250 | Archive Coverage: 68.660% Normalized QD Score: 52.985\n",
            "Iteration 1500 | Archive Coverage: 71.260% Normalized QD Score: 54.486\n",
            "Iteration 1750 | Archive Coverage: 73.310% Normalized QD Score: 55.916\n",
            "Iteration 2000 | Archive Coverage: 74.070% Normalized QD Score: 56.735\n",
            "Iteration 2250 | Archive Coverage: 74.990% Normalized QD Score: 57.568\n",
            "Iteration 2500 | Archive Coverage: 75.890% Normalized QD Score: 58.125\n",
            "Iteration 2750 | Archive Coverage: 76.210% Normalized QD Score: 58.546\n",
            "Iteration 3000 | Archive Coverage: 76.550% Normalized QD Score: 58.984\n",
            "Iteration 3250 | Archive Coverage: 77.040% Normalized QD Score: 59.477\n",
            "Iteration 3500 | Archive Coverage: 77.840% Normalized QD Score: 60.081\n",
            "Iteration 3750 | Archive Coverage: 77.910% Normalized QD Score: 60.297\n",
            "Iteration 4000 | Archive Coverage: 77.990% Normalized QD Score: 60.513\n",
            "Iteration 4250 | Archive Coverage: 78.430% Normalized QD Score: 60.781\n",
            "Iteration 4500 | Archive Coverage: 78.900% Normalized QD Score: 61.063\n",
            "Iteration 4750 | Archive Coverage: 79.240% Normalized QD Score: 61.349\n",
            "Iteration 5000 | Archive Coverage: 79.400% Normalized QD Score: 61.547\n",
            "Running CMA-MAE with learning_rate = 0.1\n",
            "Iteration 250 | Archive Coverage: 50.440% Normalized QD Score: 38.683\n",
            "Iteration 500 | Archive Coverage: 61.300% Normalized QD Score: 46.495\n",
            "Iteration 750 | Archive Coverage: 64.500% Normalized QD Score: 50.220\n",
            "Iteration 1000 | Archive Coverage: 66.100% Normalized QD Score: 52.220\n",
            "Iteration 1250 | Archive Coverage: 69.200% Normalized QD Score: 54.636\n",
            "Iteration 1500 | Archive Coverage: 70.780% Normalized QD Score: 55.892\n",
            "Iteration 1750 | Archive Coverage: 71.140% Normalized QD Score: 56.454\n",
            "Iteration 2000 | Archive Coverage: 71.440% Normalized QD Score: 56.852\n",
            "Iteration 2250 | Archive Coverage: 72.030% Normalized QD Score: 57.374\n",
            "Iteration 2500 | Archive Coverage: 72.260% Normalized QD Score: 57.598\n",
            "Iteration 2750 | Archive Coverage: 72.520% Normalized QD Score: 57.861\n",
            "Iteration 3000 | Archive Coverage: 72.730% Normalized QD Score: 58.079\n",
            "Iteration 3250 | Archive Coverage: 73.100% Normalized QD Score: 58.432\n",
            "Iteration 3500 | Archive Coverage: 73.490% Normalized QD Score: 58.736\n",
            "Iteration 3750 | Archive Coverage: 73.530% Normalized QD Score: 58.785\n",
            "Iteration 4000 | Archive Coverage: 73.530% Normalized QD Score: 58.788\n",
            "Iteration 4250 | Archive Coverage: 73.530% Normalized QD Score: 58.789\n",
            "Iteration 4500 | Archive Coverage: 73.530% Normalized QD Score: 58.789\n",
            "Iteration 4750 | Archive Coverage: 73.530% Normalized QD Score: 58.789\n",
            "Iteration 5000 | Archive Coverage: 73.530% Normalized QD Score: 58.789\n",
            "Running CMA-MAE with learning_rate = 1\n",
            "Iteration 250 | Archive Coverage: 38.950% Normalized QD Score: 33.240\n",
            "Iteration 500 | Archive Coverage: 44.270% Normalized QD Score: 37.465\n",
            "Iteration 750 | Archive Coverage: 44.270% Normalized QD Score: 37.542\n",
            "Iteration 1000 | Archive Coverage: 44.270% Normalized QD Score: 37.548\n",
            "Iteration 1250 | Archive Coverage: 44.270% Normalized QD Score: 37.552\n",
            "Iteration 1500 | Archive Coverage: 44.270% Normalized QD Score: 37.553\n",
            "Iteration 1750 | Archive Coverage: 44.270% Normalized QD Score: 37.553\n",
            "Iteration 2000 | Archive Coverage: 44.270% Normalized QD Score: 37.553\n",
            "Iteration 2250 | Archive Coverage: 44.270% Normalized QD Score: 37.553\n",
            "Iteration 2500 | Archive Coverage: 44.270% Normalized QD Score: 37.553\n",
            "Iteration 2750 | Archive Coverage: 44.270% Normalized QD Score: 37.553\n",
            "Iteration 3000 | Archive Coverage: 44.270% Normalized QD Score: 37.553\n",
            "Iteration 3250 | Archive Coverage: 44.270% Normalized QD Score: 37.553\n",
            "Iteration 3500 | Archive Coverage: 44.270% Normalized QD Score: 37.553\n",
            "Iteration 3750 | Archive Coverage: 44.270% Normalized QD Score: 37.553\n",
            "Iteration 4000 | Archive Coverage: 44.270% Normalized QD Score: 37.553\n",
            "Iteration 4250 | Archive Coverage: 44.270% Normalized QD Score: 37.553\n",
            "Iteration 4500 | Archive Coverage: 44.270% Normalized QD Score: 37.553\n",
            "Iteration 4750 | Archive Coverage: 44.270% Normalized QD Score: 37.553\n",
            "Iteration 5000 | Archive Coverage: 44.270% Normalized QD Score: 37.553\n"
          ]
        }
      ]
    },
    {
      "cell_type": "markdown",
      "source": [
        "Now, we can plot the metrics for each learning rate with `matplotlib`."
      ],
      "metadata": {
        "id": "C-FL-5syqpCy"
      },
      "id": "C-FL-5syqpCy"
    },
    {
      "cell_type": "code",
      "source": [
        "for learning_rate in learning_rates:\n",
        "  metrics = all_metrics[learning_rate]\n",
        "  plt.plot(metrics[\"Normalized QD Score\"][\"x\"], metrics[\"Normalized QD Score\"][\"y\"])\n",
        "  plt.title(\"Normalized QD Score of CMA-MAE at Various Learning Rates\")\n",
        "  plt.xlabel(\"Iteration\")\n",
        "  plt.ylabel(\"Normalized QD Score\")\n",
        "plt.legend(learning_rates, title=\"learning rate\")\n",
        "plt.show()"
      ],
      "metadata": {
        "colab": {
          "base_uri": "https://localhost:8080/",
          "height": 295
        },
        "id": "V4WxUyt5t0rJ",
        "outputId": "13d9b9b4-972b-4c72-8311-a88724ddb230"
      },
      "id": "V4WxUyt5t0rJ",
      "execution_count": null,
      "outputs": [
        {
          "output_type": "display_data",
          "data": {
            "text/plain": [
              "<Figure size 432x288 with 1 Axes>"
            ],
            "image/png": "[encoded data removed]"
          },
          "metadata": {
            "needs_background": "light"
          }
        }
      ]
    },
    {
      "cell_type": "code",
      "source": [
        "for learning_rate in learning_rates:\n",
        "  metrics = all_metrics[learning_rate]\n",
        "  plt.plot(metrics[\"Archive Coverage\"][\"x\"], metrics[\"Archive Coverage\"][\"y\"])\n",
        "  plt.title(\"Archive Coverage of CMA-MAE at Various Learning Rates\")\n",
        "  plt.xlabel(\"Iteration\")\n",
        "  plt.ylabel(\"Archive Coverage (%)\")\n",
        "plt.legend(learning_rates, title=\"learning rate\")\n",
        "plt.show()"
      ],
      "metadata": {
        "colab": {
          "base_uri": "https://localhost:8080/",
          "height": 295
        },
        "id": "yuyAm-5rxMsJ",
        "outputId": "1741da9a-0b6a-440a-e30d-f3b992ff4797"
      },
      "id": "yuyAm-5rxMsJ",
      "execution_count": null,
      "outputs": [
        {
          "output_type": "display_data",
          "data": {
            "text/plain": [
              "<Figure size 432x288 with 1 Axes>"
            ],
            "image/png": "[encoded data removed]"
          },
          "metadata": {
            "needs_background": "light"
          }
        }
      ]
    },
    {
      "cell_type": "markdown",
      "source": [
        "From the plots, we observe the following\n",
        "- With learning rate 0, the algorithm makes no progress in exploring the archive, resulting in the lowest QD score.\n",
        "- With learning rate 1, the algorithm stops making progress after around 500 iterations (recall that this is the behavior of CMA-ME).\n",
        "- With learning rate 0.001, the algorithm falls behind CMA-ME but consistently makes progress in exploring the archive, eventually surpassing CMA-ME at around 1500 iterations.\n",
        "- With learning rate 0.01 and 0.1, the algorithm makes quick progress, surpassing the performance of all other learning rate settings.\n",
        "\n",
        "Finally, from this experiment we observe that learning rate 0.01 is more optimal for the sphere function as the number of iteration increases."
      ],
      "metadata": {
        "id": "0Lw3Bh7zxsug"
      },
      "id": "0Lw3Bh7zxsug"
    },
    {
      "cell_type": "markdown",
      "id": "7ead18d0",
      "metadata": {
        "id": "7ead18d0"
      },
      "source": [
        "# Extension: CMA-MAEGA with pyribs\n",
        "\n",
        "CMA-MAEGA, proposed in the same paper as CMA-MAE, is a variant of CMA-MAE that combines archive threshold with Covariance Matrix Adaptation MAP-Elites via a Gradient Arborescence (CMA-MEGA).\n",
        "\n",
        "> For more details on CMA-MEGA, please refer to [Fontaine 21](https://arxiv.org/abs/2106.03894)\n",
        "\n",
        "We can easily implement this algorithm by replacing `EvolutionStrategyEmitter` with `GradientArborescenceEmitter` in CMA-MAE."
      ]
    },
    {
      "cell_type": "code",
      "execution_count": null,
      "id": "37a9ef3e",
      "metadata": {
        "id": "37a9ef3e"
      },
      "outputs": [],
      "source": [
        "from ribs.archives import GridArchive\n",
        "from ribs.emitters import GradientArborescenceEmitter\n",
        "from ribs.schedulers import Scheduler\n",
        "\n",
        "solution_dim = 100\n",
        "archive_dims = (100, 100)\n",
        "max_bound = solution_dim / 2 * 5.12\n",
        "bounds = [(-max_bound, max_bound), (-max_bound, max_bound)]\n",
        "learning_rate = 0.01\n",
        "\n",
        "archive = GridArchive(solution_dim=solution_dim,\n",
        "                      dims=archive_dims,\n",
        "                      ranges=bounds,\n",
        "                      learning_rate=learning_rate,\n",
        "                      threshold_min=0)\n",
        "\n",
        "result_archive = GridArchive(solution_dim=solution_dim,\n",
        "                             dims=archive_dims,\n",
        "                             ranges=bounds)\n",
        "\n",
        "# Use GradientArborescenceEmitter instead of EvolutionStrategyEmitter.\n",
        "emitters = [\n",
        "    GradientArborescenceEmitter(\n",
        "        archive,\n",
        "        x0=np.zeros(solution_dim),\n",
        "        sigma0=10.0,\n",
        "        step_size=1.0,\n",
        "        ranker=\"imp\",\n",
        "        grad_opt=\"gradient_ascent\",\n",
        "        restart_rule=\"basic\",\n",
        "        bounds=None,\n",
        "        batch_size=36,\n",
        "    ) for _ in range(15)\n",
        "]\n",
        "\n",
        "scheduler = Scheduler(archive, emitters, result_archive=result_archive)"
      ]
    },
    {
      "cell_type": "markdown",
      "id": "243cbe3d",
      "metadata": {
        "id": "243cbe3d"
      },
      "source": [
        "We can run the algorithm in a similar fashion as CMA-MAE. Note that since `GradientArborescenceEmitter` uses gradient information of the objective function, we need to evaluate the gradient of the solutions returned by `ask_dqd` and pass the results to `tell_dqd`.\n"
      ]
    },
    {
      "cell_type": "code",
      "execution_count": null,
      "id": "843f0a78",
      "metadata": {
        "id": "843f0a78",
        "outputId": "29a04928-73b0-4042-9189-7eef6a0434f4",
        "colab": {
          "base_uri": "https://localhost:8080/"
        }
      },
      "outputs": [
        {
          "output_type": "stream",
          "name": "stdout",
          "text": [
            "Iteration 500 | Archive Coverage: 95.880% Normalized QD Score: 66.235\n",
            "Iteration 1000 | Archive Coverage: 98.970% Normalized QD Score: 74.971\n",
            "Iteration 1500 | Archive Coverage: 99.770% Normalized QD Score: 75.243\n",
            "Iteration 2000 | Archive Coverage: 99.950% Normalized QD Score: 75.309\n",
            "Iteration 2500 | Archive Coverage: 100.000% Normalized QD Score: 75.335\n",
            "Iteration 3000 | Archive Coverage: 100.000% Normalized QD Score: 75.344\n",
            "Iteration 3500 | Archive Coverage: 100.000% Normalized QD Score: 75.352\n",
            "Iteration 4000 | Archive Coverage: 100.000% Normalized QD Score: 75.357\n",
            "Iteration 4500 | Archive Coverage: 100.000% Normalized QD Score: 75.363\n"
          ]
        }
      ],
      "source": [
        "itrs = 4500\n",
        "\n",
        "for itr in range(1, itrs + 1):\n",
        "  # DQD ask-tell.\n",
        "  solution_batch = scheduler.ask_dqd()\n",
        "\n",
        "  (objective_batch, objective_grad_batch, measures_batch, measures_grad_batch) = sphere(solution_batch)\n",
        "\n",
        "  objective_grad_batch = np.expand_dims(objective_grad_batch, axis=1)\n",
        "  jacobian_batch = np.concatenate((objective_grad_batch, measures_grad_batch), axis=1)\n",
        "  scheduler.tell_dqd(objective_batch, measures_batch, jacobian_batch)\n",
        "\n",
        "  # ask-tell.\n",
        "  solution_batch = scheduler.ask()\n",
        "  objective_batch, _, measure_batch, _ = sphere(solution_batch)\n",
        "  scheduler.tell(objective_batch, measure_batch)\n",
        "\n",
        "  # Logging and output every 500 iteration or on final iteration.\n",
        "  if itr % 500 == 0 or itr == itrs:\n",
        "    normalized_qd_score = result_archive.stats.qd_score / result_archive.cells\n",
        "    coverage_percentage = result_archive.stats.coverage * 100\n",
        "    print(f\"Iteration {itr} | Archive Coverage: {coverage_percentage:.3f}% \"\n",
        "          f\"Normalized QD Score: {normalized_qd_score:.3f}\")"
      ]
    },
    {
      "cell_type": "markdown",
      "id": "7a561d5d",
      "metadata": {
        "id": "7a561d5d"
      },
      "source": [
        "Notice that the CMA-MEGA fully explores the archive around 2000 iterations, which is way better than CMA-MAE. It also beats the QD score of CMA-MAE.\n",
        "\n",
        "Now, let's visualize the result archive."
      ]
    },
    {
      "cell_type": "code",
      "execution_count": null,
      "id": "b4c30f8f",
      "metadata": {
        "id": "b4c30f8f",
        "outputId": "7ad7ce9a-8f44-47b0-d6eb-0571130fc43c",
        "colab": {
          "base_uri": "https://localhost:8080/",
          "height": 455
        }
      },
      "outputs": [
        {
          "output_type": "display_data",
          "data": {
            "text/plain": [
              "<Figure size 576x432 with 2 Axes>"
            ],
            "image/png": "[encoded data removed]"
          },
          "metadata": {
            "needs_background": "light"
          }
        }
      ],
      "source": [
        "from ribs.visualize import grid_archive_heatmap\n",
        "\n",
        "plt.figure(figsize=(8, 6))\n",
        "grid_archive_heatmap(result_archive, vmin=0, vmax=100)\n",
        "plt.tight_layout()\n",
        "plt.ylabel(\"Y\")\n",
        "plt.xlabel(\"X\")\n",
        "plt.show()"
      ]
    },
    {
      "cell_type": "markdown",
      "source": [
        "Although CMA-MAEGA completely blows CMA-MAE out of the way in terms of performance, unfortunately CMA-MAEGA is only useful in domain where gradient information is available."
      ],
      "metadata": {
        "id": "XpYGPcQo2uRb"
      },
      "id": "XpYGPcQo2uRb"
    }
  ],
  "metadata": {
    "kernelspec": {
      "display_name": "Python 3 (ipykernel)",
      "language": "python",
      "name": "python3"
    },
    "language_info": {
      "codemirror_mode": {
        "name": "ipython",
        "version": 3
      },
      "file_extension": ".py",
      "mimetype": "text/x-python",
      "name": "python",
      "nbconvert_exporter": "python",
      "pygments_lexer": "ipython3",
      "version": "3.9.12"
    },
    "colab": {
      "provenance": []
    }
  },
  "nbformat": 4,
  "nbformat_minor": 5
}