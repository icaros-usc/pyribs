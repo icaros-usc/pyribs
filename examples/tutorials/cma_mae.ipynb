{
 "cells": [
  {
   "cell_type": "markdown",
   "id": "69e0c236-9407-496f-be0d-9562f8191ce4",
   "metadata": {},
   "source": [
    "# CMA-MAE and Archive Thresholds\n",
    "\n",
    "Coming soon!"
   ]
  }
 ],
 "metadata": {
  "kernelspec": {
   "display_name": "Python 3 (ipykernel)",
   "language": "python",
   "name": "python3"
  },
  "language_info": {
   "codemirror_mode": {
    "name": "ipython",
    "version": 3
   },
   "file_extension": ".py",
   "mimetype": "text/x-python",
   "name": "python",
   "nbconvert_exporter": "python",
   "pygments_lexer": "ipython3",
   "version": "3.7.13"
  }
 },
 "nbformat": 4,
 "nbformat_minor": 5
}
