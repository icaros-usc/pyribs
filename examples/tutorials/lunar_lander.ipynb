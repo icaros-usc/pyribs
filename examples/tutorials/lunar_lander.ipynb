{
 "cells": [
  {
   "cell_type": "markdown",
   "metadata": {},
   "source": [
    "# Landing the Lunar Lander Like an Airplane with CMA-ME\n",
    "\n",
    "Within the [OpenAI Gym](https://gym.openai.com) toolkit, the [Lunar Lander](https://gym.openai.com/envs/LunarLander-v2/) is a task where an agent must control a spaceship to touch down gently within a goal zone near the bottom of the screen. Typically, agents in Lunar Lander take a direct approach, gently gliding straight down like this:"
   ]
  },
  {
   "cell_type": "code",
   "execution_count": 1,
   "metadata": {},
   "outputs": [
    {
     "data": {
      "image/jpeg": "[encoded data removed]",
      "text/html": [
       "\n",
       "        <iframe\n",
       "            width=\"560\"\n",
       "            height=\"315\"\n",
       "            src=\"https://www.youtube.com/embed/x6lw5GsJvjQ\"\n",
       "            frameborder=\"0\"\n",
       "            allowfullscreen\n",
       "        ></iframe>\n",
       "        "
      ],
      "text/plain": [
       "<IPython.lib.display.YouTubeVideo at 0x7fe75070d150>"
      ]
     },
     "execution_count": 1,
     "metadata": {},
     "output_type": "execute_result"
    }
   ],
   "source": [
    "# Credits to Ronny Restrepo\n",
    "# TODO: put up our own video\n",
    "from IPython.display import YouTubeVideo\n",
    "YouTubeVideo('x6lw5GsJvjQ', width=560, height=315)"
   ]
  },
  {
   "cell_type": "markdown",
   "metadata": {},
   "source": [
    "An approach like this nets an excellent reward (TODO), but Lunar Lander is already considered solved after a reward of 200. Are there any other ways to land a Lunar Lander that are less obvious and, frankly, more exciting? Of course 😉. For instance, we can land it like an airplane:"
   ]
  },
  {
   "cell_type": "code",
   "execution_count": 2,
   "metadata": {},
   "outputs": [
    {
     "data": {
      "image/jpeg": "[encoded data removed]",
      "text/html": [
       "\n",
       "        <iframe\n",
       "            width=\"560\"\n",
       "            height=\"315\"\n",
       "            src=\"https://www.youtube.com/embed/x6lw5GsJvjQ\"\n",
       "            frameborder=\"0\"\n",
       "            allowfullscreen\n",
       "        ></iframe>\n",
       "        "
      ],
      "text/plain": [
       "<IPython.lib.display.YouTubeVideo at 0x7fe7506ed8d0>"
      ]
     },
     "execution_count": 2,
     "metadata": {},
     "output_type": "execute_result"
    }
   ],
   "source": [
    "# TODO\n",
    "YouTubeVideo('x6lw5GsJvjQ', width=560, height=315)"
   ]
  },
  {
   "cell_type": "markdown",
   "metadata": {},
   "source": [
    "This trajectory gets (TODO) reward, meaning it still solves the task. In this tutorial, we will create trajectories like this and many others. To do so, we will use the pyribs implementation of CMA-ME."
   ]
  },
  {
   "cell_type": "markdown",
   "metadata": {},
   "source": [
    "## Setup\n",
    "\n",
    "First, we shall retrieve dependencies. We freeze our versions in order to make results reproducible. If this command updates or installs any dependencies, you may need to restart the kernel to make sure they are used."
   ]
  },
  {
   "cell_type": "code",
   "execution_count": 3,
   "metadata": {},
   "outputs": [
    {
     "name": "stdout",
     "output_type": "stream",
     "text": [
      "Requirement already satisfied: ribs[all] in /home/btjanaka/Resistance/usc/icaros/projects/pyribs/code (0.0.0)\n",
      "Requirement already satisfied: gym~=0.17.0 in /home/btjanaka/Resistance/usc/icaros/projects/pyribs/code/env/lib/python3.7/site-packages (0.17.3)\n",
      "Requirement already satisfied: Box2D~=2.3.10 in /home/btjanaka/Resistance/usc/icaros/projects/pyribs/code/env/lib/python3.7/site-packages (2.3.10)\n",
      "Requirement already satisfied: tqdm in /home/btjanaka/Resistance/usc/icaros/projects/pyribs/code/env/lib/python3.7/site-packages (4.54.1)\n",
      "Requirement already satisfied: numpy>=1.10.4 in /home/btjanaka/Resistance/usc/icaros/projects/pyribs/code/env/lib/python3.7/site-packages (from gym~=0.17.0) (1.19.4)\n",
      "Requirement already satisfied: pyglet<=1.5.0,>=1.4.0 in /home/btjanaka/Resistance/usc/icaros/projects/pyribs/code/env/lib/python3.7/site-packages (from gym~=0.17.0) (1.5.0)\n",
      "Requirement already satisfied: scipy in /home/btjanaka/Resistance/usc/icaros/projects/pyribs/code/env/lib/python3.7/site-packages (from gym~=0.17.0) (1.5.4)\n",
      "Requirement already satisfied: cloudpickle<1.7.0,>=1.2.0 in /home/btjanaka/Resistance/usc/icaros/projects/pyribs/code/env/lib/python3.7/site-packages (from gym~=0.17.0) (1.6.0)\n",
      "Requirement already satisfied: numpy>=1.10.4 in /home/btjanaka/Resistance/usc/icaros/projects/pyribs/code/env/lib/python3.7/site-packages (from gym~=0.17.0) (1.19.4)\n",
      "Requirement already satisfied: numba>=0.45.1 in /home/btjanaka/Resistance/usc/icaros/projects/pyribs/code/env/lib/python3.7/site-packages (from ribs[all]) (0.52.0)\n",
      "Requirement already satisfied: pandas>=1.0.0 in /home/btjanaka/Resistance/usc/icaros/projects/pyribs/code/env/lib/python3.7/site-packages (from ribs[all]) (1.1.4)\n",
      "Requirement already satisfied: toml>=0.10.0 in /home/btjanaka/Resistance/usc/icaros/projects/pyribs/code/env/lib/python3.7/site-packages (from ribs[all]) (0.10.2)\n",
      "Requirement already satisfied: sortedcontainers>=2.0.0 in /home/btjanaka/Resistance/usc/icaros/projects/pyribs/code/env/lib/python3.7/site-packages (from ribs[all]) (2.3.0)\n",
      "Requirement already satisfied: scikit-learn>=0.20 in /home/btjanaka/Resistance/usc/icaros/projects/pyribs/code/env/lib/python3.7/site-packages (from ribs[all]) (0.24.0)\n",
      "Requirement already satisfied: scipy in /home/btjanaka/Resistance/usc/icaros/projects/pyribs/code/env/lib/python3.7/site-packages (from gym~=0.17.0) (1.5.4)\n",
      "Requirement already satisfied: decorator>=4.0.0 in /home/btjanaka/Resistance/usc/icaros/projects/pyribs/code/env/lib/python3.7/site-packages (from ribs[all]) (4.4.2)\n",
      "Requirement already satisfied: matplotlib>=3.0.0 in /home/btjanaka/Resistance/usc/icaros/projects/pyribs/code/env/lib/python3.7/site-packages (from ribs[all]) (3.3.3)\n",
      "Requirement already satisfied: pillow>=6.2.0 in /home/btjanaka/Resistance/usc/icaros/projects/pyribs/code/env/lib/python3.7/site-packages (from matplotlib>=3.0.0->ribs[all]) (8.0.1)\n",
      "Requirement already satisfied: python-dateutil>=2.1 in /home/btjanaka/Resistance/usc/icaros/projects/pyribs/code/env/lib/python3.7/site-packages (from matplotlib>=3.0.0->ribs[all]) (2.8.1)\n",
      "Requirement already satisfied: pyparsing!=2.0.4,!=2.1.2,!=2.1.6,>=2.0.3 in /home/btjanaka/Resistance/usc/icaros/projects/pyribs/code/env/lib/python3.7/site-packages (from matplotlib>=3.0.0->ribs[all]) (2.4.7)\n",
      "Requirement already satisfied: kiwisolver>=1.0.1 in /home/btjanaka/Resistance/usc/icaros/projects/pyribs/code/env/lib/python3.7/site-packages (from matplotlib>=3.0.0->ribs[all]) (1.3.1)\n",
      "Requirement already satisfied: numpy>=1.10.4 in /home/btjanaka/Resistance/usc/icaros/projects/pyribs/code/env/lib/python3.7/site-packages (from gym~=0.17.0) (1.19.4)\n",
      "Requirement already satisfied: cycler>=0.10 in /home/btjanaka/Resistance/usc/icaros/projects/pyribs/code/env/lib/python3.7/site-packages (from matplotlib>=3.0.0->ribs[all]) (0.10.0)\n",
      "Requirement already satisfied: six in /home/btjanaka/Resistance/usc/icaros/projects/pyribs/code/env/lib/python3.7/site-packages (from cycler>=0.10->matplotlib>=3.0.0->ribs[all]) (1.15.0)\n",
      "Requirement already satisfied: numpy>=1.10.4 in /home/btjanaka/Resistance/usc/icaros/projects/pyribs/code/env/lib/python3.7/site-packages (from gym~=0.17.0) (1.19.4)\n",
      "Requirement already satisfied: llvmlite<0.36,>=0.35.0 in /home/btjanaka/Resistance/usc/icaros/projects/pyribs/code/env/lib/python3.7/site-packages (from numba>=0.45.1->ribs[all]) (0.35.0)\n",
      "Requirement already satisfied: setuptools in /home/btjanaka/Resistance/usc/icaros/projects/pyribs/code/env/lib/python3.7/site-packages (from numba>=0.45.1->ribs[all]) (49.6.0.post20201009)\n",
      "Requirement already satisfied: python-dateutil>=2.1 in /home/btjanaka/Resistance/usc/icaros/projects/pyribs/code/env/lib/python3.7/site-packages (from matplotlib>=3.0.0->ribs[all]) (2.8.1)\n",
      "Requirement already satisfied: numpy>=1.10.4 in /home/btjanaka/Resistance/usc/icaros/projects/pyribs/code/env/lib/python3.7/site-packages (from gym~=0.17.0) (1.19.4)\n",
      "Requirement already satisfied: pytz>=2017.2 in /home/btjanaka/Resistance/usc/icaros/projects/pyribs/code/env/lib/python3.7/site-packages (from pandas>=1.0.0->ribs[all]) (2020.4)\n",
      "Requirement already satisfied: future in /home/btjanaka/Resistance/usc/icaros/projects/pyribs/code/env/lib/python3.7/site-packages (from pyglet<=1.5.0,>=1.4.0->gym~=0.17.0) (0.18.2)\n",
      "Requirement already satisfied: six in /home/btjanaka/Resistance/usc/icaros/projects/pyribs/code/env/lib/python3.7/site-packages (from cycler>=0.10->matplotlib>=3.0.0->ribs[all]) (1.15.0)\n",
      "Requirement already satisfied: numpy>=1.10.4 in /home/btjanaka/Resistance/usc/icaros/projects/pyribs/code/env/lib/python3.7/site-packages (from gym~=0.17.0) (1.19.4)\n",
      "Requirement already satisfied: numba>=0.45.1 in /home/btjanaka/Resistance/usc/icaros/projects/pyribs/code/env/lib/python3.7/site-packages (from ribs[all]) (0.52.0)\n",
      "Requirement already satisfied: pandas>=1.0.0 in /home/btjanaka/Resistance/usc/icaros/projects/pyribs/code/env/lib/python3.7/site-packages (from ribs[all]) (1.1.4)\n",
      "Requirement already satisfied: toml>=0.10.0 in /home/btjanaka/Resistance/usc/icaros/projects/pyribs/code/env/lib/python3.7/site-packages (from ribs[all]) (0.10.2)\n",
      "Requirement already satisfied: sortedcontainers>=2.0.0 in /home/btjanaka/Resistance/usc/icaros/projects/pyribs/code/env/lib/python3.7/site-packages (from ribs[all]) (2.3.0)\n",
      "Requirement already satisfied: scikit-learn>=0.20 in /home/btjanaka/Resistance/usc/icaros/projects/pyribs/code/env/lib/python3.7/site-packages (from ribs[all]) (0.24.0)\n",
      "Requirement already satisfied: scipy in /home/btjanaka/Resistance/usc/icaros/projects/pyribs/code/env/lib/python3.7/site-packages (from gym~=0.17.0) (1.5.4)\n",
      "Requirement already satisfied: decorator>=4.0.0 in /home/btjanaka/Resistance/usc/icaros/projects/pyribs/code/env/lib/python3.7/site-packages (from ribs[all]) (4.4.2)\n",
      "Requirement already satisfied: scipy in /home/btjanaka/Resistance/usc/icaros/projects/pyribs/code/env/lib/python3.7/site-packages (from gym~=0.17.0) (1.5.4)\n",
      "Requirement already satisfied: joblib>=0.11 in /home/btjanaka/Resistance/usc/icaros/projects/pyribs/code/env/lib/python3.7/site-packages (from scikit-learn>=0.20->ribs[all]) (1.0.0)\n",
      "Requirement already satisfied: threadpoolctl>=2.0.0 in /home/btjanaka/Resistance/usc/icaros/projects/pyribs/code/env/lib/python3.7/site-packages (from scikit-learn>=0.20->ribs[all]) (2.1.0)\n",
      "Requirement already satisfied: numpy>=1.10.4 in /home/btjanaka/Resistance/usc/icaros/projects/pyribs/code/env/lib/python3.7/site-packages (from gym~=0.17.0) (1.19.4)\n",
      "Requirement already satisfied: numpy>=1.10.4 in /home/btjanaka/Resistance/usc/icaros/projects/pyribs/code/env/lib/python3.7/site-packages (from gym~=0.17.0) (1.19.4)\n",
      "Note: you may need to restart the kernel to use updated packages.\n"
     ]
    }
   ],
   "source": [
    "%pip install ribs[all] gym~=0.17.0 Box2D~=2.3.10 tqdm"
   ]
  },
  {
   "cell_type": "code",
   "execution_count": 4,
   "metadata": {},
   "outputs": [],
   "source": [
    "import time\n",
    "\n",
    "import gym\n",
    "import numpy as np\n",
    "import matplotlib.pyplot as plt\n",
    "import seaborn as sns  # TODO: use GridArchiveHeatmap\n",
    "from IPython.display import display, HTML\n",
    "from tqdm.notebook import tqdm\n",
    "\n",
    "from ribs.archives import GridArchive\n",
    "from ribs.emitters import ImprovementEmitter\n",
    "from ribs.optimizers import Optimizer"
   ]
  },
  {
   "cell_type": "markdown",
   "metadata": {},
   "source": [
    "## Lunar Lander Simulation\n",
    "\n",
    "TODO\n",
    "\n",
    "First, let's write a `simulate()` function to run a prospective solution in the `LunarLander-v2` environment. We'll get to how we generate these prospective solutions later.\n",
    "\n",
    "`simulate()` takes in a prospective solution (i.e. policy) and uses this policy to make the Lunar Lander take actions in the environment. After the simulation is completed, `simulate()` returns several things. It returns the sum of the rewards of all actions taken in the environment (i.e. `total_reward`), the final state of the environment (i.e. `obs`), and the number of timesteps it took for the simulation to run to completion (i.e. `timesteps`)."
   ]
  },
  {
   "cell_type": "code",
   "execution_count": 5,
   "metadata": {},
   "outputs": [],
   "source": [
    "def simulate(env, model, seed=None):\n",
    "    \"\"\"Simulates the lunar lander model and returns objective and BCs.\n",
    "\n",
    "    Args:\n",
    "        env (gym.Env):\n",
    "        model (np.ndarray):\n",
    "        seed (int):\n",
    "    Returns:\n",
    "        objective (float):\n",
    "        impact_x_pos (float):\n",
    "        impact_y_vel (float):\n",
    "    \"\"\"\n",
    "    # Seeding the environment ensures simulations are deterministic.\n",
    "    if seed is not None:\n",
    "        env.seed(seed)\n",
    "\n",
    "    action_dim = env.action_space.n\n",
    "    obs_dim = env.observation_space.shape[0]\n",
    "    model = model.reshape((action_dim, obs_dim))\n",
    "\n",
    "    objective = 0.0\n",
    "    timesteps = 0\n",
    "    obs = env.reset()\n",
    "    impact_x_pos = None\n",
    "    impact_y_vel = None\n",
    "    done = False\n",
    "\n",
    "    while not done:\n",
    "        action = np.argmax(model @ obs)  # Linear policy.\n",
    "        obs, reward, done, info = env.step(action)\n",
    "        objective += reward\n",
    "\n",
    "        # Refer to the definition of state here:\n",
    "        # https://github.com/openai/gym/blob/master/gym/envs/box2d/lunar_lander.py#L306\n",
    "        x_pos = obs[0]\n",
    "        y_vel = obs[3]\n",
    "        leg0_touch = bool(obs[6])\n",
    "        leg1_touch = bool(obs[7])\n",
    "\n",
    "        # Check if the lunar lander is impacting for the first time.\n",
    "        if impact_x_pos is None and (leg0_touch or leg1_touch):\n",
    "            impact_x_pos = x_pos\n",
    "            impact_y_vel = y_vel\n",
    "\n",
    "    # If the lunar lander did not land, set the y-vel and x-pos to the ones\n",
    "    # from the final timestep.\n",
    "    if impact_x_pos is None:\n",
    "        impact_x_pos = x_pos\n",
    "        impact_y_vel = y_vel\n",
    "\n",
    "    return objective, impact_x_pos, impact_y_vel"
   ]
  },
  {
   "cell_type": "markdown",
   "metadata": {},
   "source": [
    "## MAP-Elites with `ribs`\n",
    "\n",
    "`ribs` makes it easy to run the MAP-Elites algorithm to solve reinforcement learning problems. Let's run through  some basics before we apply `ribs` to solve the Lunar Lander problem."
   ]
  },
  {
   "cell_type": "markdown",
   "metadata": {},
   "source": [
    "### GridArchive\n",
    "\n",
    "`GridArchive` is a container class used to house the solutions generated by MAP-Elites. It is our map of elites. When constructing a `GridArchive`, you can specify its dimensions, the range of valid values in our behaviour space, and certain configuration settings. These configuration settings include a seed for getting random solutions in the archive to mutate, which is essential to MAP-Elites, and a batch size. This batch size is not important for `GridArchive` but it is important for `Optimizer`, which we'll discuss soon.\n",
    "\n",
    "In `train_model()`, you see we create an `archive = GridArchive((16, 16), [(0, 1000), (-1., 1.)], config=config)`. Let's break this down.\n",
    "\n",
    "- `(16, 16)` specifies that we are creating a 2D 16x16 container for solutions. 16x16 was chosen arbitrarily.\n",
    "\n",
    "- `[(0, 1000), (-1., 1.)]` specifies upper and lower bounds for each dimension of the behavior space. In the case of Lunar Lander, we want to consider timesteps and x-position of the Lunar Lander in the environment. According to OpenAI Gym documention, each simulation can take at least 0 timesteps and at most 1000 timesteps, so we specify `(0, 1000)`. Looking at `LunarLander-v2`'s source code, we find that the minimum x-position value for the lander is -1.0 and the maximum value is 1.0, so we specify `(-1., 1.)`.\n",
    "- `config` is a dictionary that specifies certain configuration settings. As stated previously, the only value that `GridArchive` uses is the seed. `config` will also later be passed into `Optimizer`, which we'll discuss soon.\n",
    "\n",
    "`GridArchive` has a method `as_pandas()` that returns the `GridArchive` as a `pandas` data frame."
   ]
  },
  {
   "cell_type": "markdown",
   "metadata": {},
   "source": [
    "### GaussianEmitter\n",
    "`GaussianEmitter` is the class that generates solutions to either store in `GridArchive` or discard. As the name implies, it uses a Gaussian distribution to generate/mutate solutions. \n",
    "\n",
    "In `train_model()`, we create `emitter = GaussianEmitter(np.zeros(action_dim * obs_dim), sigma, archive)`. Let's break this down by looking at `GaussianEmitter`'s constructor: `GaussianEmitter(x0, sigma0, archive, config=None)`\n",
    "\n",
    "- `x0` is the center of the Gaussian distribution to generate solutions from when the archive specified by `archive` is empty of solutions. \n",
    "- `sigma0` is the standard deviation of the Gaussian distribution. Here, we simply pass in the sigma value passed into `train_model()`.\n",
    "- `archive` specifies the archive to store solutions in. In this case, we pass in the `GridArchive` we created earlier.\n",
    "- `config` allows you to pass in configuration settings, including specifications for batch sizes. Here, we don't pass anything in because `GaussianEmitter`'s default batch size is 64, which works for us.\n",
    "\n",
    "`GaussianEmitter` has two functions. `ask()` generates a batch of new solutions, either a completely new solution sampled from a Gaussian distribution or a solution generated by mutating (i.e. adding Gaussian noise) an existing solution. `tell()` takes in a batch of solutions, along with their performance values and behavior characteristics, and adds them to the archive specified by `archive` by calling `archive.add()`. `archive.add()` will decide whether or not to store each new solution by comparing each new solution's objective value with their corresponding existing solution's objective value. If for a given new solution there is no corresponding existing solution, then the new solution is automatically stored. `Optimizer`, which we discuss next, takes care of calling `ask()` and `tell()` for you, so you don't need to worry about these details."
   ]
  },
  {
   "cell_type": "markdown",
   "metadata": {},
   "source": [
    "### Optimizer\n",
    "\n",
    "`Optimizer` is a class that uses emitters to generate batches of solutions. Then, after the feature/behavior description of each of these solutions have been found, `Optimizer` tells its emitters to store the solutions inside an archive.\n",
    "\n",
    "In `train_model()`, you see that we create `opt = Optimizer(archive, [emitter])`. This is pretty self-explanatory. `archive` is the archive we want our solutions to be stored in. In this case, we created earlier in `train_model()`. We also want to pass in a list of `Emitter`'s we want the `Optimizer` to ask to generate solutions. In our case, we pass in `[emitter]`, which is a list of `Emitter`s just containing the emitter we created earlier in `train_model()`. \n",
    "\n",
    "`Optimizer` has two methods `ask()` and `tell()`. `ask()` asks the `Optimizer`'s list of `Emitter`s to generate a batch of solutions. `tell()` tells the `Optimizer`'s list of `Emitter`s to store a batch of solutions in the archive specified upon the `Optimizer`'s creation. However, in order for the `Emitter`s to know where and if to store each solution in the archive, we have to pass in a couple of additional arguments into `tell()`. \n",
    "\n",
    "Specifically, `tell()` has the following arguments: `def tell(objective_values, behavior_values)`\n",
    "\n",
    "- `objective_values` is an array containing the objective function evaluations for each solution generated by the `Emitter`s we passed into this `Optimizer`. In `train_model()`, you can see we pass in `objs` for this argument. `objs` is a list of reward values derived by running the `simulate()` function described above on each individual solution.\n",
    "- `behavior_values` is a matrix of feature descriptions for each solution. Each row of `behavior_values` describes features of one solution, and these features are used as coordinates to store each solution into an archive. In `train_model()`, we pass in `bcs` as our `behavior_values` argument. The significance of `bcs` was discussed in an earlier section. Check above if you've forgotten.\n",
    "\n"
   ]
  },
  {
   "cell_type": "markdown",
   "metadata": {},
   "source": [
    "###  `train_model()`\n",
    "\n",
    "We've just gone over the core components of ribs that we'll be using to solve `LunarLander-v2`: `GridArchive`, `Gaussian_Emitter`, and `Optimizer`. Now, take a look at `train_model()` for how exactly we solve the problem."
   ]
  },
  {
   "cell_type": "code",
   "execution_count": 6,
   "metadata": {},
   "outputs": [],
   "source": [
    "env = gym.make(\"LunarLander-v2\")\n",
    "seed = 9\n",
    "action_dim = env.action_space.n\n",
    "obs_dim = env.observation_space.shape[0]\n",
    "initial_model = np.zeros((action_dim, obs_dim))\n",
    "\n",
    "archive = GridArchive([50, 50], [(-1.0, 1.0), (-3.0, 0.0)])\n",
    "emitters = [ImprovementEmitter(\n",
    "    archive,\n",
    "    initial_model.flatten(),\n",
    "    1.0,\n",
    ")]\n",
    "optimizer = Optimizer(archive, emitters)"
   ]
  },
  {
   "cell_type": "code",
   "execution_count": 7,
   "metadata": {},
   "outputs": [
    {
     "name": "stdout",
     "output_type": "stream",
     "text": [
      "14\n"
     ]
    }
   ],
   "source": [
    "print(emitters[0].batch_size)"
   ]
  },
  {
   "cell_type": "code",
   "execution_count": 8,
   "metadata": {},
   "outputs": [
    {
     "data": {
      "application/vnd.jupyter.widget-view+json": {
       "model_id": "5d12169467f947f18ab86353adfa5eb1",
       "version_major": 2,
       "version_minor": 0
      },
      "text/plain": [
       "HBox(children=(HTML(value=''), FloatProgress(value=0.0, max=3000.0), HTML(value='')))"
      ]
     },
     "metadata": {},
     "output_type": "display_data"
    },
    {
     "name": "stdout",
     "output_type": "stream",
     "text": [
      "> 50 itrs completed after 27.295958042144775 s\n",
      "  - Archive Size: 419\n",
      "  - QD Score: -70179.59770125906\n",
      "  - Max Score: 157.48248673761503\n",
      "> 100 itrs completed after 67.22021579742432 s\n",
      "  - Archive Size: 682\n",
      "  - QD Score: -104858.29941716642\n",
      "  - Max Score: 247.32204886461244\n",
      "> 150 itrs completed after 169.54919528961182 s\n",
      "  - Archive Size: 911\n",
      "  - QD Score: -125852.59571534388\n",
      "  - Max Score: 247.32204886461244\n",
      "> 200 itrs completed after 273.4124505519867 s\n",
      "  - Archive Size: 1006\n",
      "  - QD Score: -115183.1483561022\n",
      "  - Max Score: 268.1895758503091\n",
      "> 250 itrs completed after 292.679616689682 s\n",
      "  - Archive Size: 1026\n",
      "  - QD Score: -107367.30228757129\n",
      "  - Max Score: 268.1895758503091\n",
      "> 300 itrs completed after 332.821750164032 s\n",
      "  - Archive Size: 1175\n",
      "  - QD Score: -121922.94928831153\n",
      "  - Max Score: 268.1895758503091\n",
      "> 350 itrs completed after 370.8049178123474 s\n",
      "  - Archive Size: 1311\n",
      "  - QD Score: -131868.9711524942\n",
      "  - Max Score: 268.1895758503091\n",
      "> 400 itrs completed after 404.2994785308838 s\n",
      "  - Archive Size: 1349\n",
      "  - QD Score: -133379.29394596897\n",
      "  - Max Score: 268.1895758503091\n",
      "> 450 itrs completed after 439.2801537513733 s\n",
      "  - Archive Size: 1495\n",
      "  - QD Score: -154908.62093624458\n",
      "  - Max Score: 268.1895758503091\n",
      "> 500 itrs completed after 484.6773772239685 s\n",
      "  - Archive Size: 1711\n",
      "  - QD Score: -199340.76926774473\n",
      "  - Max Score: 268.1895758503091\n",
      "> 550 itrs completed after 521.5926220417023 s\n",
      "  - Archive Size: 1804\n",
      "  - QD Score: -217128.29797344888\n",
      "  - Max Score: 268.1895758503091\n",
      "> 600 itrs completed after 566.8458795547485 s\n",
      "  - Archive Size: 1964\n",
      "  - QD Score: -254578.7094599757\n",
      "  - Max Score: 268.1895758503091\n",
      "> 650 itrs completed after 617.6834652423859 s\n",
      "  - Archive Size: 2083\n",
      "  - QD Score: -278042.3448942242\n",
      "  - Max Score: 268.1895758503091\n",
      "> 700 itrs completed after 667.7365720272064 s\n",
      "  - Archive Size: 2180\n",
      "  - QD Score: -296106.86899638054\n",
      "  - Max Score: 268.1895758503091\n",
      "> 750 itrs completed after 711.5309636592865 s\n",
      "  - Archive Size: 2212\n",
      "  - QD Score: -299282.67288897635\n",
      "  - Max Score: 268.1895758503091\n",
      "> 800 itrs completed after 736.9308652877808 s\n",
      "  - Archive Size: 2247\n",
      "  - QD Score: -302814.587058232\n",
      "  - Max Score: 268.1895758503091\n",
      "> 850 itrs completed after 814.056813955307 s\n",
      "  - Archive Size: 2265\n",
      "  - QD Score: -284901.6649121851\n",
      "  - Max Score: 272.6547388735106\n",
      "> 900 itrs completed after 964.5530319213867 s\n",
      "  - Archive Size: 2281\n",
      "  - QD Score: -263997.27334996324\n",
      "  - Max Score: 274.42505538468595\n",
      "> 950 itrs completed after 1001.2251963615417 s\n",
      "  - Archive Size: 2350\n",
      "  - QD Score: -270767.32591581607\n",
      "  - Max Score: 274.42505538468595\n",
      "> 1000 itrs completed after 1027.344382762909 s\n",
      "  - Archive Size: 2365\n",
      "  - QD Score: -268251.3032434986\n",
      "  - Max Score: 274.42505538468595\n",
      "> 1050 itrs completed after 1246.1570312976837 s\n",
      "  - Archive Size: 2374\n",
      "  - QD Score: -256688.0372425981\n",
      "  - Max Score: 276.2537126957833\n",
      "> 1100 itrs completed after 1514.9727637767792 s\n",
      "  - Archive Size: 2394\n",
      "  - QD Score: -231245.61004423088\n",
      "  - Max Score: 276.2537126957833\n",
      "> 1150 itrs completed after 1540.0776643753052 s\n",
      "  - Archive Size: 2395\n",
      "  - QD Score: -226454.69034103473\n",
      "  - Max Score: 276.2537126957833\n",
      "> 1200 itrs completed after 1587.830234527588 s\n",
      "  - Archive Size: 2404\n",
      "  - QD Score: -222658.00249825732\n",
      "  - Max Score: 276.2537126957833\n",
      "> 1250 itrs completed after 1630.2901456356049 s\n",
      "  - Archive Size: 2408\n",
      "  - QD Score: -218126.29738979408\n",
      "  - Max Score: 287.3680595922449\n",
      "> 1300 itrs completed after 1691.2537441253662 s\n",
      "  - Archive Size: 2412\n",
      "  - QD Score: -211908.2662901031\n",
      "  - Max Score: 287.3680595922449\n",
      "> 1350 itrs completed after 1750.2066218852997 s\n",
      "  - Archive Size: 2421\n",
      "  - QD Score: -207859.14159330935\n",
      "  - Max Score: 287.3680595922449\n",
      "> 1400 itrs completed after 1858.1892750263214 s\n",
      "  - Archive Size: 2427\n",
      "  - QD Score: -205418.04413233805\n",
      "  - Max Score: 287.3680595922449\n",
      "> 1450 itrs completed after 1934.4184334278107 s\n",
      "  - Archive Size: 2430\n",
      "  - QD Score: -200761.92577226457\n",
      "  - Max Score: 287.3680595922449\n",
      "> 1500 itrs completed after 2008.195500612259 s\n",
      "  - Archive Size: 2430\n",
      "  - QD Score: -196609.629524358\n",
      "  - Max Score: 287.3680595922449\n",
      "> 1550 itrs completed after 2043.1175935268402 s\n",
      "  - Archive Size: 2433\n",
      "  - QD Score: -192602.39421038417\n",
      "  - Max Score: 287.3680595922449\n",
      "> 1600 itrs completed after 2087.5734717845917 s\n",
      "  - Archive Size: 2441\n",
      "  - QD Score: -192770.41094926145\n",
      "  - Max Score: 287.3680595922449\n",
      "> 1650 itrs completed after 2146.9952228069305 s\n",
      "  - Archive Size: 2444\n",
      "  - QD Score: -191334.8531634339\n",
      "  - Max Score: 287.3680595922449\n",
      "> 1700 itrs completed after 2192.433829307556 s\n",
      "  - Archive Size: 2449\n",
      "  - QD Score: -191098.55814862985\n",
      "  - Max Score: 287.3680595922449\n",
      "> 1750 itrs completed after 2241.251473903656 s\n",
      "  - Archive Size: 2456\n",
      "  - QD Score: -190255.09959478074\n",
      "  - Max Score: 287.3680595922449\n",
      "> 1800 itrs completed after 2300.645348548889 s\n",
      "  - Archive Size: 2459\n",
      "  - QD Score: -187286.14079636696\n",
      "  - Max Score: 287.3680595922449\n",
      "> 1850 itrs completed after 2369.985764026642 s\n",
      "  - Archive Size: 2460\n",
      "  - QD Score: -185173.30099922215\n",
      "  - Max Score: 287.3680595922449\n",
      "> 1900 itrs completed after 2422.3732612133026 s\n",
      "  - Archive Size: 2462\n",
      "  - QD Score: -183265.18300139066\n",
      "  - Max Score: 287.3680595922449\n",
      "> 1950 itrs completed after 2541.9315605163574 s\n",
      "  - Archive Size: 2462\n",
      "  - QD Score: -176884.4067551343\n",
      "  - Max Score: 287.3680595922449\n",
      "> 2000 itrs completed after 2637.3003630638123 s\n",
      "  - Archive Size: 2465\n",
      "  - QD Score: -175295.82050853636\n",
      "  - Max Score: 287.3680595922449\n",
      "> 2050 itrs completed after 2718.1209285259247 s\n",
      "  - Archive Size: 2465\n",
      "  - QD Score: -172926.95439852565\n",
      "  - Max Score: 287.3680595922449\n",
      "> 2100 itrs completed after 2815.10569024086 s\n",
      "  - Archive Size: 2465\n",
      "  - QD Score: -169859.4495227848\n",
      "  - Max Score: 290.0591076469974\n",
      "> 2150 itrs completed after 2923.8278229236603 s\n",
      "  - Archive Size: 2467\n",
      "  - QD Score: -166914.4971814912\n",
      "  - Max Score: 294.2240655724986\n",
      "> 2200 itrs completed after 2946.183658361435 s\n",
      "  - Archive Size: 2473\n",
      "  - QD Score: -167102.04265491574\n",
      "  - Max Score: 294.2240655724986\n",
      "> 2250 itrs completed after 2987.6956474781036 s\n",
      "  - Archive Size: 2474\n",
      "  - QD Score: -165188.57930907895\n",
      "  - Max Score: 294.2240655724986\n",
      "> 2300 itrs completed after 3081.695936203003 s\n",
      "  - Archive Size: 2477\n",
      "  - QD Score: -164325.5924338579\n",
      "  - Max Score: 294.2240655724986\n",
      "> 2350 itrs completed after 3144.8829612731934 s\n",
      "  - Archive Size: 2477\n",
      "  - QD Score: -162522.04827771673\n",
      "  - Max Score: 294.2240655724986\n",
      "> 2400 itrs completed after 3189.3141758441925 s\n",
      "  - Archive Size: 2478\n",
      "  - QD Score: -161077.06553361108\n",
      "  - Max Score: 294.2240655724986\n",
      "> 2450 itrs completed after 3277.904916524887 s\n",
      "  - Archive Size: 2479\n",
      "  - QD Score: -158038.23371045984\n",
      "  - Max Score: 294.2240655724986\n",
      "> 2500 itrs completed after 3327.9792170524597 s\n",
      "  - Archive Size: 2479\n",
      "  - QD Score: -155888.61689792387\n",
      "  - Max Score: 294.2240655724986\n",
      "> 2550 itrs completed after 3372.7977368831635 s\n",
      "  - Archive Size: 2479\n",
      "  - QD Score: -154823.3633308792\n",
      "  - Max Score: 294.2240655724986\n",
      "> 2600 itrs completed after 3426.330582857132 s\n",
      "  - Archive Size: 2479\n",
      "  - QD Score: -152845.14757648713\n",
      "  - Max Score: 294.2240655724986\n",
      "> 2650 itrs completed after 3474.828553199768 s\n",
      "  - Archive Size: 2480\n",
      "  - QD Score: -151429.3317014872\n",
      "  - Max Score: 294.2240655724986\n",
      "> 2700 itrs completed after 3535.6502063274384 s\n",
      "  - Archive Size: 2482\n",
      "  - QD Score: -149837.19467331294\n",
      "  - Max Score: 299.02700159512233\n",
      "> 2750 itrs completed after 3570.367490053177 s\n",
      "  - Archive Size: 2483\n",
      "  - QD Score: -149102.60938302753\n",
      "  - Max Score: 299.02700159512233\n",
      "> 2800 itrs completed after 3624.92347741127 s\n",
      "  - Archive Size: 2485\n",
      "  - QD Score: -146850.6461016126\n",
      "  - Max Score: 299.02700159512233\n",
      "> 2850 itrs completed after 3673.813961982727 s\n",
      "  - Archive Size: 2486\n",
      "  - QD Score: -145705.83604519969\n",
      "  - Max Score: 299.02700159512233\n",
      "> 2900 itrs completed after 3712.182936191559 s\n",
      "  - Archive Size: 2488\n",
      "  - QD Score: -144123.02279503926\n",
      "  - Max Score: 299.02700159512233\n",
      "> 2950 itrs completed after 3771.717249393463 s\n",
      "  - Archive Size: 2488\n",
      "  - QD Score: -141597.05353117114\n",
      "  - Max Score: 299.02700159512233\n",
      "> 3000 itrs completed after 3894.8469512462616 s\n",
      "  - Archive Size: 2488\n",
      "  - QD Score: -139557.40298665897\n",
      "  - Max Score: 299.02700159512233\n",
      "\n"
     ]
    }
   ],
   "source": [
    "start_time = time.time()\n",
    "total_itrs = 3000\n",
    "for itr in tqdm(range(1, total_itrs + 1)):\n",
    "    sols = optimizer.ask()\n",
    "    objs, bcs = [], []\n",
    "    for model in sols:\n",
    "        obj, impact_x_pos, impact_y_vel = simulate(env, model, seed)\n",
    "        objs.append(obj)\n",
    "        bcs.append([impact_x_pos, impact_y_vel])\n",
    "    optimizer.tell(objs, bcs)\n",
    "    \n",
    "    if itr % 50 == 0:\n",
    "        df = archive.as_pandas(include_solutions=False)\n",
    "        elapsed_time = time.time() - start_time\n",
    "        print(f\"> {itr} itrs completed after {elapsed_time} s\")\n",
    "        print(f\"  - Archive Size: {len(df)}\")\n",
    "        print(f\"  - QD Score: {df['objective'].sum()}\")\n",
    "        print(f\"  - Max Score: {df['objective'].max()}\")"
   ]
  },
  {
   "cell_type": "code",
   "execution_count": 9,
   "metadata": {},
   "outputs": [
    {
     "data": {
      "text/plain": [
       "<AxesSubplot:xlabel='index_0', ylabel='index_1'>"
      ]
     },
     "execution_count": 9,
     "metadata": {},
     "output_type": "execute_result"
    },
    {
     "data": {
      "image/png": "[encoded data removed]",
      "text/plain": [
       "<Figure size 432x288 with 2 Axes>"
      ]
     },
     "metadata": {
      "needs_background": "light"
     },
     "output_type": "display_data"
    }
   ],
   "source": [
    "# TODO: Replace with pyribs heatmap\n",
    "df = archive.as_pandas(include_solutions=False)\n",
    "heatmap_data = df.pivot('index_1', 'index_0', 'objective')\n",
    "sns.heatmap(heatmap_data, vmin=-300, vmax=300)"
   ]
  },
  {
   "cell_type": "markdown",
   "metadata": {},
   "source": [
    "## Visualization"
   ]
  },
  {
   "cell_type": "code",
   "execution_count": 10,
   "metadata": {},
   "outputs": [
    {
     "data": {
      "text/html": [
       "<div>\n",
       "<style scoped>\n",
       "    .dataframe tbody tr th:only-of-type {\n",
       "        vertical-align: middle;\n",
       "    }\n",
       "\n",
       "    .dataframe tbody tr th {\n",
       "        vertical-align: top;\n",
       "    }\n",
       "\n",
       "    .dataframe thead th {\n",
       "        text-align: right;\n",
       "    }\n",
       "</style>\n",
       "<table border=\"1\" class=\"dataframe\">\n",
       "  <thead>\n",
       "    <tr style=\"text-align: right;\">\n",
       "      <th></th>\n",
       "      <th>index_0</th>\n",
       "      <th>index_1</th>\n",
       "      <th>behavior_0</th>\n",
       "      <th>behavior_1</th>\n",
       "      <th>objective</th>\n",
       "    </tr>\n",
       "  </thead>\n",
       "  <tbody>\n",
       "    <tr>\n",
       "      <th>0</th>\n",
       "      <td>31</td>\n",
       "      <td>48</td>\n",
       "      <td>0.253531</td>\n",
       "      <td>-0.110757</td>\n",
       "      <td>272.197184</td>\n",
       "    </tr>\n",
       "    <tr>\n",
       "      <th>4</th>\n",
       "      <td>22</td>\n",
       "      <td>44</td>\n",
       "      <td>-0.100350</td>\n",
       "      <td>-0.327493</td>\n",
       "      <td>261.130286</td>\n",
       "    </tr>\n",
       "    <tr>\n",
       "      <th>5</th>\n",
       "      <td>34</td>\n",
       "      <td>46</td>\n",
       "      <td>0.386860</td>\n",
       "      <td>-0.208187</td>\n",
       "      <td>272.969818</td>\n",
       "    </tr>\n",
       "    <tr>\n",
       "      <th>9</th>\n",
       "      <td>38</td>\n",
       "      <td>48</td>\n",
       "      <td>0.529308</td>\n",
       "      <td>-0.103245</td>\n",
       "      <td>243.050168</td>\n",
       "    </tr>\n",
       "    <tr>\n",
       "      <th>11</th>\n",
       "      <td>39</td>\n",
       "      <td>49</td>\n",
       "      <td>0.564281</td>\n",
       "      <td>0.003036</td>\n",
       "      <td>230.681011</td>\n",
       "    </tr>\n",
       "    <tr>\n",
       "      <th>...</th>\n",
       "      <td>...</td>\n",
       "      <td>...</td>\n",
       "      <td>...</td>\n",
       "      <td>...</td>\n",
       "      <td>...</td>\n",
       "    </tr>\n",
       "    <tr>\n",
       "      <th>2368</th>\n",
       "      <td>24</td>\n",
       "      <td>48</td>\n",
       "      <td>-0.022046</td>\n",
       "      <td>-0.076830</td>\n",
       "      <td>242.265544</td>\n",
       "    </tr>\n",
       "    <tr>\n",
       "      <th>2369</th>\n",
       "      <td>13</td>\n",
       "      <td>42</td>\n",
       "      <td>-0.442756</td>\n",
       "      <td>-0.479610</td>\n",
       "      <td>243.686927</td>\n",
       "    </tr>\n",
       "    <tr>\n",
       "      <th>2374</th>\n",
       "      <td>10</td>\n",
       "      <td>45</td>\n",
       "      <td>-0.591597</td>\n",
       "      <td>-0.241811</td>\n",
       "      <td>248.508143</td>\n",
       "    </tr>\n",
       "    <tr>\n",
       "      <th>2388</th>\n",
       "      <td>6</td>\n",
       "      <td>45</td>\n",
       "      <td>-0.743685</td>\n",
       "      <td>-0.264944</td>\n",
       "      <td>219.343818</td>\n",
       "    </tr>\n",
       "    <tr>\n",
       "      <th>2390</th>\n",
       "      <td>11</td>\n",
       "      <td>48</td>\n",
       "      <td>-0.540003</td>\n",
       "      <td>-0.105635</td>\n",
       "      <td>236.743381</td>\n",
       "    </tr>\n",
       "  </tbody>\n",
       "</table>\n",
       "<p>308 rows × 5 columns</p>\n",
       "</div>"
      ],
      "text/plain": [
       "      index_0  index_1  behavior_0  behavior_1   objective\n",
       "0          31       48    0.253531   -0.110757  272.197184\n",
       "4          22       44   -0.100350   -0.327493  261.130286\n",
       "5          34       46    0.386860   -0.208187  272.969818\n",
       "9          38       48    0.529308   -0.103245  243.050168\n",
       "11         39       49    0.564281    0.003036  230.681011\n",
       "...       ...      ...         ...         ...         ...\n",
       "2368       24       48   -0.022046   -0.076830  242.265544\n",
       "2369       13       42   -0.442756   -0.479610  243.686927\n",
       "2374       10       45   -0.591597   -0.241811  248.508143\n",
       "2388        6       45   -0.743685   -0.264944  219.343818\n",
       "2390       11       48   -0.540003   -0.105635  236.743381\n",
       "\n",
       "[308 rows x 5 columns]"
      ]
     },
     "execution_count": 10,
     "metadata": {},
     "output_type": "execute_result"
    }
   ],
   "source": [
    "df[df[\"objective\"] > 200]"
   ]
  },
  {
   "cell_type": "code",
   "execution_count": 15,
   "metadata": {},
   "outputs": [
    {
     "name": "stdout",
     "output_type": "stream",
     "text": [
      "244.09686647939253\n",
      "[-0.40657932 -0.42063645]\n"
     ]
    }
   ],
   "source": [
    "import base64\n",
    "import glob\n",
    "import io\n",
    "\n",
    "video_env = gym.wrappers.Monitor(\n",
    "    gym.make(\"LunarLander-v2\"),\n",
    "    \"videos\",\n",
    "    force=True,  # Overwrite existing videos.\n",
    "    video_callable=lambda idx: True,  # Make all episodes be recorded.\n",
    ")\n",
    "\n",
    "sol, obj, beh = archive.elite_with_behavior([-0.44, -0.48])\n",
    "print(obj)\n",
    "print(beh)\n",
    "simulate(video_env, sol, seed)\n",
    "\n",
    "# Save videos.\n",
    "video_env.close()"
   ]
  },
  {
   "cell_type": "code",
   "execution_count": 14,
   "metadata": {},
   "outputs": [
    {
     "name": "stdout",
     "output_type": "stream",
     "text": [
      "videos/openaigym.video.1.165768.video000000.mp4\n"
     ]
    },
    {
     "data": {
      "text/html": [
       "\n",
       "        <video width=\"360\" height=\"auto\" alt=\"test\" controls>\n",
       "            <source src=\"data:video/mp4;base64,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\" type=\"video/mp4\" />\n",
       "        </video>\n",
       "    "
      ],
      "text/plain": [
       "<IPython.core.display.HTML object>"
      ]
     },
     "metadata": {},
     "output_type": "display_data"
    }
   ],
   "source": [
    "for video_file in glob.iglob(\"videos/*.mp4\"):\n",
    "    print(video_file)\n",
    "    video = io.open(video_file, 'rb').read()\n",
    "    encoded = base64.b64encode(video).decode(\"ascii\")\n",
    "    display(HTML(f'''\n",
    "        <video width=\"360\" height=\"auto\" alt=\"test\" controls>\n",
    "            <source src=\"data:video/mp4;base64,{encoded}\" type=\"video/mp4\" />\n",
    "        </video>\n",
    "    '''))"
   ]
  },
  {
   "cell_type": "markdown",
   "metadata": {},
   "source": [
    "## Credits\n",
    "\n",
    "This tutorial is based on a [poster](https://1l7puj10vwe3zflo2jsktkit-wpengine.netdna-ssl.com/wp-content/uploads/2020/08/S20-Klapsis-Poster.pdf) created by Nikitas Klapsis as part of USC's 2020 SHINE program."
   ]
  }
 ],
 "metadata": {
  "kernelspec": {
   "display_name": "Python 3",
   "language": "python",
   "name": "python3"
  },
  "language_info": {
   "codemirror_mode": {
    "name": "ipython",
    "version": 3
   },
   "file_extension": ".py",
   "mimetype": "text/x-python",
   "name": "python",
   "nbconvert_exporter": "python",
   "pygments_lexer": "ipython3",
   "version": "3.7.8"
  }
 },
 "nbformat": 4,
 "nbformat_minor": 4
}
