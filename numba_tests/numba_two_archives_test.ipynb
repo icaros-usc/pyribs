{
 "cells": [
  {
   "cell_type": "code",
   "execution_count": 1,
   "metadata": {},
   "outputs": [],
   "source": [
    "import numpy as np\n",
    "from ribs.archives import *\n",
    "from ribs.optimizers import Optimizer\n",
    "from ribs.emitters import GaussianEmitter"
   ]
  },
  {
   "cell_type": "code",
   "execution_count": 2,
   "metadata": {},
   "outputs": [],
   "source": [
    "grid_archive = GridArchive([20, 20], [(-1, 1), (-1, 1)])\n",
    "cvt_archive = CVTArchive([(-1, 1), (-1, 1)], 400, samples=10_000, use_kd_tree=True)\n",
    "emitters = [GaussianEmitter([0.0] * 10, 0.1, grid_archive)]\n",
    "optimizer = Optimizer(grid_archive, emitters)\n",
    "\n",
    "solutions = optimizer.ask()\n",
    "\n",
    "#\"print(solutions)\n",
    "\n",
    "cvt_archive.initialize(solutions.shape[1])\n",
    "\n",
    "for itr in range(1000):\n",
    "\n",
    "    objectives = -np.sum(np.square(solutions), axis=1)\n",
    "    bcs = solutions[:,:2]\n",
    "    grid_archive.add(solutions[0], objectives[0], bcs[0])\n",
    "    cvt_archive.add(solutions[0], objectives[0], bcs[0])"
   ]
  },
  {
   "cell_type": "code",
   "execution_count": 3,
   "metadata": {},
   "outputs": [],
   "source": [
    "grid_archive = GridArchive([20, 20], [(-1, 1), (-1, 1)])\n",
    "cvt_archive = CVTArchive([(-1, 1), (-1, 1)], 400, samples=10_000, use_kd_tree=False)\n",
    "emitters = [GaussianEmitter([0.0] * 10, 0.1, grid_archive)]\n",
    "optimizer = Optimizer(grid_archive, emitters)\n",
    "\n",
    "solutions = optimizer.ask()\n",
    "\n",
    "#\"print(solutions)\n",
    "\n",
    "cvt_archive.initialize(solutions.shape[1])\n",
    "\n",
    "for itr in range(1000):\n",
    "\n",
    "    objectives = -np.sum(np.square(solutions), axis=1)\n",
    "    bcs = solutions[:,:2]\n",
    "    grid_archive.add(solutions[0], objectives[0], bcs[0])\n",
    "    cvt_archive.add(solutions[0], objectives[0], bcs[0])"
   ]
  },
  {
   "cell_type": "code",
   "execution_count": null,
   "metadata": {},
   "outputs": [],
   "source": []
  }
 ],
 "metadata": {
  "kernelspec": {
   "display_name": "Python 3",
   "language": "python",
   "name": "python3"
  },
  "language_info": {
   "codemirror_mode": {
    "name": "ipython",
    "version": 3
   },
   "file_extension": ".py",
   "mimetype": "text/x-python",
   "name": "python",
   "nbconvert_exporter": "python",
   "pygments_lexer": "ipython3",
   "version": "3.6.12"
  }
 },
 "nbformat": 4,
 "nbformat_minor": 4
}
