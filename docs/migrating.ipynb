{
 "cells": [
  {
   "cell_type": "markdown",
   "id": "5bfdfff7-ee97-481e-8241-fe208b157f79",
   "metadata": {},
   "source": [
    "# Migrating to v0.5.0\n",
    "\n",
    "The new version of pyribs is here! A lot has changed since our last version, v0.4.0. We've added new features and algorithms, expanded our documentation, and fixed a number of bugs. These improvements introduced many breaking changes in our API. Thus, in this guide, we'll review what's new and how to migrate to v0.5.0 from v0.4.0. For the full list of changes, refer to our [History page](./history)."
   ]
  },
  {
   "cell_type": "code",
   "execution_count": null,
   "id": "e94b2125-6f67-47a2-a11c-2082fb35e5b8",
   "metadata": {},
   "outputs": [],
   "source": []
  }
 ],
 "metadata": {
  "kernelspec": {
   "display_name": "Python 3 (ipykernel)",
   "language": "python",
   "name": "python3"
  },
  "language_info": {
   "codemirror_mode": {
    "name": "ipython",
    "version": 3
   },
   "file_extension": ".py",
   "mimetype": "text/x-python",
   "name": "python",
   "nbconvert_exporter": "python",
   "pygments_lexer": "ipython3",
   "version": "3.7.13"
  }
 },
 "nbformat": 4,
 "nbformat_minor": 5
}
